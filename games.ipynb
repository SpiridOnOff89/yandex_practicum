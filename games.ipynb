{
 "cells": [
  {
   "cell_type": "markdown",
   "metadata": {},
   "source": [
    "# Факторы успешности компьютерных игр"
   ]
  },
  {
   "cell_type": "markdown",
   "metadata": {},
   "source": [
    "Вы работаете в интернет-магазине «Стримчик», который продаёт по всему миру компьютерные игры. Из открытых источников доступны исторические данные о продажах игр, оценки пользователей и экспертов, жанры и платформы (например, Xbox или PlayStation). Вам нужно выявить определяющие успешность игры закономерности. Это позволит сделать ставку на потенциально популярный продукт и спланировать рекламные кампании.\n",
    "Перед вами данные до 2016 года. Представим, что сейчас декабрь 2016 г., и вы планируете кампанию на 2017-й. Нужно отработать принцип работы с данными. Неважно, прогнозируете ли вы продажи на 2017 год по данным 2016-го или же 2027-й — по данным 2026 года."
   ]
  },
  {
   "cell_type": "markdown",
   "metadata": {},
   "source": [
    "## Предобработка данных"
   ]
  },
  {
   "cell_type": "code",
   "execution_count": 1,
   "metadata": {},
   "outputs": [],
   "source": [
    "#импортирую необходимые библиотеки\n",
    "import pandas as pd\n",
    "import numpy as np\n",
    "import matplotlib.pyplot as plt\n",
    "import seaborn as sns\n",
    "from scipy import stats as st"
   ]
  },
  {
   "cell_type": "code",
   "execution_count": 2,
   "metadata": {},
   "outputs": [],
   "source": [
    "#сохраняю данные в переменной df\n",
    "df = pd.read_csv('/datasets/games.csv')"
   ]
  },
  {
   "cell_type": "markdown",
   "metadata": {},
   "source": [
    "Ознакомимся с датафреймом на примере пяти верхних строк, посмотрим общую информацию о датафрейме и долю пропусков."
   ]
  },
  {
   "cell_type": "code",
   "execution_count": 3,
   "metadata": {},
   "outputs": [
    {
     "data": {
      "text/html": [
       "<div>\n",
       "<style scoped>\n",
       "    .dataframe tbody tr th:only-of-type {\n",
       "        vertical-align: middle;\n",
       "    }\n",
       "\n",
       "    .dataframe tbody tr th {\n",
       "        vertical-align: top;\n",
       "    }\n",
       "\n",
       "    .dataframe thead th {\n",
       "        text-align: right;\n",
       "    }\n",
       "</style>\n",
       "<table border=\"1\" class=\"dataframe\">\n",
       "  <thead>\n",
       "    <tr style=\"text-align: right;\">\n",
       "      <th></th>\n",
       "      <th>Name</th>\n",
       "      <th>Platform</th>\n",
       "      <th>Year_of_Release</th>\n",
       "      <th>Genre</th>\n",
       "      <th>NA_sales</th>\n",
       "      <th>EU_sales</th>\n",
       "      <th>JP_sales</th>\n",
       "      <th>Other_sales</th>\n",
       "      <th>Critic_Score</th>\n",
       "      <th>User_Score</th>\n",
       "      <th>Rating</th>\n",
       "    </tr>\n",
       "  </thead>\n",
       "  <tbody>\n",
       "    <tr>\n",
       "      <td>0</td>\n",
       "      <td>Wii Sports</td>\n",
       "      <td>Wii</td>\n",
       "      <td>2006.0</td>\n",
       "      <td>Sports</td>\n",
       "      <td>41.36</td>\n",
       "      <td>28.96</td>\n",
       "      <td>3.77</td>\n",
       "      <td>8.45</td>\n",
       "      <td>76.0</td>\n",
       "      <td>8</td>\n",
       "      <td>E</td>\n",
       "    </tr>\n",
       "    <tr>\n",
       "      <td>1</td>\n",
       "      <td>Super Mario Bros.</td>\n",
       "      <td>NES</td>\n",
       "      <td>1985.0</td>\n",
       "      <td>Platform</td>\n",
       "      <td>29.08</td>\n",
       "      <td>3.58</td>\n",
       "      <td>6.81</td>\n",
       "      <td>0.77</td>\n",
       "      <td>NaN</td>\n",
       "      <td>NaN</td>\n",
       "      <td>NaN</td>\n",
       "    </tr>\n",
       "    <tr>\n",
       "      <td>2</td>\n",
       "      <td>Mario Kart Wii</td>\n",
       "      <td>Wii</td>\n",
       "      <td>2008.0</td>\n",
       "      <td>Racing</td>\n",
       "      <td>15.68</td>\n",
       "      <td>12.76</td>\n",
       "      <td>3.79</td>\n",
       "      <td>3.29</td>\n",
       "      <td>82.0</td>\n",
       "      <td>8.3</td>\n",
       "      <td>E</td>\n",
       "    </tr>\n",
       "    <tr>\n",
       "      <td>3</td>\n",
       "      <td>Wii Sports Resort</td>\n",
       "      <td>Wii</td>\n",
       "      <td>2009.0</td>\n",
       "      <td>Sports</td>\n",
       "      <td>15.61</td>\n",
       "      <td>10.93</td>\n",
       "      <td>3.28</td>\n",
       "      <td>2.95</td>\n",
       "      <td>80.0</td>\n",
       "      <td>8</td>\n",
       "      <td>E</td>\n",
       "    </tr>\n",
       "    <tr>\n",
       "      <td>4</td>\n",
       "      <td>Pokemon Red/Pokemon Blue</td>\n",
       "      <td>GB</td>\n",
       "      <td>1996.0</td>\n",
       "      <td>Role-Playing</td>\n",
       "      <td>11.27</td>\n",
       "      <td>8.89</td>\n",
       "      <td>10.22</td>\n",
       "      <td>1.00</td>\n",
       "      <td>NaN</td>\n",
       "      <td>NaN</td>\n",
       "      <td>NaN</td>\n",
       "    </tr>\n",
       "  </tbody>\n",
       "</table>\n",
       "</div>"
      ],
      "text/plain": [
       "                       Name Platform  Year_of_Release         Genre  NA_sales  \\\n",
       "0                Wii Sports      Wii           2006.0        Sports     41.36   \n",
       "1         Super Mario Bros.      NES           1985.0      Platform     29.08   \n",
       "2            Mario Kart Wii      Wii           2008.0        Racing     15.68   \n",
       "3         Wii Sports Resort      Wii           2009.0        Sports     15.61   \n",
       "4  Pokemon Red/Pokemon Blue       GB           1996.0  Role-Playing     11.27   \n",
       "\n",
       "   EU_sales  JP_sales  Other_sales  Critic_Score User_Score Rating  \n",
       "0     28.96      3.77         8.45          76.0          8      E  \n",
       "1      3.58      6.81         0.77           NaN        NaN    NaN  \n",
       "2     12.76      3.79         3.29          82.0        8.3      E  \n",
       "3     10.93      3.28         2.95          80.0          8      E  \n",
       "4      8.89     10.22         1.00           NaN        NaN    NaN  "
      ]
     },
     "execution_count": 3,
     "metadata": {},
     "output_type": "execute_result"
    }
   ],
   "source": [
    "df.head()"
   ]
  },
  {
   "cell_type": "code",
   "execution_count": 4,
   "metadata": {
    "scrolled": true
   },
   "outputs": [
    {
     "name": "stdout",
     "output_type": "stream",
     "text": [
      "<class 'pandas.core.frame.DataFrame'>\n",
      "RangeIndex: 16715 entries, 0 to 16714\n",
      "Data columns (total 11 columns):\n",
      "Name               16713 non-null object\n",
      "Platform           16715 non-null object\n",
      "Year_of_Release    16446 non-null float64\n",
      "Genre              16713 non-null object\n",
      "NA_sales           16715 non-null float64\n",
      "EU_sales           16715 non-null float64\n",
      "JP_sales           16715 non-null float64\n",
      "Other_sales        16715 non-null float64\n",
      "Critic_Score       8137 non-null float64\n",
      "User_Score         10014 non-null object\n",
      "Rating             9949 non-null object\n",
      "dtypes: float64(6), object(5)\n",
      "memory usage: 1.4+ MB\n"
     ]
    }
   ],
   "source": [
    "df.info()"
   ]
  },
  {
   "cell_type": "code",
   "execution_count": 5,
   "metadata": {},
   "outputs": [
    {
     "data": {
      "text/plain": [
       "Name               0.000120\n",
       "Platform           0.000000\n",
       "Year_of_Release    0.016093\n",
       "Genre              0.000120\n",
       "NA_sales           0.000000\n",
       "EU_sales           0.000000\n",
       "JP_sales           0.000000\n",
       "Other_sales        0.000000\n",
       "Critic_Score       0.513192\n",
       "User_Score         0.400897\n",
       "Rating             0.404786\n",
       "dtype: float64"
      ]
     },
     "execution_count": 5,
     "metadata": {},
     "output_type": "execute_result"
    }
   ],
   "source": [
    "df.isna().mean()"
   ]
  },
  {
   "cell_type": "markdown",
   "metadata": {},
   "source": [
    "В целях соблюдения стандартов приведем названия столбцов к нижнему регистру."
   ]
  },
  {
   "cell_type": "code",
   "execution_count": 6,
   "metadata": {},
   "outputs": [],
   "source": [
    "#привожу назнвания столбцов к нижнему регистру при помощи генератора\n",
    "df.columns = [name.lower() for name in df.columns]"
   ]
  },
  {
   "cell_type": "code",
   "execution_count": 7,
   "metadata": {},
   "outputs": [
    {
     "name": "stdout",
     "output_type": "stream",
     "text": [
      "Теперь названия столбцов выглядят так:\n",
      "name\n",
      "platform\n",
      "year_of_release\n",
      "genre\n",
      "na_sales\n",
      "eu_sales\n",
      "jp_sales\n",
      "other_sales\n",
      "critic_score\n",
      "user_score\n",
      "rating\n"
     ]
    }
   ],
   "source": [
    "print('Теперь названия столбцов выглядят так:', *df.columns, sep='\\n')"
   ]
  },
  {
   "cell_type": "code",
   "execution_count": 8,
   "metadata": {
    "scrolled": true
   },
   "outputs": [
    {
     "data": {
      "text/html": [
       "<div>\n",
       "<style scoped>\n",
       "    .dataframe tbody tr th:only-of-type {\n",
       "        vertical-align: middle;\n",
       "    }\n",
       "\n",
       "    .dataframe tbody tr th {\n",
       "        vertical-align: top;\n",
       "    }\n",
       "\n",
       "    .dataframe thead th {\n",
       "        text-align: right;\n",
       "    }\n",
       "</style>\n",
       "<table border=\"1\" class=\"dataframe\">\n",
       "  <thead>\n",
       "    <tr style=\"text-align: right;\">\n",
       "      <th></th>\n",
       "      <th>name</th>\n",
       "      <th>platform</th>\n",
       "      <th>year_of_release</th>\n",
       "      <th>genre</th>\n",
       "      <th>na_sales</th>\n",
       "      <th>eu_sales</th>\n",
       "      <th>jp_sales</th>\n",
       "      <th>other_sales</th>\n",
       "      <th>critic_score</th>\n",
       "      <th>user_score</th>\n",
       "      <th>rating</th>\n",
       "    </tr>\n",
       "  </thead>\n",
       "  <tbody>\n",
       "    <tr>\n",
       "      <td>119</td>\n",
       "      <td>Zumba Fitness</td>\n",
       "      <td>Wii</td>\n",
       "      <td>2010.0</td>\n",
       "      <td>Sports</td>\n",
       "      <td>3.45</td>\n",
       "      <td>2.59</td>\n",
       "      <td>0.0</td>\n",
       "      <td>0.66</td>\n",
       "      <td>NaN</td>\n",
       "      <td>tbd</td>\n",
       "      <td>E</td>\n",
       "    </tr>\n",
       "    <tr>\n",
       "      <td>301</td>\n",
       "      <td>Namco Museum: 50th Anniversary</td>\n",
       "      <td>PS2</td>\n",
       "      <td>2005.0</td>\n",
       "      <td>Misc</td>\n",
       "      <td>2.08</td>\n",
       "      <td>1.35</td>\n",
       "      <td>0.0</td>\n",
       "      <td>0.54</td>\n",
       "      <td>61.0</td>\n",
       "      <td>tbd</td>\n",
       "      <td>E10+</td>\n",
       "    </tr>\n",
       "    <tr>\n",
       "      <td>520</td>\n",
       "      <td>Zumba Fitness 2</td>\n",
       "      <td>Wii</td>\n",
       "      <td>2011.0</td>\n",
       "      <td>Sports</td>\n",
       "      <td>1.51</td>\n",
       "      <td>1.03</td>\n",
       "      <td>0.0</td>\n",
       "      <td>0.27</td>\n",
       "      <td>NaN</td>\n",
       "      <td>tbd</td>\n",
       "      <td>T</td>\n",
       "    </tr>\n",
       "    <tr>\n",
       "      <td>645</td>\n",
       "      <td>uDraw Studio</td>\n",
       "      <td>Wii</td>\n",
       "      <td>2010.0</td>\n",
       "      <td>Misc</td>\n",
       "      <td>1.65</td>\n",
       "      <td>0.57</td>\n",
       "      <td>0.0</td>\n",
       "      <td>0.20</td>\n",
       "      <td>71.0</td>\n",
       "      <td>tbd</td>\n",
       "      <td>E</td>\n",
       "    </tr>\n",
       "    <tr>\n",
       "      <td>657</td>\n",
       "      <td>Frogger's Adventures: Temple of the Frog</td>\n",
       "      <td>GBA</td>\n",
       "      <td>NaN</td>\n",
       "      <td>Adventure</td>\n",
       "      <td>2.15</td>\n",
       "      <td>0.18</td>\n",
       "      <td>0.0</td>\n",
       "      <td>0.07</td>\n",
       "      <td>73.0</td>\n",
       "      <td>tbd</td>\n",
       "      <td>E</td>\n",
       "    </tr>\n",
       "    <tr>\n",
       "      <td>...</td>\n",
       "      <td>...</td>\n",
       "      <td>...</td>\n",
       "      <td>...</td>\n",
       "      <td>...</td>\n",
       "      <td>...</td>\n",
       "      <td>...</td>\n",
       "      <td>...</td>\n",
       "      <td>...</td>\n",
       "      <td>...</td>\n",
       "      <td>...</td>\n",
       "      <td>...</td>\n",
       "    </tr>\n",
       "    <tr>\n",
       "      <td>16695</td>\n",
       "      <td>Planet Monsters</td>\n",
       "      <td>GBA</td>\n",
       "      <td>2001.0</td>\n",
       "      <td>Action</td>\n",
       "      <td>0.01</td>\n",
       "      <td>0.00</td>\n",
       "      <td>0.0</td>\n",
       "      <td>0.00</td>\n",
       "      <td>67.0</td>\n",
       "      <td>tbd</td>\n",
       "      <td>E</td>\n",
       "    </tr>\n",
       "    <tr>\n",
       "      <td>16697</td>\n",
       "      <td>Bust-A-Move 3000</td>\n",
       "      <td>GC</td>\n",
       "      <td>2003.0</td>\n",
       "      <td>Puzzle</td>\n",
       "      <td>0.01</td>\n",
       "      <td>0.00</td>\n",
       "      <td>0.0</td>\n",
       "      <td>0.00</td>\n",
       "      <td>53.0</td>\n",
       "      <td>tbd</td>\n",
       "      <td>E</td>\n",
       "    </tr>\n",
       "    <tr>\n",
       "      <td>16698</td>\n",
       "      <td>Mega Brain Boost</td>\n",
       "      <td>DS</td>\n",
       "      <td>2008.0</td>\n",
       "      <td>Puzzle</td>\n",
       "      <td>0.01</td>\n",
       "      <td>0.00</td>\n",
       "      <td>0.0</td>\n",
       "      <td>0.00</td>\n",
       "      <td>48.0</td>\n",
       "      <td>tbd</td>\n",
       "      <td>E</td>\n",
       "    </tr>\n",
       "    <tr>\n",
       "      <td>16704</td>\n",
       "      <td>Plushees</td>\n",
       "      <td>DS</td>\n",
       "      <td>2008.0</td>\n",
       "      <td>Simulation</td>\n",
       "      <td>0.01</td>\n",
       "      <td>0.00</td>\n",
       "      <td>0.0</td>\n",
       "      <td>0.00</td>\n",
       "      <td>NaN</td>\n",
       "      <td>tbd</td>\n",
       "      <td>E</td>\n",
       "    </tr>\n",
       "    <tr>\n",
       "      <td>16706</td>\n",
       "      <td>Men in Black II: Alien Escape</td>\n",
       "      <td>GC</td>\n",
       "      <td>2003.0</td>\n",
       "      <td>Shooter</td>\n",
       "      <td>0.01</td>\n",
       "      <td>0.00</td>\n",
       "      <td>0.0</td>\n",
       "      <td>0.00</td>\n",
       "      <td>NaN</td>\n",
       "      <td>tbd</td>\n",
       "      <td>T</td>\n",
       "    </tr>\n",
       "  </tbody>\n",
       "</table>\n",
       "<p>2424 rows × 11 columns</p>\n",
       "</div>"
      ],
      "text/plain": [
       "                                           name platform  year_of_release  \\\n",
       "119                               Zumba Fitness      Wii           2010.0   \n",
       "301              Namco Museum: 50th Anniversary      PS2           2005.0   \n",
       "520                             Zumba Fitness 2      Wii           2011.0   \n",
       "645                                uDraw Studio      Wii           2010.0   \n",
       "657    Frogger's Adventures: Temple of the Frog      GBA              NaN   \n",
       "...                                         ...      ...              ...   \n",
       "16695                           Planet Monsters      GBA           2001.0   \n",
       "16697                          Bust-A-Move 3000       GC           2003.0   \n",
       "16698                          Mega Brain Boost       DS           2008.0   \n",
       "16704                                  Plushees       DS           2008.0   \n",
       "16706             Men in Black II: Alien Escape       GC           2003.0   \n",
       "\n",
       "            genre  na_sales  eu_sales  jp_sales  other_sales  critic_score  \\\n",
       "119        Sports      3.45      2.59       0.0         0.66           NaN   \n",
       "301          Misc      2.08      1.35       0.0         0.54          61.0   \n",
       "520        Sports      1.51      1.03       0.0         0.27           NaN   \n",
       "645          Misc      1.65      0.57       0.0         0.20          71.0   \n",
       "657     Adventure      2.15      0.18       0.0         0.07          73.0   \n",
       "...           ...       ...       ...       ...          ...           ...   \n",
       "16695      Action      0.01      0.00       0.0         0.00          67.0   \n",
       "16697      Puzzle      0.01      0.00       0.0         0.00          53.0   \n",
       "16698      Puzzle      0.01      0.00       0.0         0.00          48.0   \n",
       "16704  Simulation      0.01      0.00       0.0         0.00           NaN   \n",
       "16706     Shooter      0.01      0.00       0.0         0.00           NaN   \n",
       "\n",
       "      user_score rating  \n",
       "119          tbd      E  \n",
       "301          tbd   E10+  \n",
       "520          tbd      T  \n",
       "645          tbd      E  \n",
       "657          tbd      E  \n",
       "...          ...    ...  \n",
       "16695        tbd      E  \n",
       "16697        tbd      E  \n",
       "16698        tbd      E  \n",
       "16704        tbd      E  \n",
       "16706        tbd      T  \n",
       "\n",
       "[2424 rows x 11 columns]"
      ]
     },
     "execution_count": 8,
     "metadata": {},
     "output_type": "execute_result"
    }
   ],
   "source": [
    "df[df['user_score'] == 'tbd']"
   ]
  },
  {
   "cell_type": "markdown",
   "metadata": {},
   "source": [
    "В столбце с рейтингом пользователей имеется нечисловое значение \"tbd\", что является общепринятым сокращением фразы \"to be determined\", т.е. \"подлежит определению\". \n",
    "\n",
    "Данное значение указывает на то, что рейтинг игры еще не определен, но будет определен в будущем. \n",
    "\n",
    "Однако поскольку на данный момент рейтинг не определен, заменим данное значение на nan, после чего можно изменим тип данных в столбца на float."
   ]
  },
  {
   "cell_type": "code",
   "execution_count": 9,
   "metadata": {},
   "outputs": [],
   "source": [
    "df.loc[df['user_score']=='tbd', 'user_score'] = np.nan"
   ]
  },
  {
   "cell_type": "code",
   "execution_count": 10,
   "metadata": {},
   "outputs": [],
   "source": [
    "df['user_score'] = df['user_score'].astype(float)"
   ]
  },
  {
   "cell_type": "code",
   "execution_count": 11,
   "metadata": {},
   "outputs": [
    {
     "name": "stdout",
     "output_type": "stream",
     "text": [
      "<class 'pandas.core.frame.DataFrame'>\n",
      "RangeIndex: 16715 entries, 0 to 16714\n",
      "Data columns (total 11 columns):\n",
      "name               16713 non-null object\n",
      "platform           16715 non-null object\n",
      "year_of_release    16446 non-null float64\n",
      "genre              16713 non-null object\n",
      "na_sales           16715 non-null float64\n",
      "eu_sales           16715 non-null float64\n",
      "jp_sales           16715 non-null float64\n",
      "other_sales        16715 non-null float64\n",
      "critic_score       8137 non-null float64\n",
      "user_score         7590 non-null float64\n",
      "rating             9949 non-null object\n",
      "dtypes: float64(7), object(4)\n",
      "memory usage: 1.4+ MB\n"
     ]
    }
   ],
   "source": [
    "df.info()"
   ]
  },
  {
   "cell_type": "markdown",
   "metadata": {},
   "source": [
    "Пропуски в столбцах о рейтинге заполнять нецелесообразно, поскольку корректно определить рейтинг игры не представляется возможным, т.к. этот показатель идивидуален для каждой игры. Заполнение пропусков средними значениями привело бы к искажению результатов анализа."
   ]
  },
  {
   "cell_type": "markdown",
   "metadata": {},
   "source": [
    "Теоретически можно было бы найти в интернете данные о годе выпуска игр и заполнить пропуски в столбце с годами выпуска игр, однако доля пропусков в стобце незначительна, а ручной поиск данных и заполнение значений повлекут неопрадванные временные затраты. Поэтому в этом столбце также пропуски трогать не будем."
   ]
  },
  {
   "cell_type": "code",
   "execution_count": 12,
   "metadata": {
    "scrolled": true
   },
   "outputs": [
    {
     "data": {
      "text/html": [
       "<div>\n",
       "<style scoped>\n",
       "    .dataframe tbody tr th:only-of-type {\n",
       "        vertical-align: middle;\n",
       "    }\n",
       "\n",
       "    .dataframe tbody tr th {\n",
       "        vertical-align: top;\n",
       "    }\n",
       "\n",
       "    .dataframe thead th {\n",
       "        text-align: right;\n",
       "    }\n",
       "</style>\n",
       "<table border=\"1\" class=\"dataframe\">\n",
       "  <thead>\n",
       "    <tr style=\"text-align: right;\">\n",
       "      <th></th>\n",
       "      <th>name</th>\n",
       "      <th>platform</th>\n",
       "      <th>year_of_release</th>\n",
       "      <th>genre</th>\n",
       "      <th>na_sales</th>\n",
       "      <th>eu_sales</th>\n",
       "      <th>jp_sales</th>\n",
       "      <th>other_sales</th>\n",
       "      <th>critic_score</th>\n",
       "      <th>user_score</th>\n",
       "      <th>rating</th>\n",
       "    </tr>\n",
       "  </thead>\n",
       "  <tbody>\n",
       "    <tr>\n",
       "      <td>659</td>\n",
       "      <td>NaN</td>\n",
       "      <td>GEN</td>\n",
       "      <td>1993.0</td>\n",
       "      <td>NaN</td>\n",
       "      <td>1.78</td>\n",
       "      <td>0.53</td>\n",
       "      <td>0.00</td>\n",
       "      <td>0.08</td>\n",
       "      <td>NaN</td>\n",
       "      <td>NaN</td>\n",
       "      <td>NaN</td>\n",
       "    </tr>\n",
       "    <tr>\n",
       "      <td>14244</td>\n",
       "      <td>NaN</td>\n",
       "      <td>GEN</td>\n",
       "      <td>1993.0</td>\n",
       "      <td>NaN</td>\n",
       "      <td>0.00</td>\n",
       "      <td>0.00</td>\n",
       "      <td>0.03</td>\n",
       "      <td>0.00</td>\n",
       "      <td>NaN</td>\n",
       "      <td>NaN</td>\n",
       "      <td>NaN</td>\n",
       "    </tr>\n",
       "  </tbody>\n",
       "</table>\n",
       "</div>"
      ],
      "text/plain": [
       "      name platform  year_of_release genre  na_sales  eu_sales  jp_sales  \\\n",
       "659    NaN      GEN           1993.0   NaN      1.78      0.53      0.00   \n",
       "14244  NaN      GEN           1993.0   NaN      0.00      0.00      0.03   \n",
       "\n",
       "       other_sales  critic_score  user_score rating  \n",
       "659           0.08           NaN         NaN    NaN  \n",
       "14244         0.00           NaN         NaN    NaN  "
      ]
     },
     "execution_count": 12,
     "metadata": {},
     "output_type": "execute_result"
    }
   ],
   "source": [
    "df[df['name'].isna()]"
   ]
  },
  {
   "cell_type": "markdown",
   "metadata": {},
   "source": [
    "Строки двух игр без названия и жанра удалим - для анализа они непригодны."
   ]
  },
  {
   "cell_type": "code",
   "execution_count": 13,
   "metadata": {},
   "outputs": [],
   "source": [
    "df = df.dropna(subset=[\"genre\",\"name\"])"
   ]
  },
  {
   "cell_type": "markdown",
   "metadata": {},
   "source": [
    "Типы данных столбцов менять нет необходимости. Они соотствуют содержащимся значениям."
   ]
  },
  {
   "cell_type": "code",
   "execution_count": 14,
   "metadata": {},
   "outputs": [
    {
     "name": "stdout",
     "output_type": "stream",
     "text": [
      "Дубликатов в данных: 0\n"
     ]
    }
   ],
   "source": [
    "print('Дубликатов в данных:', df.duplicated().sum())"
   ]
  },
  {
   "cell_type": "markdown",
   "metadata": {},
   "source": [
    "Для последующего анализа добавим столбцец с суммой всех продаж игры."
   ]
  },
  {
   "cell_type": "code",
   "execution_count": 15,
   "metadata": {},
   "outputs": [],
   "source": [
    "df.insert(8, 'sum_sales', df[['na_sales', 'eu_sales', 'jp_sales', 'other_sales']].sum(axis=1))"
   ]
  },
  {
   "cell_type": "code",
   "execution_count": 16,
   "metadata": {},
   "outputs": [
    {
     "data": {
      "text/html": [
       "<div>\n",
       "<style scoped>\n",
       "    .dataframe tbody tr th:only-of-type {\n",
       "        vertical-align: middle;\n",
       "    }\n",
       "\n",
       "    .dataframe tbody tr th {\n",
       "        vertical-align: top;\n",
       "    }\n",
       "\n",
       "    .dataframe thead th {\n",
       "        text-align: right;\n",
       "    }\n",
       "</style>\n",
       "<table border=\"1\" class=\"dataframe\">\n",
       "  <thead>\n",
       "    <tr style=\"text-align: right;\">\n",
       "      <th></th>\n",
       "      <th>name</th>\n",
       "      <th>platform</th>\n",
       "      <th>year_of_release</th>\n",
       "      <th>genre</th>\n",
       "      <th>na_sales</th>\n",
       "      <th>eu_sales</th>\n",
       "      <th>jp_sales</th>\n",
       "      <th>other_sales</th>\n",
       "      <th>sum_sales</th>\n",
       "      <th>critic_score</th>\n",
       "      <th>user_score</th>\n",
       "      <th>rating</th>\n",
       "    </tr>\n",
       "  </thead>\n",
       "  <tbody>\n",
       "    <tr>\n",
       "      <td>0</td>\n",
       "      <td>Wii Sports</td>\n",
       "      <td>Wii</td>\n",
       "      <td>2006.0</td>\n",
       "      <td>Sports</td>\n",
       "      <td>41.36</td>\n",
       "      <td>28.96</td>\n",
       "      <td>3.77</td>\n",
       "      <td>8.45</td>\n",
       "      <td>82.54</td>\n",
       "      <td>76.0</td>\n",
       "      <td>8.0</td>\n",
       "      <td>E</td>\n",
       "    </tr>\n",
       "    <tr>\n",
       "      <td>1</td>\n",
       "      <td>Super Mario Bros.</td>\n",
       "      <td>NES</td>\n",
       "      <td>1985.0</td>\n",
       "      <td>Platform</td>\n",
       "      <td>29.08</td>\n",
       "      <td>3.58</td>\n",
       "      <td>6.81</td>\n",
       "      <td>0.77</td>\n",
       "      <td>40.24</td>\n",
       "      <td>NaN</td>\n",
       "      <td>NaN</td>\n",
       "      <td>NaN</td>\n",
       "    </tr>\n",
       "    <tr>\n",
       "      <td>2</td>\n",
       "      <td>Mario Kart Wii</td>\n",
       "      <td>Wii</td>\n",
       "      <td>2008.0</td>\n",
       "      <td>Racing</td>\n",
       "      <td>15.68</td>\n",
       "      <td>12.76</td>\n",
       "      <td>3.79</td>\n",
       "      <td>3.29</td>\n",
       "      <td>35.52</td>\n",
       "      <td>82.0</td>\n",
       "      <td>8.3</td>\n",
       "      <td>E</td>\n",
       "    </tr>\n",
       "    <tr>\n",
       "      <td>3</td>\n",
       "      <td>Wii Sports Resort</td>\n",
       "      <td>Wii</td>\n",
       "      <td>2009.0</td>\n",
       "      <td>Sports</td>\n",
       "      <td>15.61</td>\n",
       "      <td>10.93</td>\n",
       "      <td>3.28</td>\n",
       "      <td>2.95</td>\n",
       "      <td>32.77</td>\n",
       "      <td>80.0</td>\n",
       "      <td>8.0</td>\n",
       "      <td>E</td>\n",
       "    </tr>\n",
       "    <tr>\n",
       "      <td>4</td>\n",
       "      <td>Pokemon Red/Pokemon Blue</td>\n",
       "      <td>GB</td>\n",
       "      <td>1996.0</td>\n",
       "      <td>Role-Playing</td>\n",
       "      <td>11.27</td>\n",
       "      <td>8.89</td>\n",
       "      <td>10.22</td>\n",
       "      <td>1.00</td>\n",
       "      <td>31.38</td>\n",
       "      <td>NaN</td>\n",
       "      <td>NaN</td>\n",
       "      <td>NaN</td>\n",
       "    </tr>\n",
       "  </tbody>\n",
       "</table>\n",
       "</div>"
      ],
      "text/plain": [
       "                       name platform  year_of_release         genre  na_sales  \\\n",
       "0                Wii Sports      Wii           2006.0        Sports     41.36   \n",
       "1         Super Mario Bros.      NES           1985.0      Platform     29.08   \n",
       "2            Mario Kart Wii      Wii           2008.0        Racing     15.68   \n",
       "3         Wii Sports Resort      Wii           2009.0        Sports     15.61   \n",
       "4  Pokemon Red/Pokemon Blue       GB           1996.0  Role-Playing     11.27   \n",
       "\n",
       "   eu_sales  jp_sales  other_sales  sum_sales  critic_score  user_score rating  \n",
       "0     28.96      3.77         8.45      82.54          76.0         8.0      E  \n",
       "1      3.58      6.81         0.77      40.24           NaN         NaN    NaN  \n",
       "2     12.76      3.79         3.29      35.52          82.0         8.3      E  \n",
       "3     10.93      3.28         2.95      32.77          80.0         8.0      E  \n",
       "4      8.89     10.22         1.00      31.38           NaN         NaN    NaN  "
      ]
     },
     "execution_count": 16,
     "metadata": {},
     "output_type": "execute_result"
    }
   ],
   "source": [
    "df.head()"
   ]
  },
  {
   "cell_type": "markdown",
   "metadata": {},
   "source": [
    "**Вывод**"
   ]
  },
  {
   "cell_type": "markdown",
   "metadata": {},
   "source": [
    "Проведено первичное ознакомление с данными. Названия столбцов приведены к нижнему регистру. Значение \"tbd\" в столбце с рейтингом пользователей заменено на пропуск и тип данных столбца изменен на числовой (float). Данные проверены на дубликаты. Добавлен столбец с общей суммой продаж игры."
   ]
  },
  {
   "cell_type": "markdown",
   "metadata": {},
   "source": [
    "## Исследовательский анализ данных"
   ]
  },
  {
   "cell_type": "markdown",
   "metadata": {},
   "source": [
    "### Общие тенденции"
   ]
  },
  {
   "cell_type": "markdown",
   "metadata": {},
   "source": [
    "Посмотрим сколько игр выпускалось в разные периоды на гистограмме."
   ]
  },
  {
   "cell_type": "code",
   "execution_count": 17,
   "metadata": {},
   "outputs": [
    {
     "data": {
      "image/png": "[encoded data removed]",
      "text/plain": [
       "<Figure size 1008x504 with 1 Axes>"
      ]
     },
     "metadata": {
      "needs_background": "light"
     },
     "output_type": "display_data"
    }
   ],
   "source": [
    "df['year_of_release'].hist(bins=len(df['year_of_release'].unique()), figsize=(14, 7))\n",
    "plt.title('Распределение игр по году выпуска')\n",
    "plt.xlabel('Год выпуска')\n",
    "plt.ylabel('Количество игр')\n",
    "plt.show()"
   ]
  },
  {
   "cell_type": "markdown",
   "metadata": {},
   "source": [
    "С 1993 по 2008 г. происходил явно выраженный рост количества выпускаемых игр. Пик был достигнут в 2008-2009 гг. на уровне немного более 1400 игр в год, после чего в 2010-2011 гг. количество выпускаемых игр резко снизилось примерно до 600 игр в год. В 2016 году было выпущено около 500 игр. Таким образом, имеются основания для ожидания в будущем сохранения количества выпускаемых игр на уровне 500-600 в год либо плавного снижения. Для отслеживания актуальных тенденций на рынке компьютеных игр целесообразно использование данных, начиная с 2012 года, поскольку по количеству выпускаемых игр данный период наиболее похож на современный."
   ]
  },
  {
   "cell_type": "markdown",
   "metadata": {},
   "source": [
    "---"
   ]
  },
  {
   "cell_type": "markdown",
   "metadata": {},
   "source": [
    "Посмотрим как распределялись продажи игр на разных платформах."
   ]
  },
  {
   "cell_type": "markdown",
   "metadata": {},
   "source": [
    "Сгруппируем платформы по общему количеству продаж и отсортируем по убыванию."
   ]
  },
  {
   "cell_type": "code",
   "execution_count": 18,
   "metadata": {},
   "outputs": [],
   "source": [
    "max_sales_platforms = df.groupby('platform')['sum_sales'].agg('sum').sort_values(ascending=False)"
   ]
  },
  {
   "cell_type": "code",
   "execution_count": 19,
   "metadata": {},
   "outputs": [
    {
     "data": {
      "text/plain": [
       "platform\n",
       "PS2     1255.77\n",
       "X360     971.42\n",
       "PS3      939.65\n",
       "Wii      907.51\n",
       "DS       806.12\n",
       "PS       730.86\n",
       "GBA      317.85\n",
       "PS4      314.14\n",
       "PSP      294.05\n",
       "PC       259.52\n",
       "Name: sum_sales, dtype: float64"
      ]
     },
     "execution_count": 19,
     "metadata": {},
     "output_type": "execute_result"
    }
   ],
   "source": [
    "max_sales_platforms.head(10)"
   ]
  },
  {
   "cell_type": "markdown",
   "metadata": {},
   "source": [
    "К самым успешным платформам можно отнести те, общие продажи игр для которых превысили 700 млн. экземпляров, т.к. данная границы отделяет платформы с заметно меньшими продажами (по следующей платформе продажи уже 317 млн.)."
   ]
  },
  {
   "cell_type": "code",
   "execution_count": 20,
   "metadata": {},
   "outputs": [],
   "source": [
    "max_sales_platforms = max_sales_platforms[max_sales_platforms > 700].index"
   ]
  },
  {
   "cell_type": "code",
   "execution_count": 21,
   "metadata": {},
   "outputs": [
    {
     "name": "stdout",
     "output_type": "stream",
     "text": [
      "Список самых успешных платформ для компьютерных игр за всю историю:\n",
      "PS2\n",
      "X360\n",
      "PS3\n",
      "Wii\n",
      "DS\n",
      "PS\n"
     ]
    }
   ],
   "source": [
    "print('Список самых успешных платформ для компьютерных игр за всю историю:', \n",
    "      *max_sales_platforms, sep='\\n')"
   ]
  },
  {
   "cell_type": "markdown",
   "metadata": {},
   "source": [
    "Создадим сводную таблицу по годовым продажам на данных платформах и построим линейные графики."
   ]
  },
  {
   "cell_type": "code",
   "execution_count": 22,
   "metadata": {},
   "outputs": [],
   "source": [
    "max_platforms_sales_by_year = (df.query('platform in @max_sales_platforms')\n",
    "                               .pivot_table(index='year_of_release', \n",
    "                                            columns='platform', \n",
    "                                            values='sum_sales', \n",
    "                                            aggfunc='sum'))"
   ]
  },
  {
   "cell_type": "code",
   "execution_count": 23,
   "metadata": {
    "scrolled": true
   },
   "outputs": [
    {
     "data": {
      "image/png": "[encoded data removed]",
      "text/plain": [
       "<Figure size 360x288 with 1 Axes>"
      ]
     },
     "metadata": {
      "needs_background": "light"
     },
     "output_type": "display_data"
    },
    {
     "data": {
      "image/png": "[encoded data removed]",
      "text/plain": [
       "<Figure size 360x288 with 1 Axes>"
      ]
     },
     "metadata": {
      "needs_background": "light"
     },
     "output_type": "display_data"
    },
    {
     "data": {
      "image/png": "[encoded data removed]",
      "text/plain": [
       "<Figure size 360x288 with 1 Axes>"
      ]
     },
     "metadata": {
      "needs_background": "light"
     },
     "output_type": "display_data"
    },
    {
     "data": {
      "image/png": "[encoded data removed]",
      "text/plain": [
       "<Figure size 360x288 with 1 Axes>"
      ]
     },
     "metadata": {
      "needs_background": "light"
     },
     "output_type": "display_data"
    },
    {
     "data": {
      "image/png": "[encoded data removed]",
      "text/plain": [
       "<Figure size 360x288 with 1 Axes>"
      ]
     },
     "metadata": {
      "needs_background": "light"
     },
     "output_type": "display_data"
    },
    {
     "data": {
      "image/png": "[encoded data removed]",
      "text/plain": [
       "<Figure size 360x288 with 1 Axes>"
      ]
     },
     "metadata": {
      "needs_background": "light"
     },
     "output_type": "display_data"
    }
   ],
   "source": [
    "for platform in max_sales_platforms:\n",
    "    max_platforms_sales_by_year[platform].plot(grid=True, figsize=(5, 4))\n",
    "    plt.title(platform)\n",
    "    plt.ylabel('sum_sales')\n",
    "    plt.show()"
   ]
  },
  {
   "cell_type": "markdown",
   "metadata": {},
   "source": [
    "В среднем у самых успешных платформ период жизни составляет 9-11 лет. В первой половине периода продажи растут, во второй - падают."
   ]
  },
  {
   "cell_type": "markdown",
   "metadata": {},
   "source": [
    "С учетом этого, а также наличия общей тенденции суммарных продаж с 2012 года, включим в данные для анализа период начиная с 2012 года. В данном периоде можно увидеть рост/падение платформы и отследить тенденции на рынке компьютерных игр, которые можно ожидать и в предстоящем году."
   ]
  },
  {
   "cell_type": "code",
   "execution_count": 24,
   "metadata": {},
   "outputs": [],
   "source": [
    "actual_data = df.query('year_of_release >= 2012')"
   ]
  },
  {
   "cell_type": "markdown",
   "metadata": {},
   "source": [
    "Создадим сводную таблицу по годовым продажам платформ в актуальном периоде и визуализируем данные на линейных графиках."
   ]
  },
  {
   "cell_type": "code",
   "execution_count": 25,
   "metadata": {},
   "outputs": [],
   "source": [
    "actual_data_platform_by_year = actual_data.pivot_table(index='year_of_release', values='sum_sales', columns='platform', aggfunc='sum')"
   ]
  },
  {
   "cell_type": "code",
   "execution_count": 26,
   "metadata": {},
   "outputs": [
    {
     "data": {
      "image/png": "[encoded data removed]",
      "text/plain": [
       "<Figure size 432x288 with 1 Axes>"
      ]
     },
     "metadata": {
      "needs_background": "light"
     },
     "output_type": "display_data"
    },
    {
     "data": {
      "image/png": "[encoded data removed]",
      "text/plain": [
       "<Figure size 432x288 with 1 Axes>"
      ]
     },
     "metadata": {
      "needs_background": "light"
     },
     "output_type": "display_data"
    },
    {
     "data": {
      "image/png": "[encoded data removed]",
      "text/plain": [
       "<Figure size 432x288 with 1 Axes>"
      ]
     },
     "metadata": {
      "needs_background": "light"
     },
     "output_type": "display_data"
    },
    {
     "data": {
      "image/png": "[encoded data removed]",
      "text/plain": [
       "<Figure size 432x288 with 1 Axes>"
      ]
     },
     "metadata": {
      "needs_background": "light"
     },
     "output_type": "display_data"
    },
    {
     "data": {
      "image/png": "[encoded data removed]",
      "text/plain": [
       "<Figure size 432x288 with 1 Axes>"
      ]
     },
     "metadata": {
      "needs_background": "light"
     },
     "output_type": "display_data"
    },
    {
     "data": {
      "image/png": "[encoded data removed]",
      "text/plain": [
       "<Figure size 432x288 with 1 Axes>"
      ]
     },
     "metadata": {
      "needs_background": "light"
     },
     "output_type": "display_data"
    },
    {
     "data": {
      "image/png": "[encoded data removed]",
      "text/plain": [
       "<Figure size 432x288 with 1 Axes>"
      ]
     },
     "metadata": {
      "needs_background": "light"
     },
     "output_type": "display_data"
    },
    {
     "data": {
      "image/png": "[encoded data removed]",
      "text/plain": [
       "<Figure size 432x288 with 1 Axes>"
      ]
     },
     "metadata": {
      "needs_background": "light"
     },
     "output_type": "display_data"
    },
    {
     "data": {
      "image/png": "[encoded data removed]",
      "text/plain": [
       "<Figure size 432x288 with 1 Axes>"
      ]
     },
     "metadata": {
      "needs_background": "light"
     },
     "output_type": "display_data"
    },
    {
     "data": {
      "image/png": "[encoded data removed]",
      "text/plain": [
       "<Figure size 432x288 with 1 Axes>"
      ]
     },
     "metadata": {
      "needs_background": "light"
     },
     "output_type": "display_data"
    },
    {
     "data": {
      "image/png": "[encoded data removed]",
      "text/plain": [
       "<Figure size 432x288 with 1 Axes>"
      ]
     },
     "metadata": {
      "needs_background": "light"
     },
     "output_type": "display_data"
    }
   ],
   "source": [
    "for platform in actual_data['platform'].unique():\n",
    "    actual_data_platform_by_year[platform].plot(legend=True)\n",
    "    plt.show()"
   ]
  },
  {
   "cell_type": "markdown",
   "metadata": {},
   "source": [
    "Более менее оптимистичный прогноз можно сделать только по двум платформам: PS4 и XOne. На графиках продаж игр для других платформ видно, что период их жизни подходит к концу."
   ]
  },
  {
   "cell_type": "code",
   "execution_count": 27,
   "metadata": {},
   "outputs": [
    {
     "data": {
      "text/html": [
       "<div>\n",
       "<style scoped>\n",
       "    .dataframe tbody tr th:only-of-type {\n",
       "        vertical-align: middle;\n",
       "    }\n",
       "\n",
       "    .dataframe tbody tr th {\n",
       "        vertical-align: top;\n",
       "    }\n",
       "\n",
       "    .dataframe thead th {\n",
       "        text-align: right;\n",
       "    }\n",
       "</style>\n",
       "<table border=\"1\" class=\"dataframe\">\n",
       "  <thead>\n",
       "    <tr style=\"text-align: right;\">\n",
       "      <th>platform</th>\n",
       "      <th>3DS</th>\n",
       "      <th>DS</th>\n",
       "      <th>PC</th>\n",
       "      <th>PS3</th>\n",
       "      <th>PS4</th>\n",
       "      <th>PSP</th>\n",
       "      <th>PSV</th>\n",
       "      <th>Wii</th>\n",
       "      <th>WiiU</th>\n",
       "      <th>X360</th>\n",
       "      <th>XOne</th>\n",
       "    </tr>\n",
       "    <tr>\n",
       "      <th>year_of_release</th>\n",
       "      <th></th>\n",
       "      <th></th>\n",
       "      <th></th>\n",
       "      <th></th>\n",
       "      <th></th>\n",
       "      <th></th>\n",
       "      <th></th>\n",
       "      <th></th>\n",
       "      <th></th>\n",
       "      <th></th>\n",
       "      <th></th>\n",
       "    </tr>\n",
       "  </thead>\n",
       "  <tbody>\n",
       "    <tr>\n",
       "      <td>2015</td>\n",
       "      <td>27.78</td>\n",
       "      <td>NaN</td>\n",
       "      <td>8.52</td>\n",
       "      <td>16.82</td>\n",
       "      <td>118.90</td>\n",
       "      <td>0.12</td>\n",
       "      <td>6.25</td>\n",
       "      <td>1.14</td>\n",
       "      <td>16.35</td>\n",
       "      <td>11.96</td>\n",
       "      <td>60.14</td>\n",
       "    </tr>\n",
       "    <tr>\n",
       "      <td>2016</td>\n",
       "      <td>15.14</td>\n",
       "      <td>NaN</td>\n",
       "      <td>5.25</td>\n",
       "      <td>3.60</td>\n",
       "      <td>69.25</td>\n",
       "      <td>NaN</td>\n",
       "      <td>4.25</td>\n",
       "      <td>0.18</td>\n",
       "      <td>4.60</td>\n",
       "      <td>1.52</td>\n",
       "      <td>26.15</td>\n",
       "    </tr>\n",
       "  </tbody>\n",
       "</table>\n",
       "</div>"
      ],
      "text/plain": [
       "platform           3DS  DS    PC    PS3     PS4   PSP   PSV   Wii   WiiU  \\\n",
       "year_of_release                                                            \n",
       "2015             27.78 NaN  8.52  16.82  118.90  0.12  6.25  1.14  16.35   \n",
       "2016             15.14 NaN  5.25   3.60   69.25   NaN  4.25  0.18   4.60   \n",
       "\n",
       "platform          X360   XOne  \n",
       "year_of_release                \n",
       "2015             11.96  60.14  \n",
       "2016              1.52  26.15  "
      ]
     },
     "execution_count": 27,
     "metadata": {},
     "output_type": "execute_result"
    }
   ],
   "source": [
    "# КОД РЕВЬЮЕРА\n",
    "\n",
    "actual_data.pivot_table(index='year_of_release', columns='platform', values='sum_sales', aggfunc='sum').loc[[2015, 2016]]"
   ]
  },
  {
   "cell_type": "markdown",
   "metadata": {},
   "source": [
    "Я действительно сначала не задумывался над тем, по каждой игре указаны продажи не за год выпуска, а за весь период существования до выгрузки. Так, конечно, графики воспринимаются немного по-другому."
   ]
  },
  {
   "cell_type": "markdown",
   "metadata": {},
   "source": [
    "---"
   ]
  },
  {
   "cell_type": "markdown",
   "metadata": {},
   "source": [
    "Посмотрим на размер средних продаж игр на перпспективных платформах по \"ящику с усами\"."
   ]
  },
  {
   "cell_type": "code",
   "execution_count": 28,
   "metadata": {
    "scrolled": true
   },
   "outputs": [
    {
     "data": {
      "image/png": "[encoded data removed]",
      "text/plain": [
       "<Figure size 1296x720 with 2 Axes>"
      ]
     },
     "metadata": {
      "needs_background": "light"
     },
     "output_type": "display_data"
    }
   ],
   "source": [
    "plt.figure(figsize=(18, 10)) \n",
    "plt.subplot(1, 2, 1)\n",
    "actual_data.query('platform == \"XOne\"')['sum_sales'].plot(kind='box', grid=True, ylim=(0, 10))\n",
    "plt.title(\"XOne\")\n",
    "plt.subplot(1, 2, 2)\n",
    "actual_data.query('platform == \"PS4\"')['sum_sales'].plot(kind='box', grid=True, ylim=(0, 10))\n",
    "plt.title(\"PS4\")\n",
    "plt.show()"
   ]
  },
  {
   "cell_type": "markdown",
   "metadata": {},
   "source": [
    "Приблизим фрагмент с большинством значений, обрезав графики по продажам 4 млн."
   ]
  },
  {
   "cell_type": "code",
   "execution_count": 29,
   "metadata": {
    "scrolled": true
   },
   "outputs": [
    {
     "data": {
      "image/png": "[encoded data removed]",
      "text/plain": [
       "<Figure size 1296x720 with 2 Axes>"
      ]
     },
     "metadata": {
      "needs_background": "light"
     },
     "output_type": "display_data"
    }
   ],
   "source": [
    "plt.figure(figsize=(18, 10)) \n",
    "plt.subplot(1, 2, 1)\n",
    "actual_data.query('platform == \"XOne\"')['sum_sales'].plot(kind='box', grid=True, ylim=(0, 4))\n",
    "plt.title(\"XOne\")\n",
    "plt.subplot(1, 2, 2)\n",
    "actual_data.query('platform == \"PS4\"')['sum_sales'].plot(kind='box', grid=True, ylim=(0, 4))\n",
    "plt.title(\"PS4\")\n",
    "plt.show()"
   ]
  },
  {
   "cell_type": "markdown",
   "metadata": {},
   "source": [
    "Строим боксплот в разбивке по платформам."
   ]
  },
  {
   "cell_type": "code",
   "execution_count": 30,
   "metadata": {},
   "outputs": [
    {
     "data": {
      "image/png": "[encoded data removed]",
      "text/plain": [
       "<Figure size 504x360 with 1 Axes>"
      ]
     },
     "metadata": {
      "needs_background": "light"
     },
     "output_type": "display_data"
    }
   ],
   "source": [
    "plt.figure(figsize=(7, 5))\n",
    "sns.boxplot(data=actual_data.query('platform in [\"XOne\", \"PS4\", \"3DS\"]'), x='platform', y='sum_sales')\n",
    "plt.title('Распределение объемов продаж игр по платформам')\n",
    "plt.show()"
   ]
  },
  {
   "cell_type": "markdown",
   "metadata": {},
   "source": [
    "По графику видно, что у всех платформ значения продаж свыше 2 млн. относятся к выбросам, т.е. нестандартным значениям."
   ]
  },
  {
   "cell_type": "markdown",
   "metadata": {},
   "source": [
    "Обрежем график по оси y значением 2 млн. чтобы лучше рассмотреть распределение."
   ]
  },
  {
   "cell_type": "code",
   "execution_count": 31,
   "metadata": {},
   "outputs": [
    {
     "data": {
      "image/png": "[encoded data removed]",
      "text/plain": [
       "<Figure size 504x720 with 1 Axes>"
      ]
     },
     "metadata": {
      "needs_background": "light"
     },
     "output_type": "display_data"
    }
   ],
   "source": [
    "plt.figure(figsize=(7, 10))\n",
    "sns.boxplot(data=actual_data.query('platform in [\"XOne\", \"PS4\", \"3DS\"]'), x='platform', y='sum_sales')\n",
    "plt.ylim(0, 2)\n",
    "plt.show()"
   ]
  },
  {
   "cell_type": "markdown",
   "metadata": {},
   "source": [
    "Большинство значений продаж игр на PS4 находится до 1.75 млн., XOne - до 1.6 млн., 3DS - до 0,75 млн. Выше данных границ содержатся выбросы, то есть редкие, нестандартные значения. "
   ]
  },
  {
   "cell_type": "markdown",
   "metadata": {},
   "source": [
    "Медианные значения продаж на двух перспективных платформах практически одинаковые - около 0.2 млн. экземпляров. Однако игр с большим объемом продажам (свыше 1.5 млн.) заметно больше на PS4. Следовательно, среднее значение продаж игры на PS4 также должно быть существенно больше."
   ]
  },
  {
   "cell_type": "markdown",
   "metadata": {},
   "source": [
    "На 3DS медианое значение меньше примерно в 2 раза. Средний объем продаж игры видимо также меньше, чем у конкурентов."
   ]
  },
  {
   "cell_type": "code",
   "execution_count": 32,
   "metadata": {},
   "outputs": [
    {
     "name": "stdout",
     "output_type": "stream",
     "text": [
      "Средние продажи игры на PS4: 0.8\n",
      "Средние продажи игры на XOne: 0.65\n",
      "Средние продажи игры на 3DS: 0.49\n"
     ]
    }
   ],
   "source": [
    "print('Средние продажи игры на PS4:', \n",
    "      round(actual_data.query('platform == \"PS4\"')['sum_sales'].mean(), 2))\n",
    "print('Средние продажи игры на XOne:', \n",
    "      round(actual_data.query('platform == \"XOne\"')['sum_sales'].mean(), 2))\n",
    "print('Средние продажи игры на 3DS:', \n",
    "      round(actual_data.query('platform == \"3DS\"')['sum_sales'].mean(), 2))"
   ]
  },
  {
   "cell_type": "markdown",
   "metadata": {},
   "source": [
    "---"
   ]
  },
  {
   "cell_type": "markdown",
   "metadata": {},
   "source": [
    "Посмотрим на зависимость продаж от критиков и пользователей."
   ]
  },
  {
   "cell_type": "markdown",
   "metadata": {},
   "source": [
    "Построим гистограмму по PS4."
   ]
  },
  {
   "cell_type": "code",
   "execution_count": 33,
   "metadata": {},
   "outputs": [],
   "source": [
    "data_PS4 = actual_data.query('platform == \"PS4\"')"
   ]
  },
  {
   "cell_type": "code",
   "execution_count": 34,
   "metadata": {},
   "outputs": [
    {
     "data": {
      "image/png": "[encoded data removed]",
      "text/plain": [
       "<Figure size 576x432 with 1 Axes>"
      ]
     },
     "metadata": {
      "needs_background": "light"
     },
     "output_type": "display_data"
    }
   ],
   "source": [
    "data_PS4.plot(x='sum_sales', y='critic_score', kind='scatter', figsize=(8, 6))\n",
    "plt.title('Зависимость продаж от оценки критиков (PS4)')\n",
    "plt.show()"
   ]
  },
  {
   "cell_type": "code",
   "execution_count": 35,
   "metadata": {
    "scrolled": false
   },
   "outputs": [
    {
     "data": {
      "image/png": "[encoded data removed]",
      "text/plain": [
       "<Figure size 576x432 with 1 Axes>"
      ]
     },
     "metadata": {
      "needs_background": "light"
     },
     "output_type": "display_data"
    }
   ],
   "source": [
    "data_PS4.plot(x='sum_sales', y='user_score', kind='scatter', figsize=(8, 6))\n",
    "plt.title('Зависимость продаж от оценки пользователей (PS4)')\n",
    "plt.show()"
   ]
  },
  {
   "cell_type": "markdown",
   "metadata": {},
   "source": [
    "Посчитаем корреляцию."
   ]
  },
  {
   "cell_type": "code",
   "execution_count": 36,
   "metadata": {},
   "outputs": [
    {
     "data": {
      "text/html": [
       "<div>\n",
       "<style scoped>\n",
       "    .dataframe tbody tr th:only-of-type {\n",
       "        vertical-align: middle;\n",
       "    }\n",
       "\n",
       "    .dataframe tbody tr th {\n",
       "        vertical-align: top;\n",
       "    }\n",
       "\n",
       "    .dataframe thead th {\n",
       "        text-align: right;\n",
       "    }\n",
       "</style>\n",
       "<table border=\"1\" class=\"dataframe\">\n",
       "  <thead>\n",
       "    <tr style=\"text-align: right;\">\n",
       "      <th></th>\n",
       "      <th>sum_sales</th>\n",
       "      <th>critic_score</th>\n",
       "      <th>user_score</th>\n",
       "    </tr>\n",
       "  </thead>\n",
       "  <tbody>\n",
       "    <tr>\n",
       "      <td>sum_sales</td>\n",
       "      <td>1.000000</td>\n",
       "      <td>0.406568</td>\n",
       "      <td>-0.031957</td>\n",
       "    </tr>\n",
       "    <tr>\n",
       "      <td>critic_score</td>\n",
       "      <td>0.406568</td>\n",
       "      <td>1.000000</td>\n",
       "      <td>0.557654</td>\n",
       "    </tr>\n",
       "    <tr>\n",
       "      <td>user_score</td>\n",
       "      <td>-0.031957</td>\n",
       "      <td>0.557654</td>\n",
       "      <td>1.000000</td>\n",
       "    </tr>\n",
       "  </tbody>\n",
       "</table>\n",
       "</div>"
      ],
      "text/plain": [
       "              sum_sales  critic_score  user_score\n",
       "sum_sales      1.000000      0.406568   -0.031957\n",
       "critic_score   0.406568      1.000000    0.557654\n",
       "user_score    -0.031957      0.557654    1.000000"
      ]
     },
     "execution_count": 36,
     "metadata": {},
     "output_type": "execute_result"
    }
   ],
   "source": [
    "data_PS4[['sum_sales', 'critic_score', 'user_score']].corr()"
   ]
  },
  {
   "cell_type": "markdown",
   "metadata": {},
   "source": [
    "Между оценками критиков и продажами имеется заметная положительная корреляция. По гистограмме видно, что \"сорвать куш\" есть шанс лишь у игр с высокой оценкой критиков.\n",
    "\n",
    "Относительно оценки пользователей корреляция практически не заметна. На гистограмме имеются игры с большими продажами (более 4 млн.) со средними и даже низким рейтингом у пользователей (рейтинг даже до 5). Коэффициент корреляции почти нулевой."
   ]
  },
  {
   "cell_type": "markdown",
   "metadata": {},
   "source": [
    "Сопоставим выводы с данными по всем платформам."
   ]
  },
  {
   "cell_type": "code",
   "execution_count": 37,
   "metadata": {},
   "outputs": [
    {
     "data": {
      "image/png": "[encoded data removed]",
      "text/plain": [
       "<Figure size 576x432 with 1 Axes>"
      ]
     },
     "metadata": {
      "needs_background": "light"
     },
     "output_type": "display_data"
    },
    {
     "data": {
      "image/png": "[encoded data removed]",
      "text/plain": [
       "<Figure size 576x432 with 1 Axes>"
      ]
     },
     "metadata": {
      "needs_background": "light"
     },
     "output_type": "display_data"
    }
   ],
   "source": [
    "actual_data.plot(x='sum_sales', y='critic_score', kind='scatter', figsize=(8, 6))\n",
    "plt.title('Зависимость продаж от оценки критиков (все платформы)')\n",
    "plt.show()\n",
    "\n",
    "actual_data.plot(x='sum_sales', y='user_score', kind='scatter', figsize=(8, 6))\n",
    "plt.title('Зависимость продаж от оценки пользователей (все платформы)')\n",
    "plt.show()"
   ]
  },
  {
   "cell_type": "code",
   "execution_count": 38,
   "metadata": {
    "scrolled": true
   },
   "outputs": [
    {
     "data": {
      "text/html": [
       "<div>\n",
       "<style scoped>\n",
       "    .dataframe tbody tr th:only-of-type {\n",
       "        vertical-align: middle;\n",
       "    }\n",
       "\n",
       "    .dataframe tbody tr th {\n",
       "        vertical-align: top;\n",
       "    }\n",
       "\n",
       "    .dataframe thead th {\n",
       "        text-align: right;\n",
       "    }\n",
       "</style>\n",
       "<table border=\"1\" class=\"dataframe\">\n",
       "  <thead>\n",
       "    <tr style=\"text-align: right;\">\n",
       "      <th></th>\n",
       "      <th>sum_sales</th>\n",
       "      <th>critic_score</th>\n",
       "      <th>user_score</th>\n",
       "    </tr>\n",
       "  </thead>\n",
       "  <tbody>\n",
       "    <tr>\n",
       "      <td>sum_sales</td>\n",
       "      <td>1.000000</td>\n",
       "      <td>0.308197</td>\n",
       "      <td>0.004429</td>\n",
       "    </tr>\n",
       "    <tr>\n",
       "      <td>critic_score</td>\n",
       "      <td>0.308197</td>\n",
       "      <td>1.000000</td>\n",
       "      <td>0.517727</td>\n",
       "    </tr>\n",
       "    <tr>\n",
       "      <td>user_score</td>\n",
       "      <td>0.004429</td>\n",
       "      <td>0.517727</td>\n",
       "      <td>1.000000</td>\n",
       "    </tr>\n",
       "  </tbody>\n",
       "</table>\n",
       "</div>"
      ],
      "text/plain": [
       "              sum_sales  critic_score  user_score\n",
       "sum_sales      1.000000      0.308197    0.004429\n",
       "critic_score   0.308197      1.000000    0.517727\n",
       "user_score     0.004429      0.517727    1.000000"
      ]
     },
     "execution_count": 38,
     "metadata": {},
     "output_type": "execute_result"
    }
   ],
   "source": [
    "actual_data[['sum_sales', 'critic_score', 'user_score']].corr()"
   ]
  },
  {
   "cell_type": "markdown",
   "metadata": {},
   "source": [
    "Выводы сделанные по PS4 также выражены и по всем платформам. Рейтинг критиков на PS4 более показателен, чем на данных по всем платформам."
   ]
  },
  {
   "cell_type": "markdown",
   "metadata": {},
   "source": [
    "---"
   ]
  },
  {
   "cell_type": "markdown",
   "metadata": {},
   "source": [
    "Проанализируем с точки зрения объема продаж данные в разрезе по игровым жанрам."
   ]
  },
  {
   "cell_type": "code",
   "execution_count": 39,
   "metadata": {},
   "outputs": [
    {
     "data": {
      "image/png": "[encoded data removed]",
      "text/plain": [
       "<Figure size 432x288 with 1 Axes>"
      ]
     },
     "metadata": {
      "needs_background": "light"
     },
     "output_type": "display_data"
    }
   ],
   "source": [
    "actual_data['genre'].value_counts().plot(kind='bar', grid=True)\n",
    "plt.title('Количество игр по жанрам')\n",
    "plt.show()"
   ]
  },
  {
   "cell_type": "markdown",
   "metadata": {},
   "source": [
    "Экшенов заметно больше."
   ]
  },
  {
   "cell_type": "code",
   "execution_count": 40,
   "metadata": {},
   "outputs": [],
   "source": [
    "data_genres = actual_data.pivot_table(index='genre', values='sum_sales', aggfunc=['count', 'mean', 'median'])"
   ]
  },
  {
   "cell_type": "code",
   "execution_count": 41,
   "metadata": {},
   "outputs": [],
   "source": [
    "data_genres.columns=['Количество', 'Среднее значение продаж', 'Медиана продаж']"
   ]
  },
  {
   "cell_type": "code",
   "execution_count": 42,
   "metadata": {
    "scrolled": true
   },
   "outputs": [],
   "source": [
    "data_genres = data_genres.sort_values(by='Среднее значение продаж', ascending=False)"
   ]
  },
  {
   "cell_type": "code",
   "execution_count": 43,
   "metadata": {},
   "outputs": [
    {
     "data": {
      "image/png": "[encoded data removed]",
      "text/plain": [
       "<Figure size 432x288 with 1 Axes>"
      ]
     },
     "metadata": {
      "needs_background": "light"
     },
     "output_type": "display_data"
    }
   ],
   "source": [
    "data_genres['Среднее значение продаж'].plot(kind='bar', grid=True)\n",
    "plt.title('Средние продажи по жанрам')\n",
    "plt.show()"
   ]
  },
  {
   "cell_type": "markdown",
   "metadata": {},
   "source": [
    "А вот по прибыльности лидируют шутеры, продажи у них заметно больше. К высоким продажам можно отнести также игры в жанрах \"Platform\" и \"Sports\". Низкие продажи у стратегий, головоломок и приключений."
   ]
  },
  {
   "cell_type": "markdown",
   "metadata": {},
   "source": [
    "### Специфика регионов"
   ]
  },
  {
   "cell_type": "markdown",
   "metadata": {},
   "source": [
    "Составим портрет пользователя для каждого региона."
   ]
  },
  {
   "cell_type": "markdown",
   "metadata": {},
   "source": [
    "Найдем топ-5 платформ в Европе."
   ]
  },
  {
   "cell_type": "code",
   "execution_count": 44,
   "metadata": {},
   "outputs": [],
   "source": [
    "eu_top_platforms = (\n",
    "    actual_data\n",
    "    .pivot_table(index='platform', values='eu_sales', aggfunc='sum')\n",
    "    .sort_values(by='eu_sales', ascending=False)\n",
    ") #создаю сводную таблицу платформы к продажам в Европе, сортирую по убыванию\n",
    "\n",
    "eu_top_platforms['share'] = (round(eu_top_platforms['eu_sales'] \n",
    "                                   / eu_top_platforms['eu_sales'].sum() , 2)) \n",
    "#долю от всех продаж ввожу отдельным столбцом\n",
    "\n",
    "eu_top_platforms = eu_top_platforms[:5] #обрезаю пятью верхними значениями\n",
    "\n",
    "eu_top_platforms = eu_top_platforms.reset_index() \n",
    "eu_top_platforms.columns = [['europe'] * 3, ['platform', 'sales', 'share']]\n",
    "#создаю новые индексы и ввожу двухуровневые названия столбцов \n",
    "#для последующего слияния в общую таблицу (по всем регионам)"
   ]
  },
  {
   "cell_type": "code",
   "execution_count": 45,
   "metadata": {},
   "outputs": [
    {
     "name": "stdout",
     "output_type": "stream",
     "text": [
      "Рейтинг платформ по продажам в Европе\n"
     ]
    },
    {
     "data": {
      "text/html": [
       "<div>\n",
       "<style scoped>\n",
       "    .dataframe tbody tr th:only-of-type {\n",
       "        vertical-align: middle;\n",
       "    }\n",
       "\n",
       "    .dataframe tbody tr th {\n",
       "        vertical-align: top;\n",
       "    }\n",
       "\n",
       "    .dataframe thead tr th {\n",
       "        text-align: left;\n",
       "    }\n",
       "</style>\n",
       "<table border=\"1\" class=\"dataframe\">\n",
       "  <thead>\n",
       "    <tr>\n",
       "      <th></th>\n",
       "      <th colspan=\"3\" halign=\"left\">europe</th>\n",
       "    </tr>\n",
       "    <tr>\n",
       "      <th></th>\n",
       "      <th>platform</th>\n",
       "      <th>sales</th>\n",
       "      <th>share</th>\n",
       "    </tr>\n",
       "  </thead>\n",
       "  <tbody>\n",
       "    <tr>\n",
       "      <td>0</td>\n",
       "      <td>PS4</td>\n",
       "      <td>141.09</td>\n",
       "      <td>0.28</td>\n",
       "    </tr>\n",
       "    <tr>\n",
       "      <td>1</td>\n",
       "      <td>PS3</td>\n",
       "      <td>106.86</td>\n",
       "      <td>0.21</td>\n",
       "    </tr>\n",
       "    <tr>\n",
       "      <td>2</td>\n",
       "      <td>X360</td>\n",
       "      <td>74.52</td>\n",
       "      <td>0.15</td>\n",
       "    </tr>\n",
       "    <tr>\n",
       "      <td>3</td>\n",
       "      <td>XOne</td>\n",
       "      <td>51.59</td>\n",
       "      <td>0.10</td>\n",
       "    </tr>\n",
       "    <tr>\n",
       "      <td>4</td>\n",
       "      <td>3DS</td>\n",
       "      <td>42.64</td>\n",
       "      <td>0.08</td>\n",
       "    </tr>\n",
       "  </tbody>\n",
       "</table>\n",
       "</div>"
      ],
      "text/plain": [
       "    europe              \n",
       "  platform   sales share\n",
       "0      PS4  141.09  0.28\n",
       "1      PS3  106.86  0.21\n",
       "2     X360   74.52  0.15\n",
       "3     XOne   51.59  0.10\n",
       "4      3DS   42.64  0.08"
      ]
     },
     "execution_count": 45,
     "metadata": {},
     "output_type": "execute_result"
    }
   ],
   "source": [
    "print('Рейтинг платформ по продажам в Европе')\n",
    "eu_top_platforms"
   ]
  },
  {
   "cell_type": "markdown",
   "metadata": {},
   "source": [
    "Далее найдем топ-5 в других регионах и объединим данные в единую таблицу."
   ]
  },
  {
   "cell_type": "code",
   "execution_count": 46,
   "metadata": {},
   "outputs": [],
   "source": [
    "#создаю аналогичные таблицы по Северной Америки и Японии, а затем объединяю все три таблицы в одну\n",
    "\n",
    "#создаю таблицу по Северной Америке\n",
    "na_top_platforms = (\n",
    "    actual_data\n",
    "    .pivot_table(index='platform', values='na_sales', aggfunc='sum')\n",
    "    .sort_values(by='na_sales', ascending=False)\n",
    ")\n",
    "na_top_platforms['share'] = round(na_top_platforms['na_sales'] / na_top_platforms['na_sales'].sum() , 2)\n",
    "na_top_platforms = na_top_platforms[:5]\n",
    "na_top_platforms = na_top_platforms.reset_index()\n",
    "na_top_platforms.columns = [['north_america'] * 3, ['platform', 'sales', 'share']]\n",
    "\n",
    "#создаю таблицу по Японии\n",
    "jp_top_platforms = (\n",
    "    actual_data\n",
    "    .pivot_table(index='platform', values='jp_sales', aggfunc='sum')\n",
    "    .sort_values(by='jp_sales', ascending=False)\n",
    ")\n",
    "jp_top_platforms['share'] = round(jp_top_platforms['jp_sales'] / jp_top_platforms['jp_sales'].sum() , 2)\n",
    "jp_top_platforms = jp_top_platforms[:5]\n",
    "jp_top_platforms = jp_top_platforms.reset_index()\n",
    "jp_top_platforms.columns = [['japan'] * 3, ['platform', 'sales', 'share']]\n",
    "\n",
    "#объединяю таблицы по всем регионам\n",
    "top_platforms_by_region = (eu_top_platforms\n",
    "                 .merge(na_top_platforms, left_index=True, right_index=True)\n",
    "                 .merge(jp_top_platforms, left_index=True, right_index=True)\n",
    "                )\n",
    "\n",
    "#прибавляю 1 к номеру индекса, чтобы индекс отражал место в рейтинге\n",
    "top_platforms_by_region.index += 1 "
   ]
  },
  {
   "cell_type": "code",
   "execution_count": 47,
   "metadata": {},
   "outputs": [
    {
     "data": {
      "text/html": [
       "<div>\n",
       "<style scoped>\n",
       "    .dataframe tbody tr th:only-of-type {\n",
       "        vertical-align: middle;\n",
       "    }\n",
       "\n",
       "    .dataframe tbody tr th {\n",
       "        vertical-align: top;\n",
       "    }\n",
       "\n",
       "    .dataframe thead tr th {\n",
       "        text-align: left;\n",
       "    }\n",
       "</style>\n",
       "<table border=\"1\" class=\"dataframe\">\n",
       "  <thead>\n",
       "    <tr>\n",
       "      <th></th>\n",
       "      <th colspan=\"3\" halign=\"left\">europe</th>\n",
       "      <th colspan=\"3\" halign=\"left\">north_america</th>\n",
       "      <th colspan=\"3\" halign=\"left\">japan</th>\n",
       "    </tr>\n",
       "    <tr>\n",
       "      <th></th>\n",
       "      <th>platform</th>\n",
       "      <th>sales</th>\n",
       "      <th>share</th>\n",
       "      <th>platform</th>\n",
       "      <th>sales</th>\n",
       "      <th>share</th>\n",
       "      <th>platform</th>\n",
       "      <th>sales</th>\n",
       "      <th>share</th>\n",
       "    </tr>\n",
       "  </thead>\n",
       "  <tbody>\n",
       "    <tr>\n",
       "      <td>1</td>\n",
       "      <td>PS4</td>\n",
       "      <td>141.09</td>\n",
       "      <td>0.28</td>\n",
       "      <td>X360</td>\n",
       "      <td>140.05</td>\n",
       "      <td>0.24</td>\n",
       "      <td>3DS</td>\n",
       "      <td>87.79</td>\n",
       "      <td>0.46</td>\n",
       "    </tr>\n",
       "    <tr>\n",
       "      <td>2</td>\n",
       "      <td>PS3</td>\n",
       "      <td>106.86</td>\n",
       "      <td>0.21</td>\n",
       "      <td>PS4</td>\n",
       "      <td>108.74</td>\n",
       "      <td>0.18</td>\n",
       "      <td>PS3</td>\n",
       "      <td>35.29</td>\n",
       "      <td>0.18</td>\n",
       "    </tr>\n",
       "    <tr>\n",
       "      <td>3</td>\n",
       "      <td>X360</td>\n",
       "      <td>74.52</td>\n",
       "      <td>0.15</td>\n",
       "      <td>PS3</td>\n",
       "      <td>103.38</td>\n",
       "      <td>0.17</td>\n",
       "      <td>PSV</td>\n",
       "      <td>21.04</td>\n",
       "      <td>0.11</td>\n",
       "    </tr>\n",
       "    <tr>\n",
       "      <td>4</td>\n",
       "      <td>XOne</td>\n",
       "      <td>51.59</td>\n",
       "      <td>0.10</td>\n",
       "      <td>XOne</td>\n",
       "      <td>93.12</td>\n",
       "      <td>0.16</td>\n",
       "      <td>PS4</td>\n",
       "      <td>15.96</td>\n",
       "      <td>0.08</td>\n",
       "    </tr>\n",
       "    <tr>\n",
       "      <td>5</td>\n",
       "      <td>3DS</td>\n",
       "      <td>42.64</td>\n",
       "      <td>0.08</td>\n",
       "      <td>3DS</td>\n",
       "      <td>55.31</td>\n",
       "      <td>0.09</td>\n",
       "      <td>WiiU</td>\n",
       "      <td>13.01</td>\n",
       "      <td>0.07</td>\n",
       "    </tr>\n",
       "  </tbody>\n",
       "</table>\n",
       "</div>"
      ],
      "text/plain": [
       "    europe               north_america                  japan             \n",
       "  platform   sales share      platform   sales share platform  sales share\n",
       "1      PS4  141.09  0.28          X360  140.05  0.24      3DS  87.79  0.46\n",
       "2      PS3  106.86  0.21           PS4  108.74  0.18      PS3  35.29  0.18\n",
       "3     X360   74.52  0.15           PS3  103.38  0.17      PSV  21.04  0.11\n",
       "4     XOne   51.59  0.10          XOne   93.12  0.16      PS4  15.96  0.08\n",
       "5      3DS   42.64  0.08           3DS   55.31  0.09     WiiU  13.01  0.07"
      ]
     },
     "execution_count": 47,
     "metadata": {},
     "output_type": "execute_result"
    }
   ],
   "source": [
    "top_platforms_by_region"
   ]
  },
  {
   "cell_type": "markdown",
   "metadata": {},
   "source": [
    "В Европе и Северной Америке в топ-5 входят одни и те же платформы с некоторым различием в занимаемых в рейтинге местах. В Европе лидирует PS4, в Северной Америке - X360. Доли их продаж очень схожи (0.28 и 0.24 соответственно). В тройку лидеров в обоих регионах входит PS3. На третьем и четвертом месте одни и те же платформы - XOne и 3DS.\n",
    "\n",
    "Топ-5 Японии совершенно иной. Xbox совсем не представлен в рейтинге. Доля продаж PS3 и PS4 заметно ниже чем в других регионах. Однако  продажи по PSV занимают 3 место (11% от общего количества продаж) - между PS3 и PS4. С огромным отрывом в Японии лидирует 3DS, продажи по которой близятся к половине рынка - 0.46."
   ]
  },
  {
   "cell_type": "markdown",
   "metadata": {},
   "source": [
    "---"
   ]
  },
  {
   "cell_type": "markdown",
   "metadata": {},
   "source": [
    "Рассмотрим продажи по регионам в разрезе жанров."
   ]
  },
  {
   "cell_type": "code",
   "execution_count": 48,
   "metadata": {},
   "outputs": [],
   "source": [
    "#создаю сводную таблицу топ-5 жанров для Европы\n",
    "eu_top_genres = (\n",
    "    actual_data\n",
    "    .pivot_table(index='genre', values='eu_sales', aggfunc='sum')\n",
    "    .sort_values(by='eu_sales', ascending=False)\n",
    ")\n",
    "\n",
    "#создаю столбец с долей продаж\n",
    "eu_top_genres['share'] = round(eu_top_genres['eu_sales'] / eu_top_genres['eu_sales'].sum() , 2)\n",
    "\n",
    "#обрезаю по верхним пяти жанрам\n",
    "eu_top_genres = eu_top_genres[:5]\n",
    "\n",
    "#для последующего слияния создаю индексы и двухуровневые названия столбцов\n",
    "eu_top_genres = eu_top_genres.reset_index()\n",
    "eu_top_genres.columns = [['europe'] * 3, ['genre', 'sales', 'share']]"
   ]
  },
  {
   "cell_type": "code",
   "execution_count": 49,
   "metadata": {},
   "outputs": [],
   "source": [
    "#создаю аналогичные таблицы для Северной Америки и Японии, после чего объединяю все три в одну\n",
    "\n",
    "#создаю таблицу с топ-5 жанров в Северно Америке\n",
    "na_top_genres = (\n",
    "    actual_data\n",
    "    .pivot_table(index='genre', values='na_sales', aggfunc='sum')\n",
    "    .sort_values(by='na_sales', ascending=False)\n",
    ")\n",
    "na_top_genres['share'] = round(na_top_genres['na_sales'] / na_top_genres['na_sales'].sum() , 2)\n",
    "na_top_genres = na_top_genres[:5]\n",
    "na_top_genres = na_top_genres.reset_index()\n",
    "na_top_genres.columns = [['north_america'] * 3, ['genre', 'sales', 'share']]\n",
    "\n",
    "#создаю таблицу с топ-5 жанров в Японии\n",
    "jp_top_genres = (\n",
    "    actual_data\n",
    "    .pivot_table(index='genre', values='jp_sales', aggfunc='sum')\n",
    "    .sort_values(by='jp_sales', ascending=False)\n",
    ")\n",
    "jp_top_genres['share'] = round(jp_top_genres['jp_sales'] / jp_top_genres['jp_sales'].sum() , 2)\n",
    "jp_top_genres = jp_top_genres[:5]\n",
    "jp_top_genres = jp_top_genres.reset_index()\n",
    "jp_top_genres.columns = [['japan'] * 3, ['genre', 'sales', 'share']]\n",
    "\n",
    "#объединяю все три таблицы\n",
    "top_genres_by_region = (eu_top_genres\n",
    "                        .merge(na_top_genres, left_index=True, right_index=True)\n",
    "                        .merge(jp_top_genres, left_index=True, right_index=True)\n",
    "                       )\n",
    "\n",
    "#прибавляю 1 к номеру индекса, чтобы индекс соответствовал месту в рейтинге\n",
    "top_genres_by_region.index += 1"
   ]
  },
  {
   "cell_type": "code",
   "execution_count": 50,
   "metadata": {
    "scrolled": true
   },
   "outputs": [
    {
     "data": {
      "text/html": [
       "<div>\n",
       "<style scoped>\n",
       "    .dataframe tbody tr th:only-of-type {\n",
       "        vertical-align: middle;\n",
       "    }\n",
       "\n",
       "    .dataframe tbody tr th {\n",
       "        vertical-align: top;\n",
       "    }\n",
       "\n",
       "    .dataframe thead tr th {\n",
       "        text-align: left;\n",
       "    }\n",
       "</style>\n",
       "<table border=\"1\" class=\"dataframe\">\n",
       "  <thead>\n",
       "    <tr>\n",
       "      <th></th>\n",
       "      <th colspan=\"3\" halign=\"left\">europe</th>\n",
       "      <th colspan=\"3\" halign=\"left\">north_america</th>\n",
       "      <th colspan=\"3\" halign=\"left\">japan</th>\n",
       "    </tr>\n",
       "    <tr>\n",
       "      <th></th>\n",
       "      <th>genre</th>\n",
       "      <th>sales</th>\n",
       "      <th>share</th>\n",
       "      <th>genre</th>\n",
       "      <th>sales</th>\n",
       "      <th>share</th>\n",
       "      <th>genre</th>\n",
       "      <th>sales</th>\n",
       "      <th>share</th>\n",
       "    </tr>\n",
       "  </thead>\n",
       "  <tbody>\n",
       "    <tr>\n",
       "      <td>1</td>\n",
       "      <td>Action</td>\n",
       "      <td>159.34</td>\n",
       "      <td>0.31</td>\n",
       "      <td>Action</td>\n",
       "      <td>177.84</td>\n",
       "      <td>0.30</td>\n",
       "      <td>Role-Playing</td>\n",
       "      <td>65.44</td>\n",
       "      <td>0.34</td>\n",
       "    </tr>\n",
       "    <tr>\n",
       "      <td>2</td>\n",
       "      <td>Shooter</td>\n",
       "      <td>113.47</td>\n",
       "      <td>0.22</td>\n",
       "      <td>Shooter</td>\n",
       "      <td>144.77</td>\n",
       "      <td>0.24</td>\n",
       "      <td>Action</td>\n",
       "      <td>52.80</td>\n",
       "      <td>0.27</td>\n",
       "    </tr>\n",
       "    <tr>\n",
       "      <td>3</td>\n",
       "      <td>Sports</td>\n",
       "      <td>69.09</td>\n",
       "      <td>0.14</td>\n",
       "      <td>Sports</td>\n",
       "      <td>81.53</td>\n",
       "      <td>0.14</td>\n",
       "      <td>Misc</td>\n",
       "      <td>12.86</td>\n",
       "      <td>0.07</td>\n",
       "    </tr>\n",
       "    <tr>\n",
       "      <td>4</td>\n",
       "      <td>Role-Playing</td>\n",
       "      <td>48.53</td>\n",
       "      <td>0.10</td>\n",
       "      <td>Role-Playing</td>\n",
       "      <td>64.00</td>\n",
       "      <td>0.11</td>\n",
       "      <td>Simulation</td>\n",
       "      <td>10.41</td>\n",
       "      <td>0.05</td>\n",
       "    </tr>\n",
       "    <tr>\n",
       "      <td>5</td>\n",
       "      <td>Racing</td>\n",
       "      <td>27.29</td>\n",
       "      <td>0.05</td>\n",
       "      <td>Misc</td>\n",
       "      <td>38.19</td>\n",
       "      <td>0.06</td>\n",
       "      <td>Fighting</td>\n",
       "      <td>9.44</td>\n",
       "      <td>0.05</td>\n",
       "    </tr>\n",
       "  </tbody>\n",
       "</table>\n",
       "</div>"
      ],
      "text/plain": [
       "         europe               north_america                       japan  \\\n",
       "          genre   sales share         genre   sales share         genre   \n",
       "1        Action  159.34  0.31        Action  177.84  0.30  Role-Playing   \n",
       "2       Shooter  113.47  0.22       Shooter  144.77  0.24        Action   \n",
       "3        Sports   69.09  0.14        Sports   81.53  0.14          Misc   \n",
       "4  Role-Playing   48.53  0.10  Role-Playing   64.00  0.11    Simulation   \n",
       "5        Racing   27.29  0.05          Misc   38.19  0.06      Fighting   \n",
       "\n",
       "                \n",
       "   sales share  \n",
       "1  65.44  0.34  \n",
       "2  52.80  0.27  \n",
       "3  12.86  0.07  \n",
       "4  10.41  0.05  \n",
       "5   9.44  0.05  "
      ]
     },
     "execution_count": 50,
     "metadata": {},
     "output_type": "execute_result"
    }
   ],
   "source": [
    "top_genres_by_region"
   ]
  },
  {
   "cell_type": "markdown",
   "metadata": {},
   "source": [
    "Любимые жанры европейцев и американцев вновь совпадают. В топ-5 отличия только в пятой строчке: у европейцев - гонки, у американцев - аркады. В остальном предпочтения совпадают: \n",
    "1 место - экшены (30% и 31% продаж),\n",
    "2 место - шутеры (22% и 24%),\n",
    "3 место - спортивные (14%),\n",
    "4 место - RPG (10%, 11%).\n",
    "\n",
    "У японцов с большим отрывом лидируют RPG и экшены, занимая в сумме больше половины рынка. Остальные жанры представлены в топ-5 совсем скромно: 7% продаж у аркад и по 5% - у симуляторов и драк."
   ]
  },
  {
   "cell_type": "markdown",
   "metadata": {},
   "source": [
    "---"
   ]
  },
  {
   "cell_type": "markdown",
   "metadata": {},
   "source": [
    "Посмотрим на связь рейтинга ESRB с продажами по регионам."
   ]
  },
  {
   "cell_type": "markdown",
   "metadata": {},
   "source": [
    "Для анализа возможного влияния отсутствия рейтинга на продажи, заменим отсутствующие значения на 'Нет рейтинга'."
   ]
  },
  {
   "cell_type": "code",
   "execution_count": 61,
   "metadata": {
    "scrolled": false
   },
   "outputs": [],
   "source": [
    "actual_data['rating'].fillna('Нет рейтинга', inplace=True)"
   ]
  },
  {
   "cell_type": "markdown",
   "metadata": {},
   "source": [
    "Создадим сводную таблицу рейтингов к процентам продаж по регионам и посмотрим на нее на хитмэп."
   ]
  },
  {
   "cell_type": "code",
   "execution_count": 52,
   "metadata": {},
   "outputs": [],
   "source": [
    "#создаю сводную таблицу со значениями продаж по регионам\n",
    "rating_to_sales_by_region = actual_data.pivot_table(\n",
    "    index='rating', \n",
    "    values=['eu_sales', 'na_sales', 'jp_sales'], \n",
    "    aggfunc='sum'\n",
    ")"
   ]
  },
  {
   "cell_type": "code",
   "execution_count": 53,
   "metadata": {},
   "outputs": [],
   "source": [
    "#меняю значения продаж на процент продаж\n",
    "for row in rating_to_sales_by_region:\n",
    "    rating_to_sales_by_region[row] = round(rating_to_sales_by_region[row] / rating_to_sales_by_region[row].sum(), 2) * 100"
   ]
  },
  {
   "cell_type": "code",
   "execution_count": 54,
   "metadata": {},
   "outputs": [
    {
     "data": {
      "image/png": "[encoded data removed]",
      "text/plain": [
       "<Figure size 432x288 with 2 Axes>"
      ]
     },
     "metadata": {
      "needs_background": "light"
     },
     "output_type": "display_data"
    }
   ],
   "source": [
    "#строю хитмэп по данной таблице\n",
    "sns.heatmap(rating_to_sales_by_region, annot=True, cmap=\"YlGnBu\")\n",
    "plt.title('Влияние рейтинга ESRB на продажи в регионе')\n",
    "plt.show()"
   ]
  },
  {
   "cell_type": "markdown",
   "metadata": {},
   "source": [
    "В Европе и Америке больше играют во взрослые игры (М), которые занимают 38% продаж. На втором месте \"игры для всех\" (Е) - 22% и 19% соответственно. Рейтинг ESRB отсутствует у 17-18%.\n",
    "\n",
    "В Японии у большинства игр рейтинг ESRB отсутствует, игр без рейтинга - 57%. В играх с рейтингом предпочтения отдаются играм для детей (Е) и подростков (Т)  - продажи по ним составляют 15% и 14% соответственно."
   ]
  },
  {
   "cell_type": "markdown",
   "metadata": {},
   "source": [
    "---"
   ]
  },
  {
   "cell_type": "markdown",
   "metadata": {},
   "source": [
    "### Проверка гипотез"
   ]
  },
  {
   "cell_type": "markdown",
   "metadata": {},
   "source": [
    "Проверим гипотезу о том, что средние пользовательские рейтинги платформ Xbox One и PC одинаковые."
   ]
  },
  {
   "cell_type": "markdown",
   "metadata": {},
   "source": [
    "С учетом того, что мы имеем возможность обработать всю совокупность значений рейтингов игр на данных платформах, проверять гипотезу целесообразно путем нахождения среднего пользовательских рейтингов на данных платформах и их сравнения, без использования специальных статистических методов."
   ]
  },
  {
   "cell_type": "code",
   "execution_count": 55,
   "metadata": {},
   "outputs": [],
   "source": [
    "pc_user_scores = actual_data.query('platform == \"PC\"')['user_score'].dropna() #создаю список значений рейтингов PC\n",
    "xone_user_scores = actual_data.query('platform == \"XOne\"')['user_score'].dropna() #создаю список значений рейтингов Xbox One"
   ]
  },
  {
   "cell_type": "code",
   "execution_count": 56,
   "metadata": {
    "scrolled": true
   },
   "outputs": [
    {
     "name": "stdout",
     "output_type": "stream",
     "text": [
      "Средний пользовательский рейтинг игры на PC: 6.43\n",
      "Средний пользовательский рейтинг игры на Xbox One: 6.52\n"
     ]
    }
   ],
   "source": [
    "print('Средний пользовательский рейтинг игры на PC:', round(pc_user_scores.mean(), 2))\n",
    "print('Средний пользовательский рейтинг игры на Xbox One:', \n",
    "      round(xone_user_scores.mean(), 2))"
   ]
  },
  {
   "cell_type": "markdown",
   "metadata": {},
   "source": [
    "Таким образом, средние пользовательские рейтинги игр на двух рассматриваемых платформах почти одинаковые - примерно 6.5."
   ]
  },
  {
   "cell_type": "markdown",
   "metadata": {},
   "source": [
    "Если исходить из того, что нам представлена лишь выборка из данных, то необходимо применить специальный статистический метод scipy.stats. Нулевой гипотезой является, что средние пользовательские рейтинги на данных платформах одинаковые. Альтернативной - что они различаются."
   ]
  },
  {
   "cell_type": "code",
   "execution_count": 57,
   "metadata": {
    "scrolled": true
   },
   "outputs": [
    {
     "name": "stdout",
     "output_type": "stream",
     "text": [
      "Оснований для того, чтобы отвергнуть нулевую гипотезу не имеется. \n",
      "Данные выборок не свидетельствуют о том, что средние пользовательские рейтинги игр на платформах PC и Xbox One различаются.\n",
      "p-значение:  0.5535080500643661\n"
     ]
    }
   ],
   "source": [
    "alpha = 0.05 #устанавливаю пороговое уровня значимости\n",
    "\n",
    "results_user_score = st.ttest_ind(pc_user_scores, xone_user_scores)\n",
    "\n",
    "if results_user_score.pvalue > alpha:\n",
    "    print(\"\"\"Оснований для того, чтобы отвергнуть нулевую гипотезу не имеется. \n",
    "Данные выборок не свидетельствуют о том, что средние пользовательские рейтинги игр на платформах PC и Xbox One различаются.\"\"\")\n",
    "else:\n",
    "    print(\"\"\"Нулевая гипотеза опровергнута. Данные выборок свидетельствуют о том, \n",
    "что средние пользовательские рейтинги игр на платформах PC и Xbox One различаются.\"\"\")\n",
    "print('p-значение: ', results_user_score.pvalue)"
   ]
  },
  {
   "cell_type": "markdown",
   "metadata": {},
   "source": [
    "Таким образом, по результатам статистического теста на выборках из генеральных данных, гипотеза о том, что средние пользовательские рейтинги на платформах PC и Xbox One одинаковые, не была опровергнута."
   ]
  },
  {
   "cell_type": "markdown",
   "metadata": {},
   "source": [
    "---"
   ]
  },
  {
   "cell_type": "markdown",
   "metadata": {},
   "source": [
    "Проверим гипотезу о том, что средние пользовательские рейтинги жанров Action и Sports различаются."
   ]
  },
  {
   "cell_type": "markdown",
   "metadata": {},
   "source": [
    "Сначала проверим данную гипотезу на генеральной совокупности данных."
   ]
  },
  {
   "cell_type": "code",
   "execution_count": 58,
   "metadata": {},
   "outputs": [],
   "source": [
    "action_user_scores = actual_data.query('genre == \"Action\"')['user_score'].dropna()\n",
    "sports_user_scores = actual_data.query('genre == \"Sports\"')['user_score'].dropna()"
   ]
  },
  {
   "cell_type": "code",
   "execution_count": 59,
   "metadata": {},
   "outputs": [
    {
     "name": "stdout",
     "output_type": "stream",
     "text": [
      "Средний пользовательский рейтинг игры жанра \"Action\": 6.83\n",
      "Средний пользовательский рейтинг игры жанра \"Sports\": 5.46\n"
     ]
    }
   ],
   "source": [
    "print('Средний пользовательский рейтинг игры жанра \"Action\":', round(action_user_scores.mean(), 2))\n",
    "print('Средний пользовательский рейтинг игры жанра \"Sports\":', round(sports_user_scores.mean(), 2))"
   ]
  },
  {
   "cell_type": "markdown",
   "metadata": {},
   "source": [
    "Гипотеза подтвердилась. Рейтинг игр данных жанров действительно различается почти на полтора пункта."
   ]
  },
  {
   "cell_type": "markdown",
   "metadata": {},
   "source": [
    "Если исходить из того, что нам представлена лишь выборка из данных, то необходимо применить специальный статистический метод scipy.stats. Нулевой гипотезой является, что средние пользовательские рейтинги игр жанров \"Action\" и \"Sports\" одинаковые. Альтернативной - что они различаются."
   ]
  },
  {
   "cell_type": "code",
   "execution_count": 60,
   "metadata": {
    "scrolled": true
   },
   "outputs": [
    {
     "name": "stdout",
     "output_type": "stream",
     "text": [
      "Нулевая гипотеза опровергнута. Данные выборок свидетельствуют о том, \n",
      "что средние пользовательские рейтинги игр жанров \"Action\" и \"Sports\" различаются.\n",
      "p-значение:  3.7163089460934874e-26\n"
     ]
    }
   ],
   "source": [
    "#пороговое значение alpha оставим прежним\n",
    "\n",
    "results_genre_score = st.ttest_ind(action_user_scores, sports_user_scores)\n",
    "\n",
    "if results_genre_score.pvalue > alpha:\n",
    "    print(\"\"\"Оснований для того, чтобы отвергнуть нулевую гипотезу не имеется. \n",
    "Данные выборок не свидетельствуют о том, что средние пользовательские рейтинги игр жанров \"Action\" и \"Sports\" различаются.\"\"\")\n",
    "else:\n",
    "    print(\"\"\"Нулевая гипотеза опровергнута. Данные выборок свидетельствуют о том, \n",
    "что средние пользовательские рейтинги игр жанров \"Action\" и \"Sports\" различаются.\"\"\")\n",
    "print('p-значение: ', results_genre_score.pvalue)"
   ]
  },
  {
   "cell_type": "markdown",
   "metadata": {},
   "source": [
    "Таким образом, по результатам статистического теста на выборках из генеральных данных, гипотеза о том, что средние пользовательские рейтинги игр жанров \"Action\" и \"Sports\" различаются, подтвердилась."
   ]
  },
  {
   "cell_type": "markdown",
   "metadata": {},
   "source": [
    "# **Общий вывод**"
   ]
  },
  {
   "cell_type": "markdown",
   "metadata": {},
   "source": [
    "На 2016 год наиболее успешными платформами компьютерных игр являются PS4 и Xbox One. Свою популярность данные платформы сохранят еще в течение нескольких лет,  хотя показатели продаж по ним уже падают и вероятно будут падать в дальнейшем в течение еще нескольких лет. \n",
    "\n",
    "Средние значения объема продаж игр на данных платформ несколько выше у PS4. Игр с большими продажами у PS4 заметно больше, чем у Xbox One.\n",
    "\n",
    "Об успешности продаж игры есть смысл судить по оценке критиков: большие продажи можно ожидать лишь от игр, которые получили высокую оценку критиков. Для определения перспективности игры нецелесообразно опираться на рейтинг пользователей,  корреляции между объемом продаж и рейтингом пользователей практически нет.\n",
    "\n",
    "Наиболее прибыльные жанры компьютерных игр на 2016 год являются шутеры, платформеры и спорт. К жанрам с низкими продажами относятся стратегии, пазлы и приключения.\n",
    "\n",
    "Предпочтения пользователей из Северной Америки и Европы во многом совпадают. Три первых места по продажам в данных регионах занимают платформы PS4, PS3 и X360. Однако в Японии иная картина: на первом месте продажи по платформе 3DS, затем идут три разновидности PS: PS3, PS4 и PSV.\n",
    "\n",
    "Любимые жанры европейцев и американцев также совпадают – это экшены, шутеры, спортиные и RPG. В Японии же с большим отрывом лидируют RPG и экшены, занимая в сумме больше половины рынка.\n",
    "Относительно возрастного критерия игр ESRB  выявлено, что в Европе и Америке больше играют во взрослые игры (М), которые занимают 38% продаж. На втором месте \"игры для всех\" (Е) - 22% и 19% соответственно. Рейтинг ESRB отсутствует у 17-18%.\n",
    "В Японии у большинства игр рейтинг ESRB отсутствует, игр без рейтинга - 57%. В оставшейся части предпочтения отдаются играм для детей (Е) и подростков (Т)  - продажи по ним составляют 15% и 14% соответственно. Видимо отсутствие у большинства продаваемых в Японии игр рейтинга ESRB обусловлено наличием собственного рейтингового агентства (CERO).\n"
   ]
  }
 ],
 "metadata": {
  "ExecuteTimeLog": [
   {
    "duration": 978,
    "start_time": "2022-01-12T17:56:31.394Z"
   },
   {
    "duration": 52,
    "start_time": "2022-01-12T17:57:00.362Z"
   },
   {
    "duration": 5,
    "start_time": "2022-01-12T17:57:26.043Z"
   },
   {
    "duration": 418,
    "start_time": "2022-01-12T17:57:44.353Z"
   },
   {
    "duration": 10,
    "start_time": "2022-01-12T17:58:05.054Z"
   },
   {
    "duration": 6,
    "start_time": "2022-01-12T17:58:07.409Z"
   },
   {
    "duration": 10,
    "start_time": "2022-01-12T18:00:38.105Z"
   },
   {
    "duration": 8,
    "start_time": "2022-01-12T18:00:47.377Z"
   },
   {
    "duration": 560,
    "start_time": "2022-01-12T18:01:02.922Z"
   },
   {
    "duration": 10,
    "start_time": "2022-01-12T18:01:44.370Z"
   },
   {
    "duration": 9,
    "start_time": "2022-01-12T18:01:55.828Z"
   },
   {
    "duration": 4,
    "start_time": "2022-01-12T18:02:06.393Z"
   },
   {
    "duration": 5,
    "start_time": "2022-01-12T18:02:14.956Z"
   },
   {
    "duration": 30,
    "start_time": "2022-01-12T18:02:28.948Z"
   },
   {
    "duration": 711,
    "start_time": "2022-01-12T18:02:39.382Z"
   },
   {
    "duration": 647,
    "start_time": "2022-01-12T18:03:02.775Z"
   },
   {
    "duration": 33,
    "start_time": "2022-01-12T18:03:14.278Z"
   },
   {
    "duration": 537,
    "start_time": "2022-01-12T18:04:04.132Z"
   },
   {
    "duration": 1017,
    "start_time": "2022-01-12T18:04:26.864Z"
   },
   {
    "duration": 4728,
    "start_time": "2022-01-12T18:05:39.987Z"
   },
   {
    "duration": 33,
    "start_time": "2022-01-12T18:06:15.461Z"
   },
   {
    "duration": 37,
    "start_time": "2022-01-12T18:06:55.470Z"
   },
   {
    "duration": 18,
    "start_time": "2022-01-12T18:06:57.223Z"
   },
   {
    "duration": 311,
    "start_time": "2022-01-12T18:07:35.094Z"
   },
   {
    "duration": 813,
    "start_time": "2022-01-12T18:07:45.159Z"
   },
   {
    "duration": 1773,
    "start_time": "2022-01-12T18:07:52.646Z"
   },
   {
    "duration": 2117,
    "start_time": "2022-01-12T18:08:11.535Z"
   },
   {
    "duration": 2075,
    "start_time": "2022-01-12T18:08:20.057Z"
   },
   {
    "duration": 499,
    "start_time": "2022-01-12T18:08:26.221Z"
   },
   {
    "duration": 1677,
    "start_time": "2022-01-12T18:08:44.119Z"
   },
   {
    "duration": 1695,
    "start_time": "2022-01-12T18:09:05.641Z"
   },
   {
    "duration": 1644,
    "start_time": "2022-01-12T18:09:48.563Z"
   },
   {
    "duration": 1755,
    "start_time": "2022-01-12T18:10:09.721Z"
   },
   {
    "duration": 1473,
    "start_time": "2022-01-12T18:12:47.015Z"
   },
   {
    "duration": 247,
    "start_time": "2022-01-12T18:13:20.102Z"
   },
   {
    "duration": 250,
    "start_time": "2022-01-12T18:13:31.022Z"
   },
   {
    "duration": 249,
    "start_time": "2022-01-12T18:13:45.288Z"
   },
   {
    "duration": 397,
    "start_time": "2022-01-12T18:14:01.065Z"
   },
   {
    "duration": 331,
    "start_time": "2022-01-12T18:14:05.958Z"
   },
   {
    "duration": 277,
    "start_time": "2022-01-12T18:14:49.922Z"
   },
   {
    "duration": 233,
    "start_time": "2022-01-12T18:14:54.186Z"
   },
   {
    "duration": 564,
    "start_time": "2022-01-12T18:17:40.107Z"
   },
   {
    "duration": 223,
    "start_time": "2022-01-12T18:17:44.349Z"
   },
   {
    "duration": 1715,
    "start_time": "2022-01-12T18:18:31.513Z"
   },
   {
    "duration": 2368,
    "start_time": "2022-01-12T18:19:22.740Z"
   },
   {
    "duration": 2387,
    "start_time": "2022-01-12T18:19:47.083Z"
   },
   {
    "duration": 3096,
    "start_time": "2022-01-12T18:19:57.051Z"
   },
   {
    "duration": 2903,
    "start_time": "2022-01-12T18:20:05.386Z"
   },
   {
    "duration": 2588,
    "start_time": "2022-01-12T18:20:21.045Z"
   },
   {
    "duration": 2183,
    "start_time": "2022-01-12T18:20:45.355Z"
   },
   {
    "duration": 445,
    "start_time": "2022-01-12T18:20:54.044Z"
   },
   {
    "duration": 693,
    "start_time": "2022-01-12T18:21:11.962Z"
   },
   {
    "duration": 544,
    "start_time": "2022-01-12T18:21:24.242Z"
   },
   {
    "duration": 2513,
    "start_time": "2022-01-12T18:21:35.574Z"
   },
   {
    "duration": 2215,
    "start_time": "2022-01-12T18:21:42.053Z"
   },
   {
    "duration": 2478,
    "start_time": "2022-01-12T18:21:45.581Z"
   },
   {
    "duration": 2461,
    "start_time": "2022-01-12T18:23:10.336Z"
   },
   {
    "duration": 2430,
    "start_time": "2022-01-12T18:23:53.977Z"
   },
   {
    "duration": 1965,
    "start_time": "2022-01-12T18:24:05.360Z"
   },
   {
    "duration": 2371,
    "start_time": "2022-01-12T18:24:13.601Z"
   },
   {
    "duration": 2351,
    "start_time": "2022-01-12T18:24:50.052Z"
   },
   {
    "duration": 3061,
    "start_time": "2022-01-12T18:25:44.884Z"
   },
   {
    "duration": 3570,
    "start_time": "2022-01-12T18:26:45.431Z"
   },
   {
    "duration": 3145,
    "start_time": "2022-01-12T18:26:56.261Z"
   },
   {
    "duration": 2791,
    "start_time": "2022-01-12T18:27:07.878Z"
   },
   {
    "duration": 91,
    "start_time": "2022-01-12T18:29:04.985Z"
   },
   {
    "duration": 2795,
    "start_time": "2022-01-12T18:29:08.049Z"
   },
   {
    "duration": 376,
    "start_time": "2022-01-12T18:29:18.656Z"
   },
   {
    "duration": 356,
    "start_time": "2022-01-12T18:31:03.085Z"
   },
   {
    "duration": 2426,
    "start_time": "2022-01-12T18:31:22.916Z"
   },
   {
    "duration": 4740,
    "start_time": "2022-01-12T18:33:45.489Z"
   },
   {
    "duration": 2315,
    "start_time": "2022-01-12T18:33:57.664Z"
   },
   {
    "duration": 2189,
    "start_time": "2022-01-12T18:34:48.404Z"
   },
   {
    "duration": 3301,
    "start_time": "2022-01-12T18:34:54.038Z"
   },
   {
    "duration": 80,
    "start_time": "2022-01-12T18:35:03.522Z"
   },
   {
    "duration": 2355,
    "start_time": "2022-01-12T18:35:06.997Z"
   },
   {
    "duration": 1642,
    "start_time": "2022-01-12T18:38:06.383Z"
   },
   {
    "duration": 1592,
    "start_time": "2022-01-12T18:38:14.026Z"
   },
   {
    "duration": 194,
    "start_time": "2022-01-12T18:40:09.441Z"
   },
   {
    "duration": 188,
    "start_time": "2022-01-12T18:42:59.232Z"
   },
   {
    "duration": 228,
    "start_time": "2022-01-12T18:43:09.185Z"
   },
   {
    "duration": 406,
    "start_time": "2022-01-12T18:43:18.241Z"
   },
   {
    "duration": 615,
    "start_time": "2022-01-12T18:43:23.648Z"
   },
   {
    "duration": 432,
    "start_time": "2022-01-12T18:43:31.809Z"
   },
   {
    "duration": 553,
    "start_time": "2022-01-12T18:43:41.842Z"
   },
   {
    "duration": 752,
    "start_time": "2022-01-12T18:43:55.314Z"
   },
   {
    "duration": 670,
    "start_time": "2022-01-12T18:43:59.249Z"
   },
   {
    "duration": 434,
    "start_time": "2022-01-12T18:44:09.578Z"
   },
   {
    "duration": 7012,
    "start_time": "2022-01-12T18:44:50.451Z"
   },
   {
    "duration": 7532,
    "start_time": "2022-01-12T18:45:04.254Z"
   },
   {
    "duration": 406,
    "start_time": "2022-01-12T18:45:15.822Z"
   },
   {
    "duration": 374,
    "start_time": "2022-01-12T18:48:19.705Z"
   },
   {
    "duration": 327,
    "start_time": "2022-01-12T18:48:26.519Z"
   },
   {
    "duration": 1775,
    "start_time": "2022-01-12T18:48:34.077Z"
   },
   {
    "duration": 9,
    "start_time": "2022-01-12T18:52:51.625Z"
   },
   {
    "duration": 7,
    "start_time": "2022-01-12T18:53:18.553Z"
   },
   {
    "duration": 242,
    "start_time": "2022-01-12T18:54:45.775Z"
   },
   {
    "duration": 33,
    "start_time": "2022-01-12T18:54:50.178Z"
   },
   {
    "duration": 434,
    "start_time": "2022-01-12T18:55:11.581Z"
   },
   {
    "duration": 12,
    "start_time": "2022-01-12T18:58:59.387Z"
   },
   {
    "duration": 5,
    "start_time": "2022-01-12T18:59:32.570Z"
   },
   {
    "duration": 85,
    "start_time": "2022-01-12T19:00:31.749Z"
   },
   {
    "duration": 257,
    "start_time": "2022-01-12T19:00:35.397Z"
   },
   {
    "duration": 9,
    "start_time": "2022-01-12T19:00:41.725Z"
   },
   {
    "duration": 10,
    "start_time": "2022-01-12T19:01:01.254Z"
   },
   {
    "duration": 7180,
    "start_time": "2022-01-12T19:05:31.693Z"
   },
   {
    "duration": 104,
    "start_time": "2022-01-12T19:06:37.226Z"
   },
   {
    "duration": 24,
    "start_time": "2022-01-12T19:06:48.753Z"
   },
   {
    "duration": 7824,
    "start_time": "2022-01-12T19:07:09.879Z"
   },
   {
    "duration": 7306,
    "start_time": "2022-01-12T19:07:40.685Z"
   },
   {
    "duration": 7,
    "start_time": "2022-01-12T19:07:56.284Z"
   },
   {
    "duration": 5314,
    "start_time": "2022-01-12T19:08:21.987Z"
   },
   {
    "duration": 39,
    "start_time": "2022-01-12T19:12:00.458Z"
   },
   {
    "duration": 83,
    "start_time": "2022-01-12T19:18:43.618Z"
   },
   {
    "duration": 82,
    "start_time": "2022-01-12T19:19:06.642Z"
   },
   {
    "duration": 91,
    "start_time": "2022-01-12T19:19:12.996Z"
   },
   {
    "duration": 35,
    "start_time": "2022-01-12T19:19:16.533Z"
   },
   {
    "duration": 3,
    "start_time": "2022-01-12T19:20:22.406Z"
   },
   {
    "duration": 283,
    "start_time": "2022-01-12T19:20:24.175Z"
   },
   {
    "duration": 35,
    "start_time": "2022-01-12T19:20:28.621Z"
   },
   {
    "duration": 36,
    "start_time": "2022-01-12T19:22:57.211Z"
   },
   {
    "duration": 33,
    "start_time": "2022-01-12T19:23:08.837Z"
   },
   {
    "duration": 9,
    "start_time": "2022-01-12T19:23:48.742Z"
   },
   {
    "duration": 255,
    "start_time": "2022-01-12T19:24:51.349Z"
   },
   {
    "duration": 11,
    "start_time": "2022-01-12T19:25:08.586Z"
   },
   {
    "duration": 9,
    "start_time": "2022-01-12T19:25:18.560Z"
   },
   {
    "duration": 14,
    "start_time": "2022-01-12T19:25:28.478Z"
   },
   {
    "duration": 49,
    "start_time": "2022-01-12T19:25:33.671Z"
   },
   {
    "duration": 11,
    "start_time": "2022-01-12T19:25:39.626Z"
   },
   {
    "duration": 241,
    "start_time": "2022-01-12T19:25:47.807Z"
   },
   {
    "duration": 378,
    "start_time": "2022-01-12T19:26:01.391Z"
   },
   {
    "duration": 287,
    "start_time": "2022-01-12T19:26:23.609Z"
   },
   {
    "duration": 231,
    "start_time": "2022-01-12T19:27:10.991Z"
   },
   {
    "duration": 238,
    "start_time": "2022-01-12T19:27:19.025Z"
   },
   {
    "duration": 232,
    "start_time": "2022-01-12T19:27:32.434Z"
   },
   {
    "duration": 246,
    "start_time": "2022-01-12T19:28:45.042Z"
   },
   {
    "duration": 244,
    "start_time": "2022-01-12T19:28:51.668Z"
   },
   {
    "duration": 261,
    "start_time": "2022-01-12T19:29:32.804Z"
   },
   {
    "duration": 509,
    "start_time": "2022-01-12T19:30:29.230Z"
   },
   {
    "duration": 239,
    "start_time": "2022-01-12T19:30:45.505Z"
   },
   {
    "duration": 238,
    "start_time": "2022-01-12T19:30:57.554Z"
   },
   {
    "duration": 6,
    "start_time": "2022-01-12T19:33:23.025Z"
   },
   {
    "duration": 9,
    "start_time": "2022-01-12T19:33:30.939Z"
   },
   {
    "duration": 25,
    "start_time": "2022-01-12T19:34:09.629Z"
   },
   {
    "duration": 622,
    "start_time": "2022-01-12T19:37:15.914Z"
   },
   {
    "duration": 664,
    "start_time": "2022-01-12T19:37:53.253Z"
   },
   {
    "duration": 626,
    "start_time": "2022-01-12T19:38:06.915Z"
   },
   {
    "duration": 399,
    "start_time": "2022-01-12T19:38:23.335Z"
   },
   {
    "duration": 524,
    "start_time": "2022-01-12T19:38:44.316Z"
   },
   {
    "duration": 436,
    "start_time": "2022-01-12T19:39:33.629Z"
   },
   {
    "duration": 425,
    "start_time": "2022-01-12T19:39:42.261Z"
   },
   {
    "duration": 388,
    "start_time": "2022-01-12T19:39:46.309Z"
   },
   {
    "duration": 376,
    "start_time": "2022-01-12T19:40:46.063Z"
   },
   {
    "duration": 395,
    "start_time": "2022-01-12T19:40:58.607Z"
   },
   {
    "duration": 385,
    "start_time": "2022-01-12T19:41:04.937Z"
   },
   {
    "duration": 381,
    "start_time": "2022-01-12T19:41:26.457Z"
   },
   {
    "duration": 491,
    "start_time": "2022-01-12T19:41:39.273Z"
   },
   {
    "duration": 346,
    "start_time": "2022-01-12T19:45:04.935Z"
   },
   {
    "duration": 696,
    "start_time": "2022-01-12T19:45:47.579Z"
   },
   {
    "duration": 600,
    "start_time": "2022-01-12T19:45:57.495Z"
   },
   {
    "duration": 528,
    "start_time": "2022-01-12T19:46:20.065Z"
   },
   {
    "duration": 499,
    "start_time": "2022-01-12T19:48:23.261Z"
   },
   {
    "duration": 559,
    "start_time": "2022-01-12T19:48:32.802Z"
   },
   {
    "duration": 486,
    "start_time": "2022-01-12T19:48:40.797Z"
   },
   {
    "duration": 476,
    "start_time": "2022-01-12T19:49:23.415Z"
   },
   {
    "duration": 490,
    "start_time": "2022-01-12T19:49:36.470Z"
   },
   {
    "duration": 516,
    "start_time": "2022-01-12T19:50:56.007Z"
   },
   {
    "duration": 500,
    "start_time": "2022-01-12T19:51:13.833Z"
   },
   {
    "duration": 498,
    "start_time": "2022-01-12T19:55:16.649Z"
   },
   {
    "duration": 625,
    "start_time": "2022-01-12T19:55:26.815Z"
   },
   {
    "duration": 47,
    "start_time": "2022-01-12T19:58:10.718Z"
   },
   {
    "duration": 321,
    "start_time": "2022-01-12T19:59:31.763Z"
   },
   {
    "duration": 22,
    "start_time": "2022-01-12T19:59:40.685Z"
   },
   {
    "duration": 14,
    "start_time": "2022-01-12T19:59:43.902Z"
   },
   {
    "duration": 11,
    "start_time": "2022-01-12T20:00:07.737Z"
   },
   {
    "duration": 315,
    "start_time": "2022-01-12T20:00:17.438Z"
   },
   {
    "duration": 10,
    "start_time": "2022-01-12T20:00:29.987Z"
   },
   {
    "duration": 22,
    "start_time": "2022-01-12T20:01:00.570Z"
   },
   {
    "duration": 566,
    "start_time": "2022-01-12T20:01:56.324Z"
   },
   {
    "duration": 519,
    "start_time": "2022-01-12T20:02:12.540Z"
   },
   {
    "duration": 311,
    "start_time": "2022-01-13T18:25:39.305Z"
   },
   {
    "duration": 695,
    "start_time": "2022-01-13T18:25:49.753Z"
   },
   {
    "duration": 40,
    "start_time": "2022-01-13T18:25:50.450Z"
   },
   {
    "duration": 3,
    "start_time": "2022-01-13T18:25:50.492Z"
   },
   {
    "duration": 20,
    "start_time": "2022-01-13T18:25:50.497Z"
   },
   {
    "duration": 17,
    "start_time": "2022-01-13T18:25:50.519Z"
   },
   {
    "duration": 18,
    "start_time": "2022-01-13T18:25:50.537Z"
   },
   {
    "duration": 326,
    "start_time": "2022-01-13T18:25:50.557Z"
   },
   {
    "duration": 6,
    "start_time": "2022-01-13T18:25:50.886Z"
   },
   {
    "duration": 19,
    "start_time": "2022-01-13T18:25:50.894Z"
   },
   {
    "duration": 25,
    "start_time": "2022-01-13T18:25:50.914Z"
   },
   {
    "duration": 21,
    "start_time": "2022-01-13T18:25:50.941Z"
   },
   {
    "duration": 36,
    "start_time": "2022-01-13T18:25:50.964Z"
   },
   {
    "duration": 6,
    "start_time": "2022-01-13T18:25:51.001Z"
   },
   {
    "duration": 1077,
    "start_time": "2022-01-13T18:25:51.008Z"
   },
   {
    "duration": 7,
    "start_time": "2022-01-13T18:25:52.086Z"
   },
   {
    "duration": 50,
    "start_time": "2022-01-13T18:25:52.094Z"
   },
   {
    "duration": 97,
    "start_time": "2022-01-13T18:25:52.145Z"
   },
   {
    "duration": 6693,
    "start_time": "2022-01-13T18:25:45.551Z"
   },
   {
    "duration": 6684,
    "start_time": "2022-01-13T18:25:45.561Z"
   },
   {
    "duration": 3,
    "start_time": "2022-01-13T18:26:01.135Z"
   },
   {
    "duration": 8,
    "start_time": "2022-01-13T18:26:02.875Z"
   },
   {
    "duration": 334,
    "start_time": "2022-01-13T18:26:03.787Z"
   },
   {
    "duration": 303,
    "start_time": "2022-01-13T18:26:10.963Z"
   },
   {
    "duration": 267,
    "start_time": "2022-01-13T18:26:16.140Z"
   },
   {
    "duration": 377,
    "start_time": "2022-01-13T18:26:20.861Z"
   },
   {
    "duration": 439,
    "start_time": "2022-01-13T18:26:26.044Z"
   },
   {
    "duration": 380,
    "start_time": "2022-01-13T18:26:29.283Z"
   },
   {
    "duration": 461,
    "start_time": "2022-01-13T18:26:58.062Z"
   },
   {
    "duration": 5,
    "start_time": "2022-01-13T18:28:31.609Z"
   },
   {
    "duration": 6,
    "start_time": "2022-01-13T18:28:35.001Z"
   },
   {
    "duration": 25,
    "start_time": "2022-01-13T18:28:42.448Z"
   },
   {
    "duration": 396,
    "start_time": "2022-01-13T18:31:15.718Z"
   },
   {
    "duration": 15,
    "start_time": "2022-01-13T18:32:44.848Z"
   },
   {
    "duration": 17,
    "start_time": "2022-01-13T18:33:15.179Z"
   },
   {
    "duration": 546,
    "start_time": "2022-01-13T18:35:00.378Z"
   },
   {
    "duration": 472,
    "start_time": "2022-01-13T18:35:39.425Z"
   },
   {
    "duration": 507,
    "start_time": "2022-01-13T18:35:48.927Z"
   },
   {
    "duration": 524,
    "start_time": "2022-01-13T18:36:02.773Z"
   },
   {
    "duration": 664,
    "start_time": "2022-01-13T18:36:11.676Z"
   },
   {
    "duration": 627,
    "start_time": "2022-01-13T18:36:18.035Z"
   },
   {
    "duration": 538,
    "start_time": "2022-01-13T18:36:37.858Z"
   },
   {
    "duration": 489,
    "start_time": "2022-01-13T18:36:52.611Z"
   },
   {
    "duration": 561,
    "start_time": "2022-01-13T18:37:04.949Z"
   },
   {
    "duration": 563,
    "start_time": "2022-01-13T18:37:08.947Z"
   },
   {
    "duration": 535,
    "start_time": "2022-01-13T18:37:14.268Z"
   },
   {
    "duration": 542,
    "start_time": "2022-01-13T18:37:20.205Z"
   },
   {
    "duration": 330,
    "start_time": "2022-01-13T18:37:30.985Z"
   },
   {
    "duration": 815,
    "start_time": "2022-01-13T18:37:56.374Z"
   },
   {
    "duration": 508,
    "start_time": "2022-01-13T18:38:09.089Z"
   },
   {
    "duration": 89,
    "start_time": "2022-01-13T18:38:14.776Z"
   },
   {
    "duration": 321,
    "start_time": "2022-01-13T18:38:23.729Z"
   },
   {
    "duration": 358,
    "start_time": "2022-01-13T18:38:29.254Z"
   },
   {
    "duration": 314,
    "start_time": "2022-01-13T18:38:43.466Z"
   },
   {
    "duration": 676,
    "start_time": "2022-01-13T18:39:59.101Z"
   },
   {
    "duration": 802,
    "start_time": "2022-01-13T18:40:44.480Z"
   },
   {
    "duration": 661,
    "start_time": "2022-01-13T18:40:56.517Z"
   },
   {
    "duration": 538,
    "start_time": "2022-01-13T18:41:17.270Z"
   },
   {
    "duration": 339,
    "start_time": "2022-01-13T19:05:00.628Z"
   },
   {
    "duration": 561,
    "start_time": "2022-01-13T19:05:19.920Z"
   },
   {
    "duration": 495,
    "start_time": "2022-01-13T19:05:59.878Z"
   },
   {
    "duration": 546,
    "start_time": "2022-01-13T19:06:17.902Z"
   },
   {
    "duration": 847,
    "start_time": "2022-01-13T19:06:48.024Z"
   },
   {
    "duration": 430,
    "start_time": "2022-01-13T19:07:33.354Z"
   },
   {
    "duration": 599,
    "start_time": "2022-01-13T19:08:05.868Z"
   },
   {
    "duration": 680,
    "start_time": "2022-01-13T19:08:22.017Z"
   },
   {
    "duration": 724,
    "start_time": "2022-01-13T19:11:01.700Z"
   },
   {
    "duration": 731,
    "start_time": "2022-01-13T19:11:23.939Z"
   },
   {
    "duration": 1073,
    "start_time": "2022-01-13T19:11:36.376Z"
   },
   {
    "duration": 972,
    "start_time": "2022-01-13T19:11:48.951Z"
   },
   {
    "duration": 720,
    "start_time": "2022-01-13T19:12:23.330Z"
   },
   {
    "duration": 746,
    "start_time": "2022-01-13T19:12:34.200Z"
   },
   {
    "duration": 516,
    "start_time": "2022-01-13T19:12:45.506Z"
   },
   {
    "duration": 534,
    "start_time": "2022-01-13T19:12:50.026Z"
   },
   {
    "duration": 297,
    "start_time": "2022-01-13T19:13:15.209Z"
   },
   {
    "duration": 441,
    "start_time": "2022-01-13T19:13:26.140Z"
   },
   {
    "duration": 297,
    "start_time": "2022-01-13T19:13:33.817Z"
   },
   {
    "duration": 336,
    "start_time": "2022-01-13T19:13:39.369Z"
   },
   {
    "duration": 324,
    "start_time": "2022-01-13T19:13:52.386Z"
   },
   {
    "duration": 316,
    "start_time": "2022-01-13T19:13:58.290Z"
   },
   {
    "duration": 362,
    "start_time": "2022-01-13T19:14:11.594Z"
   },
   {
    "duration": 7609,
    "start_time": "2022-01-13T19:15:20.524Z"
   },
   {
    "duration": 321,
    "start_time": "2022-01-13T19:15:38.072Z"
   },
   {
    "duration": 10,
    "start_time": "2022-01-13T19:16:01.389Z"
   },
   {
    "duration": 11,
    "start_time": "2022-01-13T19:18:56.324Z"
   },
   {
    "duration": 598,
    "start_time": "2022-01-13T19:19:41.046Z"
   },
   {
    "duration": 84,
    "start_time": "2022-01-13T19:20:48.813Z"
   },
   {
    "duration": 537,
    "start_time": "2022-01-13T19:20:52.244Z"
   },
   {
    "duration": 499,
    "start_time": "2022-01-13T19:20:58.316Z"
   },
   {
    "duration": 422,
    "start_time": "2022-01-13T19:21:18.600Z"
   },
   {
    "duration": 656,
    "start_time": "2022-01-13T19:21:35.031Z"
   },
   {
    "duration": 619,
    "start_time": "2022-01-13T19:22:00.175Z"
   },
   {
    "duration": 348,
    "start_time": "2022-01-13T19:22:14.826Z"
   },
   {
    "duration": 287,
    "start_time": "2022-01-13T19:22:19.000Z"
   },
   {
    "duration": 321,
    "start_time": "2022-01-13T19:22:46.306Z"
   },
   {
    "duration": 337,
    "start_time": "2022-01-13T19:22:56.623Z"
   },
   {
    "duration": 343,
    "start_time": "2022-01-13T19:23:00.832Z"
   },
   {
    "duration": 297,
    "start_time": "2022-01-13T19:23:19.506Z"
   },
   {
    "duration": 298,
    "start_time": "2022-01-13T19:23:50.090Z"
   },
   {
    "duration": 315,
    "start_time": "2022-01-13T19:24:07.469Z"
   },
   {
    "duration": 367,
    "start_time": "2022-01-13T19:24:28.470Z"
   },
   {
    "duration": 786,
    "start_time": "2022-01-13T19:25:13.060Z"
   },
   {
    "duration": 777,
    "start_time": "2022-01-13T19:25:33.508Z"
   },
   {
    "duration": 878,
    "start_time": "2022-01-13T19:25:51.485Z"
   },
   {
    "duration": 6471,
    "start_time": "2022-01-13T19:26:45.558Z"
   },
   {
    "duration": 6406,
    "start_time": "2022-01-13T19:26:56.862Z"
   },
   {
    "duration": 8,
    "start_time": "2022-01-13T19:27:14.715Z"
   },
   {
    "duration": 5,
    "start_time": "2022-01-13T19:27:46.361Z"
   },
   {
    "duration": 8,
    "start_time": "2022-01-13T19:27:58.824Z"
   },
   {
    "duration": 37,
    "start_time": "2022-01-13T19:29:47.548Z"
   },
   {
    "duration": 30,
    "start_time": "2022-01-13T19:31:21.765Z"
   },
   {
    "duration": 275,
    "start_time": "2022-01-13T19:31:49.793Z"
   },
   {
    "duration": 310,
    "start_time": "2022-01-13T19:32:05.602Z"
   },
   {
    "duration": 294,
    "start_time": "2022-01-13T19:32:19.887Z"
   },
   {
    "duration": 29,
    "start_time": "2022-01-13T19:32:24.144Z"
   },
   {
    "duration": 291,
    "start_time": "2022-01-13T19:33:37.625Z"
   },
   {
    "duration": 30,
    "start_time": "2022-01-13T19:33:42.579Z"
   },
   {
    "duration": 3,
    "start_time": "2022-01-13T19:33:45.201Z"
   },
   {
    "duration": 9,
    "start_time": "2022-01-13T19:33:51.365Z"
   },
   {
    "duration": 278,
    "start_time": "2022-01-13T19:34:29.971Z"
   },
   {
    "duration": 25,
    "start_time": "2022-01-13T19:35:21.198Z"
   },
   {
    "duration": 5,
    "start_time": "2022-01-13T19:35:34.831Z"
   },
   {
    "duration": 10,
    "start_time": "2022-01-13T19:35:40.102Z"
   },
   {
    "duration": 14,
    "start_time": "2022-01-13T19:35:50.390Z"
   },
   {
    "duration": 96,
    "start_time": "2022-01-13T19:42:49.539Z"
   },
   {
    "duration": 33,
    "start_time": "2022-01-13T19:42:53.809Z"
   },
   {
    "duration": 29,
    "start_time": "2022-01-13T19:43:02.017Z"
   },
   {
    "duration": 18,
    "start_time": "2022-01-13T19:45:13.452Z"
   },
   {
    "duration": 248,
    "start_time": "2022-01-13T19:45:23.440Z"
   },
   {
    "duration": 290,
    "start_time": "2022-01-13T19:45:50.112Z"
   },
   {
    "duration": 282,
    "start_time": "2022-01-13T19:46:07.558Z"
   },
   {
    "duration": 14,
    "start_time": "2022-01-13T19:46:17.028Z"
   },
   {
    "duration": 17,
    "start_time": "2022-01-13T19:46:28.672Z"
   },
   {
    "duration": 15,
    "start_time": "2022-01-13T19:46:41.409Z"
   },
   {
    "duration": 17,
    "start_time": "2022-01-13T19:47:10.068Z"
   },
   {
    "duration": 11,
    "start_time": "2022-01-13T19:48:10.885Z"
   },
   {
    "duration": 6,
    "start_time": "2022-01-13T19:48:19.267Z"
   },
   {
    "duration": 14,
    "start_time": "2022-01-13T19:49:03.650Z"
   },
   {
    "duration": 259,
    "start_time": "2022-01-13T19:49:32.180Z"
   },
   {
    "duration": 18,
    "start_time": "2022-01-13T19:49:43.358Z"
   },
   {
    "duration": 14,
    "start_time": "2022-01-13T19:50:22.408Z"
   },
   {
    "duration": 17,
    "start_time": "2022-01-13T19:52:25.488Z"
   },
   {
    "duration": 16,
    "start_time": "2022-01-13T19:52:39.268Z"
   },
   {
    "duration": 16,
    "start_time": "2022-01-13T19:52:53.453Z"
   },
   {
    "duration": 6,
    "start_time": "2022-01-13T19:57:08.826Z"
   },
   {
    "duration": 22,
    "start_time": "2022-01-13T19:57:22.759Z"
   },
   {
    "duration": 7,
    "start_time": "2022-01-13T19:57:37.979Z"
   },
   {
    "duration": 354,
    "start_time": "2022-01-13T19:58:45.004Z"
   },
   {
    "duration": 257,
    "start_time": "2022-01-13T19:58:50.580Z"
   },
   {
    "duration": 51,
    "start_time": "2022-01-13T19:59:13.530Z"
   },
   {
    "duration": 5,
    "start_time": "2022-01-13T20:00:01.840Z"
   },
   {
    "duration": 7,
    "start_time": "2022-01-13T20:00:14.492Z"
   },
   {
    "duration": 49,
    "start_time": "2022-01-13T20:00:19.325Z"
   },
   {
    "duration": 936,
    "start_time": "2022-01-13T20:02:43.337Z"
   },
   {
    "duration": 233,
    "start_time": "2022-01-13T20:02:57.280Z"
   },
   {
    "duration": 7503,
    "start_time": "2022-01-13T20:03:32.101Z"
   },
   {
    "duration": 42,
    "start_time": "2022-01-13T20:03:57.216Z"
   },
   {
    "duration": 32,
    "start_time": "2022-01-13T20:04:13.136Z"
   },
   {
    "duration": 6726,
    "start_time": "2022-01-13T20:05:08.457Z"
   },
   {
    "duration": 13,
    "start_time": "2022-01-13T20:05:48.594Z"
   },
   {
    "duration": 5055,
    "start_time": "2022-01-13T20:05:55.389Z"
   },
   {
    "duration": 33,
    "start_time": "2022-01-13T20:06:12.233Z"
   },
   {
    "duration": 15,
    "start_time": "2022-01-13T20:06:36.898Z"
   },
   {
    "duration": 20,
    "start_time": "2022-01-13T20:06:55.107Z"
   },
   {
    "duration": 27,
    "start_time": "2022-01-13T20:07:28.767Z"
   },
   {
    "duration": 14,
    "start_time": "2022-01-13T20:08:07.306Z"
   },
   {
    "duration": 15,
    "start_time": "2022-01-13T20:08:51.585Z"
   },
   {
    "duration": 270,
    "start_time": "2022-01-13T20:09:32.150Z"
   },
   {
    "duration": 455,
    "start_time": "2022-01-13T20:09:41.438Z"
   },
   {
    "duration": 2315,
    "start_time": "2022-01-13T20:09:57.574Z"
   },
   {
    "duration": 6,
    "start_time": "2022-01-13T20:10:33.371Z"
   },
   {
    "duration": 382,
    "start_time": "2022-01-13T20:10:39.200Z"
   },
   {
    "duration": 395,
    "start_time": "2022-01-13T20:10:44.648Z"
   },
   {
    "duration": 5,
    "start_time": "2022-01-13T20:10:59.928Z"
   },
   {
    "duration": 22,
    "start_time": "2022-01-13T20:11:01.788Z"
   },
   {
    "duration": 289,
    "start_time": "2022-01-13T20:11:08.511Z"
   },
   {
    "duration": 297,
    "start_time": "2022-01-13T20:11:11.520Z"
   },
   {
    "duration": 10,
    "start_time": "2022-01-13T20:11:13.834Z"
   },
   {
    "duration": 805,
    "start_time": "2022-01-13T20:11:16.424Z"
   },
   {
    "duration": 13,
    "start_time": "2022-01-13T20:11:19.738Z"
   },
   {
    "duration": 8,
    "start_time": "2022-01-13T20:11:22.889Z"
   },
   {
    "duration": 22,
    "start_time": "2022-01-13T20:11:28.657Z"
   },
   {
    "duration": 3,
    "start_time": "2022-01-13T20:11:29.776Z"
   },
   {
    "duration": 10,
    "start_time": "2022-01-13T20:11:30.680Z"
   },
   {
    "duration": 18,
    "start_time": "2022-01-13T20:11:31.898Z"
   },
   {
    "duration": 154,
    "start_time": "2022-01-13T20:11:34.479Z"
   },
   {
    "duration": 6,
    "start_time": "2022-01-13T20:12:42.700Z"
   },
   {
    "duration": 372,
    "start_time": "2022-01-13T20:12:47.036Z"
   },
   {
    "duration": 395,
    "start_time": "2022-01-13T20:12:49.986Z"
   },
   {
    "duration": 5,
    "start_time": "2022-01-13T20:12:55.698Z"
   },
   {
    "duration": 356,
    "start_time": "2022-01-13T20:12:57.227Z"
   },
   {
    "duration": 361,
    "start_time": "2022-01-13T20:13:01.054Z"
   },
   {
    "duration": 10,
    "start_time": "2022-01-13T20:13:06.514Z"
   },
   {
    "duration": 736,
    "start_time": "2022-01-13T20:13:08.306Z"
   },
   {
    "duration": 658,
    "start_time": "2022-01-13T20:13:25.957Z"
   },
   {
    "duration": 9,
    "start_time": "2022-01-13T20:13:41.167Z"
   },
   {
    "duration": 7,
    "start_time": "2022-01-13T20:13:45.676Z"
   },
   {
    "duration": 21,
    "start_time": "2022-01-13T20:13:53.308Z"
   },
   {
    "duration": 4,
    "start_time": "2022-01-13T20:13:58.388Z"
   },
   {
    "duration": 10,
    "start_time": "2022-01-13T20:14:01.263Z"
   },
   {
    "duration": 17,
    "start_time": "2022-01-13T20:14:33.481Z"
   },
   {
    "duration": 21,
    "start_time": "2022-01-13T20:14:37.294Z"
   },
   {
    "duration": 16,
    "start_time": "2022-01-13T20:14:46.488Z"
   },
   {
    "duration": 15,
    "start_time": "2022-01-13T20:15:02.896Z"
   },
   {
    "duration": 14,
    "start_time": "2022-01-13T20:15:05.278Z"
   },
   {
    "duration": 288,
    "start_time": "2022-01-14T17:24:03.644Z"
   },
   {
    "duration": 643,
    "start_time": "2022-01-14T17:24:13.110Z"
   },
   {
    "duration": 36,
    "start_time": "2022-01-14T17:24:13.754Z"
   },
   {
    "duration": 3,
    "start_time": "2022-01-14T17:24:13.792Z"
   },
   {
    "duration": 10,
    "start_time": "2022-01-14T17:24:13.797Z"
   },
   {
    "duration": 6,
    "start_time": "2022-01-14T17:24:13.809Z"
   },
   {
    "duration": 8,
    "start_time": "2022-01-14T17:24:13.817Z"
   },
   {
    "duration": 335,
    "start_time": "2022-01-14T17:24:13.827Z"
   },
   {
    "duration": 7,
    "start_time": "2022-01-14T17:24:14.165Z"
   },
   {
    "duration": 4,
    "start_time": "2022-01-14T17:24:14.174Z"
   },
   {
    "duration": 4,
    "start_time": "2022-01-14T17:24:14.180Z"
   },
   {
    "duration": 7,
    "start_time": "2022-01-14T17:24:14.186Z"
   },
   {
    "duration": 32,
    "start_time": "2022-01-14T17:24:14.194Z"
   },
   {
    "duration": 5,
    "start_time": "2022-01-14T17:24:14.227Z"
   },
   {
    "duration": 1071,
    "start_time": "2022-01-14T17:24:14.234Z"
   },
   {
    "duration": 7,
    "start_time": "2022-01-14T17:24:15.307Z"
   },
   {
    "duration": 33,
    "start_time": "2022-01-14T17:24:15.316Z"
   },
   {
    "duration": 5,
    "start_time": "2022-01-14T17:24:15.361Z"
   },
   {
    "duration": 23,
    "start_time": "2022-01-14T17:24:15.368Z"
   },
   {
    "duration": 14,
    "start_time": "2022-01-14T17:24:15.393Z"
   },
   {
    "duration": 2044,
    "start_time": "2022-01-14T17:24:15.409Z"
   },
   {
    "duration": 5,
    "start_time": "2022-01-14T17:24:17.455Z"
   },
   {
    "duration": 14,
    "start_time": "2022-01-14T17:24:17.462Z"
   },
   {
    "duration": 394,
    "start_time": "2022-01-14T17:24:17.479Z"
   },
   {
    "duration": 405,
    "start_time": "2022-01-14T17:24:17.875Z"
   },
   {
    "duration": 4,
    "start_time": "2022-01-14T17:24:18.283Z"
   },
   {
    "duration": 302,
    "start_time": "2022-01-14T17:24:18.289Z"
   },
   {
    "duration": 300,
    "start_time": "2022-01-14T17:24:18.592Z"
   },
   {
    "duration": 9,
    "start_time": "2022-01-14T17:24:18.894Z"
   },
   {
    "duration": 621,
    "start_time": "2022-01-14T17:24:18.905Z"
   },
   {
    "duration": 8,
    "start_time": "2022-01-14T17:24:19.528Z"
   },
   {
    "duration": 30,
    "start_time": "2022-01-14T17:24:19.538Z"
   },
   {
    "duration": 33,
    "start_time": "2022-01-14T17:24:19.570Z"
   },
   {
    "duration": 11,
    "start_time": "2022-01-14T17:24:19.605Z"
   },
   {
    "duration": 36,
    "start_time": "2022-01-14T17:24:19.618Z"
   },
   {
    "duration": 28,
    "start_time": "2022-01-14T17:24:19.656Z"
   },
   {
    "duration": 13,
    "start_time": "2022-01-14T17:24:19.686Z"
   },
   {
    "duration": 12,
    "start_time": "2022-01-14T17:24:19.701Z"
   },
   {
    "duration": 10,
    "start_time": "2022-01-14T17:24:28.800Z"
   },
   {
    "duration": 9,
    "start_time": "2022-01-14T17:24:40.865Z"
   },
   {
    "duration": 7,
    "start_time": "2022-01-14T17:24:56.348Z"
   },
   {
    "duration": 7,
    "start_time": "2022-01-14T17:25:34.046Z"
   },
   {
    "duration": 7,
    "start_time": "2022-01-14T17:26:07.000Z"
   },
   {
    "duration": 14,
    "start_time": "2022-01-14T17:26:37.592Z"
   },
   {
    "duration": 303,
    "start_time": "2022-01-14T17:29:20.037Z"
   },
   {
    "duration": 290,
    "start_time": "2022-01-14T17:31:02.272Z"
   },
   {
    "duration": 344,
    "start_time": "2022-01-14T17:31:13.220Z"
   },
   {
    "duration": 332,
    "start_time": "2022-01-14T17:31:37.261Z"
   },
   {
    "duration": 266,
    "start_time": "2022-01-14T17:31:41.363Z"
   },
   {
    "duration": 8,
    "start_time": "2022-01-14T17:37:44.587Z"
   },
   {
    "duration": 7,
    "start_time": "2022-01-14T17:41:18.833Z"
   },
   {
    "duration": 4,
    "start_time": "2022-01-14T17:42:36.444Z"
   },
   {
    "duration": 241,
    "start_time": "2022-01-14T17:42:50.171Z"
   },
   {
    "duration": 4,
    "start_time": "2022-01-14T17:42:55.757Z"
   },
   {
    "duration": 6,
    "start_time": "2022-01-14T17:42:57.731Z"
   },
   {
    "duration": 6461,
    "start_time": "2022-01-14T17:46:57.984Z"
   },
   {
    "duration": 89,
    "start_time": "2022-01-14T17:50:50.278Z"
   },
   {
    "duration": 5,
    "start_time": "2022-01-14T17:50:59.366Z"
   },
   {
    "duration": 8,
    "start_time": "2022-01-14T17:51:03.956Z"
   },
   {
    "duration": 996,
    "start_time": "2022-01-14T17:51:15.735Z"
   },
   {
    "duration": 5,
    "start_time": "2022-01-14T17:51:28.333Z"
   },
   {
    "duration": 5,
    "start_time": "2022-01-14T17:51:57.044Z"
   },
   {
    "duration": 8,
    "start_time": "2022-01-14T17:51:58.979Z"
   },
   {
    "duration": 4,
    "start_time": "2022-01-14T17:52:11.352Z"
   },
   {
    "duration": 9,
    "start_time": "2022-01-14T17:52:13.131Z"
   },
   {
    "duration": 5,
    "start_time": "2022-01-14T17:52:36.203Z"
   },
   {
    "duration": 7,
    "start_time": "2022-01-14T17:52:37.684Z"
   },
   {
    "duration": 84,
    "start_time": "2022-01-14T17:52:51.664Z"
   },
   {
    "duration": 7,
    "start_time": "2022-01-14T17:52:54.260Z"
   },
   {
    "duration": 5,
    "start_time": "2022-01-14T17:54:42.444Z"
   },
   {
    "duration": 7,
    "start_time": "2022-01-14T17:54:44.479Z"
   },
   {
    "duration": 4,
    "start_time": "2022-01-14T17:59:17.351Z"
   },
   {
    "duration": 5,
    "start_time": "2022-01-14T17:59:17.359Z"
   },
   {
    "duration": 1040,
    "start_time": "2022-01-14T17:59:17.365Z"
   },
   {
    "duration": 690,
    "start_time": "2022-01-14T17:59:40.234Z"
   },
   {
    "duration": 38,
    "start_time": "2022-01-14T17:59:40.926Z"
   },
   {
    "duration": 3,
    "start_time": "2022-01-14T17:59:40.966Z"
   },
   {
    "duration": 8,
    "start_time": "2022-01-14T17:59:40.971Z"
   },
   {
    "duration": 5,
    "start_time": "2022-01-14T17:59:40.981Z"
   },
   {
    "duration": 9,
    "start_time": "2022-01-14T17:59:40.987Z"
   },
   {
    "duration": 364,
    "start_time": "2022-01-14T17:59:40.998Z"
   },
   {
    "duration": 8,
    "start_time": "2022-01-14T17:59:41.365Z"
   },
   {
    "duration": 19,
    "start_time": "2022-01-14T17:59:41.375Z"
   },
   {
    "duration": 4,
    "start_time": "2022-01-14T17:59:41.396Z"
   },
   {
    "duration": 16,
    "start_time": "2022-01-14T17:59:41.402Z"
   },
   {
    "duration": 43,
    "start_time": "2022-01-14T17:59:41.420Z"
   },
   {
    "duration": 7,
    "start_time": "2022-01-14T17:59:41.464Z"
   },
   {
    "duration": 1089,
    "start_time": "2022-01-14T17:59:41.473Z"
   },
   {
    "duration": 6,
    "start_time": "2022-01-14T17:59:42.564Z"
   },
   {
    "duration": 47,
    "start_time": "2022-01-14T17:59:42.571Z"
   },
   {
    "duration": 5,
    "start_time": "2022-01-14T17:59:42.620Z"
   },
   {
    "duration": 24,
    "start_time": "2022-01-14T17:59:42.626Z"
   },
   {
    "duration": 21,
    "start_time": "2022-01-14T17:59:42.652Z"
   },
   {
    "duration": 1950,
    "start_time": "2022-01-14T17:59:42.675Z"
   },
   {
    "duration": 2,
    "start_time": "2022-01-14T17:59:44.627Z"
   },
   {
    "duration": 11,
    "start_time": "2022-01-14T17:59:44.631Z"
   },
   {
    "duration": 376,
    "start_time": "2022-01-14T17:59:44.645Z"
   },
   {
    "duration": 394,
    "start_time": "2022-01-14T17:59:45.023Z"
   },
   {
    "duration": 4,
    "start_time": "2022-01-14T17:59:45.419Z"
   },
   {
    "duration": 376,
    "start_time": "2022-01-14T17:59:45.425Z"
   },
   {
    "duration": 295,
    "start_time": "2022-01-14T17:59:45.803Z"
   },
   {
    "duration": 9,
    "start_time": "2022-01-14T17:59:46.100Z"
   },
   {
    "duration": 702,
    "start_time": "2022-01-14T17:59:46.110Z"
   },
   {
    "duration": 9,
    "start_time": "2022-01-14T17:59:46.814Z"
   },
   {
    "duration": 23,
    "start_time": "2022-01-14T17:59:46.824Z"
   },
   {
    "duration": 25,
    "start_time": "2022-01-14T17:59:46.849Z"
   },
   {
    "duration": 3,
    "start_time": "2022-01-14T17:59:46.875Z"
   },
   {
    "duration": 26,
    "start_time": "2022-01-14T17:59:46.880Z"
   },
   {
    "duration": 16,
    "start_time": "2022-01-14T17:59:46.908Z"
   },
   {
    "duration": 4,
    "start_time": "2022-01-14T17:59:46.926Z"
   },
   {
    "duration": 12,
    "start_time": "2022-01-14T17:59:46.932Z"
   },
   {
    "duration": 4,
    "start_time": "2022-01-14T17:59:49.647Z"
   },
   {
    "duration": 9,
    "start_time": "2022-01-14T17:59:50.818Z"
   },
   {
    "duration": 14,
    "start_time": "2022-01-14T17:59:52.295Z"
   },
   {
    "duration": 713,
    "start_time": "2022-01-14T18:00:59.461Z"
   },
   {
    "duration": 41,
    "start_time": "2022-01-14T18:01:00.177Z"
   },
   {
    "duration": 4,
    "start_time": "2022-01-14T18:01:00.220Z"
   },
   {
    "duration": 21,
    "start_time": "2022-01-14T18:01:00.226Z"
   },
   {
    "duration": 33,
    "start_time": "2022-01-14T18:01:00.249Z"
   },
   {
    "duration": 23,
    "start_time": "2022-01-14T18:01:00.284Z"
   },
   {
    "duration": 344,
    "start_time": "2022-01-14T18:01:00.310Z"
   },
   {
    "duration": 8,
    "start_time": "2022-01-14T18:01:00.661Z"
   },
   {
    "duration": 12,
    "start_time": "2022-01-14T18:01:00.671Z"
   },
   {
    "duration": 25,
    "start_time": "2022-01-14T18:01:00.685Z"
   },
   {
    "duration": 16,
    "start_time": "2022-01-14T18:01:00.712Z"
   },
   {
    "duration": 39,
    "start_time": "2022-01-14T18:01:00.730Z"
   },
   {
    "duration": 12,
    "start_time": "2022-01-14T18:01:00.771Z"
   },
   {
    "duration": 1124,
    "start_time": "2022-01-14T18:01:00.785Z"
   },
   {
    "duration": 6,
    "start_time": "2022-01-14T18:01:01.911Z"
   },
   {
    "duration": 44,
    "start_time": "2022-01-14T18:01:01.919Z"
   },
   {
    "duration": 6,
    "start_time": "2022-01-14T18:01:01.965Z"
   },
   {
    "duration": 49,
    "start_time": "2022-01-14T18:01:01.972Z"
   },
   {
    "duration": 14,
    "start_time": "2022-01-14T18:01:02.023Z"
   },
   {
    "duration": 2086,
    "start_time": "2022-01-14T18:01:02.039Z"
   },
   {
    "duration": 3,
    "start_time": "2022-01-14T18:01:04.128Z"
   },
   {
    "duration": 29,
    "start_time": "2022-01-14T18:01:04.132Z"
   },
   {
    "duration": 396,
    "start_time": "2022-01-14T18:01:04.164Z"
   },
   {
    "duration": 394,
    "start_time": "2022-01-14T18:01:04.562Z"
   },
   {
    "duration": 5,
    "start_time": "2022-01-14T18:01:04.957Z"
   },
   {
    "duration": 349,
    "start_time": "2022-01-14T18:01:04.964Z"
   },
   {
    "duration": 323,
    "start_time": "2022-01-14T18:01:05.315Z"
   },
   {
    "duration": 8,
    "start_time": "2022-01-14T18:01:05.640Z"
   },
   {
    "duration": 670,
    "start_time": "2022-01-14T18:01:05.650Z"
   },
   {
    "duration": 9,
    "start_time": "2022-01-14T18:01:06.322Z"
   },
   {
    "duration": 8,
    "start_time": "2022-01-14T18:01:06.333Z"
   },
   {
    "duration": 32,
    "start_time": "2022-01-14T18:01:06.342Z"
   },
   {
    "duration": 2,
    "start_time": "2022-01-14T18:01:06.376Z"
   },
   {
    "duration": 17,
    "start_time": "2022-01-14T18:01:06.380Z"
   },
   {
    "duration": 10,
    "start_time": "2022-01-14T18:01:06.399Z"
   },
   {
    "duration": 13,
    "start_time": "2022-01-14T18:01:06.410Z"
   },
   {
    "duration": 12,
    "start_time": "2022-01-14T18:01:06.425Z"
   },
   {
    "duration": 305,
    "start_time": "2022-01-14T18:01:11.221Z"
   },
   {
    "duration": 7,
    "start_time": "2022-01-14T18:01:17.174Z"
   },
   {
    "duration": 256,
    "start_time": "2022-01-14T18:01:35.777Z"
   },
   {
    "duration": 245,
    "start_time": "2022-01-14T18:02:52.177Z"
   },
   {
    "duration": 345,
    "start_time": "2022-01-14T18:03:06.496Z"
   },
   {
    "duration": 247,
    "start_time": "2022-01-14T18:03:32.385Z"
   },
   {
    "duration": 246,
    "start_time": "2022-01-14T18:04:13.661Z"
   },
   {
    "duration": 6,
    "start_time": "2022-01-14T18:05:25.439Z"
   },
   {
    "duration": 9,
    "start_time": "2022-01-14T18:05:40.469Z"
   },
   {
    "duration": 11,
    "start_time": "2022-01-14T18:05:52.379Z"
   },
   {
    "duration": 3,
    "start_time": "2022-01-14T18:07:01.983Z"
   },
   {
    "duration": 11,
    "start_time": "2022-01-14T18:07:24.014Z"
   },
   {
    "duration": 256,
    "start_time": "2022-01-14T18:07:48.968Z"
   },
   {
    "duration": 9,
    "start_time": "2022-01-14T18:07:53.830Z"
   },
   {
    "duration": 5,
    "start_time": "2022-01-14T18:08:14.441Z"
   },
   {
    "duration": 9,
    "start_time": "2022-01-14T18:08:16.590Z"
   },
   {
    "duration": 248,
    "start_time": "2022-01-14T18:09:23.953Z"
   },
   {
    "duration": 3,
    "start_time": "2022-01-14T18:09:28.145Z"
   },
   {
    "duration": 255,
    "start_time": "2022-01-14T18:09:39.416Z"
   },
   {
    "duration": 261,
    "start_time": "2022-01-14T18:15:15.067Z"
   },
   {
    "duration": 273,
    "start_time": "2022-01-14T18:15:28.151Z"
   },
   {
    "duration": 707,
    "start_time": "2022-01-14T18:15:42.730Z"
   },
   {
    "duration": 40,
    "start_time": "2022-01-14T18:15:43.439Z"
   },
   {
    "duration": 3,
    "start_time": "2022-01-14T18:15:43.481Z"
   },
   {
    "duration": 8,
    "start_time": "2022-01-14T18:15:43.486Z"
   },
   {
    "duration": 4,
    "start_time": "2022-01-14T18:15:43.495Z"
   },
   {
    "duration": 8,
    "start_time": "2022-01-14T18:15:43.501Z"
   },
   {
    "duration": 332,
    "start_time": "2022-01-14T18:15:43.510Z"
   },
   {
    "duration": 16,
    "start_time": "2022-01-14T18:15:43.846Z"
   },
   {
    "duration": 5,
    "start_time": "2022-01-14T18:15:43.865Z"
   },
   {
    "duration": 5,
    "start_time": "2022-01-14T18:15:43.872Z"
   },
   {
    "duration": 6,
    "start_time": "2022-01-14T18:15:43.879Z"
   },
   {
    "duration": 23,
    "start_time": "2022-01-14T18:15:43.887Z"
   },
   {
    "duration": 6,
    "start_time": "2022-01-14T18:15:43.912Z"
   },
   {
    "duration": 1069,
    "start_time": "2022-01-14T18:15:43.919Z"
   },
   {
    "duration": 7,
    "start_time": "2022-01-14T18:15:44.990Z"
   },
   {
    "duration": 36,
    "start_time": "2022-01-14T18:15:44.999Z"
   },
   {
    "duration": 26,
    "start_time": "2022-01-14T18:15:45.037Z"
   },
   {
    "duration": 26,
    "start_time": "2022-01-14T18:15:45.065Z"
   },
   {
    "duration": 12,
    "start_time": "2022-01-14T18:15:45.093Z"
   },
   {
    "duration": 1972,
    "start_time": "2022-01-14T18:15:45.106Z"
   },
   {
    "duration": 2,
    "start_time": "2022-01-14T18:15:47.080Z"
   },
   {
    "duration": 10,
    "start_time": "2022-01-14T18:15:47.084Z"
   },
   {
    "duration": 375,
    "start_time": "2022-01-14T18:15:47.097Z"
   },
   {
    "duration": 409,
    "start_time": "2022-01-14T18:15:47.474Z"
   },
   {
    "duration": 5,
    "start_time": "2022-01-14T18:15:47.885Z"
   },
   {
    "duration": 303,
    "start_time": "2022-01-14T18:15:47.892Z"
   },
   {
    "duration": 310,
    "start_time": "2022-01-14T18:15:48.197Z"
   },
   {
    "duration": 10,
    "start_time": "2022-01-14T18:15:48.508Z"
   },
   {
    "duration": 663,
    "start_time": "2022-01-14T18:15:48.520Z"
   },
   {
    "duration": 11,
    "start_time": "2022-01-14T18:15:49.185Z"
   },
   {
    "duration": 13,
    "start_time": "2022-01-14T18:15:49.198Z"
   },
   {
    "duration": 20,
    "start_time": "2022-01-14T18:15:49.213Z"
   },
   {
    "duration": 3,
    "start_time": "2022-01-14T18:15:49.235Z"
   },
   {
    "duration": 31,
    "start_time": "2022-01-14T18:15:49.239Z"
   },
   {
    "duration": 13,
    "start_time": "2022-01-14T18:15:49.272Z"
   },
   {
    "duration": 10,
    "start_time": "2022-01-14T18:15:49.286Z"
   },
   {
    "duration": 12,
    "start_time": "2022-01-14T18:15:49.298Z"
   },
   {
    "duration": 3,
    "start_time": "2022-01-14T18:15:49.312Z"
   },
   {
    "duration": 11,
    "start_time": "2022-01-14T18:15:52.017Z"
   },
   {
    "duration": 7,
    "start_time": "2022-01-14T18:15:59.912Z"
   },
   {
    "duration": 7,
    "start_time": "2022-01-14T18:16:14.240Z"
   },
   {
    "duration": 666,
    "start_time": "2022-01-14T18:17:03.285Z"
   },
   {
    "duration": 40,
    "start_time": "2022-01-14T18:17:03.954Z"
   },
   {
    "duration": 3,
    "start_time": "2022-01-14T18:17:03.996Z"
   },
   {
    "duration": 11,
    "start_time": "2022-01-14T18:17:04.001Z"
   },
   {
    "duration": 7,
    "start_time": "2022-01-14T18:17:04.013Z"
   },
   {
    "duration": 11,
    "start_time": "2022-01-14T18:17:04.022Z"
   },
   {
    "duration": 331,
    "start_time": "2022-01-14T18:17:04.034Z"
   },
   {
    "duration": 8,
    "start_time": "2022-01-14T18:17:04.367Z"
   },
   {
    "duration": 5,
    "start_time": "2022-01-14T18:17:04.378Z"
   },
   {
    "duration": 4,
    "start_time": "2022-01-14T18:17:04.385Z"
   },
   {
    "duration": 7,
    "start_time": "2022-01-14T18:17:04.391Z"
   },
   {
    "duration": 23,
    "start_time": "2022-01-14T18:17:04.400Z"
   },
   {
    "duration": 5,
    "start_time": "2022-01-14T18:17:04.425Z"
   },
   {
    "duration": 1119,
    "start_time": "2022-01-14T18:17:04.431Z"
   },
   {
    "duration": 10,
    "start_time": "2022-01-14T18:17:05.551Z"
   },
   {
    "duration": 25,
    "start_time": "2022-01-14T18:17:05.562Z"
   },
   {
    "duration": 5,
    "start_time": "2022-01-14T18:17:05.589Z"
   },
   {
    "duration": 19,
    "start_time": "2022-01-14T18:17:05.595Z"
   },
   {
    "duration": 12,
    "start_time": "2022-01-14T18:17:05.616Z"
   },
   {
    "duration": 1982,
    "start_time": "2022-01-14T18:17:05.629Z"
   },
   {
    "duration": 3,
    "start_time": "2022-01-14T18:17:07.613Z"
   },
   {
    "duration": 11,
    "start_time": "2022-01-14T18:17:07.617Z"
   },
   {
    "duration": 388,
    "start_time": "2022-01-14T18:17:07.630Z"
   },
   {
    "duration": 401,
    "start_time": "2022-01-14T18:17:08.019Z"
   },
   {
    "duration": 5,
    "start_time": "2022-01-14T18:17:08.421Z"
   },
   {
    "duration": 381,
    "start_time": "2022-01-14T18:17:08.428Z"
   },
   {
    "duration": 321,
    "start_time": "2022-01-14T18:17:08.813Z"
   },
   {
    "duration": 10,
    "start_time": "2022-01-14T18:17:09.136Z"
   },
   {
    "duration": 702,
    "start_time": "2022-01-14T18:17:09.148Z"
   },
   {
    "duration": 15,
    "start_time": "2022-01-14T18:17:09.852Z"
   },
   {
    "duration": 10,
    "start_time": "2022-01-14T18:17:09.868Z"
   },
   {
    "duration": 23,
    "start_time": "2022-01-14T18:17:09.879Z"
   },
   {
    "duration": 3,
    "start_time": "2022-01-14T18:17:09.903Z"
   },
   {
    "duration": 12,
    "start_time": "2022-01-14T18:17:09.907Z"
   },
   {
    "duration": 11,
    "start_time": "2022-01-14T18:17:09.921Z"
   },
   {
    "duration": 17,
    "start_time": "2022-01-14T18:17:09.933Z"
   },
   {
    "duration": 17,
    "start_time": "2022-01-14T18:17:09.952Z"
   },
   {
    "duration": 6,
    "start_time": "2022-01-14T18:17:09.970Z"
   },
   {
    "duration": 10,
    "start_time": "2022-01-14T18:17:11.805Z"
   },
   {
    "duration": 7,
    "start_time": "2022-01-14T18:17:12.875Z"
   },
   {
    "duration": 4,
    "start_time": "2022-01-14T18:18:23.584Z"
   },
   {
    "duration": 5,
    "start_time": "2022-01-14T18:18:36.105Z"
   },
   {
    "duration": 280,
    "start_time": "2022-01-14T18:18:54.713Z"
   },
   {
    "duration": 724,
    "start_time": "2022-01-14T18:19:00.825Z"
   },
   {
    "duration": 41,
    "start_time": "2022-01-14T18:19:01.551Z"
   },
   {
    "duration": 3,
    "start_time": "2022-01-14T18:19:01.595Z"
   },
   {
    "duration": 14,
    "start_time": "2022-01-14T18:19:01.601Z"
   },
   {
    "duration": 10,
    "start_time": "2022-01-14T18:19:01.617Z"
   },
   {
    "duration": 22,
    "start_time": "2022-01-14T18:19:01.629Z"
   },
   {
    "duration": 334,
    "start_time": "2022-01-14T18:19:01.653Z"
   },
   {
    "duration": 8,
    "start_time": "2022-01-14T18:19:01.990Z"
   },
   {
    "duration": 9,
    "start_time": "2022-01-14T18:19:02.000Z"
   },
   {
    "duration": 7,
    "start_time": "2022-01-14T18:19:02.010Z"
   },
   {
    "duration": 19,
    "start_time": "2022-01-14T18:19:02.019Z"
   },
   {
    "duration": 36,
    "start_time": "2022-01-14T18:19:02.040Z"
   },
   {
    "duration": 6,
    "start_time": "2022-01-14T18:19:02.078Z"
   },
   {
    "duration": 1085,
    "start_time": "2022-01-14T18:19:02.086Z"
   },
   {
    "duration": 6,
    "start_time": "2022-01-14T18:19:03.173Z"
   },
   {
    "duration": 69,
    "start_time": "2022-01-14T18:19:03.181Z"
   },
   {
    "duration": 6,
    "start_time": "2022-01-14T18:19:03.253Z"
   },
   {
    "duration": 58,
    "start_time": "2022-01-14T18:19:03.261Z"
   },
   {
    "duration": 18,
    "start_time": "2022-01-14T18:19:03.322Z"
   },
   {
    "duration": 2045,
    "start_time": "2022-01-14T18:19:03.343Z"
   },
   {
    "duration": 3,
    "start_time": "2022-01-14T18:19:05.390Z"
   },
   {
    "duration": 20,
    "start_time": "2022-01-14T18:19:05.394Z"
   },
   {
    "duration": 413,
    "start_time": "2022-01-14T18:19:05.417Z"
   },
   {
    "duration": 410,
    "start_time": "2022-01-14T18:19:05.832Z"
   },
   {
    "duration": 16,
    "start_time": "2022-01-14T18:19:06.245Z"
   },
   {
    "duration": 331,
    "start_time": "2022-01-14T18:19:06.263Z"
   },
   {
    "duration": 324,
    "start_time": "2022-01-14T18:19:06.596Z"
   },
   {
    "duration": 10,
    "start_time": "2022-01-14T18:19:06.921Z"
   },
   {
    "duration": 718,
    "start_time": "2022-01-14T18:19:06.932Z"
   },
   {
    "duration": 15,
    "start_time": "2022-01-14T18:19:07.652Z"
   },
   {
    "duration": 24,
    "start_time": "2022-01-14T18:19:07.668Z"
   },
   {
    "duration": 22,
    "start_time": "2022-01-14T18:19:07.693Z"
   },
   {
    "duration": 3,
    "start_time": "2022-01-14T18:19:07.717Z"
   },
   {
    "duration": 30,
    "start_time": "2022-01-14T18:19:07.722Z"
   },
   {
    "duration": 34,
    "start_time": "2022-01-14T18:19:07.754Z"
   },
   {
    "duration": 25,
    "start_time": "2022-01-14T18:19:07.790Z"
   },
   {
    "duration": 23,
    "start_time": "2022-01-14T18:19:07.817Z"
   },
   {
    "duration": 3,
    "start_time": "2022-01-14T18:19:11.994Z"
   },
   {
    "duration": 4,
    "start_time": "2022-01-14T18:19:41.007Z"
   },
   {
    "duration": 6,
    "start_time": "2022-01-14T18:19:44.371Z"
   },
   {
    "duration": 3,
    "start_time": "2022-01-14T18:19:59.365Z"
   },
   {
    "duration": 7,
    "start_time": "2022-01-14T18:20:02.381Z"
   },
   {
    "duration": 4,
    "start_time": "2022-01-14T18:20:56.794Z"
   },
   {
    "duration": 7,
    "start_time": "2022-01-14T18:21:00.944Z"
   },
   {
    "duration": 8,
    "start_time": "2022-01-14T18:21:06.370Z"
   },
   {
    "duration": 3,
    "start_time": "2022-01-14T18:21:14.144Z"
   },
   {
    "duration": 7,
    "start_time": "2022-01-14T18:21:21.912Z"
   },
   {
    "duration": 10,
    "start_time": "2022-01-14T18:21:41.370Z"
   },
   {
    "duration": 272,
    "start_time": "2022-01-14T18:22:03.164Z"
   },
   {
    "duration": 11,
    "start_time": "2022-01-14T18:22:28.628Z"
   },
   {
    "duration": 249,
    "start_time": "2022-01-14T18:22:48.203Z"
   },
   {
    "duration": 12,
    "start_time": "2022-01-14T18:22:50.714Z"
   },
   {
    "duration": 250,
    "start_time": "2022-01-14T18:23:21.084Z"
   },
   {
    "duration": 263,
    "start_time": "2022-01-14T18:24:12.750Z"
   },
   {
    "duration": 253,
    "start_time": "2022-01-14T18:24:27.026Z"
   },
   {
    "duration": 399,
    "start_time": "2022-01-14T18:24:36.399Z"
   },
   {
    "duration": 268,
    "start_time": "2022-01-14T18:26:20.953Z"
   },
   {
    "duration": 10,
    "start_time": "2022-01-14T18:26:39.850Z"
   },
   {
    "duration": 8,
    "start_time": "2022-01-14T18:27:28.046Z"
   },
   {
    "duration": 1830,
    "start_time": "2022-01-14T18:27:54.105Z"
   },
   {
    "duration": 7,
    "start_time": "2022-01-14T18:28:10.964Z"
   },
   {
    "duration": 4,
    "start_time": "2022-01-14T18:29:07.509Z"
   },
   {
    "duration": 7,
    "start_time": "2022-01-14T18:29:16.821Z"
   },
   {
    "duration": 9,
    "start_time": "2022-01-14T18:30:08.657Z"
   },
   {
    "duration": 5,
    "start_time": "2022-01-14T18:30:59.214Z"
   },
   {
    "duration": 7,
    "start_time": "2022-01-14T18:31:04.246Z"
   },
   {
    "duration": 660,
    "start_time": "2022-01-14T18:31:39.584Z"
   },
   {
    "duration": 43,
    "start_time": "2022-01-14T18:31:40.246Z"
   },
   {
    "duration": 3,
    "start_time": "2022-01-14T18:31:40.291Z"
   },
   {
    "duration": 22,
    "start_time": "2022-01-14T18:31:40.296Z"
   },
   {
    "duration": 35,
    "start_time": "2022-01-14T18:31:40.320Z"
   },
   {
    "duration": 29,
    "start_time": "2022-01-14T18:31:40.357Z"
   },
   {
    "duration": 357,
    "start_time": "2022-01-14T18:31:40.388Z"
   },
   {
    "duration": 17,
    "start_time": "2022-01-14T18:31:40.746Z"
   },
   {
    "duration": 7,
    "start_time": "2022-01-14T18:31:40.766Z"
   },
   {
    "duration": 37,
    "start_time": "2022-01-14T18:31:40.775Z"
   },
   {
    "duration": 38,
    "start_time": "2022-01-14T18:31:40.814Z"
   },
   {
    "duration": 47,
    "start_time": "2022-01-14T18:31:40.853Z"
   },
   {
    "duration": 18,
    "start_time": "2022-01-14T18:31:40.902Z"
   },
   {
    "duration": 1207,
    "start_time": "2022-01-14T18:31:40.922Z"
   },
   {
    "duration": 7,
    "start_time": "2022-01-14T18:31:42.130Z"
   },
   {
    "duration": 43,
    "start_time": "2022-01-14T18:31:42.138Z"
   },
   {
    "duration": 16,
    "start_time": "2022-01-14T18:31:42.182Z"
   },
   {
    "duration": 47,
    "start_time": "2022-01-14T18:31:42.199Z"
   },
   {
    "duration": 25,
    "start_time": "2022-01-14T18:31:42.248Z"
   },
   {
    "duration": 9,
    "start_time": "2022-01-14T18:31:46.716Z"
   },
   {
    "duration": 12,
    "start_time": "2022-01-14T18:31:46.726Z"
   },
   {
    "duration": 57,
    "start_time": "2022-01-14T18:31:46.740Z"
   },
   {
    "duration": 3,
    "start_time": "2022-01-14T18:31:46.798Z"
   },
   {
    "duration": 21,
    "start_time": "2022-01-14T18:31:46.803Z"
   },
   {
    "duration": 22,
    "start_time": "2022-01-14T18:31:46.826Z"
   },
   {
    "duration": 30,
    "start_time": "2022-01-14T18:31:46.850Z"
   },
   {
    "duration": 330,
    "start_time": "2022-01-14T18:31:46.881Z"
   },
   {
    "duration": 7,
    "start_time": "2022-01-14T18:31:47.212Z"
   },
   {
    "duration": 16,
    "start_time": "2022-01-14T18:31:47.221Z"
   },
   {
    "duration": 27,
    "start_time": "2022-01-14T18:31:47.239Z"
   },
   {
    "duration": 29,
    "start_time": "2022-01-14T18:31:47.269Z"
   },
   {
    "duration": 34,
    "start_time": "2022-01-14T18:31:47.300Z"
   },
   {
    "duration": 5,
    "start_time": "2022-01-14T18:31:47.337Z"
   },
   {
    "duration": 1218,
    "start_time": "2022-01-14T18:31:47.344Z"
   },
   {
    "duration": 7,
    "start_time": "2022-01-14T18:31:48.564Z"
   },
   {
    "duration": 43,
    "start_time": "2022-01-14T18:31:48.572Z"
   },
   {
    "duration": 6,
    "start_time": "2022-01-14T18:31:48.617Z"
   },
   {
    "duration": 22,
    "start_time": "2022-01-14T18:31:48.625Z"
   },
   {
    "duration": 20,
    "start_time": "2022-01-14T18:31:48.649Z"
   },
   {
    "duration": 2318,
    "start_time": "2022-01-14T18:31:48.671Z"
   },
   {
    "duration": 3,
    "start_time": "2022-01-14T18:31:50.991Z"
   },
   {
    "duration": 27,
    "start_time": "2022-01-14T18:31:50.996Z"
   },
   {
    "duration": 399,
    "start_time": "2022-01-14T18:31:51.025Z"
   },
   {
    "duration": 398,
    "start_time": "2022-01-14T18:31:51.426Z"
   },
   {
    "duration": 5,
    "start_time": "2022-01-14T18:31:51.826Z"
   },
   {
    "duration": 346,
    "start_time": "2022-01-14T18:31:51.833Z"
   },
   {
    "duration": 309,
    "start_time": "2022-01-14T18:31:52.181Z"
   },
   {
    "duration": 10,
    "start_time": "2022-01-14T18:31:52.492Z"
   },
   {
    "duration": 711,
    "start_time": "2022-01-14T18:31:52.503Z"
   },
   {
    "duration": 9,
    "start_time": "2022-01-14T18:31:53.216Z"
   },
   {
    "duration": 11,
    "start_time": "2022-01-14T18:31:53.226Z"
   },
   {
    "duration": 30,
    "start_time": "2022-01-14T18:31:53.239Z"
   },
   {
    "duration": 3,
    "start_time": "2022-01-14T18:31:53.270Z"
   },
   {
    "duration": 14,
    "start_time": "2022-01-14T18:31:53.274Z"
   },
   {
    "duration": 12,
    "start_time": "2022-01-14T18:31:53.290Z"
   },
   {
    "duration": 9,
    "start_time": "2022-01-14T18:31:53.303Z"
   },
   {
    "duration": 13,
    "start_time": "2022-01-14T18:31:53.314Z"
   },
   {
    "duration": 2,
    "start_time": "2022-01-14T18:31:53.329Z"
   },
   {
    "duration": 5,
    "start_time": "2022-01-14T18:31:53.333Z"
   },
   {
    "duration": 4,
    "start_time": "2022-01-14T18:31:58.511Z"
   },
   {
    "duration": 4,
    "start_time": "2022-01-14T18:32:25.383Z"
   },
   {
    "duration": 5,
    "start_time": "2022-01-14T18:32:30.983Z"
   },
   {
    "duration": 5,
    "start_time": "2022-01-14T18:32:31.887Z"
   },
   {
    "duration": 10,
    "start_time": "2022-01-14T18:32:33.974Z"
   },
   {
    "duration": 3,
    "start_time": "2022-01-14T18:32:47.425Z"
   },
   {
    "duration": 10,
    "start_time": "2022-01-14T18:33:06.505Z"
   },
   {
    "duration": 5,
    "start_time": "2022-01-14T18:34:58.953Z"
   },
   {
    "duration": 11,
    "start_time": "2022-01-14T18:35:03.687Z"
   },
   {
    "duration": 4,
    "start_time": "2022-01-14T18:35:47.610Z"
   },
   {
    "duration": 10,
    "start_time": "2022-01-14T18:35:49.186Z"
   },
   {
    "duration": 667,
    "start_time": "2022-01-14T18:37:09.220Z"
   },
   {
    "duration": 37,
    "start_time": "2022-01-14T18:37:09.889Z"
   },
   {
    "duration": 3,
    "start_time": "2022-01-14T18:37:09.928Z"
   },
   {
    "duration": 17,
    "start_time": "2022-01-14T18:37:09.933Z"
   },
   {
    "duration": 13,
    "start_time": "2022-01-14T18:37:09.952Z"
   },
   {
    "duration": 13,
    "start_time": "2022-01-14T18:37:09.967Z"
   },
   {
    "duration": 338,
    "start_time": "2022-01-14T18:37:09.982Z"
   },
   {
    "duration": 8,
    "start_time": "2022-01-14T18:37:10.323Z"
   },
   {
    "duration": 12,
    "start_time": "2022-01-14T18:37:10.333Z"
   },
   {
    "duration": 19,
    "start_time": "2022-01-14T18:37:10.346Z"
   },
   {
    "duration": 9,
    "start_time": "2022-01-14T18:37:10.367Z"
   },
   {
    "duration": 30,
    "start_time": "2022-01-14T18:37:10.377Z"
   },
   {
    "duration": 5,
    "start_time": "2022-01-14T18:37:10.409Z"
   },
   {
    "duration": 1047,
    "start_time": "2022-01-14T18:37:10.416Z"
   },
   {
    "duration": 7,
    "start_time": "2022-01-14T18:37:11.465Z"
   },
   {
    "duration": 30,
    "start_time": "2022-01-14T18:37:11.473Z"
   },
   {
    "duration": 6,
    "start_time": "2022-01-14T18:37:11.505Z"
   },
   {
    "duration": 29,
    "start_time": "2022-01-14T18:37:11.512Z"
   },
   {
    "duration": 30,
    "start_time": "2022-01-14T18:37:11.542Z"
   },
   {
    "duration": 1954,
    "start_time": "2022-01-14T18:37:11.574Z"
   },
   {
    "duration": 2,
    "start_time": "2022-01-14T18:37:13.530Z"
   },
   {
    "duration": 14,
    "start_time": "2022-01-14T18:37:13.534Z"
   },
   {
    "duration": 376,
    "start_time": "2022-01-14T18:37:13.551Z"
   },
   {
    "duration": 400,
    "start_time": "2022-01-14T18:37:13.929Z"
   },
   {
    "duration": 5,
    "start_time": "2022-01-14T18:37:14.330Z"
   },
   {
    "duration": 343,
    "start_time": "2022-01-14T18:37:14.337Z"
   },
   {
    "duration": 305,
    "start_time": "2022-01-14T18:37:14.682Z"
   },
   {
    "duration": 9,
    "start_time": "2022-01-14T18:37:14.989Z"
   },
   {
    "duration": 699,
    "start_time": "2022-01-14T18:37:14.999Z"
   },
   {
    "duration": 10,
    "start_time": "2022-01-14T18:37:15.700Z"
   },
   {
    "duration": 16,
    "start_time": "2022-01-14T18:37:15.712Z"
   },
   {
    "duration": 33,
    "start_time": "2022-01-14T18:37:15.730Z"
   },
   {
    "duration": 37,
    "start_time": "2022-01-14T18:37:15.764Z"
   },
   {
    "duration": 18,
    "start_time": "2022-01-14T18:37:15.803Z"
   },
   {
    "duration": 21,
    "start_time": "2022-01-14T18:37:15.823Z"
   },
   {
    "duration": 32,
    "start_time": "2022-01-14T18:37:15.846Z"
   },
   {
    "duration": 21,
    "start_time": "2022-01-14T18:37:15.880Z"
   },
   {
    "duration": 20,
    "start_time": "2022-01-14T18:37:15.903Z"
   },
   {
    "duration": 26,
    "start_time": "2022-01-14T18:37:15.925Z"
   },
   {
    "duration": 27,
    "start_time": "2022-01-14T18:37:15.953Z"
   },
   {
    "duration": 16,
    "start_time": "2022-01-14T18:37:15.982Z"
   },
   {
    "duration": 28,
    "start_time": "2022-01-14T18:37:15.999Z"
   },
   {
    "duration": 19,
    "start_time": "2022-01-14T18:37:16.029Z"
   },
   {
    "duration": 15,
    "start_time": "2022-01-14T18:37:16.050Z"
   },
   {
    "duration": 34,
    "start_time": "2022-01-14T18:37:16.067Z"
   },
   {
    "duration": 5,
    "start_time": "2022-01-14T18:37:35.124Z"
   },
   {
    "duration": 11,
    "start_time": "2022-01-14T18:37:37.484Z"
   },
   {
    "duration": 684,
    "start_time": "2022-01-14T18:38:23.132Z"
   },
   {
    "duration": 39,
    "start_time": "2022-01-14T18:38:23.818Z"
   },
   {
    "duration": 3,
    "start_time": "2022-01-14T18:38:23.859Z"
   },
   {
    "duration": 10,
    "start_time": "2022-01-14T18:38:23.863Z"
   },
   {
    "duration": 6,
    "start_time": "2022-01-14T18:38:23.875Z"
   },
   {
    "duration": 15,
    "start_time": "2022-01-14T18:38:23.882Z"
   },
   {
    "duration": 316,
    "start_time": "2022-01-14T18:38:23.899Z"
   },
   {
    "duration": 8,
    "start_time": "2022-01-14T18:38:24.218Z"
   },
   {
    "duration": 5,
    "start_time": "2022-01-14T18:38:24.229Z"
   },
   {
    "duration": 26,
    "start_time": "2022-01-14T18:38:24.235Z"
   },
   {
    "duration": 7,
    "start_time": "2022-01-14T18:38:24.263Z"
   },
   {
    "duration": 26,
    "start_time": "2022-01-14T18:38:24.271Z"
   },
   {
    "duration": 5,
    "start_time": "2022-01-14T18:38:24.299Z"
   },
   {
    "duration": 1057,
    "start_time": "2022-01-14T18:38:24.305Z"
   },
   {
    "duration": 7,
    "start_time": "2022-01-14T18:38:25.364Z"
   },
   {
    "duration": 32,
    "start_time": "2022-01-14T18:38:25.372Z"
   },
   {
    "duration": 5,
    "start_time": "2022-01-14T18:38:25.406Z"
   },
   {
    "duration": 19,
    "start_time": "2022-01-14T18:38:25.413Z"
   },
   {
    "duration": 33,
    "start_time": "2022-01-14T18:38:25.433Z"
   },
   {
    "duration": 1959,
    "start_time": "2022-01-14T18:38:25.468Z"
   },
   {
    "duration": 2,
    "start_time": "2022-01-14T18:38:27.429Z"
   },
   {
    "duration": 12,
    "start_time": "2022-01-14T18:38:27.433Z"
   },
   {
    "duration": 380,
    "start_time": "2022-01-14T18:38:27.448Z"
   },
   {
    "duration": 399,
    "start_time": "2022-01-14T18:38:27.830Z"
   },
   {
    "duration": 5,
    "start_time": "2022-01-14T18:38:28.230Z"
   },
   {
    "duration": 341,
    "start_time": "2022-01-14T18:38:28.237Z"
   },
   {
    "duration": 304,
    "start_time": "2022-01-14T18:38:28.580Z"
   },
   {
    "duration": 8,
    "start_time": "2022-01-14T18:38:28.886Z"
   },
   {
    "duration": 593,
    "start_time": "2022-01-14T18:38:28.896Z"
   },
   {
    "duration": 10,
    "start_time": "2022-01-14T18:38:29.491Z"
   },
   {
    "duration": 16,
    "start_time": "2022-01-14T18:38:29.503Z"
   },
   {
    "duration": 28,
    "start_time": "2022-01-14T18:38:29.521Z"
   },
   {
    "duration": 12,
    "start_time": "2022-01-14T18:38:29.551Z"
   },
   {
    "duration": 23,
    "start_time": "2022-01-14T18:38:29.565Z"
   },
   {
    "duration": 31,
    "start_time": "2022-01-14T18:38:29.590Z"
   },
   {
    "duration": 38,
    "start_time": "2022-01-14T18:38:29.623Z"
   },
   {
    "duration": 29,
    "start_time": "2022-01-14T18:38:29.663Z"
   },
   {
    "duration": 18,
    "start_time": "2022-01-14T18:38:29.694Z"
   },
   {
    "duration": 18,
    "start_time": "2022-01-14T18:38:29.714Z"
   },
   {
    "duration": 37,
    "start_time": "2022-01-14T18:38:29.734Z"
   },
   {
    "duration": 15,
    "start_time": "2022-01-14T18:38:29.773Z"
   },
   {
    "duration": 19,
    "start_time": "2022-01-14T18:38:29.790Z"
   },
   {
    "duration": 349,
    "start_time": "2022-01-14T18:38:29.811Z"
   },
   {
    "duration": 8491,
    "start_time": "2022-01-14T18:38:21.672Z"
   },
   {
    "duration": 8483,
    "start_time": "2022-01-14T18:38:21.681Z"
   },
   {
    "duration": 8478,
    "start_time": "2022-01-14T18:38:21.687Z"
   },
   {
    "duration": 4,
    "start_time": "2022-01-14T18:38:43.650Z"
   },
   {
    "duration": 3,
    "start_time": "2022-01-14T18:38:45.833Z"
   },
   {
    "duration": 5,
    "start_time": "2022-01-14T18:38:47.344Z"
   },
   {
    "duration": 12,
    "start_time": "2022-01-14T18:38:49.729Z"
   },
   {
    "duration": 11,
    "start_time": "2022-01-14T18:39:06.189Z"
   },
   {
    "duration": 11,
    "start_time": "2022-01-14T18:39:13.636Z"
   },
   {
    "duration": 718,
    "start_time": "2022-01-14T18:42:21.665Z"
   },
   {
    "duration": 39,
    "start_time": "2022-01-14T18:42:22.385Z"
   },
   {
    "duration": 3,
    "start_time": "2022-01-14T18:42:22.426Z"
   },
   {
    "duration": 12,
    "start_time": "2022-01-14T18:42:22.431Z"
   },
   {
    "duration": 7,
    "start_time": "2022-01-14T18:42:22.444Z"
   },
   {
    "duration": 13,
    "start_time": "2022-01-14T18:42:22.452Z"
   },
   {
    "duration": 316,
    "start_time": "2022-01-14T18:42:22.467Z"
   },
   {
    "duration": 7,
    "start_time": "2022-01-14T18:42:22.786Z"
   },
   {
    "duration": 8,
    "start_time": "2022-01-14T18:42:22.795Z"
   },
   {
    "duration": 25,
    "start_time": "2022-01-14T18:42:22.805Z"
   },
   {
    "duration": 18,
    "start_time": "2022-01-14T18:42:22.832Z"
   },
   {
    "duration": 23,
    "start_time": "2022-01-14T18:42:22.851Z"
   },
   {
    "duration": 17,
    "start_time": "2022-01-14T18:42:22.876Z"
   },
   {
    "duration": 1090,
    "start_time": "2022-01-14T18:42:22.895Z"
   },
   {
    "duration": 7,
    "start_time": "2022-01-14T18:42:23.986Z"
   },
   {
    "duration": 29,
    "start_time": "2022-01-14T18:42:23.994Z"
   },
   {
    "duration": 5,
    "start_time": "2022-01-14T18:42:24.025Z"
   },
   {
    "duration": 44,
    "start_time": "2022-01-14T18:42:24.032Z"
   },
   {
    "duration": 13,
    "start_time": "2022-01-14T18:42:24.078Z"
   },
   {
    "duration": 2022,
    "start_time": "2022-01-14T18:42:24.093Z"
   },
   {
    "duration": 3,
    "start_time": "2022-01-14T18:42:26.116Z"
   },
   {
    "duration": 9,
    "start_time": "2022-01-14T18:42:26.121Z"
   },
   {
    "duration": 384,
    "start_time": "2022-01-14T18:42:26.133Z"
   },
   {
    "duration": 402,
    "start_time": "2022-01-14T18:42:26.519Z"
   },
   {
    "duration": 5,
    "start_time": "2022-01-14T18:42:26.923Z"
   },
   {
    "duration": 350,
    "start_time": "2022-01-14T18:42:26.929Z"
   },
   {
    "duration": 306,
    "start_time": "2022-01-14T18:42:27.281Z"
   },
   {
    "duration": 9,
    "start_time": "2022-01-14T18:42:27.589Z"
   },
   {
    "duration": 660,
    "start_time": "2022-01-14T18:42:27.600Z"
   },
   {
    "duration": 10,
    "start_time": "2022-01-14T18:42:28.263Z"
   },
   {
    "duration": 6,
    "start_time": "2022-01-14T18:42:28.276Z"
   },
   {
    "duration": 20,
    "start_time": "2022-01-14T18:42:28.284Z"
   },
   {
    "duration": 3,
    "start_time": "2022-01-14T18:42:28.306Z"
   },
   {
    "duration": 10,
    "start_time": "2022-01-14T18:42:28.311Z"
   },
   {
    "duration": 47,
    "start_time": "2022-01-14T18:42:28.322Z"
   },
   {
    "duration": 10,
    "start_time": "2022-01-14T18:42:28.371Z"
   },
   {
    "duration": 11,
    "start_time": "2022-01-14T18:42:28.383Z"
   },
   {
    "duration": 3,
    "start_time": "2022-01-14T18:42:28.395Z"
   },
   {
    "duration": 7,
    "start_time": "2022-01-14T18:42:28.400Z"
   },
   {
    "duration": 7,
    "start_time": "2022-01-14T18:42:28.409Z"
   },
   {
    "duration": 9,
    "start_time": "2022-01-14T18:42:28.417Z"
   },
   {
    "duration": 34,
    "start_time": "2022-01-14T18:42:28.427Z"
   },
   {
    "duration": 10,
    "start_time": "2022-01-14T18:42:32.376Z"
   },
   {
    "duration": 20,
    "start_time": "2022-01-14T18:43:03.533Z"
   },
   {
    "duration": 11,
    "start_time": "2022-01-14T18:43:14.556Z"
   },
   {
    "duration": 6,
    "start_time": "2022-01-14T18:43:19.341Z"
   },
   {
    "duration": 10,
    "start_time": "2022-01-14T18:45:18.233Z"
   },
   {
    "duration": 8,
    "start_time": "2022-01-14T18:45:23.602Z"
   },
   {
    "duration": 11,
    "start_time": "2022-01-14T18:45:56.818Z"
   },
   {
    "duration": 11,
    "start_time": "2022-01-14T18:46:25.539Z"
   },
   {
    "duration": 11,
    "start_time": "2022-01-14T18:47:36.191Z"
   },
   {
    "duration": 6,
    "start_time": "2022-01-14T18:47:37.372Z"
   },
   {
    "duration": 10,
    "start_time": "2022-01-14T18:48:07.774Z"
   },
   {
    "duration": 301,
    "start_time": "2022-01-14T18:48:14.089Z"
   },
   {
    "duration": 7,
    "start_time": "2022-01-14T18:48:20.301Z"
   },
   {
    "duration": 11,
    "start_time": "2022-01-14T18:48:59.745Z"
   },
   {
    "duration": 7,
    "start_time": "2022-01-14T18:49:05.864Z"
   },
   {
    "duration": 5,
    "start_time": "2022-01-14T18:50:05.426Z"
   },
   {
    "duration": 5,
    "start_time": "2022-01-14T18:51:02.376Z"
   },
   {
    "duration": 696,
    "start_time": "2022-01-14T18:51:38.739Z"
   },
   {
    "duration": 38,
    "start_time": "2022-01-14T18:51:39.437Z"
   },
   {
    "duration": 6,
    "start_time": "2022-01-14T18:51:39.477Z"
   },
   {
    "duration": 46,
    "start_time": "2022-01-14T18:51:39.485Z"
   },
   {
    "duration": 16,
    "start_time": "2022-01-14T18:51:39.533Z"
   },
   {
    "duration": 46,
    "start_time": "2022-01-14T18:51:39.551Z"
   },
   {
    "duration": 315,
    "start_time": "2022-01-14T18:51:39.599Z"
   },
   {
    "duration": 7,
    "start_time": "2022-01-14T18:51:39.918Z"
   },
   {
    "duration": 7,
    "start_time": "2022-01-14T18:51:39.928Z"
   },
   {
    "duration": 28,
    "start_time": "2022-01-14T18:51:39.937Z"
   },
   {
    "duration": 17,
    "start_time": "2022-01-14T18:51:39.967Z"
   },
   {
    "duration": 34,
    "start_time": "2022-01-14T18:51:39.986Z"
   },
   {
    "duration": 12,
    "start_time": "2022-01-14T18:51:40.023Z"
   },
   {
    "duration": 1042,
    "start_time": "2022-01-14T18:51:40.037Z"
   },
   {
    "duration": 8,
    "start_time": "2022-01-14T18:51:41.081Z"
   },
   {
    "duration": 43,
    "start_time": "2022-01-14T18:51:41.091Z"
   },
   {
    "duration": 6,
    "start_time": "2022-01-14T18:51:41.136Z"
   },
   {
    "duration": 34,
    "start_time": "2022-01-14T18:51:41.144Z"
   },
   {
    "duration": 26,
    "start_time": "2022-01-14T18:51:41.180Z"
   },
   {
    "duration": 1984,
    "start_time": "2022-01-14T18:51:41.208Z"
   },
   {
    "duration": 2,
    "start_time": "2022-01-14T18:51:43.194Z"
   },
   {
    "duration": 8,
    "start_time": "2022-01-14T18:51:43.198Z"
   },
   {
    "duration": 383,
    "start_time": "2022-01-14T18:51:43.208Z"
   },
   {
    "duration": 392,
    "start_time": "2022-01-14T18:51:43.593Z"
   },
   {
    "duration": 4,
    "start_time": "2022-01-14T18:51:43.987Z"
   },
   {
    "duration": 313,
    "start_time": "2022-01-14T18:51:43.993Z"
   },
   {
    "duration": 309,
    "start_time": "2022-01-14T18:51:44.308Z"
   },
   {
    "duration": 9,
    "start_time": "2022-01-14T18:51:44.619Z"
   },
   {
    "duration": 655,
    "start_time": "2022-01-14T18:51:44.629Z"
   },
   {
    "duration": 8,
    "start_time": "2022-01-14T18:51:45.286Z"
   },
   {
    "duration": 5,
    "start_time": "2022-01-14T18:51:45.296Z"
   },
   {
    "duration": 18,
    "start_time": "2022-01-14T18:51:45.303Z"
   },
   {
    "duration": 3,
    "start_time": "2022-01-14T18:51:45.323Z"
   },
   {
    "duration": 37,
    "start_time": "2022-01-14T18:51:45.327Z"
   },
   {
    "duration": 12,
    "start_time": "2022-01-14T18:51:45.365Z"
   },
   {
    "duration": 19,
    "start_time": "2022-01-14T18:51:45.378Z"
   },
   {
    "duration": 20,
    "start_time": "2022-01-14T18:51:45.399Z"
   },
   {
    "duration": 20,
    "start_time": "2022-01-14T18:51:45.421Z"
   },
   {
    "duration": 24,
    "start_time": "2022-01-14T18:51:45.443Z"
   },
   {
    "duration": 11,
    "start_time": "2022-01-14T18:51:45.468Z"
   },
   {
    "duration": 36,
    "start_time": "2022-01-14T18:51:45.481Z"
   },
   {
    "duration": 17,
    "start_time": "2022-01-14T18:51:45.519Z"
   },
   {
    "duration": 33,
    "start_time": "2022-01-14T18:51:45.538Z"
   },
   {
    "duration": 29,
    "start_time": "2022-01-14T18:51:45.573Z"
   },
   {
    "duration": 24,
    "start_time": "2022-01-14T18:51:45.603Z"
   },
   {
    "duration": 26,
    "start_time": "2022-01-14T18:51:45.629Z"
   },
   {
    "duration": 5,
    "start_time": "2022-01-14T18:51:53.859Z"
   },
   {
    "duration": 638,
    "start_time": "2022-01-14T18:53:22.293Z"
   },
   {
    "duration": 36,
    "start_time": "2022-01-14T18:53:22.932Z"
   },
   {
    "duration": 2,
    "start_time": "2022-01-14T18:53:22.970Z"
   },
   {
    "duration": 8,
    "start_time": "2022-01-14T18:53:22.974Z"
   },
   {
    "duration": 5,
    "start_time": "2022-01-14T18:53:22.984Z"
   },
   {
    "duration": 9,
    "start_time": "2022-01-14T18:53:22.990Z"
   },
   {
    "duration": 332,
    "start_time": "2022-01-14T18:53:23.000Z"
   },
   {
    "duration": 7,
    "start_time": "2022-01-14T18:53:23.335Z"
   },
   {
    "duration": 16,
    "start_time": "2022-01-14T18:53:23.344Z"
   },
   {
    "duration": 4,
    "start_time": "2022-01-14T18:53:23.362Z"
   },
   {
    "duration": 5,
    "start_time": "2022-01-14T18:53:23.368Z"
   },
   {
    "duration": 23,
    "start_time": "2022-01-14T18:53:23.375Z"
   },
   {
    "duration": 4,
    "start_time": "2022-01-14T18:53:23.400Z"
   },
   {
    "duration": 1054,
    "start_time": "2022-01-14T18:53:23.406Z"
   },
   {
    "duration": 8,
    "start_time": "2022-01-14T18:53:24.462Z"
   },
   {
    "duration": 32,
    "start_time": "2022-01-14T18:53:24.471Z"
   },
   {
    "duration": 5,
    "start_time": "2022-01-14T18:53:24.505Z"
   },
   {
    "duration": 34,
    "start_time": "2022-01-14T18:53:24.512Z"
   },
   {
    "duration": 21,
    "start_time": "2022-01-14T18:53:24.547Z"
   },
   {
    "duration": 2011,
    "start_time": "2022-01-14T18:53:24.569Z"
   },
   {
    "duration": 2,
    "start_time": "2022-01-14T18:53:26.582Z"
   },
   {
    "duration": 7,
    "start_time": "2022-01-14T18:53:26.586Z"
   },
   {
    "duration": 489,
    "start_time": "2022-01-14T18:53:26.597Z"
   },
   {
    "duration": 393,
    "start_time": "2022-01-14T18:53:27.088Z"
   },
   {
    "duration": 4,
    "start_time": "2022-01-14T18:53:27.483Z"
   },
   {
    "duration": 311,
    "start_time": "2022-01-14T18:53:27.489Z"
   },
   {
    "duration": 306,
    "start_time": "2022-01-14T18:53:27.802Z"
   },
   {
    "duration": 9,
    "start_time": "2022-01-14T18:53:28.109Z"
   },
   {
    "duration": 681,
    "start_time": "2022-01-14T18:53:28.120Z"
   },
   {
    "duration": 9,
    "start_time": "2022-01-14T18:53:28.803Z"
   },
   {
    "duration": 6,
    "start_time": "2022-01-14T18:53:28.814Z"
   },
   {
    "duration": 21,
    "start_time": "2022-01-14T18:53:28.821Z"
   },
   {
    "duration": 16,
    "start_time": "2022-01-14T18:53:28.844Z"
   },
   {
    "duration": 9,
    "start_time": "2022-01-14T18:53:28.862Z"
   },
   {
    "duration": 11,
    "start_time": "2022-01-14T18:53:28.872Z"
   },
   {
    "duration": 8,
    "start_time": "2022-01-14T18:53:28.885Z"
   },
   {
    "duration": 8,
    "start_time": "2022-01-14T18:53:28.895Z"
   },
   {
    "duration": 8,
    "start_time": "2022-01-14T18:53:28.905Z"
   },
   {
    "duration": 5,
    "start_time": "2022-01-14T18:53:28.915Z"
   },
   {
    "duration": 5,
    "start_time": "2022-01-14T18:53:28.922Z"
   },
   {
    "duration": 32,
    "start_time": "2022-01-14T18:53:28.929Z"
   },
   {
    "duration": 14,
    "start_time": "2022-01-14T18:53:28.962Z"
   },
   {
    "duration": 12,
    "start_time": "2022-01-14T18:53:28.977Z"
   },
   {
    "duration": 8,
    "start_time": "2022-01-14T18:53:28.991Z"
   },
   {
    "duration": 11,
    "start_time": "2022-01-14T18:53:29.000Z"
   },
   {
    "duration": 5,
    "start_time": "2022-01-14T18:53:29.012Z"
   },
   {
    "duration": 5,
    "start_time": "2022-01-14T18:53:35.274Z"
   },
   {
    "duration": 13,
    "start_time": "2022-01-14T18:53:37.009Z"
   },
   {
    "duration": 82,
    "start_time": "2022-01-14T18:58:46.261Z"
   },
   {
    "duration": 14,
    "start_time": "2022-01-14T18:58:59.157Z"
   },
   {
    "duration": 10,
    "start_time": "2022-01-14T18:59:14.423Z"
   },
   {
    "duration": 7983,
    "start_time": "2022-01-14T18:59:59.967Z"
   },
   {
    "duration": 6549,
    "start_time": "2022-01-14T19:00:09.591Z"
   },
   {
    "duration": 7,
    "start_time": "2022-01-14T19:00:36.031Z"
   },
   {
    "duration": 9,
    "start_time": "2022-01-14T19:00:43.112Z"
   },
   {
    "duration": 3,
    "start_time": "2022-01-14T19:00:51.223Z"
   },
   {
    "duration": 6437,
    "start_time": "2022-01-14T19:00:56.400Z"
   },
   {
    "duration": 8444,
    "start_time": "2022-01-14T19:01:25.295Z"
   },
   {
    "duration": 244,
    "start_time": "2022-01-14T19:02:11.742Z"
   },
   {
    "duration": 4,
    "start_time": "2022-01-14T19:02:14.304Z"
   },
   {
    "duration": 5,
    "start_time": "2022-01-14T19:02:26.161Z"
   },
   {
    "duration": 8,
    "start_time": "2022-01-14T19:02:30.633Z"
   },
   {
    "duration": 5,
    "start_time": "2022-01-14T19:02:41.608Z"
   },
   {
    "duration": 8,
    "start_time": "2022-01-14T19:02:43.208Z"
   },
   {
    "duration": 797,
    "start_time": "2022-01-14T19:03:15.980Z"
   },
   {
    "duration": 39,
    "start_time": "2022-01-14T19:03:16.779Z"
   },
   {
    "duration": 3,
    "start_time": "2022-01-14T19:03:16.821Z"
   },
   {
    "duration": 8,
    "start_time": "2022-01-14T19:03:16.826Z"
   },
   {
    "duration": 7,
    "start_time": "2022-01-14T19:03:16.836Z"
   },
   {
    "duration": 11,
    "start_time": "2022-01-14T19:03:16.844Z"
   },
   {
    "duration": 341,
    "start_time": "2022-01-14T19:03:16.861Z"
   },
   {
    "duration": 7,
    "start_time": "2022-01-14T19:03:17.204Z"
   },
   {
    "duration": 5,
    "start_time": "2022-01-14T19:03:17.213Z"
   },
   {
    "duration": 7,
    "start_time": "2022-01-14T19:03:17.219Z"
   },
   {
    "duration": 8,
    "start_time": "2022-01-14T19:03:17.227Z"
   },
   {
    "duration": 39,
    "start_time": "2022-01-14T19:03:17.237Z"
   },
   {
    "duration": 5,
    "start_time": "2022-01-14T19:03:17.278Z"
   },
   {
    "duration": 1056,
    "start_time": "2022-01-14T19:03:17.285Z"
   },
   {
    "duration": 6,
    "start_time": "2022-01-14T19:03:18.342Z"
   },
   {
    "duration": 41,
    "start_time": "2022-01-14T19:03:18.350Z"
   },
   {
    "duration": 5,
    "start_time": "2022-01-14T19:03:18.392Z"
   },
   {
    "duration": 36,
    "start_time": "2022-01-14T19:03:18.399Z"
   },
   {
    "duration": 24,
    "start_time": "2022-01-14T19:03:18.436Z"
   },
   {
    "duration": 2070,
    "start_time": "2022-01-14T19:03:18.461Z"
   },
   {
    "duration": 3,
    "start_time": "2022-01-14T19:03:20.533Z"
   },
   {
    "duration": 12,
    "start_time": "2022-01-14T19:03:20.538Z"
   },
   {
    "duration": 379,
    "start_time": "2022-01-14T19:03:20.564Z"
   },
   {
    "duration": 419,
    "start_time": "2022-01-14T19:03:20.945Z"
   },
   {
    "duration": 7,
    "start_time": "2022-01-14T19:03:21.366Z"
   },
   {
    "duration": 355,
    "start_time": "2022-01-14T19:03:21.375Z"
   },
   {
    "duration": 370,
    "start_time": "2022-01-14T19:03:21.732Z"
   },
   {
    "duration": 9,
    "start_time": "2022-01-14T19:03:22.104Z"
   },
   {
    "duration": 702,
    "start_time": "2022-01-14T19:03:22.115Z"
   },
   {
    "duration": 9,
    "start_time": "2022-01-14T19:03:22.818Z"
   },
   {
    "duration": 5,
    "start_time": "2022-01-14T19:03:22.828Z"
   },
   {
    "duration": 41,
    "start_time": "2022-01-14T19:03:22.835Z"
   },
   {
    "duration": 3,
    "start_time": "2022-01-14T19:03:22.877Z"
   },
   {
    "duration": 10,
    "start_time": "2022-01-14T19:03:22.881Z"
   },
   {
    "duration": 12,
    "start_time": "2022-01-14T19:03:22.893Z"
   },
   {
    "duration": 8,
    "start_time": "2022-01-14T19:03:22.907Z"
   },
   {
    "duration": 3,
    "start_time": "2022-01-14T19:03:22.916Z"
   },
   {
    "duration": 5,
    "start_time": "2022-01-14T19:03:22.921Z"
   },
   {
    "duration": 6,
    "start_time": "2022-01-14T19:03:36.470Z"
   },
   {
    "duration": 8,
    "start_time": "2022-01-14T19:03:37.830Z"
   },
   {
    "duration": 3,
    "start_time": "2022-01-14T19:04:06.283Z"
   },
   {
    "duration": 7,
    "start_time": "2022-01-14T19:04:12.946Z"
   },
   {
    "duration": 16,
    "start_time": "2022-01-14T19:05:37.645Z"
   },
   {
    "duration": 7,
    "start_time": "2022-01-14T19:05:42.154Z"
   },
   {
    "duration": 11,
    "start_time": "2022-01-14T19:06:59.943Z"
   },
   {
    "duration": 6,
    "start_time": "2022-01-14T19:07:10.173Z"
   },
   {
    "duration": 16,
    "start_time": "2022-01-14T19:08:09.646Z"
   },
   {
    "duration": 8,
    "start_time": "2022-01-14T19:08:12.518Z"
   },
   {
    "duration": 8,
    "start_time": "2022-01-14T19:09:57.570Z"
   },
   {
    "duration": 4,
    "start_time": "2022-01-14T19:10:23.671Z"
   },
   {
    "duration": 3,
    "start_time": "2022-01-14T19:10:56.626Z"
   },
   {
    "duration": 40,
    "start_time": "2022-01-14T19:10:56.633Z"
   },
   {
    "duration": 3,
    "start_time": "2022-01-14T19:10:56.675Z"
   },
   {
    "duration": 9,
    "start_time": "2022-01-14T19:10:56.680Z"
   },
   {
    "duration": 6,
    "start_time": "2022-01-14T19:10:56.690Z"
   },
   {
    "duration": 8,
    "start_time": "2022-01-14T19:10:56.698Z"
   },
   {
    "duration": 331,
    "start_time": "2022-01-14T19:10:56.708Z"
   },
   {
    "duration": 6,
    "start_time": "2022-01-14T19:10:57.041Z"
   },
   {
    "duration": 5,
    "start_time": "2022-01-14T19:10:57.059Z"
   },
   {
    "duration": 4,
    "start_time": "2022-01-14T19:10:57.066Z"
   },
   {
    "duration": 6,
    "start_time": "2022-01-14T19:10:57.072Z"
   },
   {
    "duration": 17,
    "start_time": "2022-01-14T19:10:57.079Z"
   },
   {
    "duration": 4,
    "start_time": "2022-01-14T19:10:57.098Z"
   },
   {
    "duration": 1075,
    "start_time": "2022-01-14T19:10:57.103Z"
   },
   {
    "duration": 5,
    "start_time": "2022-01-14T19:10:58.180Z"
   },
   {
    "duration": 24,
    "start_time": "2022-01-14T19:10:58.187Z"
   },
   {
    "duration": 5,
    "start_time": "2022-01-14T19:10:58.212Z"
   },
   {
    "duration": 44,
    "start_time": "2022-01-14T19:10:58.218Z"
   },
   {
    "duration": 14,
    "start_time": "2022-01-14T19:10:58.263Z"
   },
   {
    "duration": 1945,
    "start_time": "2022-01-14T19:10:58.279Z"
   },
   {
    "duration": 2,
    "start_time": "2022-01-14T19:11:00.226Z"
   },
   {
    "duration": 16,
    "start_time": "2022-01-14T19:11:00.230Z"
   },
   {
    "duration": 389,
    "start_time": "2022-01-14T19:11:00.248Z"
   },
   {
    "duration": 418,
    "start_time": "2022-01-14T19:11:00.640Z"
   },
   {
    "duration": 5,
    "start_time": "2022-01-14T19:11:01.060Z"
   },
   {
    "duration": 337,
    "start_time": "2022-01-14T19:11:01.067Z"
   },
   {
    "duration": 310,
    "start_time": "2022-01-14T19:11:01.405Z"
   },
   {
    "duration": 9,
    "start_time": "2022-01-14T19:11:01.717Z"
   },
   {
    "duration": 759,
    "start_time": "2022-01-14T19:11:01.728Z"
   },
   {
    "duration": 9,
    "start_time": "2022-01-14T19:11:02.489Z"
   },
   {
    "duration": 6,
    "start_time": "2022-01-14T19:11:02.500Z"
   },
   {
    "duration": 21,
    "start_time": "2022-01-14T19:11:02.507Z"
   },
   {
    "duration": 3,
    "start_time": "2022-01-14T19:11:02.530Z"
   },
   {
    "duration": 31,
    "start_time": "2022-01-14T19:11:02.534Z"
   },
   {
    "duration": 5,
    "start_time": "2022-01-14T19:11:06.473Z"
   },
   {
    "duration": 8,
    "start_time": "2022-01-14T19:11:23.202Z"
   },
   {
    "duration": 9,
    "start_time": "2022-01-14T19:11:51.324Z"
   },
   {
    "duration": 13,
    "start_time": "2022-01-14T19:12:48.627Z"
   },
   {
    "duration": 15,
    "start_time": "2022-01-14T19:12:49.970Z"
   },
   {
    "duration": 13,
    "start_time": "2022-01-14T19:12:51.945Z"
   },
   {
    "duration": 9,
    "start_time": "2022-01-14T19:12:53.357Z"
   },
   {
    "duration": 8,
    "start_time": "2022-01-14T19:12:57.003Z"
   },
   {
    "duration": 666,
    "start_time": "2022-01-14T19:13:13.723Z"
   },
   {
    "duration": 38,
    "start_time": "2022-01-14T19:13:14.391Z"
   },
   {
    "duration": 3,
    "start_time": "2022-01-14T19:13:14.431Z"
   },
   {
    "duration": 14,
    "start_time": "2022-01-14T19:13:14.436Z"
   },
   {
    "duration": 9,
    "start_time": "2022-01-14T19:13:14.452Z"
   },
   {
    "duration": 10,
    "start_time": "2022-01-14T19:13:14.463Z"
   },
   {
    "duration": 328,
    "start_time": "2022-01-14T19:13:14.475Z"
   },
   {
    "duration": 8,
    "start_time": "2022-01-14T19:13:14.805Z"
   },
   {
    "duration": 5,
    "start_time": "2022-01-14T19:13:14.815Z"
   },
   {
    "duration": 4,
    "start_time": "2022-01-14T19:13:14.822Z"
   },
   {
    "duration": 33,
    "start_time": "2022-01-14T19:13:14.828Z"
   },
   {
    "duration": 29,
    "start_time": "2022-01-14T19:13:14.864Z"
   },
   {
    "duration": 7,
    "start_time": "2022-01-14T19:13:14.895Z"
   },
   {
    "duration": 1434,
    "start_time": "2022-01-14T19:13:14.904Z"
   },
   {
    "duration": 7,
    "start_time": "2022-01-14T19:13:16.340Z"
   },
   {
    "duration": 37,
    "start_time": "2022-01-14T19:13:16.348Z"
   },
   {
    "duration": 5,
    "start_time": "2022-01-14T19:13:16.387Z"
   },
   {
    "duration": 21,
    "start_time": "2022-01-14T19:13:16.394Z"
   },
   {
    "duration": 12,
    "start_time": "2022-01-14T19:13:16.417Z"
   },
   {
    "duration": 2037,
    "start_time": "2022-01-14T19:13:16.430Z"
   },
   {
    "duration": 2,
    "start_time": "2022-01-14T19:13:18.469Z"
   },
   {
    "duration": 12,
    "start_time": "2022-01-14T19:13:18.473Z"
   },
   {
    "duration": 392,
    "start_time": "2022-01-14T19:13:18.486Z"
   },
   {
    "duration": 401,
    "start_time": "2022-01-14T19:13:18.880Z"
   },
   {
    "duration": 5,
    "start_time": "2022-01-14T19:13:19.283Z"
   },
   {
    "duration": 309,
    "start_time": "2022-01-14T19:13:19.290Z"
   },
   {
    "duration": 299,
    "start_time": "2022-01-14T19:13:19.604Z"
   },
   {
    "duration": 11,
    "start_time": "2022-01-14T19:13:19.905Z"
   },
   {
    "duration": 668,
    "start_time": "2022-01-14T19:13:19.917Z"
   },
   {
    "duration": 9,
    "start_time": "2022-01-14T19:13:20.586Z"
   },
   {
    "duration": 6,
    "start_time": "2022-01-14T19:13:20.597Z"
   },
   {
    "duration": 19,
    "start_time": "2022-01-14T19:13:20.605Z"
   },
   {
    "duration": 3,
    "start_time": "2022-01-14T19:13:20.626Z"
   },
   {
    "duration": 39,
    "start_time": "2022-01-14T19:13:20.631Z"
   },
   {
    "duration": 13,
    "start_time": "2022-01-14T19:13:20.672Z"
   },
   {
    "duration": 12,
    "start_time": "2022-01-14T19:13:20.687Z"
   },
   {
    "duration": 11,
    "start_time": "2022-01-14T19:13:20.701Z"
   },
   {
    "duration": 8,
    "start_time": "2022-01-14T19:13:22.650Z"
   },
   {
    "duration": 8,
    "start_time": "2022-01-14T19:13:58.894Z"
   },
   {
    "duration": 9,
    "start_time": "2022-01-14T19:14:06.190Z"
   },
   {
    "duration": 8,
    "start_time": "2022-01-14T19:14:24.156Z"
   },
   {
    "duration": 8,
    "start_time": "2022-01-14T19:14:34.839Z"
   },
   {
    "duration": 8,
    "start_time": "2022-01-14T19:14:53.132Z"
   },
   {
    "duration": 8,
    "start_time": "2022-01-14T19:14:54.245Z"
   },
   {
    "duration": 10,
    "start_time": "2022-01-14T19:15:24.174Z"
   },
   {
    "duration": 9,
    "start_time": "2022-01-14T19:15:41.088Z"
   },
   {
    "duration": 13,
    "start_time": "2022-01-14T19:15:52.552Z"
   },
   {
    "duration": 11,
    "start_time": "2022-01-14T19:15:57.726Z"
   },
   {
    "duration": 15,
    "start_time": "2022-01-14T19:17:27.347Z"
   },
   {
    "duration": 9,
    "start_time": "2022-01-14T19:17:34.618Z"
   },
   {
    "duration": 15,
    "start_time": "2022-01-14T19:18:15.326Z"
   },
   {
    "duration": 9,
    "start_time": "2022-01-14T19:18:19.109Z"
   },
   {
    "duration": 17,
    "start_time": "2022-01-14T19:18:42.584Z"
   },
   {
    "duration": 8,
    "start_time": "2022-01-14T19:18:47.164Z"
   },
   {
    "duration": 14,
    "start_time": "2022-01-14T19:18:56.755Z"
   },
   {
    "duration": 14,
    "start_time": "2022-01-14T19:19:35.100Z"
   },
   {
    "duration": 9,
    "start_time": "2022-01-14T19:19:52.461Z"
   },
   {
    "duration": 15,
    "start_time": "2022-01-14T19:20:29.956Z"
   },
   {
    "duration": 16,
    "start_time": "2022-01-14T19:20:32.829Z"
   },
   {
    "duration": 9,
    "start_time": "2022-01-14T19:20:39.221Z"
   },
   {
    "duration": 14,
    "start_time": "2022-01-14T19:20:45.949Z"
   },
   {
    "duration": 14,
    "start_time": "2022-01-14T19:20:47.092Z"
   },
   {
    "duration": 15,
    "start_time": "2022-01-14T19:20:48.354Z"
   },
   {
    "duration": 16,
    "start_time": "2022-01-14T19:20:51.223Z"
   },
   {
    "duration": 14,
    "start_time": "2022-01-14T19:20:55.214Z"
   },
   {
    "duration": 84,
    "start_time": "2022-01-14T19:21:46.229Z"
   },
   {
    "duration": 7,
    "start_time": "2022-01-14T19:21:51.602Z"
   },
   {
    "duration": 14,
    "start_time": "2022-01-14T19:21:56.057Z"
   },
   {
    "duration": 3,
    "start_time": "2022-01-14T19:22:07.644Z"
   },
   {
    "duration": 4,
    "start_time": "2022-01-14T19:22:13.362Z"
   },
   {
    "duration": 17,
    "start_time": "2022-01-14T19:22:17.837Z"
   },
   {
    "duration": 18,
    "start_time": "2022-01-14T19:26:02.961Z"
   },
   {
    "duration": 304,
    "start_time": "2022-01-14T19:26:11.340Z"
   },
   {
    "duration": 9,
    "start_time": "2022-01-14T19:26:15.696Z"
   },
   {
    "duration": 6750,
    "start_time": "2022-01-14T19:27:39.044Z"
   },
   {
    "duration": 16,
    "start_time": "2022-01-14T19:28:07.851Z"
   },
   {
    "duration": 9,
    "start_time": "2022-01-14T19:28:14.160Z"
   },
   {
    "duration": 14,
    "start_time": "2022-01-14T19:29:31.673Z"
   },
   {
    "duration": 7,
    "start_time": "2022-01-14T19:30:56.602Z"
   },
   {
    "duration": 12,
    "start_time": "2022-01-14T19:31:04.953Z"
   },
   {
    "duration": 3,
    "start_time": "2022-01-14T19:31:13.938Z"
   },
   {
    "duration": 12,
    "start_time": "2022-01-14T19:31:21.019Z"
   },
   {
    "duration": 19,
    "start_time": "2022-01-14T19:32:16.388Z"
   },
   {
    "duration": 5,
    "start_time": "2022-01-14T19:32:27.998Z"
   },
   {
    "duration": 19,
    "start_time": "2022-01-14T19:33:03.757Z"
   },
   {
    "duration": 88,
    "start_time": "2022-01-14T19:34:55.720Z"
   },
   {
    "duration": 45,
    "start_time": "2022-01-14T19:35:30.442Z"
   },
   {
    "duration": 14,
    "start_time": "2022-01-14T19:36:04.518Z"
   },
   {
    "duration": 34,
    "start_time": "2022-01-14T19:36:33.829Z"
   },
   {
    "duration": 3,
    "start_time": "2022-01-14T19:38:29.551Z"
   },
   {
    "duration": 272,
    "start_time": "2022-01-14T19:38:50.222Z"
   },
   {
    "duration": 268,
    "start_time": "2022-01-14T19:42:54.002Z"
   },
   {
    "duration": 3,
    "start_time": "2022-01-14T19:45:15.180Z"
   },
   {
    "duration": 281,
    "start_time": "2022-01-14T19:45:21.989Z"
   },
   {
    "duration": 36,
    "start_time": "2022-01-14T19:46:55.489Z"
   },
   {
    "duration": 21,
    "start_time": "2022-01-14T19:47:38.727Z"
   },
   {
    "duration": 38,
    "start_time": "2022-01-14T19:48:36.666Z"
   },
   {
    "duration": 39,
    "start_time": "2022-01-14T19:53:31.899Z"
   },
   {
    "duration": 67,
    "start_time": "2022-01-14T19:55:03.840Z"
   },
   {
    "duration": 17,
    "start_time": "2022-01-14T19:56:31.433Z"
   },
   {
    "duration": 16,
    "start_time": "2022-01-14T19:56:41.552Z"
   },
   {
    "duration": 11,
    "start_time": "2022-01-14T19:57:34.099Z"
   },
   {
    "duration": 9,
    "start_time": "2022-01-14T19:57:44.976Z"
   },
   {
    "duration": 3,
    "start_time": "2022-01-14T19:58:41.739Z"
   },
   {
    "duration": 8,
    "start_time": "2022-01-14T19:58:48.332Z"
   },
   {
    "duration": 6,
    "start_time": "2022-01-14T19:59:37.756Z"
   },
   {
    "duration": 7,
    "start_time": "2022-01-14T19:59:43.229Z"
   },
   {
    "duration": 724,
    "start_time": "2022-01-14T20:00:01.790Z"
   },
   {
    "duration": 38,
    "start_time": "2022-01-14T20:00:02.516Z"
   },
   {
    "duration": 3,
    "start_time": "2022-01-14T20:00:02.557Z"
   },
   {
    "duration": 15,
    "start_time": "2022-01-14T20:00:02.562Z"
   },
   {
    "duration": 12,
    "start_time": "2022-01-14T20:00:02.579Z"
   },
   {
    "duration": 15,
    "start_time": "2022-01-14T20:00:02.593Z"
   },
   {
    "duration": 324,
    "start_time": "2022-01-14T20:00:02.610Z"
   },
   {
    "duration": 8,
    "start_time": "2022-01-14T20:00:02.936Z"
   },
   {
    "duration": 16,
    "start_time": "2022-01-14T20:00:02.946Z"
   },
   {
    "duration": 10,
    "start_time": "2022-01-14T20:00:02.963Z"
   },
   {
    "duration": 8,
    "start_time": "2022-01-14T20:00:02.974Z"
   },
   {
    "duration": 22,
    "start_time": "2022-01-14T20:00:02.984Z"
   },
   {
    "duration": 5,
    "start_time": "2022-01-14T20:00:03.008Z"
   },
   {
    "duration": 1095,
    "start_time": "2022-01-14T20:00:03.014Z"
   },
   {
    "duration": 6,
    "start_time": "2022-01-14T20:00:04.111Z"
   },
   {
    "duration": 44,
    "start_time": "2022-01-14T20:00:04.119Z"
   },
   {
    "duration": 5,
    "start_time": "2022-01-14T20:00:04.165Z"
   },
   {
    "duration": 26,
    "start_time": "2022-01-14T20:00:04.171Z"
   },
   {
    "duration": 13,
    "start_time": "2022-01-14T20:00:04.199Z"
   },
   {
    "duration": 2051,
    "start_time": "2022-01-14T20:00:04.213Z"
   },
   {
    "duration": 3,
    "start_time": "2022-01-14T20:00:06.265Z"
   },
   {
    "duration": 13,
    "start_time": "2022-01-14T20:00:06.270Z"
   },
   {
    "duration": 394,
    "start_time": "2022-01-14T20:00:06.287Z"
   },
   {
    "duration": 437,
    "start_time": "2022-01-14T20:00:06.684Z"
   },
   {
    "duration": 6,
    "start_time": "2022-01-14T20:00:07.123Z"
   },
   {
    "duration": 380,
    "start_time": "2022-01-14T20:00:07.131Z"
   },
   {
    "duration": 324,
    "start_time": "2022-01-14T20:00:07.513Z"
   },
   {
    "duration": 10,
    "start_time": "2022-01-14T20:00:07.839Z"
   },
   {
    "duration": 655,
    "start_time": "2022-01-14T20:00:07.861Z"
   },
   {
    "duration": 11,
    "start_time": "2022-01-14T20:00:08.518Z"
   },
   {
    "duration": 47,
    "start_time": "2022-01-14T20:00:08.531Z"
   },
   {
    "duration": 35,
    "start_time": "2022-01-14T20:00:08.580Z"
   },
   {
    "duration": 9,
    "start_time": "2022-01-14T20:00:08.616Z"
   },
   {
    "duration": 35,
    "start_time": "2022-01-14T20:00:08.627Z"
   },
   {
    "duration": 32,
    "start_time": "2022-01-14T20:00:08.664Z"
   },
   {
    "duration": 35,
    "start_time": "2022-01-14T20:00:08.698Z"
   },
   {
    "duration": 32,
    "start_time": "2022-01-14T20:00:08.735Z"
   },
   {
    "duration": 33,
    "start_time": "2022-01-14T20:00:08.768Z"
   },
   {
    "duration": 17,
    "start_time": "2022-01-14T20:00:08.803Z"
   },
   {
    "duration": 32,
    "start_time": "2022-01-14T20:00:08.822Z"
   },
   {
    "duration": 34,
    "start_time": "2022-01-14T20:00:08.856Z"
   },
   {
    "duration": 54,
    "start_time": "2022-01-14T20:00:08.892Z"
   },
   {
    "duration": 27,
    "start_time": "2022-01-14T20:00:08.948Z"
   },
   {
    "duration": 45,
    "start_time": "2022-01-14T20:00:08.977Z"
   },
   {
    "duration": 147,
    "start_time": "2022-01-14T20:00:09.024Z"
   },
   {
    "duration": 33,
    "start_time": "2022-01-14T20:00:09.173Z"
   },
   {
    "duration": 48,
    "start_time": "2022-01-14T20:00:09.214Z"
   },
   {
    "duration": 41,
    "start_time": "2022-01-14T20:00:09.263Z"
   },
   {
    "duration": 41,
    "start_time": "2022-01-14T20:00:09.305Z"
   },
   {
    "duration": 5,
    "start_time": "2022-01-14T20:00:31.330Z"
   },
   {
    "duration": 8,
    "start_time": "2022-01-14T20:00:32.319Z"
   },
   {
    "duration": 320,
    "start_time": "2022-01-14T20:00:58.372Z"
   },
   {
    "duration": 569,
    "start_time": "2022-01-14T20:01:39.594Z"
   },
   {
    "duration": 251,
    "start_time": "2022-01-14T20:01:54.970Z"
   },
   {
    "duration": 261,
    "start_time": "2022-01-14T20:02:21.190Z"
   },
   {
    "duration": 287,
    "start_time": "2022-01-14T20:02:32.041Z"
   },
   {
    "duration": 495,
    "start_time": "2022-01-14T20:03:41.864Z"
   },
   {
    "duration": 289,
    "start_time": "2022-01-14T20:03:50.442Z"
   },
   {
    "duration": 294,
    "start_time": "2022-01-14T20:03:54.934Z"
   },
   {
    "duration": 21,
    "start_time": "2022-01-14T20:07:07.967Z"
   },
   {
    "duration": 281,
    "start_time": "2022-01-14T20:10:22.555Z"
   },
   {
    "duration": 335,
    "start_time": "2022-01-14T20:11:47.981Z"
   },
   {
    "duration": 2000,
    "start_time": "2022-01-14T20:11:54.963Z"
   },
   {
    "duration": 188,
    "start_time": "2022-01-14T20:12:07.788Z"
   },
   {
    "duration": 259,
    "start_time": "2022-01-14T20:12:24.445Z"
   },
   {
    "duration": 1059,
    "start_time": "2022-01-14T20:12:34.565Z"
   },
   {
    "duration": 363,
    "start_time": "2022-01-15T07:31:08.439Z"
   },
   {
    "duration": 2153,
    "start_time": "2022-01-15T07:31:20.799Z"
   },
   {
    "duration": 68,
    "start_time": "2022-01-15T07:31:22.955Z"
   },
   {
    "duration": 5,
    "start_time": "2022-01-15T07:31:23.027Z"
   },
   {
    "duration": 15,
    "start_time": "2022-01-15T07:31:23.036Z"
   },
   {
    "duration": 8,
    "start_time": "2022-01-15T07:31:23.063Z"
   },
   {
    "duration": 12,
    "start_time": "2022-01-15T07:31:23.074Z"
   },
   {
    "duration": 967,
    "start_time": "2022-01-15T07:31:23.090Z"
   },
   {
    "duration": 12,
    "start_time": "2022-01-15T07:31:24.066Z"
   },
   {
    "duration": 9,
    "start_time": "2022-01-15T07:31:24.082Z"
   },
   {
    "duration": 5,
    "start_time": "2022-01-15T07:31:24.094Z"
   },
   {
    "duration": 6,
    "start_time": "2022-01-15T07:31:24.102Z"
   },
   {
    "duration": 102,
    "start_time": "2022-01-15T07:31:24.111Z"
   },
   {
    "duration": 10,
    "start_time": "2022-01-15T07:31:24.216Z"
   },
   {
    "duration": 1818,
    "start_time": "2022-01-15T07:31:24.228Z"
   },
   {
    "duration": 20,
    "start_time": "2022-01-15T07:31:26.049Z"
   },
   {
    "duration": 40,
    "start_time": "2022-01-15T07:31:26.071Z"
   },
   {
    "duration": 93,
    "start_time": "2022-01-15T07:31:26.113Z"
   },
   {
    "duration": 66,
    "start_time": "2022-01-15T07:31:26.209Z"
   },
   {
    "duration": 30,
    "start_time": "2022-01-15T07:31:26.278Z"
   },
   {
    "duration": 3513,
    "start_time": "2022-01-15T07:31:26.311Z"
   },
   {
    "duration": 4,
    "start_time": "2022-01-15T07:31:29.827Z"
   },
   {
    "duration": 9,
    "start_time": "2022-01-15T07:31:29.833Z"
   },
   {
    "duration": 639,
    "start_time": "2022-01-15T07:31:29.865Z"
   },
   {
    "duration": 775,
    "start_time": "2022-01-15T07:31:30.507Z"
   },
   {
    "duration": 9,
    "start_time": "2022-01-15T07:31:31.285Z"
   },
   {
    "duration": 466,
    "start_time": "2022-01-15T07:31:31.297Z"
   },
   {
    "duration": 462,
    "start_time": "2022-01-15T07:31:31.766Z"
   },
   {
    "duration": 15,
    "start_time": "2022-01-15T07:31:32.231Z"
   },
   {
    "duration": 902,
    "start_time": "2022-01-15T07:31:32.264Z"
   },
   {
    "duration": 13,
    "start_time": "2022-01-15T07:31:33.168Z"
   },
   {
    "duration": 15,
    "start_time": "2022-01-15T07:31:33.184Z"
   },
   {
    "duration": 70,
    "start_time": "2022-01-15T07:31:33.202Z"
   },
   {
    "duration": 5,
    "start_time": "2022-01-15T07:31:33.275Z"
   },
   {
    "duration": 16,
    "start_time": "2022-01-15T07:31:33.283Z"
   },
   {
    "duration": 23,
    "start_time": "2022-01-15T07:31:33.303Z"
   },
   {
    "duration": 57,
    "start_time": "2022-01-15T07:31:33.328Z"
   },
   {
    "duration": 25,
    "start_time": "2022-01-15T07:31:33.388Z"
   },
   {
    "duration": 12,
    "start_time": "2022-01-15T07:31:33.416Z"
   },
   {
    "duration": 35,
    "start_time": "2022-01-15T07:31:33.430Z"
   },
   {
    "duration": 23,
    "start_time": "2022-01-15T07:31:33.468Z"
   },
   {
    "duration": 27,
    "start_time": "2022-01-15T07:31:33.494Z"
   },
   {
    "duration": 51,
    "start_time": "2022-01-15T07:31:33.524Z"
   },
   {
    "duration": 23,
    "start_time": "2022-01-15T07:31:33.578Z"
   },
   {
    "duration": 15,
    "start_time": "2022-01-15T07:31:33.603Z"
   },
   {
    "duration": 5,
    "start_time": "2022-01-15T07:31:33.622Z"
   },
   {
    "duration": 20,
    "start_time": "2022-01-15T07:31:33.664Z"
   },
   {
    "duration": 21,
    "start_time": "2022-01-15T07:31:33.687Z"
   },
   {
    "duration": 15,
    "start_time": "2022-01-15T07:31:33.711Z"
   },
   {
    "duration": 11,
    "start_time": "2022-01-15T07:31:33.764Z"
   },
   {
    "duration": 574,
    "start_time": "2022-01-15T07:31:33.778Z"
   },
   {
    "duration": 742,
    "start_time": "2022-01-15T07:31:34.363Z"
   },
   {
    "duration": 13,
    "start_time": "2022-01-15T07:34:00.259Z"
   },
   {
    "duration": 10,
    "start_time": "2022-01-15T07:34:35.898Z"
   },
   {
    "duration": 31,
    "start_time": "2022-01-15T07:45:49.450Z"
   },
   {
    "duration": 6,
    "start_time": "2022-01-15T07:46:03.931Z"
   },
   {
    "duration": 10,
    "start_time": "2022-01-15T07:47:13.357Z"
   },
   {
    "duration": 8,
    "start_time": "2022-01-15T07:48:09.531Z"
   },
   {
    "duration": 11,
    "start_time": "2022-01-15T07:48:22.516Z"
   },
   {
    "duration": 14,
    "start_time": "2022-01-15T07:48:35.427Z"
   },
   {
    "duration": 49,
    "start_time": "2022-01-15T07:48:42.318Z"
   },
   {
    "duration": 14,
    "start_time": "2022-01-15T07:48:50.728Z"
   },
   {
    "duration": 10,
    "start_time": "2022-01-15T07:49:32.798Z"
   },
   {
    "duration": 13,
    "start_time": "2022-01-15T07:49:49.430Z"
   },
   {
    "duration": 5,
    "start_time": "2022-01-15T07:52:31.316Z"
   },
   {
    "duration": 16,
    "start_time": "2022-01-15T07:53:11.375Z"
   },
   {
    "duration": 5,
    "start_time": "2022-01-15T07:53:21.861Z"
   },
   {
    "duration": 5,
    "start_time": "2022-01-15T07:53:37.908Z"
   },
   {
    "duration": 11,
    "start_time": "2022-01-15T07:53:52.788Z"
   },
   {
    "duration": 11,
    "start_time": "2022-01-15T07:54:03.406Z"
   },
   {
    "duration": 8,
    "start_time": "2022-01-15T07:54:16.023Z"
   },
   {
    "duration": 11,
    "start_time": "2022-01-15T07:54:51.922Z"
   },
   {
    "duration": 4,
    "start_time": "2022-01-15T07:55:00.216Z"
   },
   {
    "duration": 5,
    "start_time": "2022-01-15T07:55:06.175Z"
   },
   {
    "duration": 12,
    "start_time": "2022-01-15T07:55:51.641Z"
   },
   {
    "duration": 5,
    "start_time": "2022-01-15T07:56:12.116Z"
   },
   {
    "duration": 6,
    "start_time": "2022-01-15T07:56:13.369Z"
   },
   {
    "duration": 5,
    "start_time": "2022-01-15T07:56:30.343Z"
   },
   {
    "duration": 5,
    "start_time": "2022-01-15T07:56:34.058Z"
   },
   {
    "duration": 442,
    "start_time": "2022-01-15T07:56:57.894Z"
   },
   {
    "duration": 332,
    "start_time": "2022-01-15T08:02:37.042Z"
   },
   {
    "duration": 305,
    "start_time": "2022-01-15T08:02:57.777Z"
   },
   {
    "duration": 11,
    "start_time": "2022-01-15T08:03:09.449Z"
   },
   {
    "duration": 10,
    "start_time": "2022-01-15T08:03:18.140Z"
   },
   {
    "duration": 320,
    "start_time": "2022-01-15T08:04:22.031Z"
   },
   {
    "duration": 13,
    "start_time": "2022-01-15T08:04:42.025Z"
   },
   {
    "duration": 4,
    "start_time": "2022-01-15T08:04:53.711Z"
   },
   {
    "duration": 5,
    "start_time": "2022-01-15T08:05:01.360Z"
   },
   {
    "duration": 30,
    "start_time": "2022-01-15T08:06:58.340Z"
   },
   {
    "duration": 8,
    "start_time": "2022-01-15T08:08:00.371Z"
   },
   {
    "duration": 11,
    "start_time": "2022-01-15T08:08:33.599Z"
   },
   {
    "duration": 7,
    "start_time": "2022-01-15T08:08:46.312Z"
   },
   {
    "duration": 5,
    "start_time": "2022-01-15T08:08:58.703Z"
   },
   {
    "duration": 10,
    "start_time": "2022-01-15T08:09:05.232Z"
   },
   {
    "duration": 6,
    "start_time": "2022-01-15T08:09:08.128Z"
   },
   {
    "duration": 9,
    "start_time": "2022-01-15T08:09:30.158Z"
   },
   {
    "duration": 8,
    "start_time": "2022-01-15T08:09:31.455Z"
   },
   {
    "duration": 6,
    "start_time": "2022-01-15T08:09:33.286Z"
   },
   {
    "duration": 8,
    "start_time": "2022-01-15T08:09:38.327Z"
   },
   {
    "duration": 5,
    "start_time": "2022-01-15T08:09:39.159Z"
   },
   {
    "duration": 7,
    "start_time": "2022-01-15T08:09:47.945Z"
   },
   {
    "duration": 5,
    "start_time": "2022-01-15T08:09:48.959Z"
   },
   {
    "duration": 359,
    "start_time": "2022-01-15T08:10:09.107Z"
   },
   {
    "duration": 6,
    "start_time": "2022-01-15T08:10:11.778Z"
   },
   {
    "duration": 7,
    "start_time": "2022-01-15T08:10:18.674Z"
   },
   {
    "duration": 9,
    "start_time": "2022-01-15T08:10:20.264Z"
   },
   {
    "duration": 7,
    "start_time": "2022-01-15T08:10:37.273Z"
   },
   {
    "duration": 7,
    "start_time": "2022-01-15T08:10:38.695Z"
   },
   {
    "duration": 5,
    "start_time": "2022-01-15T08:10:51.546Z"
   },
   {
    "duration": 7,
    "start_time": "2022-01-15T08:11:02.259Z"
   },
   {
    "duration": 9,
    "start_time": "2022-01-15T08:11:08.672Z"
   },
   {
    "duration": 5,
    "start_time": "2022-01-15T08:11:11.754Z"
   },
   {
    "duration": 5,
    "start_time": "2022-01-15T08:11:49.971Z"
   },
   {
    "duration": 6,
    "start_time": "2022-01-15T08:11:55.708Z"
   },
   {
    "duration": 5,
    "start_time": "2022-01-15T08:12:16.179Z"
   },
   {
    "duration": 304,
    "start_time": "2022-01-15T08:12:26.550Z"
   },
   {
    "duration": 5,
    "start_time": "2022-01-15T08:12:29.023Z"
   },
   {
    "duration": 5,
    "start_time": "2022-01-15T08:12:30.710Z"
   },
   {
    "duration": 304,
    "start_time": "2022-01-15T08:12:53.985Z"
   },
   {
    "duration": 10,
    "start_time": "2022-01-15T08:12:56.594Z"
   },
   {
    "duration": 8,
    "start_time": "2022-01-15T08:13:07.846Z"
   },
   {
    "duration": 11,
    "start_time": "2022-01-15T08:13:22.744Z"
   },
   {
    "duration": 11,
    "start_time": "2022-01-15T08:13:33.911Z"
   },
   {
    "duration": 13,
    "start_time": "2022-01-15T08:16:36.834Z"
   },
   {
    "duration": 316,
    "start_time": "2022-01-15T08:16:43.768Z"
   },
   {
    "duration": 300,
    "start_time": "2022-01-15T08:16:49.157Z"
   },
   {
    "duration": 284,
    "start_time": "2022-01-15T08:16:53.237Z"
   },
   {
    "duration": 5,
    "start_time": "2022-01-15T08:16:55.838Z"
   },
   {
    "duration": 8,
    "start_time": "2022-01-15T08:17:23.840Z"
   },
   {
    "duration": 12,
    "start_time": "2022-01-15T08:17:37.212Z"
   },
   {
    "duration": 98,
    "start_time": "2022-01-15T08:17:46.494Z"
   },
   {
    "duration": 293,
    "start_time": "2022-01-15T08:17:49.575Z"
   },
   {
    "duration": 9,
    "start_time": "2022-01-15T08:18:03.576Z"
   },
   {
    "duration": 10,
    "start_time": "2022-01-15T08:18:07.390Z"
   },
   {
    "duration": 6,
    "start_time": "2022-01-15T08:18:09.565Z"
   },
   {
    "duration": 13,
    "start_time": "2022-01-15T08:18:30.633Z"
   },
   {
    "duration": 33,
    "start_time": "2022-01-15T08:24:03.016Z"
   },
   {
    "duration": 47,
    "start_time": "2022-01-15T08:25:23.795Z"
   },
   {
    "duration": 4,
    "start_time": "2022-01-15T08:25:26.410Z"
   },
   {
    "duration": 52,
    "start_time": "2022-01-15T08:25:27.648Z"
   },
   {
    "duration": 6,
    "start_time": "2022-01-15T08:25:53.270Z"
   },
   {
    "duration": 25,
    "start_time": "2022-01-15T08:26:07.155Z"
   },
   {
    "duration": 1554,
    "start_time": "2022-01-15T08:27:02.174Z"
   },
   {
    "duration": 51,
    "start_time": "2022-01-15T08:27:05.106Z"
   },
   {
    "duration": 24,
    "start_time": "2022-01-15T08:27:08.140Z"
   },
   {
    "duration": 4,
    "start_time": "2022-01-15T08:28:03.885Z"
   },
   {
    "duration": 4,
    "start_time": "2022-01-15T08:29:42.892Z"
   },
   {
    "duration": 5,
    "start_time": "2022-01-15T08:30:19.906Z"
   },
   {
    "duration": 8,
    "start_time": "2022-01-15T08:30:28.075Z"
   },
   {
    "duration": 6,
    "start_time": "2022-01-15T08:30:38.084Z"
   },
   {
    "duration": 5,
    "start_time": "2022-01-15T08:30:41.924Z"
   },
   {
    "duration": 9,
    "start_time": "2022-01-15T08:30:52.877Z"
   },
   {
    "duration": 9,
    "start_time": "2022-01-15T08:31:02.882Z"
   },
   {
    "duration": 7,
    "start_time": "2022-01-15T08:31:12.876Z"
   },
   {
    "duration": 11,
    "start_time": "2022-01-15T08:31:17.469Z"
   },
   {
    "duration": 666,
    "start_time": "2022-01-15T08:31:23.339Z"
   },
   {
    "duration": 6,
    "start_time": "2022-01-15T08:31:29.116Z"
   },
   {
    "duration": 98,
    "start_time": "2022-01-15T08:31:40.597Z"
   },
   {
    "duration": 6,
    "start_time": "2022-01-15T08:31:43.477Z"
   },
   {
    "duration": 5,
    "start_time": "2022-01-15T08:31:48.748Z"
   },
   {
    "duration": 7,
    "start_time": "2022-01-15T08:32:12.063Z"
   },
   {
    "duration": 11,
    "start_time": "2022-01-15T08:32:20.070Z"
   },
   {
    "duration": 121,
    "start_time": "2022-01-15T08:32:31.688Z"
   },
   {
    "duration": 7,
    "start_time": "2022-01-15T08:32:36.730Z"
   },
   {
    "duration": 107,
    "start_time": "2022-01-15T08:32:42.455Z"
   },
   {
    "duration": 6,
    "start_time": "2022-01-15T08:32:52.054Z"
   },
   {
    "duration": 15,
    "start_time": "2022-01-15T08:33:43.969Z"
   },
   {
    "duration": 15,
    "start_time": "2022-01-15T08:34:15.248Z"
   },
   {
    "duration": 7,
    "start_time": "2022-01-15T08:35:48.233Z"
   },
   {
    "duration": 10,
    "start_time": "2022-01-15T08:38:38.151Z"
   },
   {
    "duration": 318,
    "start_time": "2022-01-15T08:39:37.203Z"
   },
   {
    "duration": 308,
    "start_time": "2022-01-15T08:39:41.309Z"
   },
   {
    "duration": 296,
    "start_time": "2022-01-15T08:41:16.141Z"
   },
   {
    "duration": 328,
    "start_time": "2022-01-15T08:43:48.012Z"
   },
   {
    "duration": 312,
    "start_time": "2022-01-15T08:44:44.324Z"
   },
   {
    "duration": 313,
    "start_time": "2022-01-15T08:45:08.094Z"
   },
   {
    "duration": 311,
    "start_time": "2022-01-15T08:45:21.509Z"
   },
   {
    "duration": 119,
    "start_time": "2022-01-15T08:45:33.827Z"
   },
   {
    "duration": 312,
    "start_time": "2022-01-15T08:45:36.957Z"
   },
   {
    "duration": 42,
    "start_time": "2022-01-15T08:45:39.678Z"
   },
   {
    "duration": 305,
    "start_time": "2022-01-15T08:45:46.396Z"
   },
   {
    "duration": 8995,
    "start_time": "2022-01-15T08:47:51.290Z"
   },
   {
    "duration": 15,
    "start_time": "2022-01-15T08:49:04.555Z"
   },
   {
    "duration": 9,
    "start_time": "2022-01-15T08:49:18.239Z"
   },
   {
    "duration": 372,
    "start_time": "2022-01-15T08:49:28.266Z"
   },
   {
    "duration": 1512,
    "start_time": "2022-01-15T08:49:36.680Z"
   },
   {
    "duration": 49,
    "start_time": "2022-01-15T08:49:38.195Z"
   },
   {
    "duration": 27,
    "start_time": "2022-01-15T08:49:38.247Z"
   },
   {
    "duration": 19,
    "start_time": "2022-01-15T08:49:38.278Z"
   },
   {
    "duration": 12,
    "start_time": "2022-01-15T08:49:38.300Z"
   },
   {
    "duration": 4,
    "start_time": "2022-01-15T08:49:38.314Z"
   },
   {
    "duration": 46,
    "start_time": "2022-01-15T08:49:38.321Z"
   },
   {
    "duration": 32,
    "start_time": "2022-01-15T08:49:41.285Z"
   },
   {
    "duration": 15,
    "start_time": "2022-01-15T08:51:16.083Z"
   },
   {
    "duration": 21,
    "start_time": "2022-01-15T08:51:18.471Z"
   },
   {
    "duration": 6,
    "start_time": "2022-01-15T08:52:05.992Z"
   },
   {
    "duration": 10,
    "start_time": "2022-01-15T08:53:28.819Z"
   },
   {
    "duration": 45,
    "start_time": "2022-01-15T08:53:35.644Z"
   },
   {
    "duration": 15,
    "start_time": "2022-01-15T08:55:08.093Z"
   },
   {
    "duration": 12,
    "start_time": "2022-01-15T08:55:17.095Z"
   },
   {
    "duration": 11,
    "start_time": "2022-01-15T09:00:59.289Z"
   },
   {
    "duration": 29,
    "start_time": "2022-01-15T09:01:15.458Z"
   },
   {
    "duration": 318,
    "start_time": "2022-01-15T09:02:01.095Z"
   },
   {
    "duration": 12,
    "start_time": "2022-01-15T09:02:53.314Z"
   },
   {
    "duration": 13,
    "start_time": "2022-01-15T09:03:12.556Z"
   },
   {
    "duration": 13,
    "start_time": "2022-01-15T09:03:22.781Z"
   },
   {
    "duration": 11,
    "start_time": "2022-01-15T09:03:31.775Z"
   },
   {
    "duration": 11,
    "start_time": "2022-01-15T09:03:33.828Z"
   },
   {
    "duration": 7,
    "start_time": "2022-01-15T09:03:51.912Z"
   },
   {
    "duration": 11,
    "start_time": "2022-01-15T09:03:53.340Z"
   },
   {
    "duration": 6,
    "start_time": "2022-01-15T09:04:02.838Z"
   },
   {
    "duration": 9,
    "start_time": "2022-01-15T09:04:06.895Z"
   },
   {
    "duration": 189,
    "start_time": "2022-01-15T09:07:33.201Z"
   },
   {
    "duration": 21,
    "start_time": "2022-01-15T09:08:00.009Z"
   },
   {
    "duration": 23,
    "start_time": "2022-01-15T09:08:15.244Z"
   },
   {
    "duration": 421,
    "start_time": "2022-01-15T09:08:37.168Z"
   },
   {
    "duration": 23,
    "start_time": "2022-01-15T09:08:57.275Z"
   },
   {
    "duration": 42,
    "start_time": "2022-01-15T09:09:03.055Z"
   },
   {
    "duration": 12,
    "start_time": "2022-01-15T09:09:16.487Z"
   },
   {
    "duration": 13,
    "start_time": "2022-01-15T09:09:21.459Z"
   },
   {
    "duration": 11,
    "start_time": "2022-01-15T09:09:22.997Z"
   },
   {
    "duration": 26,
    "start_time": "2022-01-15T09:09:38.380Z"
   },
   {
    "duration": 23,
    "start_time": "2022-01-15T09:09:42.320Z"
   },
   {
    "duration": 314,
    "start_time": "2022-01-15T09:10:06.731Z"
   },
   {
    "duration": 33,
    "start_time": "2022-01-15T09:10:12.315Z"
   },
   {
    "duration": 31,
    "start_time": "2022-01-15T09:10:30.752Z"
   },
   {
    "duration": 14,
    "start_time": "2022-01-15T09:52:50.883Z"
   },
   {
    "duration": 100,
    "start_time": "2022-01-15T09:55:38.124Z"
   },
   {
    "duration": 101,
    "start_time": "2022-01-15T09:55:50.078Z"
   },
   {
    "duration": 15,
    "start_time": "2022-01-15T09:56:03.347Z"
   },
   {
    "duration": 17,
    "start_time": "2022-01-15T09:56:17.009Z"
   },
   {
    "duration": 16,
    "start_time": "2022-01-15T09:56:28.403Z"
   },
   {
    "duration": 8,
    "start_time": "2022-01-15T09:56:36.899Z"
   },
   {
    "duration": 15,
    "start_time": "2022-01-15T09:56:45.798Z"
   },
   {
    "duration": 104,
    "start_time": "2022-01-15T09:57:04.933Z"
   },
   {
    "duration": 16,
    "start_time": "2022-01-15T09:57:07.220Z"
   },
   {
    "duration": 11,
    "start_time": "2022-01-15T09:57:48.020Z"
   },
   {
    "duration": 1522,
    "start_time": "2022-01-15T09:59:10.091Z"
   },
   {
    "duration": 50,
    "start_time": "2022-01-15T09:59:11.616Z"
   },
   {
    "duration": 29,
    "start_time": "2022-01-15T09:59:11.670Z"
   },
   {
    "duration": 14,
    "start_time": "2022-01-15T09:59:11.702Z"
   },
   {
    "duration": 50,
    "start_time": "2022-01-15T09:59:11.718Z"
   },
   {
    "duration": 10,
    "start_time": "2022-01-15T09:59:11.772Z"
   },
   {
    "duration": 7,
    "start_time": "2022-01-15T09:59:11.785Z"
   },
   {
    "duration": 32,
    "start_time": "2022-01-15T09:59:11.795Z"
   },
   {
    "duration": 38,
    "start_time": "2022-01-15T09:59:11.830Z"
   },
   {
    "duration": 9,
    "start_time": "2022-01-15T09:59:11.873Z"
   },
   {
    "duration": 16,
    "start_time": "2022-01-15T09:59:19.773Z"
   },
   {
    "duration": 24,
    "start_time": "2022-01-15T10:03:59.286Z"
   },
   {
    "duration": 20,
    "start_time": "2022-01-15T10:04:04.172Z"
   },
   {
    "duration": 32,
    "start_time": "2022-01-15T10:04:23.474Z"
   },
   {
    "duration": 13,
    "start_time": "2022-01-15T10:04:26.978Z"
   },
   {
    "duration": 21,
    "start_time": "2022-01-15T10:04:27.744Z"
   },
   {
    "duration": 647,
    "start_time": "2022-01-15T10:05:59.263Z"
   },
   {
    "duration": 10,
    "start_time": "2022-01-15T10:19:52.085Z"
   },
   {
    "duration": 8,
    "start_time": "2022-01-15T10:19:53.299Z"
   },
   {
    "duration": 5,
    "start_time": "2022-01-15T10:22:36.443Z"
   },
   {
    "duration": 14,
    "start_time": "2022-01-15T10:22:38.477Z"
   },
   {
    "duration": 7,
    "start_time": "2022-01-15T10:23:14.683Z"
   },
   {
    "duration": 5,
    "start_time": "2022-01-15T10:23:20.428Z"
   },
   {
    "duration": 5,
    "start_time": "2022-01-15T10:23:31.916Z"
   },
   {
    "duration": 7,
    "start_time": "2022-01-15T10:23:38.665Z"
   },
   {
    "duration": 33,
    "start_time": "2022-01-15T10:24:13.883Z"
   },
   {
    "duration": 19,
    "start_time": "2022-01-15T10:24:26.271Z"
   },
   {
    "duration": 1906,
    "start_time": "2022-01-15T10:25:27.894Z"
   },
   {
    "duration": 26,
    "start_time": "2022-01-15T10:26:08.921Z"
   },
   {
    "duration": 1988,
    "start_time": "2022-01-15T10:26:14.234Z"
   },
   {
    "duration": 11,
    "start_time": "2022-01-15T10:31:14.292Z"
   },
   {
    "duration": 38,
    "start_time": "2022-01-15T10:32:10.853Z"
   },
   {
    "duration": 20,
    "start_time": "2022-01-15T10:32:31.194Z"
   },
   {
    "duration": 3588,
    "start_time": "2022-01-15T10:32:31.957Z"
   },
   {
    "duration": 4,
    "start_time": "2022-01-15T10:36:24.244Z"
   },
   {
    "duration": 455,
    "start_time": "2022-01-15T10:38:19.728Z"
   },
   {
    "duration": 6,
    "start_time": "2022-01-15T10:38:29.793Z"
   },
   {
    "duration": 1554,
    "start_time": "2022-01-15T10:38:44.315Z"
   },
   {
    "duration": 51,
    "start_time": "2022-01-15T10:38:45.874Z"
   },
   {
    "duration": 25,
    "start_time": "2022-01-15T10:38:45.928Z"
   },
   {
    "duration": 18,
    "start_time": "2022-01-15T10:38:45.964Z"
   },
   {
    "duration": 12,
    "start_time": "2022-01-15T10:38:45.985Z"
   },
   {
    "duration": 4,
    "start_time": "2022-01-15T10:38:46.000Z"
   },
   {
    "duration": 8,
    "start_time": "2022-01-15T10:38:46.006Z"
   },
   {
    "duration": 80,
    "start_time": "2022-01-15T10:38:46.018Z"
   },
   {
    "duration": 9,
    "start_time": "2022-01-15T10:38:46.100Z"
   },
   {
    "duration": 7,
    "start_time": "2022-01-15T10:38:46.111Z"
   },
   {
    "duration": 55,
    "start_time": "2022-01-15T10:38:46.121Z"
   },
   {
    "duration": 24,
    "start_time": "2022-01-15T10:38:46.178Z"
   },
   {
    "duration": 15,
    "start_time": "2022-01-15T10:38:46.204Z"
   },
   {
    "duration": 58,
    "start_time": "2022-01-15T10:38:46.222Z"
   },
   {
    "duration": 7,
    "start_time": "2022-01-15T10:38:46.283Z"
   },
   {
    "duration": 22,
    "start_time": "2022-01-15T10:38:46.293Z"
   },
   {
    "duration": 620,
    "start_time": "2022-01-15T10:38:46.318Z"
   },
   {
    "duration": 9,
    "start_time": "2022-01-15T10:38:46.940Z"
   },
   {
    "duration": 9,
    "start_time": "2022-01-15T10:38:48.258Z"
   },
   {
    "duration": 8,
    "start_time": "2022-01-15T10:38:54.907Z"
   },
   {
    "duration": 5,
    "start_time": "2022-01-15T10:39:10.534Z"
   },
   {
    "duration": 4,
    "start_time": "2022-01-15T10:39:10.546Z"
   },
   {
    "duration": 38,
    "start_time": "2022-01-15T10:39:10.553Z"
   },
   {
    "duration": 1862,
    "start_time": "2022-01-15T10:39:10.594Z"
   },
   {
    "duration": 9,
    "start_time": "2022-01-15T10:39:12.459Z"
   },
   {
    "duration": 24,
    "start_time": "2022-01-15T10:39:12.471Z"
   },
   {
    "duration": 3593,
    "start_time": "2022-01-15T10:39:12.497Z"
   },
   {
    "duration": 4,
    "start_time": "2022-01-15T10:40:38.280Z"
   },
   {
    "duration": 8,
    "start_time": "2022-01-15T10:40:44.023Z"
   },
   {
    "duration": 775,
    "start_time": "2022-01-15T10:41:30.254Z"
   },
   {
    "duration": 719,
    "start_time": "2022-01-15T10:42:55.167Z"
   },
   {
    "duration": 9,
    "start_time": "2022-01-15T10:45:24.199Z"
   },
   {
    "duration": 10,
    "start_time": "2022-01-15T10:45:32.209Z"
   },
   {
    "duration": 10,
    "start_time": "2022-01-15T10:48:51.675Z"
   },
   {
    "duration": 10,
    "start_time": "2022-01-15T10:49:01.596Z"
   },
   {
    "duration": 126,
    "start_time": "2022-01-15T10:50:02.274Z"
   },
   {
    "duration": 101,
    "start_time": "2022-01-15T10:50:21.366Z"
   },
   {
    "duration": 17,
    "start_time": "2022-01-15T10:50:36.692Z"
   },
   {
    "duration": 6,
    "start_time": "2022-01-15T10:52:14.206Z"
   },
   {
    "duration": 448,
    "start_time": "2022-01-15T10:52:38.497Z"
   },
   {
    "duration": 482,
    "start_time": "2022-01-15T10:52:50.641Z"
   },
   {
    "duration": 14,
    "start_time": "2022-01-15T10:53:06.807Z"
   },
   {
    "duration": 974,
    "start_time": "2022-01-15T10:59:54.553Z"
   },
   {
    "duration": 14,
    "start_time": "2022-01-15T11:00:04.344Z"
   },
   {
    "duration": 11,
    "start_time": "2022-01-15T11:05:19.960Z"
   },
   {
    "duration": 1541,
    "start_time": "2022-01-15T11:06:34.895Z"
   },
   {
    "duration": 55,
    "start_time": "2022-01-15T11:06:36.438Z"
   },
   {
    "duration": 22,
    "start_time": "2022-01-15T11:06:36.496Z"
   },
   {
    "duration": 13,
    "start_time": "2022-01-15T11:06:36.521Z"
   },
   {
    "duration": 35,
    "start_time": "2022-01-15T11:06:36.537Z"
   },
   {
    "duration": 5,
    "start_time": "2022-01-15T11:06:36.577Z"
   },
   {
    "duration": 8,
    "start_time": "2022-01-15T11:06:36.585Z"
   },
   {
    "duration": 68,
    "start_time": "2022-01-15T11:06:36.596Z"
   },
   {
    "duration": 15,
    "start_time": "2022-01-15T11:06:36.673Z"
   },
   {
    "duration": 6,
    "start_time": "2022-01-15T11:06:36.692Z"
   },
   {
    "duration": 15,
    "start_time": "2022-01-15T11:06:36.700Z"
   },
   {
    "duration": 48,
    "start_time": "2022-01-15T11:06:36.717Z"
   },
   {
    "duration": 22,
    "start_time": "2022-01-15T11:06:36.768Z"
   },
   {
    "duration": 26,
    "start_time": "2022-01-15T11:06:36.793Z"
   },
   {
    "duration": 41,
    "start_time": "2022-01-15T11:06:36.822Z"
   },
   {
    "duration": 28,
    "start_time": "2022-01-15T11:06:36.867Z"
   },
   {
    "duration": 595,
    "start_time": "2022-01-15T11:06:36.898Z"
   },
   {
    "duration": 8,
    "start_time": "2022-01-15T11:06:37.496Z"
   },
   {
    "duration": 6,
    "start_time": "2022-01-15T11:06:37.507Z"
   },
   {
    "duration": 5,
    "start_time": "2022-01-15T11:06:37.516Z"
   },
   {
    "duration": 44,
    "start_time": "2022-01-15T11:06:37.523Z"
   },
   {
    "duration": 34,
    "start_time": "2022-01-15T11:06:37.570Z"
   },
   {
    "duration": 1863,
    "start_time": "2022-01-15T11:06:37.606Z"
   },
   {
    "duration": 10,
    "start_time": "2022-01-15T11:06:39.473Z"
   },
   {
    "duration": 28,
    "start_time": "2022-01-15T11:06:39.486Z"
   },
   {
    "duration": 5110,
    "start_time": "2022-01-15T11:06:39.518Z"
   },
   {
    "duration": 1090,
    "start_time": "2022-01-15T11:06:44.636Z"
   },
   {
    "duration": 920,
    "start_time": "2022-01-15T11:06:45.730Z"
   },
   {
    "duration": -1001,
    "start_time": "2022-01-15T11:06:47.654Z"
   },
   {
    "duration": -1012,
    "start_time": "2022-01-15T11:06:47.666Z"
   },
   {
    "duration": -1024,
    "start_time": "2022-01-15T11:06:47.679Z"
   },
   {
    "duration": -1033,
    "start_time": "2022-01-15T11:06:47.689Z"
   },
   {
    "duration": -1043,
    "start_time": "2022-01-15T11:06:47.700Z"
   },
   {
    "duration": -1051,
    "start_time": "2022-01-15T11:06:47.714Z"
   },
   {
    "duration": -1059,
    "start_time": "2022-01-15T11:06:47.725Z"
   },
   {
    "duration": -1249,
    "start_time": "2022-01-15T11:06:47.924Z"
   },
   {
    "duration": 4,
    "start_time": "2022-01-15T11:07:07.056Z"
   },
   {
    "duration": 54,
    "start_time": "2022-01-15T11:07:07.064Z"
   },
   {
    "duration": 18,
    "start_time": "2022-01-15T11:07:07.121Z"
   },
   {
    "duration": 26,
    "start_time": "2022-01-15T11:07:07.162Z"
   },
   {
    "duration": 14,
    "start_time": "2022-01-15T11:07:07.192Z"
   },
   {
    "duration": 5,
    "start_time": "2022-01-15T11:07:07.209Z"
   },
   {
    "duration": 50,
    "start_time": "2022-01-15T11:07:07.217Z"
   },
   {
    "duration": 40,
    "start_time": "2022-01-15T11:07:07.274Z"
   },
   {
    "duration": 46,
    "start_time": "2022-01-15T11:07:07.317Z"
   },
   {
    "duration": 14,
    "start_time": "2022-01-15T11:07:07.368Z"
   },
   {
    "duration": 17,
    "start_time": "2022-01-15T11:07:07.387Z"
   },
   {
    "duration": 56,
    "start_time": "2022-01-15T11:07:07.406Z"
   },
   {
    "duration": 24,
    "start_time": "2022-01-15T11:07:07.466Z"
   },
   {
    "duration": 25,
    "start_time": "2022-01-15T11:07:07.494Z"
   },
   {
    "duration": 7,
    "start_time": "2022-01-15T11:07:07.521Z"
   },
   {
    "duration": 31,
    "start_time": "2022-01-15T11:07:07.566Z"
   },
   {
    "duration": 629,
    "start_time": "2022-01-15T11:07:07.599Z"
   },
   {
    "duration": 9,
    "start_time": "2022-01-15T11:07:08.230Z"
   },
   {
    "duration": 32,
    "start_time": "2022-01-15T11:07:08.243Z"
   },
   {
    "duration": 9,
    "start_time": "2022-01-15T11:07:08.279Z"
   },
   {
    "duration": 8,
    "start_time": "2022-01-15T11:07:08.292Z"
   },
   {
    "duration": 80,
    "start_time": "2022-01-15T11:07:08.303Z"
   },
   {
    "duration": 1945,
    "start_time": "2022-01-15T11:07:08.387Z"
   },
   {
    "duration": 8,
    "start_time": "2022-01-15T11:07:10.334Z"
   },
   {
    "duration": 41,
    "start_time": "2022-01-15T11:07:10.345Z"
   },
   {
    "duration": 3694,
    "start_time": "2022-01-15T11:07:10.391Z"
   },
   {
    "duration": 697,
    "start_time": "2022-01-15T11:07:14.088Z"
   },
   {
    "duration": 789,
    "start_time": "2022-01-15T11:07:14.787Z"
   },
   {
    "duration": -1167,
    "start_time": "2022-01-15T11:07:16.746Z"
   },
   {
    "duration": -1201,
    "start_time": "2022-01-15T11:07:16.781Z"
   },
   {
    "duration": -1232,
    "start_time": "2022-01-15T11:07:16.814Z"
   },
   {
    "duration": -1518,
    "start_time": "2022-01-15T11:07:17.102Z"
   },
   {
    "duration": -1536,
    "start_time": "2022-01-15T11:07:17.121Z"
   },
   {
    "duration": -1587,
    "start_time": "2022-01-15T11:07:17.173Z"
   },
   {
    "duration": -1621,
    "start_time": "2022-01-15T11:07:17.209Z"
   },
   {
    "duration": 942,
    "start_time": "2022-01-15T11:07:46.787Z"
   },
   {
    "duration": 12,
    "start_time": "2022-01-15T11:08:12.346Z"
   },
   {
    "duration": 315,
    "start_time": "2022-01-15T11:08:12.371Z"
   },
   {
    "duration": -929,
    "start_time": "2022-01-15T11:08:13.619Z"
   },
   {
    "duration": -940,
    "start_time": "2022-01-15T11:08:13.633Z"
   },
   {
    "duration": -982,
    "start_time": "2022-01-15T11:08:13.676Z"
   },
   {
    "duration": -994,
    "start_time": "2022-01-15T11:08:13.690Z"
   },
   {
    "duration": -1005,
    "start_time": "2022-01-15T11:08:13.702Z"
   },
   {
    "duration": 12,
    "start_time": "2022-01-15T11:08:27.870Z"
   },
   {
    "duration": 491,
    "start_time": "2022-01-15T11:08:29.219Z"
   },
   {
    "duration": 520,
    "start_time": "2022-01-15T11:08:33.130Z"
   },
   {
    "duration": 14,
    "start_time": "2022-01-15T11:08:37.448Z"
   },
   {
    "duration": 978,
    "start_time": "2022-01-15T11:08:40.546Z"
   },
   {
    "duration": 25,
    "start_time": "2022-01-15T11:08:44.372Z"
   },
   {
    "duration": 368,
    "start_time": "2022-01-15T11:08:48.419Z"
   },
   {
    "duration": 9,
    "start_time": "2022-01-15T11:09:27.547Z"
   },
   {
    "duration": 357,
    "start_time": "2022-01-15T11:09:39.496Z"
   },
   {
    "duration": 332,
    "start_time": "2022-01-15T11:10:01.658Z"
   },
   {
    "duration": 346,
    "start_time": "2022-01-15T11:10:29.471Z"
   },
   {
    "duration": 368,
    "start_time": "2022-01-15T11:10:44.695Z"
   },
   {
    "duration": 327,
    "start_time": "2022-01-15T11:10:58.813Z"
   },
   {
    "duration": 30,
    "start_time": "2022-01-15T11:11:56.811Z"
   },
   {
    "duration": 4,
    "start_time": "2022-01-15T11:11:58.555Z"
   },
   {
    "duration": 19,
    "start_time": "2022-01-15T11:12:00.582Z"
   },
   {
    "duration": 420,
    "start_time": "2022-01-15T11:13:13.879Z"
   },
   {
    "duration": 7,
    "start_time": "2022-01-15T11:13:23.798Z"
   },
   {
    "duration": 306,
    "start_time": "2022-01-15T11:13:26.709Z"
   },
   {
    "duration": 138,
    "start_time": "2022-01-15T11:14:00.951Z"
   },
   {
    "duration": 354,
    "start_time": "2022-01-15T11:14:04.556Z"
   },
   {
    "duration": 326,
    "start_time": "2022-01-15T11:14:20.030Z"
   },
   {
    "duration": 324,
    "start_time": "2022-01-15T11:14:32.390Z"
   },
   {
    "duration": 117,
    "start_time": "2022-01-15T11:14:45.285Z"
   },
   {
    "duration": 4,
    "start_time": "2022-01-15T11:15:32.129Z"
   },
   {
    "duration": 13,
    "start_time": "2022-01-15T11:15:32.924Z"
   },
   {
    "duration": 337,
    "start_time": "2022-01-15T11:15:35.909Z"
   },
   {
    "duration": 15,
    "start_time": "2022-01-15T11:15:43.253Z"
   },
   {
    "duration": 413,
    "start_time": "2022-01-15T11:16:43.229Z"
   },
   {
    "duration": 7,
    "start_time": "2022-01-15T11:17:33.528Z"
   },
   {
    "duration": 437,
    "start_time": "2022-01-15T11:17:36.479Z"
   },
   {
    "duration": 6,
    "start_time": "2022-01-15T11:17:54.837Z"
   },
   {
    "duration": 333,
    "start_time": "2022-01-15T11:18:04.124Z"
   },
   {
    "duration": 1648,
    "start_time": "2022-01-15T11:18:18.958Z"
   },
   {
    "duration": 50,
    "start_time": "2022-01-15T11:18:20.609Z"
   },
   {
    "duration": 38,
    "start_time": "2022-01-15T11:18:20.663Z"
   },
   {
    "duration": 14,
    "start_time": "2022-01-15T11:18:20.704Z"
   },
   {
    "duration": 12,
    "start_time": "2022-01-15T11:18:20.721Z"
   },
   {
    "duration": 31,
    "start_time": "2022-01-15T11:18:20.735Z"
   },
   {
    "duration": 24,
    "start_time": "2022-01-15T11:18:20.769Z"
   },
   {
    "duration": 34,
    "start_time": "2022-01-15T11:18:20.798Z"
   },
   {
    "duration": 41,
    "start_time": "2022-01-15T11:18:20.835Z"
   },
   {
    "duration": 11,
    "start_time": "2022-01-15T11:18:20.879Z"
   },
   {
    "duration": 18,
    "start_time": "2022-01-15T11:18:20.893Z"
   },
   {
    "duration": 55,
    "start_time": "2022-01-15T11:18:20.913Z"
   },
   {
    "duration": 24,
    "start_time": "2022-01-15T11:18:20.972Z"
   },
   {
    "duration": 25,
    "start_time": "2022-01-15T11:18:20.998Z"
   },
   {
    "duration": 43,
    "start_time": "2022-01-15T11:18:21.025Z"
   },
   {
    "duration": 31,
    "start_time": "2022-01-15T11:18:21.072Z"
   },
   {
    "duration": 622,
    "start_time": "2022-01-15T11:18:21.105Z"
   },
   {
    "duration": 9,
    "start_time": "2022-01-15T11:18:21.730Z"
   },
   {
    "duration": 26,
    "start_time": "2022-01-15T11:18:21.741Z"
   },
   {
    "duration": 26,
    "start_time": "2022-01-15T11:18:21.770Z"
   },
   {
    "duration": 7,
    "start_time": "2022-01-15T11:18:21.799Z"
   },
   {
    "duration": 33,
    "start_time": "2022-01-15T11:18:21.809Z"
   },
   {
    "duration": 2030,
    "start_time": "2022-01-15T11:18:21.847Z"
   },
   {
    "duration": 11,
    "start_time": "2022-01-15T11:18:23.882Z"
   },
   {
    "duration": 22,
    "start_time": "2022-01-15T11:18:23.895Z"
   },
   {
    "duration": 3808,
    "start_time": "2022-01-15T11:18:23.920Z"
   },
   {
    "duration": 851,
    "start_time": "2022-01-15T11:18:27.730Z"
   },
   {
    "duration": 830,
    "start_time": "2022-01-15T11:18:28.585Z"
   },
   {
    "duration": 14,
    "start_time": "2022-01-15T11:18:29.418Z"
   },
   {
    "duration": 30,
    "start_time": "2022-01-15T11:18:29.434Z"
   },
   {
    "duration": 506,
    "start_time": "2022-01-15T11:18:29.469Z"
   },
   {
    "duration": 510,
    "start_time": "2022-01-15T11:18:29.979Z"
   },
   {
    "duration": 13,
    "start_time": "2022-01-15T11:18:30.494Z"
   },
   {
    "duration": 1051,
    "start_time": "2022-01-15T11:18:30.509Z"
   },
   {
    "duration": 18,
    "start_time": "2022-01-15T11:18:31.563Z"
   },
   {
    "duration": 377,
    "start_time": "2022-01-15T11:18:31.585Z"
   },
   {
    "duration": 41,
    "start_time": "2022-01-15T11:18:31.965Z"
   },
   {
    "duration": 4,
    "start_time": "2022-01-15T11:18:32.008Z"
   },
   {
    "duration": 8,
    "start_time": "2022-01-15T11:18:32.014Z"
   },
   {
    "duration": 340,
    "start_time": "2022-01-15T11:18:37.892Z"
   },
   {
    "duration": 351,
    "start_time": "2022-01-15T11:19:05.938Z"
   },
   {
    "duration": 356,
    "start_time": "2022-01-15T11:19:15.491Z"
   },
   {
    "duration": 33,
    "start_time": "2022-01-15T11:25:17.056Z"
   },
   {
    "duration": 22,
    "start_time": "2022-01-15T11:29:37.658Z"
   },
   {
    "duration": 13,
    "start_time": "2022-01-15T11:29:58.443Z"
   },
   {
    "duration": 39,
    "start_time": "2022-01-15T11:30:24.873Z"
   },
   {
    "duration": 32,
    "start_time": "2022-01-15T11:30:25.814Z"
   },
   {
    "duration": 11,
    "start_time": "2022-01-15T11:30:29.645Z"
   },
   {
    "duration": 1570,
    "start_time": "2022-01-15T11:34:02.186Z"
   },
   {
    "duration": 55,
    "start_time": "2022-01-15T11:34:03.759Z"
   },
   {
    "duration": 23,
    "start_time": "2022-01-15T11:34:03.817Z"
   },
   {
    "duration": 26,
    "start_time": "2022-01-15T11:34:03.843Z"
   },
   {
    "duration": 16,
    "start_time": "2022-01-15T11:34:03.878Z"
   },
   {
    "duration": 4,
    "start_time": "2022-01-15T11:34:03.897Z"
   },
   {
    "duration": 8,
    "start_time": "2022-01-15T11:34:03.904Z"
   },
   {
    "duration": 78,
    "start_time": "2022-01-15T11:34:03.917Z"
   },
   {
    "duration": 9,
    "start_time": "2022-01-15T11:34:03.998Z"
   },
   {
    "duration": 8,
    "start_time": "2022-01-15T11:34:04.009Z"
   },
   {
    "duration": 15,
    "start_time": "2022-01-15T11:34:04.020Z"
   },
   {
    "duration": 60,
    "start_time": "2022-01-15T11:34:04.037Z"
   },
   {
    "duration": 12,
    "start_time": "2022-01-15T11:34:04.100Z"
   },
   {
    "duration": 25,
    "start_time": "2022-01-15T11:34:04.115Z"
   },
   {
    "duration": 33,
    "start_time": "2022-01-15T11:34:04.142Z"
   },
   {
    "duration": 27,
    "start_time": "2022-01-15T11:34:04.178Z"
   },
   {
    "duration": 611,
    "start_time": "2022-01-15T11:34:04.208Z"
   },
   {
    "duration": 11,
    "start_time": "2022-01-15T11:34:04.821Z"
   },
   {
    "duration": 39,
    "start_time": "2022-01-15T11:34:04.835Z"
   },
   {
    "duration": 6,
    "start_time": "2022-01-15T11:34:04.876Z"
   },
   {
    "duration": 11,
    "start_time": "2022-01-15T11:34:04.884Z"
   },
   {
    "duration": 35,
    "start_time": "2022-01-15T11:34:04.898Z"
   },
   {
    "duration": 1905,
    "start_time": "2022-01-15T11:34:04.940Z"
   },
   {
    "duration": 18,
    "start_time": "2022-01-15T11:34:06.848Z"
   },
   {
    "duration": 29,
    "start_time": "2022-01-15T11:34:06.869Z"
   },
   {
    "duration": 3544,
    "start_time": "2022-01-15T11:34:06.901Z"
   },
   {
    "duration": 782,
    "start_time": "2022-01-15T11:34:10.448Z"
   },
   {
    "duration": 788,
    "start_time": "2022-01-15T11:34:11.234Z"
   },
   {
    "duration": 19,
    "start_time": "2022-01-15T11:34:12.025Z"
   },
   {
    "duration": 7,
    "start_time": "2022-01-15T11:34:12.063Z"
   },
   {
    "duration": 504,
    "start_time": "2022-01-15T11:34:12.080Z"
   },
   {
    "duration": 533,
    "start_time": "2022-01-15T11:34:12.588Z"
   },
   {
    "duration": 18,
    "start_time": "2022-01-15T11:34:13.124Z"
   },
   {
    "duration": 996,
    "start_time": "2022-01-15T11:34:13.144Z"
   },
   {
    "duration": 34,
    "start_time": "2022-01-15T11:34:14.143Z"
   },
   {
    "duration": 353,
    "start_time": "2022-01-15T11:34:14.180Z"
   },
   {
    "duration": 59,
    "start_time": "2022-01-15T11:34:14.535Z"
   },
   {
    "duration": 4,
    "start_time": "2022-01-15T11:34:14.596Z"
   },
   {
    "duration": 8,
    "start_time": "2022-01-15T11:34:14.602Z"
   },
   {
    "duration": 369,
    "start_time": "2022-01-15T11:34:14.613Z"
   },
   {
    "duration": 31,
    "start_time": "2022-01-15T11:34:14.985Z"
   },
   {
    "duration": 23,
    "start_time": "2022-01-15T11:34:15.018Z"
   },
   {
    "duration": 43,
    "start_time": "2022-01-15T11:34:20.198Z"
   },
   {
    "duration": 21,
    "start_time": "2022-01-15T11:34:24.892Z"
   },
   {
    "duration": 20,
    "start_time": "2022-01-15T11:44:51.424Z"
   },
   {
    "duration": 49,
    "start_time": "2022-01-15T11:47:18.226Z"
   },
   {
    "duration": 24,
    "start_time": "2022-01-15T11:47:31.652Z"
   },
   {
    "duration": 6,
    "start_time": "2022-01-15T11:51:49.689Z"
   },
   {
    "duration": 16,
    "start_time": "2022-01-15T12:04:08.677Z"
   },
   {
    "duration": 15,
    "start_time": "2022-01-15T12:04:18.561Z"
   },
   {
    "duration": 8,
    "start_time": "2022-01-15T12:05:38.352Z"
   },
   {
    "duration": 439,
    "start_time": "2022-01-15T12:07:32.720Z"
   },
   {
    "duration": 426,
    "start_time": "2022-01-15T12:07:46.088Z"
   },
   {
    "duration": 440,
    "start_time": "2022-01-15T12:55:26.834Z"
   },
   {
    "duration": 1460,
    "start_time": "2022-01-15T12:55:36.501Z"
   },
   {
    "duration": 51,
    "start_time": "2022-01-15T12:55:37.966Z"
   },
   {
    "duration": 22,
    "start_time": "2022-01-15T12:55:38.020Z"
   },
   {
    "duration": 20,
    "start_time": "2022-01-15T12:55:38.045Z"
   },
   {
    "duration": 15,
    "start_time": "2022-01-15T12:55:38.068Z"
   },
   {
    "duration": 4,
    "start_time": "2022-01-15T12:55:38.086Z"
   },
   {
    "duration": 8,
    "start_time": "2022-01-15T12:55:38.092Z"
   },
   {
    "duration": 83,
    "start_time": "2022-01-15T12:55:38.104Z"
   },
   {
    "duration": 9,
    "start_time": "2022-01-15T12:55:38.190Z"
   },
   {
    "duration": 11,
    "start_time": "2022-01-15T12:55:38.201Z"
   },
   {
    "duration": 25,
    "start_time": "2022-01-15T12:55:38.214Z"
   },
   {
    "duration": 45,
    "start_time": "2022-01-15T12:55:38.241Z"
   },
   {
    "duration": 12,
    "start_time": "2022-01-15T12:55:38.289Z"
   },
   {
    "duration": 62,
    "start_time": "2022-01-15T12:55:38.303Z"
   },
   {
    "duration": 11,
    "start_time": "2022-01-15T12:55:38.367Z"
   },
   {
    "duration": 21,
    "start_time": "2022-01-15T12:55:38.381Z"
   },
   {
    "duration": 620,
    "start_time": "2022-01-15T12:55:38.405Z"
   },
   {
    "duration": 8,
    "start_time": "2022-01-15T12:55:39.027Z"
   },
   {
    "duration": 26,
    "start_time": "2022-01-15T12:55:39.038Z"
   },
   {
    "duration": 9,
    "start_time": "2022-01-15T12:55:39.068Z"
   },
   {
    "duration": 6,
    "start_time": "2022-01-15T12:55:39.081Z"
   },
   {
    "duration": 34,
    "start_time": "2022-01-15T12:55:39.089Z"
   },
   {
    "duration": 1884,
    "start_time": "2022-01-15T12:55:39.128Z"
   },
   {
    "duration": 7,
    "start_time": "2022-01-15T12:55:41.015Z"
   },
   {
    "duration": 22,
    "start_time": "2022-01-15T12:55:41.024Z"
   },
   {
    "duration": 3437,
    "start_time": "2022-01-15T12:55:41.065Z"
   },
   {
    "duration": 787,
    "start_time": "2022-01-15T12:55:44.504Z"
   },
   {
    "duration": 726,
    "start_time": "2022-01-15T12:55:45.293Z"
   },
   {
    "duration": 12,
    "start_time": "2022-01-15T12:55:46.022Z"
   },
   {
    "duration": 27,
    "start_time": "2022-01-15T12:55:46.036Z"
   },
   {
    "duration": 465,
    "start_time": "2022-01-15T12:55:46.066Z"
   },
   {
    "duration": 478,
    "start_time": "2022-01-15T12:55:46.534Z"
   },
   {
    "duration": 13,
    "start_time": "2022-01-15T12:55:47.015Z"
   },
   {
    "duration": 1099,
    "start_time": "2022-01-15T12:55:47.030Z"
   },
   {
    "duration": 13,
    "start_time": "2022-01-15T12:55:48.131Z"
   },
   {
    "duration": 326,
    "start_time": "2022-01-15T12:55:48.162Z"
   },
   {
    "duration": 31,
    "start_time": "2022-01-15T12:55:48.490Z"
   },
   {
    "duration": 4,
    "start_time": "2022-01-15T12:55:48.523Z"
   },
   {
    "duration": 32,
    "start_time": "2022-01-15T12:55:48.531Z"
   },
   {
    "duration": 370,
    "start_time": "2022-01-15T12:55:48.570Z"
   },
   {
    "duration": 33,
    "start_time": "2022-01-15T12:55:48.942Z"
   },
   {
    "duration": 18,
    "start_time": "2022-01-15T12:55:48.979Z"
   },
   {
    "duration": 81,
    "start_time": "2022-01-15T12:55:48.999Z"
   },
   {
    "duration": 20,
    "start_time": "2022-01-15T12:55:49.082Z"
   },
   {
    "duration": 27,
    "start_time": "2022-01-15T12:55:49.105Z"
   },
   {
    "duration": 79,
    "start_time": "2022-01-15T12:55:49.134Z"
   },
   {
    "duration": 20,
    "start_time": "2022-01-15T12:55:49.216Z"
   },
   {
    "duration": 43,
    "start_time": "2022-01-15T12:55:49.239Z"
   },
   {
    "duration": 9,
    "start_time": "2022-01-15T12:55:49.285Z"
   },
   {
    "duration": 527,
    "start_time": "2022-01-15T12:55:49.297Z"
   },
   {
    "duration": 287,
    "start_time": "2022-01-15T12:55:58.841Z"
   },
   {
    "duration": 9,
    "start_time": "2022-01-15T12:56:02.534Z"
   },
   {
    "duration": 354,
    "start_time": "2022-01-15T12:56:16.173Z"
   },
   {
    "duration": 11,
    "start_time": "2022-01-15T12:56:19.741Z"
   },
   {
    "duration": 15,
    "start_time": "2022-01-15T12:56:58.440Z"
   },
   {
    "duration": 9,
    "start_time": "2022-01-15T12:57:05.242Z"
   },
   {
    "duration": 10,
    "start_time": "2022-01-15T13:03:48.117Z"
   },
   {
    "duration": 306,
    "start_time": "2022-01-15T13:04:13.438Z"
   },
   {
    "duration": 6,
    "start_time": "2022-01-15T13:04:20.074Z"
   },
   {
    "duration": 340,
    "start_time": "2022-01-15T13:04:29.741Z"
   },
   {
    "duration": 6,
    "start_time": "2022-01-15T13:04:37.527Z"
   },
   {
    "duration": 12,
    "start_time": "2022-01-15T13:04:44.926Z"
   },
   {
    "duration": 12,
    "start_time": "2022-01-15T13:04:46.275Z"
   },
   {
    "duration": 13,
    "start_time": "2022-01-15T13:04:50.454Z"
   },
   {
    "duration": 7,
    "start_time": "2022-01-15T13:04:51.507Z"
   },
   {
    "duration": 17,
    "start_time": "2022-01-15T13:13:22.697Z"
   },
   {
    "duration": 20,
    "start_time": "2022-01-15T13:13:44.330Z"
   },
   {
    "duration": 14,
    "start_time": "2022-01-15T13:13:48.388Z"
   },
   {
    "duration": 15,
    "start_time": "2022-01-15T13:14:07.604Z"
   },
   {
    "duration": 13,
    "start_time": "2022-01-15T13:18:38.453Z"
   },
   {
    "duration": 9,
    "start_time": "2022-01-15T13:18:51.214Z"
   },
   {
    "duration": 7,
    "start_time": "2022-01-15T13:19:58.525Z"
   },
   {
    "duration": 11,
    "start_time": "2022-01-15T13:20:12.996Z"
   },
   {
    "duration": 10,
    "start_time": "2022-01-15T13:20:14.384Z"
   },
   {
    "duration": 6,
    "start_time": "2022-01-15T13:20:29.107Z"
   },
   {
    "duration": 6,
    "start_time": "2022-01-15T13:20:37.537Z"
   },
   {
    "duration": 7,
    "start_time": "2022-01-15T13:21:02.407Z"
   },
   {
    "duration": 12,
    "start_time": "2022-01-15T13:22:46.524Z"
   },
   {
    "duration": 7,
    "start_time": "2022-01-15T13:23:27.608Z"
   },
   {
    "duration": 14,
    "start_time": "2022-01-15T13:24:43.564Z"
   },
   {
    "duration": 7,
    "start_time": "2022-01-15T13:27:55.498Z"
   },
   {
    "duration": 8,
    "start_time": "2022-01-15T13:30:23.626Z"
   },
   {
    "duration": 7,
    "start_time": "2022-01-15T13:30:29.023Z"
   },
   {
    "duration": 10,
    "start_time": "2022-01-15T13:30:54.179Z"
   },
   {
    "duration": 399,
    "start_time": "2022-01-15T13:48:38.687Z"
   },
   {
    "duration": 283,
    "start_time": "2022-01-17T22:05:18.166Z"
   },
   {
    "duration": 1408,
    "start_time": "2022-01-17T22:05:21.605Z"
   },
   {
    "duration": 59,
    "start_time": "2022-01-17T22:05:23.015Z"
   },
   {
    "duration": 16,
    "start_time": "2022-01-17T22:05:23.076Z"
   },
   {
    "duration": 12,
    "start_time": "2022-01-17T22:05:23.094Z"
   },
   {
    "duration": 9,
    "start_time": "2022-01-17T22:05:23.108Z"
   },
   {
    "duration": 3,
    "start_time": "2022-01-17T22:05:23.118Z"
   },
   {
    "duration": 9,
    "start_time": "2022-01-17T22:05:23.122Z"
   },
   {
    "duration": 50,
    "start_time": "2022-01-17T22:05:23.132Z"
   },
   {
    "duration": 6,
    "start_time": "2022-01-17T22:05:23.186Z"
   },
   {
    "duration": 5,
    "start_time": "2022-01-17T22:05:23.195Z"
   },
   {
    "duration": 13,
    "start_time": "2022-01-17T22:05:23.201Z"
   },
   {
    "duration": 12,
    "start_time": "2022-01-17T22:05:23.216Z"
   },
   {
    "duration": 36,
    "start_time": "2022-01-17T22:05:23.230Z"
   },
   {
    "duration": 16,
    "start_time": "2022-01-17T22:05:23.268Z"
   },
   {
    "duration": 6,
    "start_time": "2022-01-17T22:05:23.285Z"
   },
   {
    "duration": 13,
    "start_time": "2022-01-17T22:05:23.292Z"
   },
   {
    "duration": 345,
    "start_time": "2022-01-17T22:05:23.306Z"
   },
   {
    "duration": 10,
    "start_time": "2022-01-17T22:05:23.653Z"
   },
   {
    "duration": 5,
    "start_time": "2022-01-17T22:05:23.665Z"
   },
   {
    "duration": 5,
    "start_time": "2022-01-17T22:05:23.672Z"
   },
   {
    "duration": 6,
    "start_time": "2022-01-17T22:05:23.678Z"
   },
   {
    "duration": 20,
    "start_time": "2022-01-17T22:05:23.686Z"
   },
   {
    "duration": 1128,
    "start_time": "2022-01-17T22:05:23.709Z"
   },
   {
    "duration": 6,
    "start_time": "2022-01-17T22:05:24.839Z"
   },
   {
    "duration": 36,
    "start_time": "2022-01-17T22:05:24.847Z"
   },
   {
    "duration": 1997,
    "start_time": "2022-01-17T22:05:24.885Z"
   },
   {
    "duration": 301,
    "start_time": "2022-01-17T22:05:26.886Z"
   },
   {
    "duration": -1414,
    "start_time": "2022-01-17T22:05:28.603Z"
   },
   {
    "duration": -1415,
    "start_time": "2022-01-17T22:05:28.605Z"
   },
   {
    "duration": -1415,
    "start_time": "2022-01-17T22:05:28.607Z"
   },
   {
    "duration": -1420,
    "start_time": "2022-01-17T22:05:28.612Z"
   },
   {
    "duration": -1420,
    "start_time": "2022-01-17T22:05:28.614Z"
   },
   {
    "duration": -1421,
    "start_time": "2022-01-17T22:05:28.616Z"
   },
   {
    "duration": -1423,
    "start_time": "2022-01-17T22:05:28.619Z"
   },
   {
    "duration": -1425,
    "start_time": "2022-01-17T22:05:28.622Z"
   },
   {
    "duration": -1426,
    "start_time": "2022-01-17T22:05:28.624Z"
   },
   {
    "duration": -1435,
    "start_time": "2022-01-17T22:05:28.634Z"
   },
   {
    "duration": -1436,
    "start_time": "2022-01-17T22:05:28.636Z"
   },
   {
    "duration": -1436,
    "start_time": "2022-01-17T22:05:28.637Z"
   },
   {
    "duration": -1437,
    "start_time": "2022-01-17T22:05:28.639Z"
   },
   {
    "duration": -1444,
    "start_time": "2022-01-17T22:05:28.647Z"
   },
   {
    "duration": -1445,
    "start_time": "2022-01-17T22:05:28.649Z"
   },
   {
    "duration": -1446,
    "start_time": "2022-01-17T22:05:28.651Z"
   },
   {
    "duration": -1446,
    "start_time": "2022-01-17T22:05:28.652Z"
   },
   {
    "duration": -1447,
    "start_time": "2022-01-17T22:05:28.654Z"
   },
   {
    "duration": -1447,
    "start_time": "2022-01-17T22:05:28.655Z"
   },
   {
    "duration": -1448,
    "start_time": "2022-01-17T22:05:28.657Z"
   },
   {
    "duration": -1452,
    "start_time": "2022-01-17T22:05:28.662Z"
   },
   {
    "duration": -1453,
    "start_time": "2022-01-17T22:05:28.664Z"
   },
   {
    "duration": -1453,
    "start_time": "2022-01-17T22:05:28.665Z"
   },
   {
    "duration": -1454,
    "start_time": "2022-01-17T22:05:28.667Z"
   },
   {
    "duration": -1454,
    "start_time": "2022-01-17T22:05:28.668Z"
   },
   {
    "duration": -1455,
    "start_time": "2022-01-17T22:05:28.670Z"
   },
   {
    "duration": -1455,
    "start_time": "2022-01-17T22:05:28.671Z"
   },
   {
    "duration": -1455,
    "start_time": "2022-01-17T22:05:28.673Z"
   },
   {
    "duration": -1460,
    "start_time": "2022-01-17T22:05:28.679Z"
   },
   {
    "duration": -1462,
    "start_time": "2022-01-17T22:05:28.681Z"
   },
   {
    "duration": 26,
    "start_time": "2022-01-17T22:05:36.655Z"
   },
   {
    "duration": 24,
    "start_time": "2022-01-17T22:05:40.596Z"
   },
   {
    "duration": 482,
    "start_time": "2022-01-17T22:05:48.636Z"
   },
   {
    "duration": 563,
    "start_time": "2022-01-17T22:05:49.120Z"
   },
   {
    "duration": 8,
    "start_time": "2022-01-17T22:05:49.685Z"
   },
   {
    "duration": 9,
    "start_time": "2022-01-17T22:05:49.695Z"
   },
   {
    "duration": 394,
    "start_time": "2022-01-17T22:05:49.706Z"
   },
   {
    "duration": 299,
    "start_time": "2022-01-17T22:05:50.102Z"
   },
   {
    "duration": 10,
    "start_time": "2022-01-17T22:05:50.404Z"
   },
   {
    "duration": 700,
    "start_time": "2022-01-17T22:05:50.416Z"
   },
   {
    "duration": 10,
    "start_time": "2022-01-17T22:05:51.119Z"
   },
   {
    "duration": 220,
    "start_time": "2022-01-17T22:05:51.131Z"
   },
   {
    "duration": 20,
    "start_time": "2022-01-17T22:05:51.360Z"
   },
   {
    "duration": 15,
    "start_time": "2022-01-17T22:05:51.382Z"
   },
   {
    "duration": 24,
    "start_time": "2022-01-17T22:05:51.399Z"
   },
   {
    "duration": 207,
    "start_time": "2022-01-17T22:05:51.425Z"
   },
   {
    "duration": 29,
    "start_time": "2022-01-17T22:05:51.634Z"
   },
   {
    "duration": 9,
    "start_time": "2022-01-17T22:05:51.665Z"
   },
   {
    "duration": 39,
    "start_time": "2022-01-17T22:05:51.676Z"
   },
   {
    "duration": 27,
    "start_time": "2022-01-17T22:05:51.717Z"
   },
   {
    "duration": 23,
    "start_time": "2022-01-17T22:05:51.746Z"
   },
   {
    "duration": 41,
    "start_time": "2022-01-17T22:05:51.770Z"
   },
   {
    "duration": 13,
    "start_time": "2022-01-17T22:05:51.813Z"
   },
   {
    "duration": 15,
    "start_time": "2022-01-17T22:05:51.828Z"
   },
   {
    "duration": 12,
    "start_time": "2022-01-17T22:05:51.845Z"
   },
   {
    "duration": 307,
    "start_time": "2022-01-17T22:05:51.858Z"
   },
   {
    "duration": 8,
    "start_time": "2022-01-17T22:05:52.167Z"
   },
   {
    "duration": 8,
    "start_time": "2022-01-17T22:05:52.177Z"
   },
   {
    "duration": 6,
    "start_time": "2022-01-17T22:05:52.188Z"
   },
   {
    "duration": 11,
    "start_time": "2022-01-17T22:05:52.195Z"
   },
   {
    "duration": 8,
    "start_time": "2022-01-17T22:05:52.208Z"
   },
   {
    "duration": 8,
    "start_time": "2022-01-17T22:05:52.217Z"
   },
   {
    "duration": 310,
    "start_time": "2022-01-18T18:17:54.022Z"
   },
   {
    "duration": 1155,
    "start_time": "2022-01-18T18:18:05.943Z"
   },
   {
    "duration": 38,
    "start_time": "2022-01-18T18:18:07.100Z"
   },
   {
    "duration": 15,
    "start_time": "2022-01-18T18:18:07.140Z"
   },
   {
    "duration": 10,
    "start_time": "2022-01-18T18:18:07.157Z"
   },
   {
    "duration": 8,
    "start_time": "2022-01-18T18:18:07.169Z"
   },
   {
    "duration": 3,
    "start_time": "2022-01-18T18:18:07.179Z"
   },
   {
    "duration": 8,
    "start_time": "2022-01-18T18:18:07.184Z"
   },
   {
    "duration": 21,
    "start_time": "2022-01-18T18:18:07.194Z"
   },
   {
    "duration": 28,
    "start_time": "2022-01-18T18:18:07.217Z"
   },
   {
    "duration": 6,
    "start_time": "2022-01-18T18:18:07.247Z"
   },
   {
    "duration": 13,
    "start_time": "2022-01-18T18:18:07.254Z"
   },
   {
    "duration": 12,
    "start_time": "2022-01-18T18:18:07.268Z"
   },
   {
    "duration": 11,
    "start_time": "2022-01-18T18:18:07.282Z"
   },
   {
    "duration": 15,
    "start_time": "2022-01-18T18:18:07.295Z"
   },
   {
    "duration": 6,
    "start_time": "2022-01-18T18:18:07.342Z"
   },
   {
    "duration": 17,
    "start_time": "2022-01-18T18:18:07.349Z"
   },
   {
    "duration": 337,
    "start_time": "2022-01-18T18:18:07.367Z"
   },
   {
    "duration": 8,
    "start_time": "2022-01-18T18:18:07.706Z"
   },
   {
    "duration": 6,
    "start_time": "2022-01-18T18:18:07.716Z"
   },
   {
    "duration": 4,
    "start_time": "2022-01-18T18:18:07.742Z"
   },
   {
    "duration": 11,
    "start_time": "2022-01-18T18:18:07.748Z"
   },
   {
    "duration": 23,
    "start_time": "2022-01-18T18:18:07.760Z"
   },
   {
    "duration": 1086,
    "start_time": "2022-01-18T18:18:07.786Z"
   },
   {
    "duration": 5,
    "start_time": "2022-01-18T18:18:08.874Z"
   },
   {
    "duration": 16,
    "start_time": "2022-01-18T18:18:08.881Z"
   },
   {
    "duration": 1935,
    "start_time": "2022-01-18T18:18:08.899Z"
   },
   {
    "duration": 26,
    "start_time": "2022-01-18T18:18:10.835Z"
   },
   {
    "duration": 440,
    "start_time": "2022-01-18T18:18:10.863Z"
   },
   {
    "duration": 382,
    "start_time": "2022-01-18T18:18:11.305Z"
   },
   {
    "duration": 131,
    "start_time": "2022-01-18T18:18:13.369Z"
   },
   {
    "duration": 10,
    "start_time": "2022-01-18T18:20:07.234Z"
   },
   {
    "duration": 30,
    "start_time": "2022-01-18T18:20:20.018Z"
   },
   {
    "duration": 8,
    "start_time": "2022-01-18T18:21:05.207Z"
   },
   {
    "duration": 18,
    "start_time": "2022-01-18T18:21:15.940Z"
   },
   {
    "duration": 7,
    "start_time": "2022-01-18T18:21:49.866Z"
   },
   {
    "duration": 7,
    "start_time": "2022-01-18T18:21:56.262Z"
   },
   {
    "duration": 795,
    "start_time": "2022-01-18T18:22:16.385Z"
   },
   {
    "duration": 6,
    "start_time": "2022-01-18T18:22:23.609Z"
   },
   {
    "duration": 8,
    "start_time": "2022-01-18T18:22:27.670Z"
   },
   {
    "duration": 10,
    "start_time": "2022-01-18T18:22:36.053Z"
   },
   {
    "duration": 10,
    "start_time": "2022-01-18T18:22:40.703Z"
   },
   {
    "duration": 312,
    "start_time": "2022-01-18T18:24:16.154Z"
   },
   {
    "duration": 249,
    "start_time": "2022-01-18T18:24:27.778Z"
   },
   {
    "duration": 203,
    "start_time": "2022-01-18T18:24:55.356Z"
   },
   {
    "duration": 237,
    "start_time": "2022-01-18T18:25:31.625Z"
   },
   {
    "duration": 536,
    "start_time": "2022-01-18T18:28:40.874Z"
   },
   {
    "duration": 389,
    "start_time": "2022-01-18T18:28:53.581Z"
   },
   {
    "duration": 788,
    "start_time": "2022-01-18T18:29:57.343Z"
   },
   {
    "duration": 128,
    "start_time": "2022-01-18T18:30:14.596Z"
   },
   {
    "duration": 129,
    "start_time": "2022-01-18T18:30:32.269Z"
   },
   {
    "duration": 6200,
    "start_time": "2022-01-18T18:30:40.138Z"
   },
   {
    "duration": 77,
    "start_time": "2022-01-18T18:30:47.165Z"
   },
   {
    "duration": 216,
    "start_time": "2022-01-18T18:30:51.541Z"
   },
   {
    "duration": 375,
    "start_time": "2022-01-18T18:33:15.946Z"
   },
   {
    "duration": 581,
    "start_time": "2022-01-18T18:33:33.389Z"
   },
   {
    "duration": 13,
    "start_time": "2022-01-18T18:33:58.397Z"
   },
   {
    "duration": 7,
    "start_time": "2022-01-18T18:37:15.804Z"
   },
   {
    "duration": 9,
    "start_time": "2022-01-18T18:37:25.239Z"
   },
   {
    "duration": 19,
    "start_time": "2022-01-18T18:37:56.312Z"
   },
   {
    "duration": 15,
    "start_time": "2022-01-18T18:38:49.143Z"
   },
   {
    "duration": 9,
    "start_time": "2022-01-18T18:38:58.636Z"
   },
   {
    "duration": 7,
    "start_time": "2022-01-18T18:39:20.501Z"
   },
   {
    "duration": 9,
    "start_time": "2022-01-18T18:39:38.539Z"
   },
   {
    "duration": 890,
    "start_time": "2022-01-18T18:40:01.147Z"
   },
   {
    "duration": 6,
    "start_time": "2022-01-18T18:40:06.460Z"
   },
   {
    "duration": 6,
    "start_time": "2022-01-18T18:40:09.459Z"
   },
   {
    "duration": 20,
    "start_time": "2022-01-18T18:42:13.321Z"
   },
   {
    "duration": 9353,
    "start_time": "2022-01-18T18:42:59.850Z"
   },
   {
    "duration": 242,
    "start_time": "2022-01-18T18:43:25.824Z"
   },
   {
    "duration": 128,
    "start_time": "2022-01-18T18:43:30.248Z"
   },
   {
    "duration": 230,
    "start_time": "2022-01-18T18:43:47.969Z"
   },
   {
    "duration": 301,
    "start_time": "2022-01-18T18:44:45.429Z"
   },
   {
    "duration": 713,
    "start_time": "2022-01-18T18:45:01.966Z"
   },
   {
    "duration": 129,
    "start_time": "2022-01-18T18:45:23.527Z"
   },
   {
    "duration": 7052,
    "start_time": "2022-01-18T18:45:35.167Z"
   },
   {
    "duration": 114,
    "start_time": "2022-01-18T18:45:45.111Z"
   },
   {
    "duration": 129,
    "start_time": "2022-01-18T18:45:51.917Z"
   },
   {
    "duration": 1180,
    "start_time": "2022-01-18T18:47:01.974Z"
   },
   {
    "duration": 1228,
    "start_time": "2022-01-18T18:47:29.131Z"
   },
   {
    "duration": 244,
    "start_time": "2022-01-18T18:49:54.613Z"
   },
   {
    "duration": 244,
    "start_time": "2022-01-18T18:50:14.608Z"
   },
   {
    "duration": 5,
    "start_time": "2022-01-18T18:52:15.771Z"
   },
   {
    "duration": 5,
    "start_time": "2022-01-18T18:52:20.269Z"
   },
   {
    "duration": 18,
    "start_time": "2022-01-18T18:52:25.273Z"
   },
   {
    "duration": 8,
    "start_time": "2022-01-18T18:52:38.676Z"
   },
   {
    "duration": 13,
    "start_time": "2022-01-18T18:53:00.954Z"
   },
   {
    "duration": 23,
    "start_time": "2022-01-18T18:54:45.647Z"
   },
   {
    "duration": 163,
    "start_time": "2022-01-18T18:55:42.463Z"
   },
   {
    "duration": 168,
    "start_time": "2022-01-18T18:56:56.083Z"
   },
   {
    "duration": 244,
    "start_time": "2022-01-18T18:58:20.555Z"
   },
   {
    "duration": 159,
    "start_time": "2022-01-18T18:58:25.824Z"
   },
   {
    "duration": 185,
    "start_time": "2022-01-18T18:58:32.395Z"
   },
   {
    "duration": 161,
    "start_time": "2022-01-18T19:01:04.416Z"
   },
   {
    "duration": 162,
    "start_time": "2022-01-18T19:01:15.910Z"
   },
   {
    "duration": 273,
    "start_time": "2022-01-18T19:01:46.883Z"
   },
   {
    "duration": 84,
    "start_time": "2022-01-18T19:01:55.175Z"
   },
   {
    "duration": 159,
    "start_time": "2022-01-18T19:01:58.607Z"
   },
   {
    "duration": 1901,
    "start_time": "2022-01-18T19:02:13.593Z"
   },
   {
    "duration": 171,
    "start_time": "2022-01-18T19:02:22.159Z"
   },
   {
    "duration": 8,
    "start_time": "2022-01-18T19:03:49.862Z"
   },
   {
    "duration": 152,
    "start_time": "2022-01-18T19:08:17.990Z"
   },
   {
    "duration": 150,
    "start_time": "2022-01-18T19:08:48.435Z"
   },
   {
    "duration": 147,
    "start_time": "2022-01-18T19:08:53.916Z"
   },
   {
    "duration": 468,
    "start_time": "2022-01-18T19:11:27.361Z"
   },
   {
    "duration": 148,
    "start_time": "2022-01-18T19:11:55.227Z"
   },
   {
    "duration": 158,
    "start_time": "2022-01-18T19:11:59.983Z"
   },
   {
    "duration": 148,
    "start_time": "2022-01-18T19:12:05.901Z"
   },
   {
    "duration": 491,
    "start_time": "2022-01-18T19:14:10.245Z"
   },
   {
    "duration": 556,
    "start_time": "2022-01-18T19:16:16.337Z"
   },
   {
    "duration": 167,
    "start_time": "2022-01-18T19:16:34.707Z"
   },
   {
    "duration": 452,
    "start_time": "2022-01-18T19:16:47.672Z"
   },
   {
    "duration": 5,
    "start_time": "2022-01-18T19:18:06.291Z"
   },
   {
    "duration": 237,
    "start_time": "2022-01-18T19:18:37.264Z"
   },
   {
    "duration": 124,
    "start_time": "2022-01-18T19:18:53.806Z"
   },
   {
    "duration": 131,
    "start_time": "2022-01-18T19:19:01.794Z"
   },
   {
    "duration": 238,
    "start_time": "2022-01-18T19:19:39.909Z"
   },
   {
    "duration": 231,
    "start_time": "2022-01-18T19:21:08.637Z"
   },
   {
    "duration": 1028,
    "start_time": "2022-01-18T19:22:18.803Z"
   },
   {
    "duration": 761,
    "start_time": "2022-01-18T19:27:21.393Z"
   },
   {
    "duration": 163,
    "start_time": "2022-01-18T19:27:52.234Z"
   },
   {
    "duration": 181,
    "start_time": "2022-01-18T19:28:05.444Z"
   },
   {
    "duration": 157,
    "start_time": "2022-01-18T19:28:11.301Z"
   },
   {
    "duration": 199,
    "start_time": "2022-01-18T19:28:45.833Z"
   },
   {
    "duration": 247,
    "start_time": "2022-01-18T19:28:50.748Z"
   },
   {
    "duration": 377,
    "start_time": "2022-01-18T19:28:56.125Z"
   },
   {
    "duration": 320,
    "start_time": "2022-01-18T19:29:07.105Z"
   },
   {
    "duration": 255,
    "start_time": "2022-01-18T19:29:10.804Z"
   },
   {
    "duration": 227,
    "start_time": "2022-01-18T19:29:15.317Z"
   },
   {
    "duration": 162,
    "start_time": "2022-01-18T19:29:23.098Z"
   },
   {
    "duration": 225,
    "start_time": "2022-01-18T19:29:26.787Z"
   },
   {
    "duration": 201,
    "start_time": "2022-01-18T19:29:30.821Z"
   },
   {
    "duration": 296,
    "start_time": "2022-01-18T19:31:29.206Z"
   },
   {
    "duration": 308,
    "start_time": "2022-01-18T19:31:37.360Z"
   },
   {
    "duration": 148,
    "start_time": "2022-01-18T19:31:44.210Z"
   },
   {
    "duration": 386,
    "start_time": "2022-01-18T19:31:54.548Z"
   },
   {
    "duration": 174,
    "start_time": "2022-01-18T19:32:00.345Z"
   },
   {
    "duration": 161,
    "start_time": "2022-01-18T19:32:06.341Z"
   },
   {
    "duration": 160,
    "start_time": "2022-01-18T19:32:37.965Z"
   },
   {
    "duration": 168,
    "start_time": "2022-01-18T19:37:48.468Z"
   },
   {
    "duration": 203,
    "start_time": "2022-01-18T19:38:44.679Z"
   },
   {
    "duration": 414,
    "start_time": "2022-01-18T19:38:59.029Z"
   },
   {
    "duration": 172,
    "start_time": "2022-01-18T19:39:06.238Z"
   },
   {
    "duration": 181,
    "start_time": "2022-01-18T19:41:58.603Z"
   },
   {
    "duration": 12,
    "start_time": "2022-01-18T19:52:48.118Z"
   },
   {
    "duration": 5,
    "start_time": "2022-01-18T19:53:52.527Z"
   },
   {
    "duration": 305,
    "start_time": "2022-01-18T19:53:53.689Z"
   },
   {
    "duration": 342,
    "start_time": "2022-01-18T19:53:55.030Z"
   },
   {
    "duration": 11,
    "start_time": "2022-01-18T19:54:00.611Z"
   },
   {
    "duration": 629,
    "start_time": "2022-01-18T19:54:02.441Z"
   },
   {
    "duration": 201,
    "start_time": "2022-01-18T19:54:27.931Z"
   },
   {
    "duration": 22,
    "start_time": "2022-01-18T19:54:31.544Z"
   },
   {
    "duration": 4,
    "start_time": "2022-01-18T19:54:34.421Z"
   },
   {
    "duration": 4,
    "start_time": "2022-01-18T19:54:35.892Z"
   },
   {
    "duration": 183,
    "start_time": "2022-01-18T19:54:37.976Z"
   },
   {
    "duration": 15,
    "start_time": "2022-01-18T19:55:16.903Z"
   },
   {
    "duration": 9,
    "start_time": "2022-01-18T19:55:19.088Z"
   },
   {
    "duration": 30,
    "start_time": "2022-01-18T19:55:24.910Z"
   },
   {
    "duration": 14,
    "start_time": "2022-01-18T19:55:33.534Z"
   },
   {
    "duration": 16,
    "start_time": "2022-01-18T19:56:47.154Z"
   },
   {
    "duration": 29,
    "start_time": "2022-01-18T19:56:49.108Z"
   },
   {
    "duration": 13,
    "start_time": "2022-01-18T19:56:52.471Z"
   },
   {
    "duration": 11,
    "start_time": "2022-01-18T20:00:07.062Z"
   },
   {
    "duration": 12,
    "start_time": "2022-01-18T20:00:31.274Z"
   },
   {
    "duration": 10,
    "start_time": "2022-01-18T20:00:43.183Z"
   },
   {
    "duration": 8,
    "start_time": "2022-01-18T20:00:52.491Z"
   },
   {
    "duration": 6,
    "start_time": "2022-01-18T20:02:32.159Z"
   },
   {
    "duration": 4,
    "start_time": "2022-01-18T20:02:37.877Z"
   },
   {
    "duration": 306,
    "start_time": "2022-01-18T20:02:54.549Z"
   },
   {
    "duration": 3021,
    "start_time": "2022-01-18T20:03:15.543Z"
   },
   {
    "duration": 280,
    "start_time": "2022-01-18T20:03:26.264Z"
   },
   {
    "duration": 5,
    "start_time": "2022-01-18T20:03:28.173Z"
   },
   {
    "duration": 4351,
    "start_time": "2022-01-18T20:03:33.799Z"
   },
   {
    "duration": 1207,
    "start_time": "2022-01-18T20:03:41.991Z"
   },
   {
    "duration": 39,
    "start_time": "2022-01-18T20:03:43.200Z"
   },
   {
    "duration": 15,
    "start_time": "2022-01-18T20:03:43.242Z"
   },
   {
    "duration": 17,
    "start_time": "2022-01-18T20:03:43.259Z"
   },
   {
    "duration": 8,
    "start_time": "2022-01-18T20:03:43.278Z"
   },
   {
    "duration": 5,
    "start_time": "2022-01-18T20:03:43.288Z"
   },
   {
    "duration": 6,
    "start_time": "2022-01-18T20:03:43.295Z"
   },
   {
    "duration": 22,
    "start_time": "2022-01-18T20:03:43.303Z"
   },
   {
    "duration": 7,
    "start_time": "2022-01-18T20:03:43.342Z"
   },
   {
    "duration": 6,
    "start_time": "2022-01-18T20:03:43.350Z"
   },
   {
    "duration": 13,
    "start_time": "2022-01-18T20:03:43.358Z"
   },
   {
    "duration": 12,
    "start_time": "2022-01-18T20:03:43.372Z"
   },
   {
    "duration": 15,
    "start_time": "2022-01-18T20:03:43.386Z"
   },
   {
    "duration": 39,
    "start_time": "2022-01-18T20:03:43.403Z"
   },
   {
    "duration": 6,
    "start_time": "2022-01-18T20:03:43.444Z"
   },
   {
    "duration": 14,
    "start_time": "2022-01-18T20:03:43.452Z"
   },
   {
    "duration": 318,
    "start_time": "2022-01-18T20:03:43.468Z"
   },
   {
    "duration": 7,
    "start_time": "2022-01-18T20:03:43.788Z"
   },
   {
    "duration": 6,
    "start_time": "2022-01-18T20:03:43.796Z"
   },
   {
    "duration": 6,
    "start_time": "2022-01-18T20:03:43.804Z"
   },
   {
    "duration": 8,
    "start_time": "2022-01-18T20:03:43.812Z"
   },
   {
    "duration": 37,
    "start_time": "2022-01-18T20:03:43.822Z"
   },
   {
    "duration": 1055,
    "start_time": "2022-01-18T20:03:43.863Z"
   },
   {
    "duration": 7,
    "start_time": "2022-01-18T20:03:44.920Z"
   },
   {
    "duration": 24,
    "start_time": "2022-01-18T20:03:44.928Z"
   },
   {
    "duration": 1880,
    "start_time": "2022-01-18T20:03:44.953Z"
   },
   {
    "duration": 24,
    "start_time": "2022-01-18T20:03:46.835Z"
   },
   {
    "duration": 473,
    "start_time": "2022-01-18T20:03:46.861Z"
   },
   {
    "duration": 401,
    "start_time": "2022-01-18T20:03:47.335Z"
   },
   {
    "duration": 180,
    "start_time": "2022-01-18T20:03:47.741Z"
   },
   {
    "duration": 215,
    "start_time": "2022-01-18T20:03:47.923Z"
   },
   {
    "duration": 11,
    "start_time": "2022-01-18T20:03:48.140Z"
   },
   {
    "duration": 24,
    "start_time": "2022-01-18T20:03:48.153Z"
   },
   {
    "duration": 310,
    "start_time": "2022-01-18T20:03:48.178Z"
   },
   {
    "duration": 294,
    "start_time": "2022-01-18T20:03:48.490Z"
   },
   {
    "duration": 9,
    "start_time": "2022-01-18T20:03:48.786Z"
   },
   {
    "duration": 666,
    "start_time": "2022-01-18T20:03:48.797Z"
   },
   {
    "duration": 9,
    "start_time": "2022-01-18T20:03:49.465Z"
   },
   {
    "duration": 191,
    "start_time": "2022-01-18T20:03:49.476Z"
   },
   {
    "duration": 20,
    "start_time": "2022-01-18T20:03:49.668Z"
   },
   {
    "duration": 3,
    "start_time": "2022-01-18T20:03:49.690Z"
   },
   {
    "duration": 5,
    "start_time": "2022-01-18T20:03:49.694Z"
   },
   {
    "duration": 203,
    "start_time": "2022-01-18T20:03:49.701Z"
   },
   {
    "duration": 15,
    "start_time": "2022-01-18T20:03:49.905Z"
   },
   {
    "duration": 25,
    "start_time": "2022-01-18T20:03:49.921Z"
   },
   {
    "duration": 28,
    "start_time": "2022-01-18T20:03:49.948Z"
   },
   {
    "duration": 12,
    "start_time": "2022-01-18T20:03:49.978Z"
   },
   {
    "duration": 15,
    "start_time": "2022-01-18T20:03:49.992Z"
   },
   {
    "duration": 55,
    "start_time": "2022-01-18T20:03:50.009Z"
   },
   {
    "duration": 13,
    "start_time": "2022-01-18T20:03:50.065Z"
   },
   {
    "duration": 8,
    "start_time": "2022-01-18T20:04:03.729Z"
   },
   {
    "duration": 7,
    "start_time": "2022-01-18T20:04:57.569Z"
   },
   {
    "duration": 5,
    "start_time": "2022-01-18T20:05:24.452Z"
   },
   {
    "duration": 6,
    "start_time": "2022-01-18T20:06:34.781Z"
   },
   {
    "duration": 4,
    "start_time": "2022-01-18T20:08:57.197Z"
   },
   {
    "duration": 5,
    "start_time": "2022-01-18T20:09:10.728Z"
   },
   {
    "duration": 6,
    "start_time": "2022-01-18T20:09:20.724Z"
   },
   {
    "duration": 12,
    "start_time": "2022-01-18T20:09:36.817Z"
   },
   {
    "duration": 10,
    "start_time": "2022-01-18T20:09:46.735Z"
   },
   {
    "duration": 8,
    "start_time": "2022-01-18T20:09:49.560Z"
   },
   {
    "duration": 8,
    "start_time": "2022-01-18T20:10:41.672Z"
   },
   {
    "duration": 332,
    "start_time": "2022-01-18T20:10:43.617Z"
   },
   {
    "duration": 9,
    "start_time": "2022-01-18T20:16:26.329Z"
   },
   {
    "duration": 4,
    "start_time": "2022-01-18T20:16:27.414Z"
   },
   {
    "duration": 5,
    "start_time": "2022-01-18T20:16:29.735Z"
   },
   {
    "duration": 9,
    "start_time": "2022-01-18T20:16:32.819Z"
   },
   {
    "duration": 5,
    "start_time": "2022-01-18T20:16:33.712Z"
   },
   {
    "duration": 4,
    "start_time": "2022-01-18T20:16:36.850Z"
   },
   {
    "duration": 1185,
    "start_time": "2022-01-18T20:35:09.517Z"
   },
   {
    "duration": 39,
    "start_time": "2022-01-18T20:35:10.703Z"
   },
   {
    "duration": 15,
    "start_time": "2022-01-18T20:35:10.744Z"
   },
   {
    "duration": 11,
    "start_time": "2022-01-18T20:35:10.760Z"
   },
   {
    "duration": 12,
    "start_time": "2022-01-18T20:35:10.773Z"
   },
   {
    "duration": 3,
    "start_time": "2022-01-18T20:35:10.786Z"
   },
   {
    "duration": 7,
    "start_time": "2022-01-18T20:35:10.791Z"
   },
   {
    "duration": 18,
    "start_time": "2022-01-18T20:35:10.800Z"
   },
   {
    "duration": 6,
    "start_time": "2022-01-18T20:35:10.841Z"
   },
   {
    "duration": 7,
    "start_time": "2022-01-18T20:35:10.848Z"
   },
   {
    "duration": 10,
    "start_time": "2022-01-18T20:35:10.857Z"
   },
   {
    "duration": 10,
    "start_time": "2022-01-18T20:35:10.869Z"
   },
   {
    "duration": 11,
    "start_time": "2022-01-18T20:35:10.881Z"
   },
   {
    "duration": 18,
    "start_time": "2022-01-18T20:35:10.893Z"
   },
   {
    "duration": 5,
    "start_time": "2022-01-18T20:35:10.912Z"
   },
   {
    "duration": 13,
    "start_time": "2022-01-18T20:35:10.941Z"
   },
   {
    "duration": 314,
    "start_time": "2022-01-18T20:35:10.956Z"
   },
   {
    "duration": 5,
    "start_time": "2022-01-18T20:35:11.272Z"
   },
   {
    "duration": 5,
    "start_time": "2022-01-18T20:35:11.279Z"
   },
   {
    "duration": 6,
    "start_time": "2022-01-18T20:35:11.285Z"
   },
   {
    "duration": 6,
    "start_time": "2022-01-18T20:35:11.292Z"
   },
   {
    "duration": 24,
    "start_time": "2022-01-18T20:35:11.300Z"
   },
   {
    "duration": 1042,
    "start_time": "2022-01-18T20:35:11.327Z"
   },
   {
    "duration": 6,
    "start_time": "2022-01-18T20:35:12.371Z"
   },
   {
    "duration": 19,
    "start_time": "2022-01-18T20:35:12.378Z"
   },
   {
    "duration": 1827,
    "start_time": "2022-01-18T20:35:12.399Z"
   },
   {
    "duration": 30,
    "start_time": "2022-01-18T20:35:14.228Z"
   },
   {
    "duration": 444,
    "start_time": "2022-01-18T20:35:14.260Z"
   },
   {
    "duration": 397,
    "start_time": "2022-01-18T20:35:14.706Z"
   },
   {
    "duration": 176,
    "start_time": "2022-01-18T20:35:15.105Z"
   },
   {
    "duration": 215,
    "start_time": "2022-01-18T20:35:15.282Z"
   },
   {
    "duration": 10,
    "start_time": "2022-01-18T20:35:15.499Z"
   },
   {
    "duration": 6,
    "start_time": "2022-01-18T20:35:15.511Z"
   },
   {
    "duration": 337,
    "start_time": "2022-01-18T20:35:15.519Z"
   },
   {
    "duration": 293,
    "start_time": "2022-01-18T20:35:15.857Z"
   },
   {
    "duration": 8,
    "start_time": "2022-01-18T20:35:16.151Z"
   },
   {
    "duration": 599,
    "start_time": "2022-01-18T20:35:16.161Z"
   },
   {
    "duration": 8,
    "start_time": "2022-01-18T20:35:16.762Z"
   },
   {
    "duration": 194,
    "start_time": "2022-01-18T20:35:16.771Z"
   },
   {
    "duration": 20,
    "start_time": "2022-01-18T20:35:16.966Z"
   },
   {
    "duration": 10,
    "start_time": "2022-01-18T20:35:16.987Z"
   },
   {
    "duration": 18,
    "start_time": "2022-01-18T20:35:16.999Z"
   },
   {
    "duration": 214,
    "start_time": "2022-01-18T20:35:17.019Z"
   },
   {
    "duration": 15,
    "start_time": "2022-01-18T20:35:17.235Z"
   },
   {
    "duration": 34,
    "start_time": "2022-01-18T20:35:17.251Z"
   },
   {
    "duration": 43,
    "start_time": "2022-01-18T20:35:17.286Z"
   },
   {
    "duration": 29,
    "start_time": "2022-01-18T20:35:17.330Z"
   },
   {
    "duration": 29,
    "start_time": "2022-01-18T20:35:17.361Z"
   },
   {
    "duration": 52,
    "start_time": "2022-01-18T20:35:17.391Z"
   },
   {
    "duration": 25,
    "start_time": "2022-01-18T20:35:17.445Z"
   },
   {
    "duration": 28,
    "start_time": "2022-01-18T20:35:17.472Z"
   },
   {
    "duration": 24,
    "start_time": "2022-01-18T20:35:17.502Z"
   },
   {
    "duration": 26,
    "start_time": "2022-01-18T20:35:17.527Z"
   },
   {
    "duration": 296,
    "start_time": "2022-01-18T20:35:17.555Z"
   },
   {
    "duration": 8,
    "start_time": "2022-01-18T20:35:17.852Z"
   },
   {
    "duration": 33,
    "start_time": "2022-01-18T20:35:17.862Z"
   },
   {
    "duration": 25,
    "start_time": "2022-01-18T20:35:17.896Z"
   },
   {
    "duration": 36,
    "start_time": "2022-01-18T20:35:17.923Z"
   },
   {
    "duration": 34,
    "start_time": "2022-01-18T20:35:17.961Z"
   },
   {
    "duration": 32,
    "start_time": "2022-01-18T20:35:17.996Z"
   },
   {
    "duration": 4,
    "start_time": "2022-01-18T21:04:14.453Z"
   }
  ],
  "kernelspec": {
   "display_name": "Python 3 (ipykernel)",
   "language": "python",
   "name": "python3"
  },
  "language_info": {
   "codemirror_mode": {
    "name": "ipython",
    "version": 3
   },
   "file_extension": ".py",
   "mimetype": "text/x-python",
   "name": "python",
   "nbconvert_exporter": "python",
   "pygments_lexer": "ipython3",
   "version": "3.9.10"
  },
  "toc": {
   "base_numbering": 1,
   "nav_menu": {},
   "number_sections": true,
   "sideBar": true,
   "skip_h1_title": true,
   "title_cell": "Table of Contents",
   "title_sidebar": "Contents",
   "toc_cell": false,
   "toc_position": {
    "height": "calc(100% - 180px)",
    "left": "10px",
    "top": "150px",
    "width": "291.81px"
   },
   "toc_section_display": true,
   "toc_window_display": true
  }
 },
 "nbformat": 4,
 "nbformat_minor": 2
}
