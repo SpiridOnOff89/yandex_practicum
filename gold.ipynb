{
 "cells": [
  {
   "cell_type": "markdown",
   "metadata": {
    "toc": true
   },
   "source": [
    "<h1>Содержание<span class=\"tocSkip\"></span></h1>\n",
    "<div class=\"toc\"><ul class=\"toc-item\"><li><span><a href=\"#Подготовка-данных\" data-toc-modified-id=\"Подготовка-данных-1\"><span class=\"toc-item-num\">1&nbsp;&nbsp;</span>Подготовка данных</a></span><ul class=\"toc-item\"><li><span><a href=\"#Загрузка-данных-и-первичное-ознакомление\" data-toc-modified-id=\"Загрузка-данных-и-первичное-ознакомление-1.1\"><span class=\"toc-item-num\">1.1&nbsp;&nbsp;</span>Загрузка данных и первичное ознакомление</a></span></li><li><span><a href=\"#Проверка-рассчета-эффективности-обогащения\" data-toc-modified-id=\"Проверка-рассчета-эффективности-обогащения-1.2\"><span class=\"toc-item-num\">1.2&nbsp;&nbsp;</span>Проверка рассчета эффективности обогащения</a></span></li><li><span><a href=\"#Анализ-признаков,-отсутствующих-в-тестовой-выборке\" data-toc-modified-id=\"Анализ-признаков,-отсутствующих-в-тестовой-выборке-1.3\"><span class=\"toc-item-num\">1.3&nbsp;&nbsp;</span>Анализ признаков, отсутствующих в тестовой выборке</a></span></li><li><span><a href=\"#Предобработка-данных\" data-toc-modified-id=\"Предобработка-данных-1.4\"><span class=\"toc-item-num\">1.4&nbsp;&nbsp;</span>Предобработка данных</a></span></li></ul></li><li><span><a href=\"#Анализ-данных\" data-toc-modified-id=\"Анализ-данных-2\"><span class=\"toc-item-num\">2&nbsp;&nbsp;</span>Анализ данных</a></span><ul class=\"toc-item\"><li><span><a href=\"#Сравнение-размеров-гранул-на-обучающей-и-тестовой-выборке\" data-toc-modified-id=\"Сравнение-размеров-гранул-на-обучающей-и-тестовой-выборке-2.1\"><span class=\"toc-item-num\">2.1&nbsp;&nbsp;</span>Сравнение размеров гранул на обучающей и тестовой выборке</a></span></li><li><span><a href=\"#Исследование-суммарной-концентрации-веществ\" data-toc-modified-id=\"Исследование-суммарной-концентрации-веществ-2.2\"><span class=\"toc-item-num\">2.2&nbsp;&nbsp;</span>Исследование суммарной концентрации веществ</a></span></li></ul></li><li><span><a href=\"#Модель\" data-toc-modified-id=\"Модель-3\"><span class=\"toc-item-num\">3&nbsp;&nbsp;</span>Модель</a></span></li><li><span><a href=\"#Чек-лист-готовности-проекта\" data-toc-modified-id=\"Чек-лист-готовности-проекта-4\"><span class=\"toc-item-num\">4&nbsp;&nbsp;</span>Чек-лист готовности проекта</a></span></li></ul></div>"
   ]
  },
  {
   "cell_type": "markdown",
   "metadata": {},
   "source": [
    "# Восстановление золота из руды"
   ]
  },
  {
   "cell_type": "markdown",
   "metadata": {},
   "source": [
    "Подготовьте прототип модели машинного обучения для «Цифры». Компания разрабатывает решения для эффективной работы промышленных предприятий.\n",
    "\n",
    "Модель должна предсказать коэффициент восстановления золота из золотосодержащей руды. Используйте данные с параметрами добычи и очистки. \n",
    "\n",
    "Модель поможет оптимизировать производство, чтобы не запускать предприятие с убыточными характеристиками.\n",
    "\n",
    "Вам нужно:\n",
    "\n",
    "1. Подготовить данные;\n",
    "2. Провести исследовательский анализ данных;\n",
    "3. Построить и обучить модель.\n",
    "\n",
    "Чтобы выполнить проект, обращайтесь к библиотекам *pandas*, *matplotlib* и *sklearn.* Вам поможет их документация."
   ]
  },
  {
   "cell_type": "markdown",
   "metadata": {},
   "source": [
    "## Подготовка данных"
   ]
  },
  {
   "cell_type": "markdown",
   "metadata": {},
   "source": [
    "### Загрузка данных и первичное ознакомление"
   ]
  },
  {
   "cell_type": "code",
   "execution_count": 56,
   "metadata": {},
   "outputs": [],
   "source": [
    "import pandas as pd\n",
    "import numpy as np\n",
    "import matplotlib.pyplot as plt\n",
    "from sklearn.metrics import mean_absolute_error\n",
    "from sklearn.tree import DecisionTreeRegressor\n",
    "from sklearn.ensemble import RandomForestRegressor\n",
    "from sklearn.linear_model import LinearRegression\n",
    "from sklearn.model_selection import cross_val_score\n",
    "from sklearn.preprocessing import StandardScaler\n",
    "from tqdm.notebook import tqdm\n",
    "from sklearn.model_selection import train_test_split\n",
    "from sklearn.dummy import DummyRegressor"
   ]
  },
  {
   "cell_type": "markdown",
   "metadata": {},
   "source": [
    "Сохраним данные в переменных и выведем общие сведения о датасетах."
   ]
  },
  {
   "cell_type": "code",
   "execution_count": 2,
   "metadata": {},
   "outputs": [],
   "source": [
    "df_train = pd.read_csv('/datasets/gold_recovery_train_new.csv', index_col='date')\n",
    "df_test = pd.read_csv('/datasets/gold_recovery_test_new.csv', index_col='date')\n",
    "df_full = pd.read_csv('/datasets/gold_recovery_full_new.csv', index_col='date')"
   ]
  },
  {
   "cell_type": "code",
   "execution_count": 3,
   "metadata": {},
   "outputs": [],
   "source": [
    "dfs_dict = {'train': df_train, 'test': df_test, 'full': df_full}\n",
    "#создаю словарь из датасетов для последующей рыботы в цикле (ключами указываю названия)"
   ]
  },
  {
   "cell_type": "code",
   "execution_count": 4,
   "metadata": {
    "scrolled": false
   },
   "outputs": [
    {
     "name": "stdout",
     "output_type": "stream",
     "text": [
      "\n",
      "Датасет train\n",
      "\n",
      "Размер: (14149, 86)\n",
      "Пропуски имеются в 62 столбцах\n",
      "Дубликатов: 0\n",
      "Индексация: от 2016-01-15 00:00:00 до 2016-01-15 00:00:00\n",
      "Типы данных: [dtype('float64')]\n",
      "\n",
      "Датасет test\n",
      "\n",
      "Размер: (5290, 52)\n",
      "Пропуски имеются в 12 столбцах\n",
      "Дубликатов: 0\n",
      "Индексация: от 2016-09-01 00:59:59 до 2016-09-01 00:59:59\n",
      "Типы данных: [dtype('float64')]\n",
      "\n",
      "Датасет full\n",
      "\n",
      "Размер: (19439, 86)\n",
      "Пропуски имеются в 63 столбцах\n",
      "Дубликатов: 0\n",
      "Индексация: от 2016-01-15 00:00:00 до 2016-01-15 00:00:00\n",
      "Типы данных: [dtype('float64')]\n"
     ]
    }
   ],
   "source": [
    "for name in dfs_dict:\n",
    "    print()\n",
    "    print(f'Датасет {name}')\n",
    "    print()\n",
    "    print(f'Размер: {dfs_dict[name].shape}')\n",
    "    print(f'Пропуски имеются в {(dfs_dict[name].isna().mean() > 0).sum()} столбцах')\n",
    "    print(f'Дубликатов: {dfs_dict[name].duplicated().sum()}')\n",
    "    print(f'Индексация: от {dfs_dict[name].index[0]} до {dfs_dict[name].index[0]}')\n",
    "    print(f'Типы данных: {dfs_dict[name].dtypes.unique()}')"
   ]
  },
  {
   "cell_type": "markdown",
   "metadata": {},
   "source": [
    "### Проверка рассчета эффективности обогащения"
   ]
  },
  {
   "cell_type": "markdown",
   "metadata": {},
   "source": [
    "Проверим расчет эффективности обогащения по формуле и найдем mae между полученными значениями и сведениями в исходных данных."
   ]
  },
  {
   "cell_type": "code",
   "execution_count": 5,
   "metadata": {},
   "outputs": [],
   "source": [
    "true_rougher_recovery = df_train['rougher.output.recovery'] #сохраняю значения из исходного датасета"
   ]
  },
  {
   "cell_type": "code",
   "execution_count": 6,
   "metadata": {},
   "outputs": [],
   "source": [
    "f = df_train['rougher.input.feed_au']\n",
    "c = df_train['rougher.output.concentrate_au']\n",
    "t = df_train['rougher.output.tail_au']\n",
    "#сохраняю данные, используемые для расчета в переменные в виде букв, которые входят в формулу расчета"
   ]
  },
  {
   "cell_type": "code",
   "execution_count": 7,
   "metadata": {},
   "outputs": [],
   "source": [
    "calc_rougher_recovery = pd.Series((c * (f - t)) / (f * (c - t)) * 100) #расчитываю эффективность обогащения по формуле"
   ]
  },
  {
   "cell_type": "code",
   "execution_count": 8,
   "metadata": {},
   "outputs": [],
   "source": [
    "mae = mean_absolute_error(true_rougher_recovery, calc_rougher_recovery) \n",
    "#нахожу mae между сведениями из исходных данных и результатами самостоятельного расчета"
   ]
  },
  {
   "cell_type": "code",
   "execution_count": 9,
   "metadata": {},
   "outputs": [
    {
     "name": "stdout",
     "output_type": "stream",
     "text": [
      "mae = 0.000000000000010\n"
     ]
    }
   ],
   "source": [
    "print(f'mae = {mae:.15f}')"
   ]
  },
  {
   "cell_type": "markdown",
   "metadata": {},
   "source": [
    "Эффективность обогащения, указанная в исходных данных, проверена. Самостоятельные расчеты подтвердили верность исходных данных."
   ]
  },
  {
   "cell_type": "markdown",
   "metadata": {},
   "source": [
    "### Анализ признаков, отсутствующих в тестовой выборке"
   ]
  },
  {
   "cell_type": "markdown",
   "metadata": {},
   "source": [
    "Найдем признаки, недоступные в тестовых данных, но имеющиеся в полных данных."
   ]
  },
  {
   "cell_type": "code",
   "execution_count": 10,
   "metadata": {},
   "outputs": [],
   "source": [
    "columns_difference = set(df_full.columns) - set(df_test.columns)"
   ]
  },
  {
   "cell_type": "code",
   "execution_count": 11,
   "metadata": {
    "scrolled": true
   },
   "outputs": [
    {
     "name": "stdout",
     "output_type": "stream",
     "text": [
      "Недоступные в тестовых данных признаки:\n",
      "rougher.output.tail_ag\n",
      "final.output.recovery\n",
      "secondary_cleaner.output.tail_pb\n",
      "rougher.output.concentrate_pb\n",
      "rougher.output.concentrate_au\n",
      "final.output.tail_au\n",
      "final.output.tail_pb\n",
      "rougher.output.tail_pb\n",
      "rougher.calculation.sulfate_to_au_concentrate\n",
      "primary_cleaner.output.concentrate_ag\n",
      "primary_cleaner.output.concentrate_au\n",
      "secondary_cleaner.output.tail_sol\n",
      "final.output.tail_sol\n",
      "primary_cleaner.output.tail_pb\n",
      "secondary_cleaner.output.tail_au\n",
      "final.output.tail_ag\n",
      "rougher.calculation.floatbank11_sulfate_to_au_feed\n",
      "primary_cleaner.output.concentrate_sol\n",
      "primary_cleaner.output.concentrate_pb\n",
      "primary_cleaner.output.tail_sol\n",
      "primary_cleaner.output.tail_ag\n",
      "rougher.calculation.au_pb_ratio\n",
      "rougher.output.concentrate_ag\n",
      "rougher.calculation.floatbank10_sulfate_to_au_feed\n",
      "final.output.concentrate_ag\n",
      "rougher.output.tail_sol\n",
      "final.output.concentrate_au\n",
      "rougher.output.tail_au\n",
      "rougher.output.recovery\n",
      "rougher.output.concentrate_sol\n",
      "primary_cleaner.output.tail_au\n",
      "secondary_cleaner.output.tail_ag\n",
      "final.output.concentrate_sol\n",
      "final.output.concentrate_pb\n"
     ]
    }
   ],
   "source": [
    "print('Недоступные в тестовых данных признаки:')\n",
    "print(*list(columns_difference), sep='\\n')"
   ]
  },
  {
   "cell_type": "markdown",
   "metadata": {},
   "source": [
    "Данные признаки содержат параметры обработанного сырья после каждого этапа. Наличие данных принзаков в тестовой выборке приведет к утечке данных, поскольку в них отражаются сведения о целевых признаках."
   ]
  },
  {
   "cell_type": "code",
   "execution_count": 12,
   "metadata": {
    "scrolled": true
   },
   "outputs": [
    {
     "name": "stdout",
     "output_type": "stream",
     "text": [
      "Данные признаки относятся к [dtype('float64')]\n"
     ]
    }
   ],
   "source": [
    "print(f'Данные признаки относятся к {df_full[columns_difference].dtypes.unique()}')"
   ]
  },
  {
   "cell_type": "markdown",
   "metadata": {},
   "source": [
    "### Предобработка данных"
   ]
  },
  {
   "cell_type": "markdown",
   "metadata": {},
   "source": [
    "Добавим к тестовым данным целевые признаки и удалим из тренировочной выборки признаки, отсутствующие в тестовых данных."
   ]
  },
  {
   "cell_type": "code",
   "execution_count": 13,
   "metadata": {},
   "outputs": [],
   "source": [
    "df_test = df_test.join(df_full[['rougher.output.recovery', 'final.output.recovery']])"
   ]
  },
  {
   "cell_type": "code",
   "execution_count": 14,
   "metadata": {},
   "outputs": [],
   "source": [
    "df_train = df_train[df_test.columns]"
   ]
  },
  {
   "cell_type": "markdown",
   "metadata": {},
   "source": [
    "Заполним пропуски предыдущими значениями. Поскольку индексирование происходит по дате и времени, соседние значения вероятно являются наиболее схожими к отсутствующим."
   ]
  },
  {
   "cell_type": "code",
   "execution_count": 15,
   "metadata": {},
   "outputs": [],
   "source": [
    "df_train = df_train.fillna(method='ffill')\n",
    "df_test = df_test.fillna(method='ffill')\n",
    "df_full = df_full.fillna(method='ffill')"
   ]
  },
  {
   "cell_type": "markdown",
   "metadata": {},
   "source": [
    "## Анализ данных"
   ]
  },
  {
   "cell_type": "markdown",
   "metadata": {},
   "source": [
    "Посмотрим как менялась концентрация металлов: золота (Au), серебра (Ag) и свинца (Pb) на различных этапах очистки."
   ]
  },
  {
   "cell_type": "code",
   "execution_count": 16,
   "metadata": {},
   "outputs": [],
   "source": [
    "elem_for_analysis = ['Au', 'Ag', 'Pb'] #создаю список исследуемых металлов для последующей обработки через цикл"
   ]
  },
  {
   "cell_type": "code",
   "execution_count": 17,
   "metadata": {},
   "outputs": [],
   "source": [
    "def look_for_concentration(elem):\n",
    "    df_elem = df_full[df_full.columns[df_full.columns.str.contains(f'concentrate_{elem}|feed_{elem}')]]\n",
    "    #создаю датасет с признаками, касающимися концентрации отдельного металла на разных этапах\n",
    "    df_elem.columns = ['_'.join(word.split('.')[:2]) for word in df_elem.columns]\n",
    "    #переименовываю признаки, оставляя только название этапа\n",
    "    df_elem = df_elem[['rougher_input', 'rougher_output', 'primary_cleaner_output', 'final_output']]\n",
    "    #упорядочиваю признаки в соответствии с хронологией обработки\n",
    "    print(df_elem.agg(['mean', 'median']))\n",
    "    #вывожу среднее и медианное значение концентрации металла для каждого этапа обработки\n",
    "    df_elem.mean().plot(kind='bar', grid=True)\n",
    "    plt.xlabel('process step')\n",
    "    plt.ylabel('concentration')\n",
    "    plt.show()\n",
    "    #строю столчатую диаграмму по средним значениям концентрации металла по каждому этапу\n",
    "#создаю функцию, которая будет выводить средние и медианные значения концентрации металлов, а также гистограмму"
   ]
  },
  {
   "cell_type": "code",
   "execution_count": 18,
   "metadata": {},
   "outputs": [
    {
     "name": "stdout",
     "output_type": "stream",
     "text": [
      "Концентрация Au на разных этапах очистки\n",
      "\n",
      "        rougher_input  rougher_output  primary_cleaner_output  final_output\n",
      "mean         8.266097       19.772000               32.119400     44.076513\n",
      "median       8.125839       20.280214               32.841295     45.011244\n"
     ]
    },
    {
     "data": {
      "image/png": "[encoded data removed]",
      "text/plain": [
       "<Figure size 432x288 with 1 Axes>"
      ]
     },
     "metadata": {
      "needs_background": "light"
     },
     "output_type": "display_data"
    },
    {
     "name": "stdout",
     "output_type": "stream",
     "text": [
      "\n",
      "Концентрация Ag на разных этапах очистки\n",
      "\n",
      "        rougher_input  rougher_output  primary_cleaner_output  final_output\n",
      "mean         8.794927       11.994759                8.442408      5.168387\n",
      "median       8.593574       12.098115                8.507298      5.066039\n"
     ]
    },
    {
     "data": {
      "image/png": "[encoded data removed]",
      "text/plain": [
       "<Figure size 432x288 with 1 Axes>"
      ]
     },
     "metadata": {
      "needs_background": "light"
     },
     "output_type": "display_data"
    },
    {
     "name": "stdout",
     "output_type": "stream",
     "text": [
      "\n",
      "Концентрация Pb на разных этапах очистки\n",
      "\n",
      "        rougher_input  rougher_output  primary_cleaner_output  final_output\n",
      "mean         3.585096        7.606272                9.810317      9.978821\n",
      "median       3.528235        7.742580               10.142270     10.102264\n"
     ]
    },
    {
     "data": {
      "image/png": "[encoded data removed]",
      "text/plain": [
       "<Figure size 432x288 with 1 Axes>"
      ]
     },
     "metadata": {
      "needs_background": "light"
     },
     "output_type": "display_data"
    },
    {
     "name": "stdout",
     "output_type": "stream",
     "text": [
      "\n"
     ]
    }
   ],
   "source": [
    "for elem in elem_for_analysis:\n",
    "    print(f'Концентрация {elem} на разных этапах очистки')\n",
    "    print()\n",
    "    look_for_concentration(elem.lower())\n",
    "    print()\n",
    "#прохожусь данной функцией по списку исследуемых металлов"
   ]
  },
  {
   "cell_type": "markdown",
   "metadata": {},
   "source": [
    "Концентрация золота увеличивается на каждом следующем этапе обработки, составляя 8% в исходном сырье и доходя до 44% в финальном концентрате. \n",
    "\n",
    "Концентрация серебра немного снижается в финальном концентрае по сравнению с исходным сырьем - с 8% до 5% После флотации   концентрация серебра незначительно увеличивается - до 12%.\n",
    "\n",
    "Концентрация свинца в исходном сырье составляет 3.5%, а после флотации и первого этапа очистки увеличивается до 10%, сохраняя такую концентрацию вплоть до исходного сырья. "
   ]
  },
  {
   "cell_type": "markdown",
   "metadata": {},
   "source": [
    "### Сравнение размеров гранул на обучающей и тестовой выборке"
   ]
  },
  {
   "cell_type": "markdown",
   "metadata": {},
   "source": [
    "Сравним распределения размеров гранул сырья на обучающей и тестовой выборках. Если распределения сильно отличаются друг от друга, оценка модели будет неправильной."
   ]
  },
  {
   "cell_type": "code",
   "execution_count": 19,
   "metadata": {},
   "outputs": [
    {
     "data": {
      "text/plain": [
       "Index(['primary_cleaner.input.feed_size', 'rougher.input.feed_size'], dtype='object')"
      ]
     },
     "execution_count": 19,
     "metadata": {},
     "output_type": "execute_result"
    }
   ],
   "source": [
    "df_full.columns[df_full.columns.str.contains('feed_size')] #нахожу столбцы с нужными данными"
   ]
  },
  {
   "cell_type": "markdown",
   "metadata": {},
   "source": [
    "В данных имеются признаки со сведениями о размерах гранул в финальном сырье и перед первым этапом очистки.\n",
    "\n",
    "Произведем сравнение по сведениям об исходном сырье как первостепенным."
   ]
  },
  {
   "cell_type": "markdown",
   "metadata": {},
   "source": [
    "Выведем распределения значений размеров гранул в обучающей и тестовой выборках и построим гистограммы."
   ]
  },
  {
   "cell_type": "code",
   "execution_count": 20,
   "metadata": {
    "scrolled": false
   },
   "outputs": [
    {
     "data": {
      "text/html": [
       "<div>\n",
       "<style scoped>\n",
       "    .dataframe tbody tr th:only-of-type {\n",
       "        vertical-align: middle;\n",
       "    }\n",
       "\n",
       "    .dataframe tbody tr th {\n",
       "        vertical-align: top;\n",
       "    }\n",
       "\n",
       "    .dataframe thead th {\n",
       "        text-align: right;\n",
       "    }\n",
       "</style>\n",
       "<table border=\"1\" class=\"dataframe\">\n",
       "  <thead>\n",
       "    <tr style=\"text-align: right;\">\n",
       "      <th></th>\n",
       "      <th>train</th>\n",
       "      <th>test</th>\n",
       "    </tr>\n",
       "  </thead>\n",
       "  <tbody>\n",
       "    <tr>\n",
       "      <td>count</td>\n",
       "      <td>14149.000000</td>\n",
       "      <td>5290.000000</td>\n",
       "    </tr>\n",
       "    <tr>\n",
       "      <td>mean</td>\n",
       "      <td>60.239856</td>\n",
       "      <td>55.952754</td>\n",
       "    </tr>\n",
       "    <tr>\n",
       "      <td>std</td>\n",
       "      <td>23.005310</td>\n",
       "      <td>19.080334</td>\n",
       "    </tr>\n",
       "    <tr>\n",
       "      <td>min</td>\n",
       "      <td>9.659576</td>\n",
       "      <td>0.046369</td>\n",
       "    </tr>\n",
       "    <tr>\n",
       "      <td>25%</td>\n",
       "      <td>48.966751</td>\n",
       "      <td>43.906504</td>\n",
       "    </tr>\n",
       "    <tr>\n",
       "      <td>50%</td>\n",
       "      <td>55.269784</td>\n",
       "      <td>50.846843</td>\n",
       "    </tr>\n",
       "    <tr>\n",
       "      <td>75%</td>\n",
       "      <td>66.007526</td>\n",
       "      <td>62.451165</td>\n",
       "    </tr>\n",
       "    <tr>\n",
       "      <td>max</td>\n",
       "      <td>484.967466</td>\n",
       "      <td>392.494040</td>\n",
       "    </tr>\n",
       "  </tbody>\n",
       "</table>\n",
       "</div>"
      ],
      "text/plain": [
       "              train         test\n",
       "count  14149.000000  5290.000000\n",
       "mean      60.239856    55.952754\n",
       "std       23.005310    19.080334\n",
       "min        9.659576     0.046369\n",
       "25%       48.966751    43.906504\n",
       "50%       55.269784    50.846843\n",
       "75%       66.007526    62.451165\n",
       "max      484.967466   392.494040"
      ]
     },
     "execution_count": 20,
     "metadata": {},
     "output_type": "execute_result"
    }
   ],
   "source": [
    "df_train_feed_size = pd.DataFrame(df_train['rougher.input.feed_size'].describe())\n",
    "df_test_feed_size = pd.DataFrame(df_test['rougher.input.feed_size'].describe())\n",
    "df_train_feed_size.columns = ['train']\n",
    "df_test_feed_size.columns = ['test']\n",
    "df_feed_size = df_train_feed_size.join(df_test_feed_size)\n",
    "df_feed_size"
   ]
  },
  {
   "cell_type": "code",
   "execution_count": 21,
   "metadata": {
    "scrolled": false
   },
   "outputs": [
    {
     "data": {
      "image/png": "[encoded data removed]",
      "text/plain": [
       "<Figure size 1080x432 with 2 Axes>"
      ]
     },
     "metadata": {
      "needs_background": "light"
     },
     "output_type": "display_data"
    }
   ],
   "source": [
    "plt.figure(figsize=(15, 6))\n",
    "\n",
    "plt.subplot(1, 2, 1)\n",
    "df_train['rougher.input.feed_size'].hist(bins=30)\n",
    "plt.xlim(0, 150)\n",
    "plt.title('train sample')\n",
    "plt.xlabel('feed size')\n",
    "\n",
    "plt.subplot(1, 2, 2)\n",
    "df_test['rougher.input.feed_size'].hist(bins=30)\n",
    "plt.xlim(0, 150)\n",
    "plt.title('test sample')\n",
    "plt.xlabel('feed size')\n",
    "\n",
    "plt.show()"
   ]
  },
  {
   "cell_type": "markdown",
   "metadata": {},
   "source": [
    "Распределение выглядит идентично."
   ]
  },
  {
   "cell_type": "markdown",
   "metadata": {},
   "source": [
    "### Исследование суммарной концентрации веществ"
   ]
  },
  {
   "cell_type": "markdown",
   "metadata": {},
   "source": [
    "Исследуем суммарную концентрацию всех веществ (золота, серебра и свинца) на разных стадиях."
   ]
  },
  {
   "cell_type": "code",
   "execution_count": 22,
   "metadata": {
    "scrolled": true
   },
   "outputs": [
    {
     "data": {
      "text/plain": [
       "Index(['final.output.concentrate_ag', 'final.output.concentrate_pb',\n",
       "       'final.output.concentrate_au', 'final.output.tail_ag',\n",
       "       'final.output.tail_pb', 'final.output.tail_au',\n",
       "       'primary_cleaner.output.concentrate_ag',\n",
       "       'primary_cleaner.output.concentrate_pb',\n",
       "       'primary_cleaner.output.concentrate_au',\n",
       "       'primary_cleaner.output.tail_ag', 'primary_cleaner.output.tail_pb',\n",
       "       'primary_cleaner.output.tail_au',\n",
       "       'rougher.calculation.sulfate_to_au_concentrate',\n",
       "       'rougher.calculation.floatbank10_sulfate_to_au_feed',\n",
       "       'rougher.calculation.floatbank11_sulfate_to_au_feed',\n",
       "       'rougher.calculation.au_pb_ratio', 'rougher.input.feed_ag',\n",
       "       'rougher.input.feed_pb', 'rougher.input.feed_au',\n",
       "       'rougher.output.concentrate_ag', 'rougher.output.concentrate_pb',\n",
       "       'rougher.output.concentrate_au', 'rougher.output.tail_ag',\n",
       "       'rougher.output.tail_pb', 'rougher.output.tail_au',\n",
       "       'secondary_cleaner.output.tail_ag', 'secondary_cleaner.output.tail_pb',\n",
       "       'secondary_cleaner.output.tail_au'],\n",
       "      dtype='object')"
      ]
     },
     "execution_count": 22,
     "metadata": {},
     "output_type": "execute_result"
    }
   ],
   "source": [
    "df_full.columns[df_full.columns.str.contains('au|ag|pb')] #найдем признаки с нужной информацией"
   ]
  },
  {
   "cell_type": "markdown",
   "metadata": {},
   "source": [
    "Создадим новые признаки со значениями суммарной концентрации веществ на разных этапах."
   ]
  },
  {
   "cell_type": "code",
   "execution_count": 23,
   "metadata": {},
   "outputs": [],
   "source": [
    "df_full['rougher.input.sum'] = (df_full['rougher.input.feed_pb'] +\n",
    "                                df_full['rougher.input.feed_ag'] +\n",
    "                                df_full['rougher.input.feed_au'])"
   ]
  },
  {
   "cell_type": "code",
   "execution_count": 24,
   "metadata": {},
   "outputs": [],
   "source": [
    "df_full['rougher.output.sum'] = (df_full['rougher.output.concentrate_ag'] + \n",
    "                                df_full['rougher.output.concentrate_pb'] + \n",
    "                                df_full['rougher.output.concentrate_au'])"
   ]
  },
  {
   "cell_type": "code",
   "execution_count": 25,
   "metadata": {},
   "outputs": [],
   "source": [
    "df_full['primary_cleaner.output.sum'] = (df_full['primary_cleaner.output.concentrate_ag'] +\n",
    "                                        df_full['primary_cleaner.output.concentrate_pb'] +\n",
    "                                        df_full['primary_cleaner.output.concentrate_au'])"
   ]
  },
  {
   "cell_type": "code",
   "execution_count": 26,
   "metadata": {},
   "outputs": [],
   "source": [
    "df_full['final.output.sum'] = (df_full['final.output.concentrate_ag'] + \n",
    "                              df_full['final.output.concentrate_pb'] + \n",
    "                              df_full['final.output.concentrate_au'])"
   ]
  },
  {
   "cell_type": "markdown",
   "metadata": {},
   "source": [
    "Сохраним данные признаки в отдельный датафрейм."
   ]
  },
  {
   "cell_type": "code",
   "execution_count": 27,
   "metadata": {},
   "outputs": [],
   "source": [
    "df_chemicals_sum = df_full[['rougher.input.sum', 'rougher.output.sum', 'primary_cleaner.output.sum', 'final.output.sum']]"
   ]
  },
  {
   "cell_type": "code",
   "execution_count": 28,
   "metadata": {},
   "outputs": [],
   "source": [
    "df_chemicals_sum.columns = [('_').join(name.split('.')[:2]) for name in df_chemicals_sum.columns] \n",
    "#более кратко именую принаки (убераю 'sum' из названия)"
   ]
  },
  {
   "cell_type": "markdown",
   "metadata": {},
   "source": [
    "Выведем средние значения суммарной концентрации веществ на разных этапах и посмотрим на распределение."
   ]
  },
  {
   "cell_type": "code",
   "execution_count": 29,
   "metadata": {},
   "outputs": [
    {
     "data": {
      "text/plain": [
       "rougher_input             20.646120\n",
       "rougher_output            39.373032\n",
       "primary_cleaner_output    50.372125\n",
       "final_output              59.223721\n",
       "dtype: float64"
      ]
     },
     "execution_count": 29,
     "metadata": {},
     "output_type": "execute_result"
    }
   ],
   "source": [
    "df_chemicals_sum.mean()"
   ]
  },
  {
   "cell_type": "code",
   "execution_count": 30,
   "metadata": {
    "scrolled": true
   },
   "outputs": [
    {
     "data": {
      "image/png": "[encoded data removed]",
      "text/plain": [
       "<Figure size 1080x720 with 4 Axes>"
      ]
     },
     "metadata": {
      "needs_background": "light"
     },
     "output_type": "display_data"
    }
   ],
   "source": [
    "df_chemicals_sum.hist(bins=30, figsize=(15, 10))\n",
    "plt.show()"
   ]
  },
  {
   "cell_type": "markdown",
   "metadata": {},
   "source": [
    "Суммарная концентрация всех веществ увеличивается с каждым следующим этапом обработки."
   ]
  },
  {
   "cell_type": "markdown",
   "metadata": {},
   "source": [
    "Посмотрим на количество строк с нулевым суммарным значением веществ в первоначальном сырье."
   ]
  },
  {
   "cell_type": "code",
   "execution_count": 31,
   "metadata": {
    "scrolled": true
   },
   "outputs": [
    {
     "name": "stdout",
     "output_type": "stream",
     "text": [
      "Количество строк с нулевой суммарной концентрацией веществ на первоначальном сырье: 0\n"
     ]
    }
   ],
   "source": [
    "print(f'Количество строк с нулевой суммарной концентрацией веществ на первоначальном сырье:', \n",
    "      len(df_chemicals_sum[df_chemicals_sum['rougher_input'] == 0]))"
   ]
  },
  {
   "cell_type": "markdown",
   "metadata": {},
   "source": [
    "Строки с нулевым суммарным значением веществ в первоначальном сырье отсутствуют. Это значит нулевые суммарные значения веществ на последующих этапах являются ошибочными, поскольку вещества не могут просто исчезнуть, а даже напротив - на каждом последующем этапе суммарная концентрация веществ должна увеличиваться."
   ]
  },
  {
   "cell_type": "markdown",
   "metadata": {},
   "source": [
    "Удалим строки с нулевыми суммарными значениями веществ на последуюих стадиях, посмотрим на процент удаленных строк и на получившееся распределение."
   ]
  },
  {
   "cell_type": "code",
   "execution_count": 32,
   "metadata": {},
   "outputs": [
    {
     "name": "stdout",
     "output_type": "stream",
     "text": [
      "Количество строк в датасете до удаления нулевых значений: 19439\n"
     ]
    }
   ],
   "source": [
    "start_num_strings = len(df_chemicals_sum)\n",
    "print(f'Количество строк в датасете до удаления нулевых значений:', start_num_strings)"
   ]
  },
  {
   "cell_type": "code",
   "execution_count": 33,
   "metadata": {
    "scrolled": true
   },
   "outputs": [
    {
     "name": "stdout",
     "output_type": "stream",
     "text": [
      "Количество строк с нулевой суммарной концентрацией:\n",
      "На этапе rougher_input: 0\n",
      "На этапе rougher_output: 394\n",
      "На этапе primary_cleaner_output: 108\n",
      "На этапе final_output: 98\n"
     ]
    }
   ],
   "source": [
    "print('Количество строк с нулевой суммарной концентрацией:')\n",
    "for col in df_chemicals_sum:\n",
    "    print(f'На этапе {col}: {len(df_chemicals_sum[df_chemicals_sum[col] == 0])}')"
   ]
  },
  {
   "cell_type": "code",
   "execution_count": 34,
   "metadata": {},
   "outputs": [],
   "source": [
    "for col in df_chemicals_sum:\n",
    "    df_chemicals_sum = df_chemicals_sum[df_chemicals_sum[col] != 0]"
   ]
  },
  {
   "cell_type": "code",
   "execution_count": 35,
   "metadata": {
    "scrolled": true
   },
   "outputs": [
    {
     "name": "stdout",
     "output_type": "stream",
     "text": [
      "Количество строк с нулевой суммарной концентрацией:\n",
      "На этапе rougher_input: 0\n",
      "На этапе rougher_output: 0\n",
      "На этапе primary_cleaner_output: 0\n",
      "На этапе final_output: 0\n"
     ]
    }
   ],
   "source": [
    "print('Количество строк с нулевой суммарной концентрацией:')\n",
    "for col in df_chemicals_sum:\n",
    "    print(f'На этапе {col}: {len(df_chemicals_sum[df_chemicals_sum[col] == 0])}')"
   ]
  },
  {
   "cell_type": "code",
   "execution_count": 36,
   "metadata": {
    "scrolled": false
   },
   "outputs": [
    {
     "name": "stdout",
     "output_type": "stream",
     "text": [
      "Количество строк в датасете после удаления нулевых значений: 18848\n"
     ]
    }
   ],
   "source": [
    "end_num_strings = len(df_chemicals_sum)\n",
    "print(f'Количество строк в датасете после удаления нулевых значений:', end_num_strings)"
   ]
  },
  {
   "cell_type": "code",
   "execution_count": 44,
   "metadata": {},
   "outputs": [
    {
     "name": "stdout",
     "output_type": "stream",
     "text": [
      "Удалено процентов данных: 3\n"
     ]
    }
   ],
   "source": [
    "print('Удалено процентов данных:', round((start_num_strings - end_num_strings) / start_num_strings * 100))"
   ]
  },
  {
   "cell_type": "code",
   "execution_count": 45,
   "metadata": {},
   "outputs": [
    {
     "data": {
      "text/plain": [
       "rougher_input             20.625440\n",
       "rougher_output            40.188296\n",
       "primary_cleaner_output    50.636350\n",
       "final_output              59.522037\n",
       "dtype: float64"
      ]
     },
     "execution_count": 45,
     "metadata": {},
     "output_type": "execute_result"
    }
   ],
   "source": [
    "df_chemicals_sum.mean()"
   ]
  },
  {
   "cell_type": "code",
   "execution_count": 46,
   "metadata": {
    "scrolled": false
   },
   "outputs": [
    {
     "data": {
      "image/png": "[encoded data removed]",
      "text/plain": [
       "<Figure size 1080x720 with 4 Axes>"
      ]
     },
     "metadata": {
      "needs_background": "light"
     },
     "output_type": "display_data"
    }
   ],
   "source": [
    "df_chemicals_sum.hist(bins=30, figsize=(15, 10))\n",
    "plt.show()"
   ]
  },
  {
   "cell_type": "markdown",
   "metadata": {},
   "source": [
    "Удаление выбросов улучшило качество данных."
   ]
  },
  {
   "cell_type": "markdown",
   "metadata": {},
   "source": [
    "## Модель"
   ]
  },
  {
   "cell_type": "markdown",
   "metadata": {},
   "source": [
    "Выделим целевой признак в обучающей и тестовой выборке."
   ]
  },
  {
   "cell_type": "code",
   "execution_count": 47,
   "metadata": {},
   "outputs": [],
   "source": [
    "features_train = df_train.drop(['rougher.output.recovery', 'final.output.recovery'], axis=1)\n",
    "target_train = df_train[['rougher.output.recovery', 'final.output.recovery']]\n",
    "features_test = df_test.drop(['rougher.output.recovery', 'final.output.recovery'], axis=1)\n",
    "target_test = df_test[['rougher.output.recovery', 'final.output.recovery']]"
   ]
  },
  {
   "cell_type": "markdown",
   "metadata": {},
   "source": [
    "Обучающую выборку разделим на обучающую и валидацицонную в соотношении 3/1."
   ]
  },
  {
   "cell_type": "code",
   "execution_count": 48,
   "metadata": {},
   "outputs": [],
   "source": [
    "features_train_temp, features_valid_temp, target_train_temp, target_valid_temp = train_test_split(\n",
    "    features_train, target_train, test_size=0.25, random_state=12345)"
   ]
  },
  {
   "cell_type": "markdown",
   "metadata": {},
   "source": [
    "Напишем функцию для расчета итогового SMAPe."
   ]
  },
  {
   "cell_type": "code",
   "execution_count": 49,
   "metadata": {},
   "outputs": [],
   "source": [
    "def smape_result(target, predictions):\n",
    "    \n",
    "    def smape(targ, pred):\n",
    "        smape = (abs(targ - pred) / ((abs(targ) + abs(pred)) / 2)).sum() * 100 / len(targ)\n",
    "        return smape\n",
    "    \n",
    "    target_rougher = target.iloc[:, 0]\n",
    "    target_final = target.iloc[:, 1]\n",
    "    predictions_rouger = predictions[:, 0]\n",
    "    predictions_final = predictions[:, 1]\n",
    "    \n",
    "    smape_rough = smape(target_rougher, predictions_rouger)\n",
    "    smape_final = smape(target_final, predictions_final)\n",
    "    \n",
    "    smape_result = 0.25 * smape_rough + 0.75 * smape_final\n",
    "    \n",
    "    return smape_result   "
   ]
  },
  {
   "cell_type": "markdown",
   "metadata": {},
   "source": [
    "Подеберем через цикл гиперпараметр глубины для моделей дерева решений и случайного леса, а также гиперпараметр количества деревьев для модели случайного леса."
   ]
  },
  {
   "cell_type": "code",
   "execution_count": 50,
   "metadata": {
    "scrolled": true
   },
   "outputs": [
    {
     "data": {
      "application/vnd.jupyter.widget-view+json": {
       "model_id": "0e047d4c155645e6a553a86b2e87df86",
       "version_major": 2,
       "version_minor": 0
      },
      "text/plain": [
       "HBox(children=(HTML(value=''), FloatProgress(value=0.0, max=10.0), HTML(value='')))"
      ]
     },
     "metadata": {},
     "output_type": "display_data"
    },
    {
     "name": "stdout",
     "output_type": "stream",
     "text": [
      "\n",
      "Модель Decision Tree\n",
      "Лучшее sMAPE = 8.212824472523838 со значением max_depth: 8\n"
     ]
    }
   ],
   "source": [
    "best_smape = 100\n",
    "for i in tqdm(range(1, 11)):\n",
    "    model_decision_tree = DecisionTreeRegressor(random_state=12345, max_depth=i)\n",
    "    model_decision_tree.fit(features_train_temp, target_train_temp)\n",
    "    predictions_decision_tree = model_decision_tree.predict(features_valid_temp)\n",
    "    smape = smape_result(target_valid_temp, predictions_decision_tree)\n",
    "    if smape < best_smape:\n",
    "        best_smape = smape\n",
    "        best_max_depth = i\n",
    "decision_tree = DecisionTreeRegressor(random_state=12345, max_depth=best_max_depth)\n",
    "print('Модель Decision Tree')\n",
    "print(f'Лучшее sMAPE = {best_smape} со значением max_depth: {best_max_depth}')"
   ]
  },
  {
   "cell_type": "code",
   "execution_count": 51,
   "metadata": {
    "scrolled": true
   },
   "outputs": [
    {
     "data": {
      "application/vnd.jupyter.widget-view+json": {
       "model_id": "a9aa5d0dc19a4685848e5731bea9e011",
       "version_major": 2,
       "version_minor": 0
      },
      "text/plain": [
       "HBox(children=(HTML(value=''), FloatProgress(value=0.0, max=10.0), HTML(value='')))"
      ]
     },
     "metadata": {},
     "output_type": "display_data"
    },
    {
     "name": "stdout",
     "output_type": "stream",
     "text": [
      "\n",
      "Модель Random Forest\n",
      "Лучшее sMAPE= 8.008396132653898 со значением n_estimators: 3\n"
     ]
    }
   ],
   "source": [
    "best_smape = 100\n",
    "for i in tqdm(range(1, 11)):\n",
    "    model_random_forest = RandomForestRegressor(random_state=12345, n_estimators=i, max_depth=best_max_depth)\n",
    "    model_random_forest.fit(features_train_temp, target_train_temp)\n",
    "    predictions_random_forest = model_random_forest.predict(features_valid_temp)\n",
    "    smape = smape_result(target_valid_temp, predictions_random_forest)\n",
    "    if smape < best_smape:\n",
    "        best_smape = smape\n",
    "        best_n_estimators = i\n",
    "random_forest = RandomForestRegressor(random_state=12345, n_estimators=best_n_estimators, max_depth=best_max_depth)\n",
    "print('Модель Random Forest')\n",
    "print(f'Лучшее sMAPE= {best_smape} со значением n_estimators: {best_n_estimators}')"
   ]
  },
  {
   "cell_type": "code",
   "execution_count": 52,
   "metadata": {},
   "outputs": [
    {
     "name": "stdout",
     "output_type": "stream",
     "text": [
      "sMAPE модели Linear Regression\n"
     ]
    },
    {
     "data": {
      "text/plain": [
       "9.125553722762909"
      ]
     },
     "execution_count": 52,
     "metadata": {},
     "output_type": "execute_result"
    }
   ],
   "source": [
    "model_linear_regression = LinearRegression()\n",
    "model_linear_regression.fit(features_train_temp, target_train_temp)\n",
    "predictions_linear_regression = model_linear_regression.predict(features_valid_temp)\n",
    "linear_regression = LinearRegression()\n",
    "print('sMAPE модели Linear Regression')\n",
    "smape_result(target_valid_temp, predictions_linear_regression)"
   ]
  },
  {
   "cell_type": "markdown",
   "metadata": {},
   "source": [
    "Проверим качество моделей метрикой SMAPe посредством кросс-валидации на 5 блоках."
   ]
  },
  {
   "cell_type": "code",
   "execution_count": 63,
   "metadata": {},
   "outputs": [
    {
     "data": {
      "application/vnd.jupyter.widget-view+json": {
       "model_id": "746b264aae1a466c8f897bc0a3c55b6a",
       "version_major": 2,
       "version_minor": 0
      },
      "text/plain": [
       "HBox(children=(HTML(value=''), FloatProgress(value=0.0, max=5.0), HTML(value='')))"
      ]
     },
     "metadata": {},
     "output_type": "display_data"
    },
    {
     "name": "stdout",
     "output_type": "stream",
     "text": [
      "\n",
      "\n",
      "Результат модели decision_tree по результатам кросс-валидации на 5 блоках:\n",
      "Срендее sMAPE: 14.233982802660176\n",
      "Медианное sMAPE: 14.761426247780697\n",
      "Стандартное отклонение sMAPE: 1.9220844167124287\n",
      "\n",
      "Результат модели random_forest по результатам кросс-валидации на 5 блоках:\n",
      "Срендее sMAPE: 11.743943422412832\n",
      "Медианное sMAPE: 11.600486119905906\n",
      "Стандартное отклонение sMAPE: 0.9420920568082772\n",
      "\n",
      "Результат модели linear_regression по результатам кросс-валидации на 5 блоках:\n",
      "Срендее sMAPE: 12.384596104847201\n",
      "Медианное sMAPE: 12.74686745383589\n",
      "Стандартное отклонение sMAPE: 1.695713555091622\n",
      "\n",
      "Лучшая модель: random_forest со средним sMAPE = 11.743943422412832\n"
     ]
    }
   ],
   "source": [
    "NUMBER_OF_PIECES = 5 #количество блоков\n",
    "\n",
    "chunks = np.array_split(df_train, NUMBER_OF_PIECES) #разделяю на блоки\n",
    "\n",
    "results = {'decision_tree': [],\n",
    "          'random_forest': [],\n",
    "          'linear_regression': []}\n",
    "#создаю словарь для сохранения результатов тестирования модели на каждом блоке\n",
    "\n",
    "models = {'decision_tree': decision_tree,\n",
    "         'random_forest': random_forest,\n",
    "         'linear_regression': linear_regression}\n",
    "#создаю словарь для доступа к моделям по названиям\n",
    "\n",
    "for i in tqdm(range(NUMBER_OF_PIECES)):\n",
    "    chunks_temp = chunks.copy()\n",
    "    feat_test = chunks_temp[i].drop(['rougher.output.recovery', 'final.output.recovery'], axis=1) #сохраняю features\n",
    "    targ_test = chunks_temp[i][['rougher.output.recovery', 'final.output.recovery']] #сохраняю целевой признак\n",
    "    chunks_temp.pop(i)\n",
    "    #удаляю тестовый блок\n",
    "    train = pd.concat(chunks_temp) #создаю из оставшихся блоков обучающую выборку\n",
    "    features_train = train.drop(['rougher.output.recovery', 'final.output.recovery'], axis=1)\n",
    "    target_train = train[['rougher.output.recovery', 'final.output.recovery']]\n",
    "    #выделяю целевой признак\n",
    "    for model in models:\n",
    "        models[model].fit(features_train, target_train)\n",
    "        predictions = models[model].predict(feat_test)\n",
    "        smape = smape_result(targ_test, predictions)\n",
    "        results[model].append(smape)\n",
    "    #обучаю в цикле каждую модель и сохраняю sMAPE в словарь с результатами\n",
    "      \n",
    "\n",
    "best_smape = 100\n",
    "for result in results:\n",
    "    print()\n",
    "    print(f'Результат модели {result} по результатам кросс-валидации на {NUMBER_OF_PIECES} блоках:')\n",
    "    print(f'Срендее sMAPE: {pd.Series(results[result]).mean()}')\n",
    "    if pd.Series(results[result]).mean() < best_smape:\n",
    "        best_smape = pd.Series(results[result]).mean()\n",
    "        best_model = models[result]\n",
    "        best_model_name = result\n",
    "    print(f'Медианное sMAPE: {pd.Series(results[result]).median()}')\n",
    "    print(f'Стандартное отклонение sMAPE: {pd.Series(results[result]).std()}')\n",
    "print()\n",
    "print(f'Лучшая модель: {best_model_name} со средним sMAPE = {best_smape}')\n",
    "#нахожу модель с лучшим средним sMAPE"
   ]
  },
  {
   "cell_type": "markdown",
   "metadata": {},
   "source": [
    "Теперь проверим лучшую модель на тестовой выборке и выведем SMAPe."
   ]
  },
  {
   "cell_type": "code",
   "execution_count": 55,
   "metadata": {
    "scrolled": false
   },
   "outputs": [
    {
     "name": "stdout",
     "output_type": "stream",
     "text": [
      "sMAPE лучшей модели на тестовой выборке: 9.956309132946805\n"
     ]
    }
   ],
   "source": [
    "best_model_predictions = best_model.predict(features_test)\n",
    "print(f'sMAPE лучшей модели на тестовой выборке: {smape_result(target_test, best_model_predictions)}')"
   ]
  },
  {
   "cell_type": "markdown",
   "metadata": {},
   "source": [
    "Лучшие результаты по итогам кросс-валидации показала модель случайного леса. На тестовой выборке SMAPe данной модели 9.96."
   ]
  },
  {
   "cell_type": "code",
   "execution_count": 59,
   "metadata": {},
   "outputs": [],
   "source": [
    "dummy_regr = DummyRegressor(strategy=\"mean\")\n",
    "dummy_regr.fit(features_train, target_train)\n",
    "dummy_predictions = dummy_regr.predict(features_test)"
   ]
  },
  {
   "cell_type": "code",
   "execution_count": 62,
   "metadata": {},
   "outputs": [
    {
     "name": "stdout",
     "output_type": "stream",
     "text": [
      "sMAPE модели, предсказывающей средние значения: 11.064510195497956\n"
     ]
    }
   ],
   "source": [
    "print('sMAPE модели, предсказывающей средние значения:', smape_result(target_test, dummy_predictions))"
   ]
  },
  {
   "cell_type": "markdown",
   "metadata": {},
   "source": [
    "Обученная модель случайного леса предсказывает лучше, чем модель, предсказывающая средние значения."
   ]
  }
 ],
 "metadata": {
  "ExecuteTimeLog": [
   {
    "duration": 591,
    "start_time": "2022-03-07T09:19:09.489Z"
   },
   {
    "duration": 245,
    "start_time": "2022-03-07T09:19:35.353Z"
   },
   {
    "duration": 658,
    "start_time": "2022-03-07T09:20:15.448Z"
   },
   {
    "duration": 22,
    "start_time": "2022-03-07T09:20:21.137Z"
   },
   {
    "duration": 18,
    "start_time": "2022-03-07T09:21:00.017Z"
   },
   {
    "duration": 299,
    "start_time": "2022-03-07T17:40:41.291Z"
   },
   {
    "duration": 741,
    "start_time": "2022-03-07T17:40:45.160Z"
   },
   {
    "duration": 905,
    "start_time": "2022-03-07T17:40:46.827Z"
   },
   {
    "duration": 15,
    "start_time": "2022-03-07T17:40:49.998Z"
   },
   {
    "duration": 343,
    "start_time": "2022-03-07T17:41:55.093Z"
   },
   {
    "duration": 6,
    "start_time": "2022-03-07T17:41:59.908Z"
   },
   {
    "duration": 5,
    "start_time": "2022-03-07T17:42:21.669Z"
   },
   {
    "duration": 5,
    "start_time": "2022-03-07T17:42:29.191Z"
   },
   {
    "duration": 7,
    "start_time": "2022-03-07T17:42:45.951Z"
   },
   {
    "duration": 5,
    "start_time": "2022-03-07T17:42:54.071Z"
   },
   {
    "duration": 5,
    "start_time": "2022-03-07T17:43:07.678Z"
   },
   {
    "duration": 6,
    "start_time": "2022-03-07T17:44:06.224Z"
   },
   {
    "duration": 8,
    "start_time": "2022-03-07T17:46:04.988Z"
   },
   {
    "duration": 4,
    "start_time": "2022-03-07T17:46:15.291Z"
   },
   {
    "duration": 252,
    "start_time": "2022-03-07T17:46:44.445Z"
   },
   {
    "duration": 10,
    "start_time": "2022-03-07T17:46:58.233Z"
   },
   {
    "duration": 551,
    "start_time": "2022-03-07T17:48:11.930Z"
   },
   {
    "duration": 6,
    "start_time": "2022-03-07T17:48:24.844Z"
   },
   {
    "duration": 5571,
    "start_time": "2022-03-07T17:49:19.529Z"
   },
   {
    "duration": 47,
    "start_time": "2022-03-07T17:49:36.018Z"
   },
   {
    "duration": 6,
    "start_time": "2022-03-07T17:49:43.419Z"
   },
   {
    "duration": 240,
    "start_time": "2022-03-07T17:54:35.280Z"
   },
   {
    "duration": 869,
    "start_time": "2022-03-07T17:55:01.076Z"
   },
   {
    "duration": 11,
    "start_time": "2022-03-07T17:55:08.442Z"
   },
   {
    "duration": 8092,
    "start_time": "2022-03-07T17:55:23.912Z"
   },
   {
    "duration": 5,
    "start_time": "2022-03-07T17:56:03.002Z"
   },
   {
    "duration": 42,
    "start_time": "2022-03-07T17:57:11.012Z"
   },
   {
    "duration": 8,
    "start_time": "2022-03-07T17:57:21.662Z"
   },
   {
    "duration": 41,
    "start_time": "2022-03-07T17:57:27.651Z"
   },
   {
    "duration": 6,
    "start_time": "2022-03-07T17:57:33.368Z"
   },
   {
    "duration": 292,
    "start_time": "2022-03-07T17:58:02.477Z"
   },
   {
    "duration": 8,
    "start_time": "2022-03-07T17:58:05.939Z"
   },
   {
    "duration": 5,
    "start_time": "2022-03-07T17:58:06.997Z"
   },
   {
    "duration": 41,
    "start_time": "2022-03-07T17:58:07.820Z"
   },
   {
    "duration": 7,
    "start_time": "2022-03-07T17:59:11.899Z"
   },
   {
    "duration": 9,
    "start_time": "2022-03-07T17:59:59.785Z"
   },
   {
    "duration": 4,
    "start_time": "2022-03-07T18:02:51.774Z"
   },
   {
    "duration": 4,
    "start_time": "2022-03-07T18:07:07.260Z"
   },
   {
    "duration": 74,
    "start_time": "2022-03-07T18:07:41.158Z"
   },
   {
    "duration": 4,
    "start_time": "2022-03-07T18:07:43.640Z"
   },
   {
    "duration": 4,
    "start_time": "2022-03-07T18:07:49.679Z"
   },
   {
    "duration": 5,
    "start_time": "2022-03-07T18:08:59.129Z"
   },
   {
    "duration": 6,
    "start_time": "2022-03-07T18:10:40.844Z"
   },
   {
    "duration": 5,
    "start_time": "2022-03-07T18:10:50.996Z"
   },
   {
    "duration": 256,
    "start_time": "2022-03-07T18:10:56.197Z"
   },
   {
    "duration": 252,
    "start_time": "2022-03-07T18:10:58.883Z"
   },
   {
    "duration": 234,
    "start_time": "2022-03-07T18:11:02.580Z"
   },
   {
    "duration": 10,
    "start_time": "2022-03-07T18:11:09.780Z"
   },
   {
    "duration": 4,
    "start_time": "2022-03-07T18:11:48.774Z"
   },
   {
    "duration": 4,
    "start_time": "2022-03-07T18:12:22.094Z"
   },
   {
    "duration": 7,
    "start_time": "2022-03-07T18:13:15.560Z"
   },
   {
    "duration": 9,
    "start_time": "2022-03-07T18:13:49.619Z"
   },
   {
    "duration": 7,
    "start_time": "2022-03-07T18:13:55.571Z"
   },
   {
    "duration": 6,
    "start_time": "2022-03-07T18:14:02.249Z"
   },
   {
    "duration": 7,
    "start_time": "2022-03-07T18:14:03.226Z"
   },
   {
    "duration": 6,
    "start_time": "2022-03-07T18:14:07.617Z"
   },
   {
    "duration": 227,
    "start_time": "2022-03-07T18:15:56.652Z"
   },
   {
    "duration": 7,
    "start_time": "2022-03-07T18:16:02.758Z"
   },
   {
    "duration": 5,
    "start_time": "2022-03-07T18:19:43.131Z"
   },
   {
    "duration": 4,
    "start_time": "2022-03-07T18:19:46.843Z"
   },
   {
    "duration": 76,
    "start_time": "2022-03-07T18:20:14.570Z"
   },
   {
    "duration": 82,
    "start_time": "2022-03-07T18:20:17.994Z"
   },
   {
    "duration": 70,
    "start_time": "2022-03-07T18:20:22.601Z"
   },
   {
    "duration": 5,
    "start_time": "2022-03-07T18:20:26.362Z"
   },
   {
    "duration": 4,
    "start_time": "2022-03-07T18:20:35.716Z"
   },
   {
    "duration": 5,
    "start_time": "2022-03-07T18:20:39.841Z"
   },
   {
    "duration": 4,
    "start_time": "2022-03-07T18:20:51.265Z"
   },
   {
    "duration": 4,
    "start_time": "2022-03-07T18:20:56.002Z"
   },
   {
    "duration": 4,
    "start_time": "2022-03-07T18:21:01.626Z"
   },
   {
    "duration": 4,
    "start_time": "2022-03-07T18:21:08.538Z"
   },
   {
    "duration": 4,
    "start_time": "2022-03-07T18:21:14.189Z"
   },
   {
    "duration": 5,
    "start_time": "2022-03-07T18:21:21.737Z"
   },
   {
    "duration": 6,
    "start_time": "2022-03-07T18:22:01.437Z"
   },
   {
    "duration": 4,
    "start_time": "2022-03-07T18:22:07.956Z"
   },
   {
    "duration": 244,
    "start_time": "2022-03-07T18:22:12.922Z"
   },
   {
    "duration": 4,
    "start_time": "2022-03-07T18:22:15.924Z"
   },
   {
    "duration": 5,
    "start_time": "2022-03-07T18:22:19.611Z"
   },
   {
    "duration": 4,
    "start_time": "2022-03-07T18:22:20.674Z"
   },
   {
    "duration": 5,
    "start_time": "2022-03-07T18:22:36.139Z"
   },
   {
    "duration": 227,
    "start_time": "2022-03-07T18:23:14.757Z"
   },
   {
    "duration": 4,
    "start_time": "2022-03-07T18:23:18.581Z"
   },
   {
    "duration": 4,
    "start_time": "2022-03-07T18:24:34.137Z"
   },
   {
    "duration": 8,
    "start_time": "2022-03-07T18:25:04.072Z"
   },
   {
    "duration": 5,
    "start_time": "2022-03-07T18:25:58.410Z"
   },
   {
    "duration": 248,
    "start_time": "2022-03-07T18:26:46.950Z"
   },
   {
    "duration": 226,
    "start_time": "2022-03-07T18:26:55.661Z"
   },
   {
    "duration": 293,
    "start_time": "2022-03-07T18:26:59.911Z"
   },
   {
    "duration": 6,
    "start_time": "2022-03-07T18:27:19.725Z"
   },
   {
    "duration": 6,
    "start_time": "2022-03-07T18:28:10.455Z"
   },
   {
    "duration": 5,
    "start_time": "2022-03-07T18:28:24.934Z"
   },
   {
    "duration": 5,
    "start_time": "2022-03-07T18:29:07.289Z"
   },
   {
    "duration": 6,
    "start_time": "2022-03-07T18:29:19.705Z"
   },
   {
    "duration": 255,
    "start_time": "2022-03-07T18:29:32.530Z"
   },
   {
    "duration": 6,
    "start_time": "2022-03-07T18:29:47.026Z"
   },
   {
    "duration": 4,
    "start_time": "2022-03-07T18:30:15.788Z"
   },
   {
    "duration": 5,
    "start_time": "2022-03-07T18:30:23.811Z"
   },
   {
    "duration": 266,
    "start_time": "2022-03-07T18:30:51.692Z"
   },
   {
    "duration": 230,
    "start_time": "2022-03-07T18:31:04.285Z"
   },
   {
    "duration": 237,
    "start_time": "2022-03-07T18:31:14.863Z"
   },
   {
    "duration": 250,
    "start_time": "2022-03-07T18:33:09.322Z"
   },
   {
    "duration": 267,
    "start_time": "2022-03-07T18:33:15.680Z"
   },
   {
    "duration": 242,
    "start_time": "2022-03-07T18:33:25.882Z"
   },
   {
    "duration": 7,
    "start_time": "2022-03-07T18:33:57.744Z"
   },
   {
    "duration": 17,
    "start_time": "2022-03-07T18:34:06.010Z"
   },
   {
    "duration": 240,
    "start_time": "2022-03-07T18:34:26.924Z"
   },
   {
    "duration": 4,
    "start_time": "2022-03-07T18:34:35.462Z"
   },
   {
    "duration": 237,
    "start_time": "2022-03-07T18:34:38.172Z"
   },
   {
    "duration": 3,
    "start_time": "2022-03-07T18:34:52.168Z"
   },
   {
    "duration": 4,
    "start_time": "2022-03-07T18:35:00.867Z"
   },
   {
    "duration": 6,
    "start_time": "2022-03-07T18:35:34.142Z"
   },
   {
    "duration": 7,
    "start_time": "2022-03-07T18:36:01.845Z"
   },
   {
    "duration": 7,
    "start_time": "2022-03-07T18:36:28.744Z"
   },
   {
    "duration": 6,
    "start_time": "2022-03-07T18:36:42.168Z"
   },
   {
    "duration": 7,
    "start_time": "2022-03-07T18:37:28.883Z"
   },
   {
    "duration": 235,
    "start_time": "2022-03-07T18:37:53.425Z"
   },
   {
    "duration": 3,
    "start_time": "2022-03-07T18:39:18.892Z"
   },
   {
    "duration": 42,
    "start_time": "2022-03-07T18:39:39.276Z"
   },
   {
    "duration": 27,
    "start_time": "2022-03-07T18:39:47.201Z"
   },
   {
    "duration": 252,
    "start_time": "2022-03-07T18:40:10.038Z"
   },
   {
    "duration": 277,
    "start_time": "2022-03-07T18:40:13.724Z"
   },
   {
    "duration": 247,
    "start_time": "2022-03-07T18:40:21.973Z"
   },
   {
    "duration": 12,
    "start_time": "2022-03-07T18:40:52.529Z"
   },
   {
    "duration": 6,
    "start_time": "2022-03-07T18:41:04.984Z"
   },
   {
    "duration": 3,
    "start_time": "2022-03-07T18:42:47.099Z"
   },
   {
    "duration": 9,
    "start_time": "2022-03-07T18:42:52.032Z"
   },
   {
    "duration": 14,
    "start_time": "2022-03-07T18:42:58.764Z"
   },
   {
    "duration": 3,
    "start_time": "2022-03-07T18:43:57.516Z"
   },
   {
    "duration": 8,
    "start_time": "2022-03-07T18:45:32.487Z"
   },
   {
    "duration": 5,
    "start_time": "2022-03-07T18:45:40.552Z"
   },
   {
    "duration": 5,
    "start_time": "2022-03-07T18:45:46.330Z"
   },
   {
    "duration": 1297,
    "start_time": "2022-03-07T18:49:30.364Z"
   },
   {
    "duration": 860,
    "start_time": "2022-03-07T18:49:31.664Z"
   },
   {
    "duration": 4,
    "start_time": "2022-03-07T18:49:32.527Z"
   },
   {
    "duration": 21,
    "start_time": "2022-03-07T18:49:32.534Z"
   },
   {
    "duration": 12,
    "start_time": "2022-03-07T18:49:32.557Z"
   },
   {
    "duration": 15,
    "start_time": "2022-03-07T18:49:32.572Z"
   },
   {
    "duration": 5,
    "start_time": "2022-03-07T18:49:32.589Z"
   },
   {
    "duration": 4,
    "start_time": "2022-03-07T18:49:32.597Z"
   },
   {
    "duration": 7,
    "start_time": "2022-03-07T18:49:32.604Z"
   },
   {
    "duration": 53,
    "start_time": "2022-03-07T18:49:32.613Z"
   },
   {
    "duration": 5,
    "start_time": "2022-03-07T18:50:33.524Z"
   },
   {
    "duration": 381,
    "start_time": "2022-03-07T18:52:07.397Z"
   },
   {
    "duration": 351,
    "start_time": "2022-03-07T18:52:11.777Z"
   },
   {
    "duration": 166,
    "start_time": "2022-03-07T18:53:44.703Z"
   },
   {
    "duration": 151,
    "start_time": "2022-03-07T18:53:48.759Z"
   },
   {
    "duration": 6,
    "start_time": "2022-03-07T18:54:01.791Z"
   },
   {
    "duration": 42,
    "start_time": "2022-03-07T18:54:06.655Z"
   },
   {
    "duration": 5,
    "start_time": "2022-03-07T18:54:11.011Z"
   },
   {
    "duration": 37,
    "start_time": "2022-03-07T18:54:16.872Z"
   },
   {
    "duration": 6,
    "start_time": "2022-03-07T18:54:20.688Z"
   },
   {
    "duration": 5714,
    "start_time": "2022-03-07T18:54:38.511Z"
   },
   {
    "duration": 5486,
    "start_time": "2022-03-07T18:54:52.856Z"
   },
   {
    "duration": 6,
    "start_time": "2022-03-07T18:54:59.287Z"
   },
   {
    "duration": 5,
    "start_time": "2022-03-07T18:55:09.970Z"
   },
   {
    "duration": 15,
    "start_time": "2022-03-07T18:55:41.339Z"
   },
   {
    "duration": 14,
    "start_time": "2022-03-07T18:55:49.917Z"
   },
   {
    "duration": 240,
    "start_time": "2022-03-07T18:56:04.508Z"
   },
   {
    "duration": 15,
    "start_time": "2022-03-07T18:56:13.663Z"
   },
   {
    "duration": 22,
    "start_time": "2022-03-07T18:56:26.500Z"
   },
   {
    "duration": 21,
    "start_time": "2022-03-07T18:56:52.101Z"
   },
   {
    "duration": 20,
    "start_time": "2022-03-07T18:56:58.557Z"
   },
   {
    "duration": 20,
    "start_time": "2022-03-07T18:57:11.252Z"
   },
   {
    "duration": 8,
    "start_time": "2022-03-07T18:59:24.105Z"
   },
   {
    "duration": 6,
    "start_time": "2022-03-07T18:59:30.816Z"
   },
   {
    "duration": 107,
    "start_time": "2022-03-07T18:59:53.185Z"
   },
   {
    "duration": 314,
    "start_time": "2022-03-07T19:00:02.315Z"
   },
   {
    "duration": 5498,
    "start_time": "2022-03-07T19:00:38.736Z"
   },
   {
    "duration": 248,
    "start_time": "2022-03-07T19:01:59.609Z"
   },
   {
    "duration": 282,
    "start_time": "2022-03-07T19:02:59.166Z"
   },
   {
    "duration": 62860,
    "start_time": "2022-03-07T19:03:25.814Z"
   },
   {
    "duration": 5,
    "start_time": "2022-03-07T19:04:35.088Z"
   },
   {
    "duration": 5,
    "start_time": "2022-03-07T19:04:45.032Z"
   },
   {
    "duration": 5442,
    "start_time": "2022-03-07T19:04:58.586Z"
   },
   {
    "duration": 216,
    "start_time": "2022-03-07T19:05:46.403Z"
   },
   {
    "duration": 203,
    "start_time": "2022-03-07T19:06:15.212Z"
   },
   {
    "duration": 75,
    "start_time": "2022-03-07T19:06:35.628Z"
   },
   {
    "duration": 5487,
    "start_time": "2022-03-07T19:07:19.189Z"
   },
   {
    "duration": 14243,
    "start_time": "2022-03-07T19:07:25.877Z"
   },
   {
    "duration": 199,
    "start_time": "2022-03-07T19:08:21.411Z"
   },
   {
    "duration": 4,
    "start_time": "2022-03-07T19:09:51.120Z"
   },
   {
    "duration": 310,
    "start_time": "2022-03-07T19:09:54.955Z"
   },
   {
    "duration": 251,
    "start_time": "2022-03-07T19:10:42.172Z"
   },
   {
    "duration": 213,
    "start_time": "2022-03-07T19:10:48.186Z"
   },
   {
    "duration": 5514,
    "start_time": "2022-03-07T19:11:04.790Z"
   },
   {
    "duration": 8,
    "start_time": "2022-03-07T19:11:12.260Z"
   },
   {
    "duration": 14,
    "start_time": "2022-03-07T19:11:18.213Z"
   },
   {
    "duration": 386,
    "start_time": "2022-03-07T19:11:58.760Z"
   },
   {
    "duration": 660,
    "start_time": "2022-03-07T19:12:12.838Z"
   },
   {
    "duration": 644,
    "start_time": "2022-03-07T19:12:19.359Z"
   },
   {
    "duration": 650,
    "start_time": "2022-03-07T19:12:26.485Z"
   },
   {
    "duration": 399,
    "start_time": "2022-03-07T19:12:33.270Z"
   },
   {
    "duration": 412,
    "start_time": "2022-03-07T19:12:38.158Z"
   },
   {
    "duration": 442,
    "start_time": "2022-03-07T19:12:55.991Z"
   },
   {
    "duration": 409,
    "start_time": "2022-03-07T19:12:59.744Z"
   },
   {
    "duration": 451,
    "start_time": "2022-03-07T19:13:06.679Z"
   },
   {
    "duration": 415,
    "start_time": "2022-03-07T19:13:17.887Z"
   },
   {
    "duration": 405,
    "start_time": "2022-03-07T19:13:29.320Z"
   },
   {
    "duration": 422,
    "start_time": "2022-03-07T19:13:40.666Z"
   },
   {
    "duration": 359,
    "start_time": "2022-03-07T19:13:48.384Z"
   },
   {
    "duration": 299,
    "start_time": "2022-03-07T19:13:58.193Z"
   },
   {
    "duration": 27,
    "start_time": "2022-03-07T19:14:34.267Z"
   },
   {
    "duration": 15,
    "start_time": "2022-03-07T19:14:54.283Z"
   },
   {
    "duration": 386,
    "start_time": "2022-03-07T19:18:43.306Z"
   },
   {
    "duration": 242,
    "start_time": "2022-03-07T19:23:57.553Z"
   },
   {
    "duration": 6,
    "start_time": "2022-03-07T19:24:01.250Z"
   },
   {
    "duration": 225,
    "start_time": "2022-03-07T19:24:26.723Z"
   },
   {
    "duration": 12,
    "start_time": "2022-03-07T19:24:29.379Z"
   },
   {
    "duration": 14,
    "start_time": "2022-03-07T19:24:56.317Z"
   },
   {
    "duration": 16,
    "start_time": "2022-03-07T19:25:36.741Z"
   },
   {
    "duration": 17,
    "start_time": "2022-03-07T19:25:44.974Z"
   },
   {
    "duration": 86,
    "start_time": "2022-03-07T19:25:53.966Z"
   },
   {
    "duration": 13,
    "start_time": "2022-03-07T19:25:57.158Z"
   },
   {
    "duration": 17,
    "start_time": "2022-03-07T19:26:24.516Z"
   },
   {
    "duration": 334,
    "start_time": "2022-03-08T15:02:34.510Z"
   },
   {
    "duration": 1012,
    "start_time": "2022-03-08T15:02:44.658Z"
   },
   {
    "duration": 656,
    "start_time": "2022-03-08T15:02:45.672Z"
   },
   {
    "duration": 2,
    "start_time": "2022-03-08T15:02:46.330Z"
   },
   {
    "duration": 7,
    "start_time": "2022-03-08T15:02:46.334Z"
   },
   {
    "duration": 16,
    "start_time": "2022-03-08T15:02:46.343Z"
   },
   {
    "duration": 5,
    "start_time": "2022-03-08T15:02:46.361Z"
   },
   {
    "duration": 5,
    "start_time": "2022-03-08T15:02:46.367Z"
   },
   {
    "duration": 4,
    "start_time": "2022-03-08T15:02:46.374Z"
   },
   {
    "duration": 4,
    "start_time": "2022-03-08T15:02:46.380Z"
   },
   {
    "duration": 6,
    "start_time": "2022-03-08T15:02:46.386Z"
   },
   {
    "duration": 18,
    "start_time": "2022-03-08T15:02:46.394Z"
   },
   {
    "duration": 168,
    "start_time": "2022-03-08T15:02:46.414Z"
   },
   {
    "duration": 7,
    "start_time": "2022-03-08T15:02:46.584Z"
   },
   {
    "duration": 15,
    "start_time": "2022-03-08T15:02:46.592Z"
   },
   {
    "duration": 10,
    "start_time": "2022-03-08T15:02:46.608Z"
   },
   {
    "duration": 10,
    "start_time": "2022-03-08T15:02:46.620Z"
   },
   {
    "duration": 367,
    "start_time": "2022-03-08T15:02:46.631Z"
   },
   {
    "duration": 5,
    "start_time": "2022-03-08T15:02:58.542Z"
   },
   {
    "duration": 4,
    "start_time": "2022-03-08T15:05:40.074Z"
   },
   {
    "duration": 4,
    "start_time": "2022-03-08T15:05:43.525Z"
   },
   {
    "duration": 5,
    "start_time": "2022-03-08T15:05:57.864Z"
   },
   {
    "duration": 4,
    "start_time": "2022-03-08T15:06:01.739Z"
   },
   {
    "duration": 5,
    "start_time": "2022-03-08T15:06:12.018Z"
   },
   {
    "duration": 4,
    "start_time": "2022-03-08T15:06:17.778Z"
   },
   {
    "duration": 4,
    "start_time": "2022-03-08T15:06:26.940Z"
   },
   {
    "duration": 4,
    "start_time": "2022-03-08T15:06:32.063Z"
   },
   {
    "duration": 5,
    "start_time": "2022-03-08T15:06:35.017Z"
   },
   {
    "duration": 4,
    "start_time": "2022-03-08T15:06:40.354Z"
   },
   {
    "duration": 4,
    "start_time": "2022-03-08T15:06:44.699Z"
   },
   {
    "duration": 4,
    "start_time": "2022-03-08T15:06:49.804Z"
   },
   {
    "duration": 4,
    "start_time": "2022-03-08T15:06:53.739Z"
   },
   {
    "duration": 5,
    "start_time": "2022-03-08T15:06:57.093Z"
   },
   {
    "duration": 5,
    "start_time": "2022-03-08T15:07:02.059Z"
   },
   {
    "duration": 4,
    "start_time": "2022-03-08T15:07:17.221Z"
   },
   {
    "duration": 4,
    "start_time": "2022-03-08T15:07:31.999Z"
   },
   {
    "duration": 5,
    "start_time": "2022-03-08T15:07:38.524Z"
   },
   {
    "duration": 5,
    "start_time": "2022-03-08T15:07:49.806Z"
   },
   {
    "duration": 4,
    "start_time": "2022-03-08T15:08:00.173Z"
   },
   {
    "duration": 5,
    "start_time": "2022-03-08T15:08:03.843Z"
   },
   {
    "duration": 4,
    "start_time": "2022-03-08T15:08:11.814Z"
   },
   {
    "duration": 4,
    "start_time": "2022-03-08T15:08:29.296Z"
   },
   {
    "duration": 4,
    "start_time": "2022-03-08T15:08:38.367Z"
   },
   {
    "duration": 5,
    "start_time": "2022-03-08T15:08:46.581Z"
   },
   {
    "duration": 4,
    "start_time": "2022-03-08T15:08:49.462Z"
   },
   {
    "duration": 4,
    "start_time": "2022-03-08T15:08:59.272Z"
   },
   {
    "duration": 5,
    "start_time": "2022-03-08T15:09:07.289Z"
   },
   {
    "duration": 4,
    "start_time": "2022-03-08T15:09:13.542Z"
   },
   {
    "duration": 99,
    "start_time": "2022-03-08T15:09:21.329Z"
   },
   {
    "duration": 4,
    "start_time": "2022-03-08T15:09:27.121Z"
   },
   {
    "duration": 4,
    "start_time": "2022-03-08T15:09:37.313Z"
   },
   {
    "duration": 301,
    "start_time": "2022-03-08T15:09:42.264Z"
   },
   {
    "duration": 295,
    "start_time": "2022-03-08T15:09:46.370Z"
   },
   {
    "duration": 5,
    "start_time": "2022-03-08T15:09:56.855Z"
   },
   {
    "duration": 4,
    "start_time": "2022-03-08T15:10:12.722Z"
   },
   {
    "duration": 3,
    "start_time": "2022-03-08T15:10:31.019Z"
   },
   {
    "duration": 278,
    "start_time": "2022-03-08T15:10:40.843Z"
   },
   {
    "duration": 4,
    "start_time": "2022-03-08T15:10:46.106Z"
   },
   {
    "duration": 13,
    "start_time": "2022-03-08T15:10:50.234Z"
   },
   {
    "duration": 3,
    "start_time": "2022-03-08T15:10:55.961Z"
   },
   {
    "duration": 4,
    "start_time": "2022-03-08T15:12:09.111Z"
   },
   {
    "duration": 282,
    "start_time": "2022-03-08T15:12:10.373Z"
   },
   {
    "duration": 3,
    "start_time": "2022-03-08T15:12:15.533Z"
   },
   {
    "duration": 3,
    "start_time": "2022-03-08T15:12:30.846Z"
   },
   {
    "duration": 6,
    "start_time": "2022-03-08T15:13:17.878Z"
   },
   {
    "duration": 5,
    "start_time": "2022-03-08T15:13:26.311Z"
   },
   {
    "duration": 141,
    "start_time": "2022-03-08T15:13:29.701Z"
   },
   {
    "duration": 262,
    "start_time": "2022-03-08T15:14:34.161Z"
   },
   {
    "duration": 4,
    "start_time": "2022-03-08T15:14:38.255Z"
   },
   {
    "duration": 5,
    "start_time": "2022-03-08T15:15:09.747Z"
   },
   {
    "duration": 5,
    "start_time": "2022-03-08T15:15:20.258Z"
   },
   {
    "duration": 4,
    "start_time": "2022-03-08T15:15:39.586Z"
   },
   {
    "duration": 11,
    "start_time": "2022-03-08T15:15:48.218Z"
   },
   {
    "duration": 2,
    "start_time": "2022-03-08T15:16:37.928Z"
   },
   {
    "duration": 12,
    "start_time": "2022-03-08T15:16:42.572Z"
   },
   {
    "duration": 10,
    "start_time": "2022-03-08T15:16:52.480Z"
   },
   {
    "duration": 6,
    "start_time": "2022-03-08T15:17:00.565Z"
   },
   {
    "duration": 117,
    "start_time": "2022-03-08T15:17:08.228Z"
   },
   {
    "duration": 7205,
    "start_time": "2022-03-08T15:18:06.164Z"
   },
   {
    "duration": 4,
    "start_time": "2022-03-08T15:18:16.121Z"
   },
   {
    "duration": 118,
    "start_time": "2022-03-08T15:18:18.431Z"
   },
   {
    "duration": 116,
    "start_time": "2022-03-08T15:18:41.959Z"
   },
   {
    "duration": 129,
    "start_time": "2022-03-08T15:19:47.899Z"
   },
   {
    "duration": 117,
    "start_time": "2022-03-08T15:19:54.364Z"
   },
   {
    "duration": 330,
    "start_time": "2022-03-08T15:21:44.997Z"
   },
   {
    "duration": 7,
    "start_time": "2022-03-08T15:21:51.468Z"
   },
   {
    "duration": 4,
    "start_time": "2022-03-08T15:23:08.777Z"
   },
   {
    "duration": 4,
    "start_time": "2022-03-08T15:32:04.719Z"
   },
   {
    "duration": 4,
    "start_time": "2022-03-08T15:32:14.782Z"
   },
   {
    "duration": 4,
    "start_time": "2022-03-08T15:33:09.359Z"
   },
   {
    "duration": 3,
    "start_time": "2022-03-08T15:33:10.470Z"
   },
   {
    "duration": 4,
    "start_time": "2022-03-08T15:35:09.525Z"
   },
   {
    "duration": 4,
    "start_time": "2022-03-08T15:35:10.625Z"
   },
   {
    "duration": 385,
    "start_time": "2022-03-08T15:35:14.002Z"
   },
   {
    "duration": 4,
    "start_time": "2022-03-08T15:35:16.593Z"
   },
   {
    "duration": 4,
    "start_time": "2022-03-08T15:35:17.585Z"
   },
   {
    "duration": 4,
    "start_time": "2022-03-08T15:35:21.092Z"
   },
   {
    "duration": 4,
    "start_time": "2022-03-08T15:35:25.115Z"
   },
   {
    "duration": 4,
    "start_time": "2022-03-08T15:35:26.739Z"
   },
   {
    "duration": 4,
    "start_time": "2022-03-08T15:35:34.131Z"
   },
   {
    "duration": 4,
    "start_time": "2022-03-08T15:35:35.011Z"
   },
   {
    "duration": 4,
    "start_time": "2022-03-08T15:36:18.894Z"
   },
   {
    "duration": 4,
    "start_time": "2022-03-08T15:36:20.005Z"
   },
   {
    "duration": 309,
    "start_time": "2022-03-08T15:36:36.989Z"
   },
   {
    "duration": 4,
    "start_time": "2022-03-08T15:36:41.565Z"
   },
   {
    "duration": 4,
    "start_time": "2022-03-08T15:36:53.725Z"
   },
   {
    "duration": 4,
    "start_time": "2022-03-08T15:37:05.718Z"
   },
   {
    "duration": 4,
    "start_time": "2022-03-08T15:37:33.536Z"
   },
   {
    "duration": 4,
    "start_time": "2022-03-08T15:37:36.942Z"
   },
   {
    "duration": 330,
    "start_time": "2022-03-08T15:37:48.368Z"
   },
   {
    "duration": 5,
    "start_time": "2022-03-08T15:37:56.841Z"
   },
   {
    "duration": 12,
    "start_time": "2022-03-08T15:38:07.784Z"
   },
   {
    "duration": 4,
    "start_time": "2022-03-08T15:39:33.043Z"
   },
   {
    "duration": 4,
    "start_time": "2022-03-08T15:43:07.496Z"
   },
   {
    "duration": 292,
    "start_time": "2022-03-08T15:44:38.025Z"
   },
   {
    "duration": 10,
    "start_time": "2022-03-08T15:44:43.579Z"
   },
   {
    "duration": 3,
    "start_time": "2022-03-08T15:44:48.197Z"
   },
   {
    "duration": 4,
    "start_time": "2022-03-08T15:45:17.971Z"
   },
   {
    "duration": 4,
    "start_time": "2022-03-08T15:45:27.995Z"
   },
   {
    "duration": 5,
    "start_time": "2022-03-08T15:45:45.060Z"
   },
   {
    "duration": 4,
    "start_time": "2022-03-08T15:45:58.037Z"
   },
   {
    "duration": 5,
    "start_time": "2022-03-08T15:46:02.282Z"
   },
   {
    "duration": 5,
    "start_time": "2022-03-08T15:46:07.205Z"
   },
   {
    "duration": 4,
    "start_time": "2022-03-08T15:46:18.365Z"
   },
   {
    "duration": 4,
    "start_time": "2022-03-08T15:46:23.572Z"
   },
   {
    "duration": 4,
    "start_time": "2022-03-08T15:46:42.213Z"
   },
   {
    "duration": 5,
    "start_time": "2022-03-08T15:46:52.341Z"
   },
   {
    "duration": 5,
    "start_time": "2022-03-08T15:47:02.454Z"
   },
   {
    "duration": 3,
    "start_time": "2022-03-08T15:48:35.961Z"
   },
   {
    "duration": 228,
    "start_time": "2022-03-08T15:48:48.582Z"
   },
   {
    "duration": 293,
    "start_time": "2022-03-08T15:50:39.797Z"
   },
   {
    "duration": 5,
    "start_time": "2022-03-08T15:50:43.757Z"
   },
   {
    "duration": 169,
    "start_time": "2022-03-08T15:51:15.470Z"
   },
   {
    "duration": 121,
    "start_time": "2022-03-08T15:51:34.814Z"
   },
   {
    "duration": 139,
    "start_time": "2022-03-08T15:51:45.003Z"
   },
   {
    "duration": 440,
    "start_time": "2022-03-08T15:52:53.800Z"
   },
   {
    "duration": 134,
    "start_time": "2022-03-08T15:52:58.184Z"
   },
   {
    "duration": 135,
    "start_time": "2022-03-08T15:53:19.576Z"
   },
   {
    "duration": 153,
    "start_time": "2022-03-08T15:53:24.851Z"
   },
   {
    "duration": 132,
    "start_time": "2022-03-08T15:54:41.107Z"
   },
   {
    "duration": 125,
    "start_time": "2022-03-08T15:54:58.132Z"
   },
   {
    "duration": 207,
    "start_time": "2022-03-08T15:58:43.970Z"
   },
   {
    "duration": 151,
    "start_time": "2022-03-08T15:59:03.996Z"
   },
   {
    "duration": 132,
    "start_time": "2022-03-08T15:59:24.459Z"
   },
   {
    "duration": 142,
    "start_time": "2022-03-08T15:59:41.979Z"
   },
   {
    "duration": 245,
    "start_time": "2022-03-08T15:59:54.178Z"
   },
   {
    "duration": 268,
    "start_time": "2022-03-08T16:00:04.308Z"
   },
   {
    "duration": 126,
    "start_time": "2022-03-08T16:00:28.894Z"
   },
   {
    "duration": 130,
    "start_time": "2022-03-08T16:00:34.119Z"
   },
   {
    "duration": 149,
    "start_time": "2022-03-08T16:01:04.174Z"
   },
   {
    "duration": 128,
    "start_time": "2022-03-08T16:01:22.973Z"
   },
   {
    "duration": 133,
    "start_time": "2022-03-08T16:01:26.941Z"
   },
   {
    "duration": 133,
    "start_time": "2022-03-08T16:01:42.359Z"
   },
   {
    "duration": 132,
    "start_time": "2022-03-08T16:01:50.184Z"
   },
   {
    "duration": 381,
    "start_time": "2022-03-08T16:04:34.461Z"
   },
   {
    "duration": 4,
    "start_time": "2022-03-08T16:04:37.522Z"
   },
   {
    "duration": 4,
    "start_time": "2022-03-08T16:04:38.249Z"
   },
   {
    "duration": 4,
    "start_time": "2022-03-08T16:04:38.962Z"
   },
   {
    "duration": 958,
    "start_time": "2022-03-08T16:05:55.637Z"
   },
   {
    "duration": 687,
    "start_time": "2022-03-08T16:05:56.597Z"
   },
   {
    "duration": 2,
    "start_time": "2022-03-08T16:05:57.286Z"
   },
   {
    "duration": 4,
    "start_time": "2022-03-08T16:05:57.290Z"
   },
   {
    "duration": 14,
    "start_time": "2022-03-08T16:05:57.295Z"
   },
   {
    "duration": 5,
    "start_time": "2022-03-08T16:05:57.311Z"
   },
   {
    "duration": 13,
    "start_time": "2022-03-08T16:05:57.317Z"
   },
   {
    "duration": 14,
    "start_time": "2022-03-08T16:05:57.332Z"
   },
   {
    "duration": 6,
    "start_time": "2022-03-08T16:05:57.348Z"
   },
   {
    "duration": 9,
    "start_time": "2022-03-08T16:05:57.355Z"
   },
   {
    "duration": 10,
    "start_time": "2022-03-08T16:05:57.365Z"
   },
   {
    "duration": 160,
    "start_time": "2022-03-08T16:05:57.377Z"
   },
   {
    "duration": 6,
    "start_time": "2022-03-08T16:05:57.539Z"
   },
   {
    "duration": 3,
    "start_time": "2022-03-08T16:05:57.547Z"
   },
   {
    "duration": 10,
    "start_time": "2022-03-08T16:05:57.552Z"
   },
   {
    "duration": 10,
    "start_time": "2022-03-08T16:05:57.564Z"
   },
   {
    "duration": 3,
    "start_time": "2022-03-08T16:05:57.576Z"
   },
   {
    "duration": 26,
    "start_time": "2022-03-08T16:05:57.581Z"
   },
   {
    "duration": 7,
    "start_time": "2022-03-08T16:05:57.609Z"
   },
   {
    "duration": 363,
    "start_time": "2022-03-08T16:05:57.617Z"
   },
   {
    "duration": 7523,
    "start_time": "2022-03-08T16:05:50.459Z"
   },
   {
    "duration": 322,
    "start_time": "2022-03-08T16:06:03.638Z"
   },
   {
    "duration": 3,
    "start_time": "2022-03-08T16:06:06.516Z"
   },
   {
    "duration": 4,
    "start_time": "2022-03-08T16:06:15.637Z"
   },
   {
    "duration": 292,
    "start_time": "2022-03-08T16:06:32.543Z"
   },
   {
    "duration": 4,
    "start_time": "2022-03-08T16:06:36.590Z"
   },
   {
    "duration": 4,
    "start_time": "2022-03-08T16:06:50.048Z"
   },
   {
    "duration": 1010,
    "start_time": "2022-03-08T16:07:24.182Z"
   },
   {
    "duration": 685,
    "start_time": "2022-03-08T16:07:25.194Z"
   },
   {
    "duration": 2,
    "start_time": "2022-03-08T16:07:25.881Z"
   },
   {
    "duration": 5,
    "start_time": "2022-03-08T16:07:25.885Z"
   },
   {
    "duration": 8,
    "start_time": "2022-03-08T16:07:25.891Z"
   },
   {
    "duration": 8,
    "start_time": "2022-03-08T16:07:25.901Z"
   },
   {
    "duration": 3,
    "start_time": "2022-03-08T16:07:25.910Z"
   },
   {
    "duration": 4,
    "start_time": "2022-03-08T16:07:25.915Z"
   },
   {
    "duration": 6,
    "start_time": "2022-03-08T16:07:25.920Z"
   },
   {
    "duration": 6,
    "start_time": "2022-03-08T16:07:25.927Z"
   },
   {
    "duration": 9,
    "start_time": "2022-03-08T16:07:25.934Z"
   },
   {
    "duration": 182,
    "start_time": "2022-03-08T16:07:25.944Z"
   },
   {
    "duration": 7,
    "start_time": "2022-03-08T16:07:26.128Z"
   },
   {
    "duration": 4,
    "start_time": "2022-03-08T16:07:26.136Z"
   },
   {
    "duration": 11,
    "start_time": "2022-03-08T16:07:26.141Z"
   },
   {
    "duration": 10,
    "start_time": "2022-03-08T16:07:26.153Z"
   },
   {
    "duration": 3,
    "start_time": "2022-03-08T16:07:26.165Z"
   },
   {
    "duration": 36,
    "start_time": "2022-03-08T16:07:26.170Z"
   },
   {
    "duration": 4,
    "start_time": "2022-03-08T16:07:26.207Z"
   },
   {
    "duration": 5,
    "start_time": "2022-03-08T16:07:26.212Z"
   },
   {
    "duration": 3,
    "start_time": "2022-03-08T16:08:28.127Z"
   },
   {
    "duration": 386,
    "start_time": "2022-03-08T16:09:15.659Z"
   },
   {
    "duration": 4,
    "start_time": "2022-03-08T16:10:20.850Z"
   },
   {
    "duration": 4,
    "start_time": "2022-03-08T16:10:31.875Z"
   },
   {
    "duration": 5,
    "start_time": "2022-03-08T16:10:35.055Z"
   },
   {
    "duration": 4,
    "start_time": "2022-03-08T16:10:41.346Z"
   },
   {
    "duration": 2,
    "start_time": "2022-03-08T16:10:52.906Z"
   },
   {
    "duration": 4,
    "start_time": "2022-03-08T16:11:02.242Z"
   },
   {
    "duration": 1313,
    "start_time": "2022-03-08T16:11:03.746Z"
   },
   {
    "duration": 131,
    "start_time": "2022-03-08T16:11:11.730Z"
   },
   {
    "duration": 285,
    "start_time": "2022-03-08T16:11:14.826Z"
   },
   {
    "duration": 6,
    "start_time": "2022-03-08T16:11:19.900Z"
   },
   {
    "duration": 273,
    "start_time": "2022-03-08T16:12:23.287Z"
   },
   {
    "duration": 4,
    "start_time": "2022-03-08T16:12:32.540Z"
   },
   {
    "duration": 6,
    "start_time": "2022-03-08T16:12:32.547Z"
   },
   {
    "duration": 8,
    "start_time": "2022-03-08T16:12:32.554Z"
   },
   {
    "duration": 13,
    "start_time": "2022-03-08T16:12:32.563Z"
   },
   {
    "duration": 5,
    "start_time": "2022-03-08T16:12:32.577Z"
   },
   {
    "duration": 8,
    "start_time": "2022-03-08T16:12:32.584Z"
   },
   {
    "duration": 8,
    "start_time": "2022-03-08T16:12:32.594Z"
   },
   {
    "duration": 9,
    "start_time": "2022-03-08T16:12:32.603Z"
   },
   {
    "duration": 4,
    "start_time": "2022-03-08T16:12:32.614Z"
   },
   {
    "duration": 7,
    "start_time": "2022-03-08T16:12:32.620Z"
   },
   {
    "duration": 131,
    "start_time": "2022-03-08T16:12:35.230Z"
   },
   {
    "duration": 133,
    "start_time": "2022-03-08T16:12:53.494Z"
   },
   {
    "duration": 6,
    "start_time": "2022-03-08T16:13:02.022Z"
   },
   {
    "duration": 135,
    "start_time": "2022-03-08T16:13:16.636Z"
   },
   {
    "duration": 135,
    "start_time": "2022-03-08T16:13:30.439Z"
   },
   {
    "duration": 6,
    "start_time": "2022-03-08T16:23:32.470Z"
   },
   {
    "duration": 290,
    "start_time": "2022-03-08T16:25:19.421Z"
   },
   {
    "duration": 136,
    "start_time": "2022-03-08T16:25:22.758Z"
   },
   {
    "duration": 202,
    "start_time": "2022-03-08T16:25:29.997Z"
   },
   {
    "duration": 248,
    "start_time": "2022-03-08T16:25:52.332Z"
   },
   {
    "duration": 231,
    "start_time": "2022-03-08T16:26:08.517Z"
   },
   {
    "duration": 231,
    "start_time": "2022-03-08T16:26:13.716Z"
   },
   {
    "duration": 307,
    "start_time": "2022-03-08T16:27:50.559Z"
   },
   {
    "duration": 314,
    "start_time": "2022-03-08T16:28:02.199Z"
   },
   {
    "duration": 289,
    "start_time": "2022-03-08T16:28:09.735Z"
   },
   {
    "duration": 617,
    "start_time": "2022-03-08T16:28:13.296Z"
   },
   {
    "duration": 98,
    "start_time": "2022-03-08T16:28:23.497Z"
   },
   {
    "duration": 311,
    "start_time": "2022-03-08T16:28:25.584Z"
   },
   {
    "duration": 4,
    "start_time": "2022-03-08T16:31:36.462Z"
   },
   {
    "duration": 4,
    "start_time": "2022-03-08T16:31:41.668Z"
   },
   {
    "duration": 5,
    "start_time": "2022-03-08T16:34:01.457Z"
   },
   {
    "duration": 4,
    "start_time": "2022-03-08T16:34:11.529Z"
   },
   {
    "duration": 5,
    "start_time": "2022-03-08T16:35:52.119Z"
   },
   {
    "duration": 4,
    "start_time": "2022-03-08T16:35:53.477Z"
   },
   {
    "duration": 5,
    "start_time": "2022-03-08T16:36:00.076Z"
   },
   {
    "duration": 5,
    "start_time": "2022-03-08T16:36:01.404Z"
   },
   {
    "duration": 5,
    "start_time": "2022-03-08T16:37:18.413Z"
   },
   {
    "duration": 4,
    "start_time": "2022-03-08T16:37:19.662Z"
   },
   {
    "duration": 5,
    "start_time": "2022-03-08T16:37:28.622Z"
   },
   {
    "duration": 3,
    "start_time": "2022-03-08T16:37:30.014Z"
   },
   {
    "duration": 4,
    "start_time": "2022-03-08T16:37:45.159Z"
   },
   {
    "duration": 4,
    "start_time": "2022-03-08T16:37:46.599Z"
   },
   {
    "duration": 5,
    "start_time": "2022-03-08T16:37:57.121Z"
   },
   {
    "duration": 3,
    "start_time": "2022-03-08T16:37:58.261Z"
   },
   {
    "duration": 4,
    "start_time": "2022-03-08T16:38:05.912Z"
   },
   {
    "duration": 4,
    "start_time": "2022-03-08T16:38:07.559Z"
   },
   {
    "duration": 4,
    "start_time": "2022-03-08T16:38:40.698Z"
   },
   {
    "duration": 4,
    "start_time": "2022-03-08T16:39:24.857Z"
   },
   {
    "duration": 3,
    "start_time": "2022-03-08T16:39:25.794Z"
   },
   {
    "duration": 4,
    "start_time": "2022-03-08T16:40:07.245Z"
   },
   {
    "duration": 3,
    "start_time": "2022-03-08T16:40:13.572Z"
   },
   {
    "duration": 4,
    "start_time": "2022-03-08T16:42:44.440Z"
   },
   {
    "duration": 305,
    "start_time": "2022-03-08T16:42:58.378Z"
   },
   {
    "duration": 293,
    "start_time": "2022-03-08T16:43:05.857Z"
   },
   {
    "duration": 4,
    "start_time": "2022-03-08T16:43:27.906Z"
   },
   {
    "duration": 4,
    "start_time": "2022-03-08T16:43:42.117Z"
   },
   {
    "duration": 3,
    "start_time": "2022-03-08T16:43:54.130Z"
   },
   {
    "duration": 4,
    "start_time": "2022-03-08T16:43:58.167Z"
   },
   {
    "duration": 3,
    "start_time": "2022-03-08T16:44:10.540Z"
   },
   {
    "duration": 11,
    "start_time": "2022-03-08T16:44:17.496Z"
   },
   {
    "duration": 3,
    "start_time": "2022-03-08T16:44:23.144Z"
   },
   {
    "duration": 1215,
    "start_time": "2022-03-08T16:45:54.462Z"
   },
   {
    "duration": 5,
    "start_time": "2022-03-08T16:46:12.367Z"
   },
   {
    "duration": 4,
    "start_time": "2022-03-08T16:46:25.774Z"
   },
   {
    "duration": 477,
    "start_time": "2022-03-08T16:46:32.810Z"
   },
   {
    "duration": 4,
    "start_time": "2022-03-08T16:46:41.639Z"
   },
   {
    "duration": 4,
    "start_time": "2022-03-08T16:47:01.527Z"
   },
   {
    "duration": 3,
    "start_time": "2022-03-08T16:47:19.770Z"
   },
   {
    "duration": 4,
    "start_time": "2022-03-08T16:47:23.648Z"
   },
   {
    "duration": 3,
    "start_time": "2022-03-08T16:48:46.427Z"
   },
   {
    "duration": 284,
    "start_time": "2022-03-08T16:49:24.276Z"
   },
   {
    "duration": 1054,
    "start_time": "2022-03-08T16:49:53.733Z"
   },
   {
    "duration": 680,
    "start_time": "2022-03-08T16:49:54.789Z"
   },
   {
    "duration": 2,
    "start_time": "2022-03-08T16:49:55.471Z"
   },
   {
    "duration": 6,
    "start_time": "2022-03-08T16:49:55.475Z"
   },
   {
    "duration": 7,
    "start_time": "2022-03-08T16:49:55.482Z"
   },
   {
    "duration": 9,
    "start_time": "2022-03-08T16:49:55.490Z"
   },
   {
    "duration": 19,
    "start_time": "2022-03-08T16:49:55.500Z"
   },
   {
    "duration": 12,
    "start_time": "2022-03-08T16:49:55.521Z"
   },
   {
    "duration": 4,
    "start_time": "2022-03-08T16:49:55.534Z"
   },
   {
    "duration": 6,
    "start_time": "2022-03-08T16:49:55.540Z"
   },
   {
    "duration": 10,
    "start_time": "2022-03-08T16:49:55.547Z"
   },
   {
    "duration": 179,
    "start_time": "2022-03-08T16:49:55.559Z"
   },
   {
    "duration": 7,
    "start_time": "2022-03-08T16:49:55.740Z"
   },
   {
    "duration": 4,
    "start_time": "2022-03-08T16:49:55.748Z"
   },
   {
    "duration": 14,
    "start_time": "2022-03-08T16:49:55.753Z"
   },
   {
    "duration": 10,
    "start_time": "2022-03-08T16:49:55.768Z"
   },
   {
    "duration": 4,
    "start_time": "2022-03-08T16:49:55.779Z"
   },
   {
    "duration": 25,
    "start_time": "2022-03-08T16:49:55.784Z"
   },
   {
    "duration": 13,
    "start_time": "2022-03-08T16:49:55.812Z"
   },
   {
    "duration": 4,
    "start_time": "2022-03-08T16:49:55.827Z"
   },
   {
    "duration": 5,
    "start_time": "2022-03-08T16:49:55.833Z"
   },
   {
    "duration": 3,
    "start_time": "2022-03-08T16:49:59.566Z"
   },
   {
    "duration": 129,
    "start_time": "2022-03-08T16:50:01.064Z"
   },
   {
    "duration": 4,
    "start_time": "2022-03-08T16:50:32.248Z"
   },
   {
    "duration": 4,
    "start_time": "2022-03-08T16:50:33.518Z"
   },
   {
    "duration": 3,
    "start_time": "2022-03-08T16:50:36.657Z"
   },
   {
    "duration": 5,
    "start_time": "2022-03-08T16:50:38.305Z"
   },
   {
    "duration": 4,
    "start_time": "2022-03-08T16:51:14.433Z"
   },
   {
    "duration": 7459,
    "start_time": "2022-03-08T16:51:38.075Z"
   },
   {
    "duration": 746,
    "start_time": "2022-03-08T16:51:46.263Z"
   },
   {
    "duration": 5,
    "start_time": "2022-03-08T16:54:58.264Z"
   },
   {
    "duration": 7,
    "start_time": "2022-03-08T16:55:39.505Z"
   },
   {
    "duration": 4,
    "start_time": "2022-03-08T16:56:01.963Z"
   },
   {
    "duration": 4,
    "start_time": "2022-03-08T16:56:13.281Z"
   },
   {
    "duration": 4,
    "start_time": "2022-03-08T16:56:19.154Z"
   },
   {
    "duration": 122,
    "start_time": "2022-03-08T16:56:43.741Z"
   },
   {
    "duration": 4,
    "start_time": "2022-03-08T16:57:23.587Z"
   },
   {
    "duration": 3,
    "start_time": "2022-03-08T16:57:29.621Z"
   },
   {
    "duration": 4,
    "start_time": "2022-03-08T16:57:30.763Z"
   },
   {
    "duration": 129,
    "start_time": "2022-03-08T16:57:32.887Z"
   },
   {
    "duration": 1041,
    "start_time": "2022-03-08T16:57:43.151Z"
   },
   {
    "duration": 695,
    "start_time": "2022-03-08T16:57:44.194Z"
   },
   {
    "duration": 2,
    "start_time": "2022-03-08T16:57:44.891Z"
   },
   {
    "duration": 4,
    "start_time": "2022-03-08T16:57:44.895Z"
   },
   {
    "duration": 11,
    "start_time": "2022-03-08T16:57:44.901Z"
   },
   {
    "duration": 17,
    "start_time": "2022-03-08T16:57:44.913Z"
   },
   {
    "duration": 3,
    "start_time": "2022-03-08T16:57:44.931Z"
   },
   {
    "duration": 6,
    "start_time": "2022-03-08T16:57:44.936Z"
   },
   {
    "duration": 4,
    "start_time": "2022-03-08T16:57:44.943Z"
   },
   {
    "duration": 6,
    "start_time": "2022-03-08T16:57:44.948Z"
   },
   {
    "duration": 9,
    "start_time": "2022-03-08T16:57:44.955Z"
   },
   {
    "duration": 240,
    "start_time": "2022-03-08T16:57:44.966Z"
   },
   {
    "duration": 13,
    "start_time": "2022-03-08T16:57:45.208Z"
   },
   {
    "duration": 4,
    "start_time": "2022-03-08T16:57:45.223Z"
   },
   {
    "duration": 15,
    "start_time": "2022-03-08T16:57:45.229Z"
   },
   {
    "duration": 11,
    "start_time": "2022-03-08T16:57:45.245Z"
   },
   {
    "duration": 3,
    "start_time": "2022-03-08T16:57:45.257Z"
   },
   {
    "duration": 5,
    "start_time": "2022-03-08T16:57:45.262Z"
   },
   {
    "duration": 6,
    "start_time": "2022-03-08T16:57:45.268Z"
   },
   {
    "duration": 4,
    "start_time": "2022-03-08T16:57:45.275Z"
   },
   {
    "duration": 5,
    "start_time": "2022-03-08T16:57:45.307Z"
   },
   {
    "duration": 127,
    "start_time": "2022-03-08T16:57:48.324Z"
   },
   {
    "duration": 3,
    "start_time": "2022-03-08T16:58:46.097Z"
   },
   {
    "duration": 366,
    "start_time": "2022-03-08T16:58:47.635Z"
   },
   {
    "duration": 1075,
    "start_time": "2022-03-08T16:59:05.823Z"
   },
   {
    "duration": 711,
    "start_time": "2022-03-08T16:59:06.900Z"
   },
   {
    "duration": 4,
    "start_time": "2022-03-08T16:59:07.614Z"
   },
   {
    "duration": 7,
    "start_time": "2022-03-08T16:59:07.619Z"
   },
   {
    "duration": 7,
    "start_time": "2022-03-08T16:59:07.627Z"
   },
   {
    "duration": 6,
    "start_time": "2022-03-08T16:59:07.636Z"
   },
   {
    "duration": 3,
    "start_time": "2022-03-08T16:59:07.643Z"
   },
   {
    "duration": 4,
    "start_time": "2022-03-08T16:59:07.648Z"
   },
   {
    "duration": 8,
    "start_time": "2022-03-08T16:59:07.654Z"
   },
   {
    "duration": 6,
    "start_time": "2022-03-08T16:59:07.664Z"
   },
   {
    "duration": 34,
    "start_time": "2022-03-08T16:59:07.671Z"
   },
   {
    "duration": 185,
    "start_time": "2022-03-08T16:59:07.707Z"
   },
   {
    "duration": 12,
    "start_time": "2022-03-08T16:59:07.894Z"
   },
   {
    "duration": 8,
    "start_time": "2022-03-08T16:59:07.908Z"
   },
   {
    "duration": 19,
    "start_time": "2022-03-08T16:59:07.919Z"
   },
   {
    "duration": 11,
    "start_time": "2022-03-08T16:59:07.939Z"
   },
   {
    "duration": 4,
    "start_time": "2022-03-08T16:59:07.952Z"
   },
   {
    "duration": 5,
    "start_time": "2022-03-08T16:59:07.957Z"
   },
   {
    "duration": 8,
    "start_time": "2022-03-08T16:59:07.964Z"
   },
   {
    "duration": 5,
    "start_time": "2022-03-08T16:59:07.973Z"
   },
   {
    "duration": 28,
    "start_time": "2022-03-08T16:59:07.979Z"
   },
   {
    "duration": 5,
    "start_time": "2022-03-08T16:59:10.308Z"
   },
   {
    "duration": 140,
    "start_time": "2022-03-08T16:59:10.993Z"
   },
   {
    "duration": 130,
    "start_time": "2022-03-08T16:59:59.935Z"
   },
   {
    "duration": 124,
    "start_time": "2022-03-08T17:00:09.495Z"
   },
   {
    "duration": 130,
    "start_time": "2022-03-08T17:02:05.098Z"
   },
   {
    "duration": 5,
    "start_time": "2022-03-08T17:03:24.191Z"
   },
   {
    "duration": 7,
    "start_time": "2022-03-08T17:04:05.299Z"
   },
   {
    "duration": 5,
    "start_time": "2022-03-08T17:04:06.509Z"
   },
   {
    "duration": 5,
    "start_time": "2022-03-08T17:04:20.159Z"
   },
   {
    "duration": 4,
    "start_time": "2022-03-08T17:04:21.182Z"
   },
   {
    "duration": 2,
    "start_time": "2022-03-08T17:05:24.400Z"
   },
   {
    "duration": 4,
    "start_time": "2022-03-08T17:05:30.998Z"
   },
   {
    "duration": 3,
    "start_time": "2022-03-08T17:06:05.377Z"
   },
   {
    "duration": 132,
    "start_time": "2022-03-08T17:06:26.322Z"
   },
   {
    "duration": 131,
    "start_time": "2022-03-08T17:06:29.808Z"
   },
   {
    "duration": 7,
    "start_time": "2022-03-08T17:06:43.583Z"
   },
   {
    "duration": 5,
    "start_time": "2022-03-08T17:06:48.217Z"
   },
   {
    "duration": 6,
    "start_time": "2022-03-08T17:06:52.426Z"
   },
   {
    "duration": 5,
    "start_time": "2022-03-08T17:06:58.809Z"
   },
   {
    "duration": 376,
    "start_time": "2022-03-08T17:07:11.920Z"
   },
   {
    "duration": 13,
    "start_time": "2022-03-08T17:07:28.923Z"
   },
   {
    "duration": 14,
    "start_time": "2022-03-08T17:08:53.373Z"
   },
   {
    "duration": 13,
    "start_time": "2022-03-08T17:09:22.710Z"
   },
   {
    "duration": 3,
    "start_time": "2022-03-08T17:13:16.157Z"
   },
   {
    "duration": 581,
    "start_time": "2022-03-08T17:13:28.708Z"
   },
   {
    "duration": 4,
    "start_time": "2022-03-08T17:14:07.791Z"
   },
   {
    "duration": 5,
    "start_time": "2022-03-08T17:14:09.029Z"
   },
   {
    "duration": 3,
    "start_time": "2022-03-08T17:14:14.493Z"
   },
   {
    "duration": 5,
    "start_time": "2022-03-08T17:14:17.358Z"
   },
   {
    "duration": 3,
    "start_time": "2022-03-08T17:14:31.168Z"
   },
   {
    "duration": 5,
    "start_time": "2022-03-08T17:14:32.157Z"
   },
   {
    "duration": 4,
    "start_time": "2022-03-08T17:15:05.008Z"
   },
   {
    "duration": 6,
    "start_time": "2022-03-08T17:15:05.999Z"
   },
   {
    "duration": 3,
    "start_time": "2022-03-08T17:15:37.273Z"
   },
   {
    "duration": 3,
    "start_time": "2022-03-08T17:16:10.762Z"
   },
   {
    "duration": 129,
    "start_time": "2022-03-08T17:16:12.800Z"
   },
   {
    "duration": 3,
    "start_time": "2022-03-08T17:16:16.417Z"
   },
   {
    "duration": 174,
    "start_time": "2022-03-08T17:16:18.144Z"
   },
   {
    "duration": 4,
    "start_time": "2022-03-08T17:16:26.217Z"
   },
   {
    "duration": 119,
    "start_time": "2022-03-08T17:16:27.344Z"
   },
   {
    "duration": 3,
    "start_time": "2022-03-08T17:16:38.944Z"
   },
   {
    "duration": 120,
    "start_time": "2022-03-08T17:16:39.782Z"
   },
   {
    "duration": 3,
    "start_time": "2022-03-08T17:17:14.457Z"
   },
   {
    "duration": 126,
    "start_time": "2022-03-08T17:17:15.314Z"
   },
   {
    "duration": 3,
    "start_time": "2022-03-08T17:17:35.654Z"
   },
   {
    "duration": 4,
    "start_time": "2022-03-08T17:17:49.500Z"
   },
   {
    "duration": 145,
    "start_time": "2022-03-08T17:17:50.653Z"
   },
   {
    "duration": 4,
    "start_time": "2022-03-08T17:18:08.949Z"
   },
   {
    "duration": 142,
    "start_time": "2022-03-08T17:18:10.812Z"
   },
   {
    "duration": 2,
    "start_time": "2022-03-08T17:19:40.117Z"
   },
   {
    "duration": 4,
    "start_time": "2022-03-08T17:20:21.527Z"
   },
   {
    "duration": 5,
    "start_time": "2022-03-08T17:21:02.002Z"
   },
   {
    "duration": 614,
    "start_time": "2022-03-08T17:21:08.113Z"
   },
   {
    "duration": 4,
    "start_time": "2022-03-08T17:21:43.687Z"
   },
   {
    "duration": 427,
    "start_time": "2022-03-08T17:21:45.088Z"
   },
   {
    "duration": 586,
    "start_time": "2022-03-08T17:22:00.705Z"
   },
   {
    "duration": 479,
    "start_time": "2022-03-08T17:22:05.970Z"
   },
   {
    "duration": 424,
    "start_time": "2022-03-08T17:22:20.948Z"
   },
   {
    "duration": 4,
    "start_time": "2022-03-08T17:22:41.550Z"
   },
   {
    "duration": 4,
    "start_time": "2022-03-08T17:22:44.837Z"
   },
   {
    "duration": 435,
    "start_time": "2022-03-08T17:22:46.106Z"
   },
   {
    "duration": 493,
    "start_time": "2022-03-08T17:23:26.919Z"
   },
   {
    "duration": 432,
    "start_time": "2022-03-08T17:23:36.553Z"
   },
   {
    "duration": 5,
    "start_time": "2022-03-08T17:26:10.137Z"
   },
   {
    "duration": 3,
    "start_time": "2022-03-08T17:26:24.210Z"
   },
   {
    "duration": 10,
    "start_time": "2022-03-08T17:26:26.670Z"
   },
   {
    "duration": 4,
    "start_time": "2022-03-08T17:26:50.766Z"
   },
   {
    "duration": 1010,
    "start_time": "2022-03-08T17:26:58.617Z"
   },
   {
    "duration": 639,
    "start_time": "2022-03-08T17:26:59.629Z"
   },
   {
    "duration": 4,
    "start_time": "2022-03-08T17:27:00.270Z"
   },
   {
    "duration": 12,
    "start_time": "2022-03-08T17:27:00.276Z"
   },
   {
    "duration": 17,
    "start_time": "2022-03-08T17:27:00.289Z"
   },
   {
    "duration": 20,
    "start_time": "2022-03-08T17:27:00.307Z"
   },
   {
    "duration": 15,
    "start_time": "2022-03-08T17:27:00.328Z"
   },
   {
    "duration": 8,
    "start_time": "2022-03-08T17:27:00.345Z"
   },
   {
    "duration": 24,
    "start_time": "2022-03-08T17:27:00.355Z"
   },
   {
    "duration": 31,
    "start_time": "2022-03-08T17:27:00.380Z"
   },
   {
    "duration": 24,
    "start_time": "2022-03-08T17:27:00.413Z"
   },
   {
    "duration": 179,
    "start_time": "2022-03-08T17:27:00.439Z"
   },
   {
    "duration": 7,
    "start_time": "2022-03-08T17:27:00.620Z"
   },
   {
    "duration": 15,
    "start_time": "2022-03-08T17:27:00.629Z"
   },
   {
    "duration": 23,
    "start_time": "2022-03-08T17:27:00.645Z"
   },
   {
    "duration": 26,
    "start_time": "2022-03-08T17:27:00.670Z"
   },
   {
    "duration": 3,
    "start_time": "2022-03-08T17:27:00.698Z"
   },
   {
    "duration": 4,
    "start_time": "2022-03-08T17:27:03.406Z"
   },
   {
    "duration": 669,
    "start_time": "2022-03-08T17:27:04.206Z"
   },
   {
    "duration": 3,
    "start_time": "2022-03-08T17:27:40.209Z"
   },
   {
    "duration": 11,
    "start_time": "2022-03-08T17:27:42.385Z"
   },
   {
    "duration": 3,
    "start_time": "2022-03-08T17:27:47.917Z"
   },
   {
    "duration": 29,
    "start_time": "2022-03-08T17:27:49.799Z"
   },
   {
    "duration": 4,
    "start_time": "2022-03-08T17:27:58.386Z"
   },
   {
    "duration": 29,
    "start_time": "2022-03-08T17:27:59.384Z"
   },
   {
    "duration": 4,
    "start_time": "2022-03-08T17:28:07.906Z"
   },
   {
    "duration": 485,
    "start_time": "2022-03-08T17:28:09.577Z"
   },
   {
    "duration": 4,
    "start_time": "2022-03-08T17:30:10.454Z"
   },
   {
    "duration": 595,
    "start_time": "2022-03-08T17:30:11.399Z"
   },
   {
    "duration": 2,
    "start_time": "2022-03-08T17:30:16.437Z"
   },
   {
    "duration": 4,
    "start_time": "2022-03-08T17:30:17.379Z"
   },
   {
    "duration": 584,
    "start_time": "2022-03-08T17:30:18.079Z"
   },
   {
    "duration": 4,
    "start_time": "2022-03-08T17:30:44.086Z"
   },
   {
    "duration": 4,
    "start_time": "2022-03-08T17:30:57.422Z"
   },
   {
    "duration": 736,
    "start_time": "2022-03-08T17:31:05.735Z"
   },
   {
    "duration": 299,
    "start_time": "2022-03-08T17:31:23.872Z"
   },
   {
    "duration": 879,
    "start_time": "2022-03-08T17:31:27.679Z"
   },
   {
    "duration": 3,
    "start_time": "2022-03-08T17:32:08.103Z"
   },
   {
    "duration": 531,
    "start_time": "2022-03-08T17:32:10.459Z"
   },
   {
    "duration": 5,
    "start_time": "2022-03-08T17:37:50.723Z"
   },
   {
    "duration": 284,
    "start_time": "2022-03-08T17:38:46.740Z"
   },
   {
    "duration": 4,
    "start_time": "2022-03-08T17:38:51.095Z"
   },
   {
    "duration": 5,
    "start_time": "2022-03-08T17:41:03.162Z"
   },
   {
    "duration": 8,
    "start_time": "2022-03-08T17:41:09.665Z"
   },
   {
    "duration": 5,
    "start_time": "2022-03-08T17:41:41.690Z"
   },
   {
    "duration": 8,
    "start_time": "2022-03-08T17:41:47.568Z"
   },
   {
    "duration": 10,
    "start_time": "2022-03-08T17:42:55.180Z"
   },
   {
    "duration": 329,
    "start_time": "2022-03-08T17:43:18.253Z"
   },
   {
    "duration": 6,
    "start_time": "2022-03-08T17:43:39.123Z"
   },
   {
    "duration": 6,
    "start_time": "2022-03-08T17:43:47.210Z"
   },
   {
    "duration": 297,
    "start_time": "2022-03-08T17:44:39.454Z"
   },
   {
    "duration": 135,
    "start_time": "2022-03-08T17:47:13.258Z"
   },
   {
    "duration": 7,
    "start_time": "2022-03-08T17:47:18.138Z"
   },
   {
    "duration": 7,
    "start_time": "2022-03-08T17:47:27.741Z"
   },
   {
    "duration": 308,
    "start_time": "2022-03-08T17:47:40.133Z"
   },
   {
    "duration": 372,
    "start_time": "2022-03-08T17:47:43.694Z"
   },
   {
    "duration": 8,
    "start_time": "2022-03-08T17:47:46.061Z"
   },
   {
    "duration": 93,
    "start_time": "2022-03-08T17:48:17.316Z"
   },
   {
    "duration": 16,
    "start_time": "2022-03-08T17:48:20.524Z"
   },
   {
    "duration": 10,
    "start_time": "2022-03-08T17:48:32.573Z"
   },
   {
    "duration": 7,
    "start_time": "2022-03-08T17:48:48.015Z"
   },
   {
    "duration": 4,
    "start_time": "2022-03-08T17:48:58.741Z"
   },
   {
    "duration": 298,
    "start_time": "2022-03-08T17:49:04.917Z"
   },
   {
    "duration": 3,
    "start_time": "2022-03-08T17:49:12.504Z"
   },
   {
    "duration": 6,
    "start_time": "2022-03-08T17:49:18.085Z"
   },
   {
    "duration": 286,
    "start_time": "2022-03-08T17:50:09.912Z"
   },
   {
    "duration": 8,
    "start_time": "2022-03-08T17:50:17.671Z"
   },
   {
    "duration": 2,
    "start_time": "2022-03-08T17:50:19.631Z"
   },
   {
    "duration": 7,
    "start_time": "2022-03-08T17:50:26.768Z"
   },
   {
    "duration": 8,
    "start_time": "2022-03-08T17:51:31.361Z"
   },
   {
    "duration": 3,
    "start_time": "2022-03-08T17:51:32.560Z"
   },
   {
    "duration": 3,
    "start_time": "2022-03-08T17:51:33.668Z"
   },
   {
    "duration": 291,
    "start_time": "2022-03-08T17:51:42.481Z"
   },
   {
    "duration": 3,
    "start_time": "2022-03-08T17:51:58.355Z"
   },
   {
    "duration": 8,
    "start_time": "2022-03-08T17:52:12.108Z"
   },
   {
    "duration": 296,
    "start_time": "2022-03-08T17:52:21.635Z"
   },
   {
    "duration": 7,
    "start_time": "2022-03-08T17:59:20.154Z"
   },
   {
    "duration": 145,
    "start_time": "2022-03-08T18:00:45.587Z"
   },
   {
    "duration": 194,
    "start_time": "2022-03-08T18:05:49.965Z"
   },
   {
    "duration": 160,
    "start_time": "2022-03-08T18:06:07.722Z"
   },
   {
    "duration": 184,
    "start_time": "2022-03-08T18:06:34.252Z"
   },
   {
    "duration": 239,
    "start_time": "2022-03-08T18:07:04.535Z"
   },
   {
    "duration": 189,
    "start_time": "2022-03-08T18:07:31.432Z"
   },
   {
    "duration": 348,
    "start_time": "2022-03-08T18:07:41.371Z"
   },
   {
    "duration": 304,
    "start_time": "2022-03-08T18:07:46.174Z"
   },
   {
    "duration": 293,
    "start_time": "2022-03-08T18:07:49.438Z"
   },
   {
    "duration": 288,
    "start_time": "2022-03-08T18:07:52.966Z"
   },
   {
    "duration": 325,
    "start_time": "2022-03-08T18:08:22.665Z"
   },
   {
    "duration": 250,
    "start_time": "2022-03-08T18:08:38.191Z"
   },
   {
    "duration": 190,
    "start_time": "2022-03-08T18:08:55.629Z"
   },
   {
    "duration": 221,
    "start_time": "2022-03-08T18:09:07.270Z"
   },
   {
    "duration": 196,
    "start_time": "2022-03-08T18:09:37.851Z"
   },
   {
    "duration": 187,
    "start_time": "2022-03-08T18:09:56.480Z"
   },
   {
    "duration": 189,
    "start_time": "2022-03-08T18:10:01.658Z"
   },
   {
    "duration": 196,
    "start_time": "2022-03-08T18:10:05.473Z"
   },
   {
    "duration": 194,
    "start_time": "2022-03-08T18:10:35.689Z"
   },
   {
    "duration": 182,
    "start_time": "2022-03-08T18:15:04.237Z"
   },
   {
    "duration": 170,
    "start_time": "2022-03-08T18:15:09.883Z"
   },
   {
    "duration": 140,
    "start_time": "2022-03-08T18:15:16.820Z"
   },
   {
    "duration": 427,
    "start_time": "2022-03-08T18:17:39.990Z"
   },
   {
    "duration": 332,
    "start_time": "2022-03-08T18:17:55.696Z"
   },
   {
    "duration": 403,
    "start_time": "2022-03-08T18:18:14.854Z"
   },
   {
    "duration": 508,
    "start_time": "2022-03-08T18:18:20.009Z"
   },
   {
    "duration": 491,
    "start_time": "2022-03-08T18:18:25.336Z"
   },
   {
    "duration": 418,
    "start_time": "2022-03-08T18:18:33.375Z"
   },
   {
    "duration": 396,
    "start_time": "2022-03-08T18:18:38.159Z"
   },
   {
    "duration": 392,
    "start_time": "2022-03-08T18:18:45.343Z"
   },
   {
    "duration": 614,
    "start_time": "2022-03-08T18:19:09.530Z"
   },
   {
    "duration": 392,
    "start_time": "2022-03-08T18:19:18.254Z"
   },
   {
    "duration": 14,
    "start_time": "2022-03-08T18:21:16.917Z"
   },
   {
    "duration": 396,
    "start_time": "2022-03-08T18:21:22.129Z"
   },
   {
    "duration": 14,
    "start_time": "2022-03-08T18:22:32.942Z"
   },
   {
    "duration": 378,
    "start_time": "2022-03-08T18:22:45.437Z"
   },
   {
    "duration": 379,
    "start_time": "2022-03-08T18:22:55.666Z"
   },
   {
    "duration": 387,
    "start_time": "2022-03-08T18:22:59.305Z"
   },
   {
    "duration": 386,
    "start_time": "2022-03-08T18:23:23.449Z"
   },
   {
    "duration": 388,
    "start_time": "2022-03-08T18:23:46.896Z"
   },
   {
    "duration": 327,
    "start_time": "2022-03-08T18:25:06.628Z"
   },
   {
    "duration": 8,
    "start_time": "2022-03-08T18:25:35.633Z"
   },
   {
    "duration": 3,
    "start_time": "2022-03-08T18:25:57.181Z"
   },
   {
    "duration": 4,
    "start_time": "2022-03-08T18:26:03.601Z"
   },
   {
    "duration": 5,
    "start_time": "2022-03-08T18:26:35.461Z"
   },
   {
    "duration": 8,
    "start_time": "2022-03-08T18:26:43.254Z"
   },
   {
    "duration": 22,
    "start_time": "2022-03-08T18:31:00.173Z"
   },
   {
    "duration": 289,
    "start_time": "2022-03-08T18:31:03.905Z"
   },
   {
    "duration": 11,
    "start_time": "2022-03-08T18:31:06.780Z"
   },
   {
    "duration": 12,
    "start_time": "2022-03-08T18:31:35.854Z"
   },
   {
    "duration": 12,
    "start_time": "2022-03-08T18:31:56.846Z"
   },
   {
    "duration": 4,
    "start_time": "2022-03-08T18:32:29.182Z"
   },
   {
    "duration": 17,
    "start_time": "2022-03-08T18:32:36.959Z"
   },
   {
    "duration": 4,
    "start_time": "2022-03-08T18:33:38.140Z"
   },
   {
    "duration": 5,
    "start_time": "2022-03-08T18:34:18.241Z"
   },
   {
    "duration": 3,
    "start_time": "2022-03-08T18:37:30.522Z"
   },
   {
    "duration": 4,
    "start_time": "2022-03-08T18:40:08.281Z"
   },
   {
    "duration": 294,
    "start_time": "2022-03-08T18:43:50.122Z"
   },
   {
    "duration": 444,
    "start_time": "2022-03-08T18:45:08.513Z"
   },
   {
    "duration": 108,
    "start_time": "2022-03-08T18:45:37.632Z"
   },
   {
    "duration": 8,
    "start_time": "2022-03-08T18:46:16.559Z"
   },
   {
    "duration": 4,
    "start_time": "2022-03-08T18:46:30.175Z"
   },
   {
    "duration": 316,
    "start_time": "2022-03-08T18:46:40.180Z"
   },
   {
    "duration": 5,
    "start_time": "2022-03-08T18:46:42.479Z"
   },
   {
    "duration": 8,
    "start_time": "2022-03-08T18:47:13.419Z"
   },
   {
    "duration": 19,
    "start_time": "2022-03-08T18:47:25.281Z"
   },
   {
    "duration": 302,
    "start_time": "2022-03-08T18:47:28.898Z"
   },
   {
    "duration": 6,
    "start_time": "2022-03-08T18:47:31.371Z"
   },
   {
    "duration": 6,
    "start_time": "2022-03-08T18:47:49.874Z"
   },
   {
    "duration": 7,
    "start_time": "2022-03-08T18:48:11.307Z"
   },
   {
    "duration": 4,
    "start_time": "2022-03-08T18:48:29.699Z"
   },
   {
    "duration": 5,
    "start_time": "2022-03-08T18:48:39.220Z"
   },
   {
    "duration": 5,
    "start_time": "2022-03-08T18:48:45.835Z"
   },
   {
    "duration": 310,
    "start_time": "2022-03-08T18:49:15.684Z"
   },
   {
    "duration": 7273,
    "start_time": "2022-03-08T18:49:32.075Z"
   },
   {
    "duration": 108,
    "start_time": "2022-03-08T18:50:25.577Z"
   },
   {
    "duration": 320,
    "start_time": "2022-03-08T18:50:30.087Z"
   },
   {
    "duration": 4,
    "start_time": "2022-03-08T18:52:36.385Z"
   },
   {
    "duration": 4,
    "start_time": "2022-03-08T18:53:59.966Z"
   },
   {
    "duration": 4,
    "start_time": "2022-03-08T18:54:41.884Z"
   },
   {
    "duration": 4,
    "start_time": "2022-03-08T18:54:42.805Z"
   },
   {
    "duration": 4,
    "start_time": "2022-03-08T18:54:43.446Z"
   },
   {
    "duration": 6,
    "start_time": "2022-03-08T18:57:47.161Z"
   },
   {
    "duration": 15,
    "start_time": "2022-03-08T19:00:19.686Z"
   },
   {
    "duration": 3,
    "start_time": "2022-03-08T19:00:25.846Z"
   },
   {
    "duration": 521,
    "start_time": "2022-03-08T19:01:46.418Z"
   },
   {
    "duration": 3,
    "start_time": "2022-03-08T19:02:13.386Z"
   },
   {
    "duration": 4,
    "start_time": "2022-03-08T19:02:19.570Z"
   },
   {
    "duration": 7,
    "start_time": "2022-03-08T19:02:51.578Z"
   },
   {
    "duration": 429,
    "start_time": "2022-03-08T19:03:18.269Z"
   },
   {
    "duration": 434,
    "start_time": "2022-03-08T19:03:25.402Z"
   },
   {
    "duration": 561,
    "start_time": "2022-03-08T19:03:34.380Z"
   },
   {
    "duration": 563,
    "start_time": "2022-03-08T19:03:44.975Z"
   },
   {
    "duration": 1650,
    "start_time": "2022-03-08T19:03:50.068Z"
   },
   {
    "duration": 682,
    "start_time": "2022-03-08T19:03:55.331Z"
   },
   {
    "duration": 815,
    "start_time": "2022-03-08T19:04:06.484Z"
   },
   {
    "duration": 4,
    "start_time": "2022-03-08T19:06:27.174Z"
   },
   {
    "duration": 4,
    "start_time": "2022-03-08T19:07:50.795Z"
   },
   {
    "duration": 7,
    "start_time": "2022-03-08T19:08:56.154Z"
   },
   {
    "duration": 5,
    "start_time": "2022-03-08T19:09:06.429Z"
   },
   {
    "duration": 327,
    "start_time": "2022-03-08T19:09:34.101Z"
   },
   {
    "duration": 6,
    "start_time": "2022-03-08T19:09:58.967Z"
   },
   {
    "duration": 4,
    "start_time": "2022-03-08T19:10:08.071Z"
   },
   {
    "duration": 4,
    "start_time": "2022-03-08T19:11:25.398Z"
   },
   {
    "duration": 293,
    "start_time": "2022-03-08T19:13:06.956Z"
   },
   {
    "duration": 682,
    "start_time": "2022-03-08T19:13:14.854Z"
   },
   {
    "duration": 284,
    "start_time": "2022-03-08T19:13:21.730Z"
   },
   {
    "duration": 18,
    "start_time": "2022-03-08T19:13:25.556Z"
   },
   {
    "duration": 7,
    "start_time": "2022-03-08T19:13:58.277Z"
   },
   {
    "duration": 8,
    "start_time": "2022-03-08T19:14:05.797Z"
   },
   {
    "duration": 4,
    "start_time": "2022-03-08T19:14:14.454Z"
   },
   {
    "duration": 684,
    "start_time": "2022-03-08T19:14:27.638Z"
   },
   {
    "duration": 1349,
    "start_time": "2022-03-08T19:14:47.283Z"
   },
   {
    "duration": 963,
    "start_time": "2022-03-08T19:14:48.635Z"
   },
   {
    "duration": 6,
    "start_time": "2022-03-08T19:14:49.601Z"
   },
   {
    "duration": 6,
    "start_time": "2022-03-08T19:14:49.610Z"
   },
   {
    "duration": 17,
    "start_time": "2022-03-08T19:14:49.618Z"
   },
   {
    "duration": 9,
    "start_time": "2022-03-08T19:14:49.637Z"
   },
   {
    "duration": 5,
    "start_time": "2022-03-08T19:14:49.648Z"
   },
   {
    "duration": 7,
    "start_time": "2022-03-08T19:14:49.656Z"
   },
   {
    "duration": 3,
    "start_time": "2022-03-08T19:14:49.665Z"
   },
   {
    "duration": 7,
    "start_time": "2022-03-08T19:14:49.669Z"
   },
   {
    "duration": 12,
    "start_time": "2022-03-08T19:14:49.677Z"
   },
   {
    "duration": 23,
    "start_time": "2022-03-08T19:14:49.690Z"
   },
   {
    "duration": 16,
    "start_time": "2022-03-08T19:14:49.714Z"
   },
   {
    "duration": 108,
    "start_time": "2022-03-08T19:14:49.732Z"
   },
   {
    "duration": 7123,
    "start_time": "2022-03-08T19:14:42.719Z"
   },
   {
    "duration": 7114,
    "start_time": "2022-03-08T19:14:42.729Z"
   },
   {
    "duration": 7103,
    "start_time": "2022-03-08T19:14:42.741Z"
   },
   {
    "duration": 7094,
    "start_time": "2022-03-08T19:14:42.752Z"
   },
   {
    "duration": 7085,
    "start_time": "2022-03-08T19:14:42.762Z"
   },
   {
    "duration": 7058,
    "start_time": "2022-03-08T19:14:42.790Z"
   },
   {
    "duration": 7049,
    "start_time": "2022-03-08T19:14:42.801Z"
   },
   {
    "duration": 7040,
    "start_time": "2022-03-08T19:14:42.811Z"
   },
   {
    "duration": 7030,
    "start_time": "2022-03-08T19:14:42.822Z"
   },
   {
    "duration": 7023,
    "start_time": "2022-03-08T19:14:42.831Z"
   },
   {
    "duration": 7014,
    "start_time": "2022-03-08T19:14:42.841Z"
   },
   {
    "duration": 7004,
    "start_time": "2022-03-08T19:14:42.852Z"
   },
   {
    "duration": 6998,
    "start_time": "2022-03-08T19:14:42.860Z"
   },
   {
    "duration": 6989,
    "start_time": "2022-03-08T19:14:42.870Z"
   },
   {
    "duration": 6923,
    "start_time": "2022-03-08T19:14:42.937Z"
   },
   {
    "duration": 6900,
    "start_time": "2022-03-08T19:14:42.962Z"
   },
   {
    "duration": 6890,
    "start_time": "2022-03-08T19:14:42.973Z"
   },
   {
    "duration": 471,
    "start_time": "2022-03-08T19:15:01.237Z"
   },
   {
    "duration": 5,
    "start_time": "2022-03-08T19:15:27.285Z"
   },
   {
    "duration": 2,
    "start_time": "2022-03-08T19:15:31.369Z"
   },
   {
    "duration": 729,
    "start_time": "2022-03-08T19:15:31.374Z"
   },
   {
    "duration": 3,
    "start_time": "2022-03-08T19:15:32.104Z"
   },
   {
    "duration": 16,
    "start_time": "2022-03-08T19:15:32.109Z"
   },
   {
    "duration": 7,
    "start_time": "2022-03-08T19:15:32.127Z"
   },
   {
    "duration": 6,
    "start_time": "2022-03-08T19:15:32.135Z"
   },
   {
    "duration": 8,
    "start_time": "2022-03-08T19:15:32.142Z"
   },
   {
    "duration": 5,
    "start_time": "2022-03-08T19:15:32.151Z"
   },
   {
    "duration": 3,
    "start_time": "2022-03-08T19:15:32.158Z"
   },
   {
    "duration": 7,
    "start_time": "2022-03-08T19:15:32.163Z"
   },
   {
    "duration": 9,
    "start_time": "2022-03-08T19:15:32.171Z"
   },
   {
    "duration": 5,
    "start_time": "2022-03-08T19:15:32.181Z"
   },
   {
    "duration": 20,
    "start_time": "2022-03-08T19:15:32.187Z"
   },
   {
    "duration": 12,
    "start_time": "2022-03-08T19:15:32.208Z"
   },
   {
    "duration": 5,
    "start_time": "2022-03-08T19:15:32.222Z"
   },
   {
    "duration": 5,
    "start_time": "2022-03-08T19:15:32.229Z"
   },
   {
    "duration": 5,
    "start_time": "2022-03-08T19:15:32.236Z"
   },
   {
    "duration": 477,
    "start_time": "2022-03-08T19:15:32.242Z"
   },
   {
    "duration": 4,
    "start_time": "2022-03-08T19:15:32.721Z"
   },
   {
    "duration": 15,
    "start_time": "2022-03-08T19:15:32.726Z"
   },
   {
    "duration": 427,
    "start_time": "2022-03-08T19:15:32.743Z"
   },
   {
    "duration": 4,
    "start_time": "2022-03-08T19:15:33.172Z"
   },
   {
    "duration": 6,
    "start_time": "2022-03-08T19:15:33.178Z"
   },
   {
    "duration": 6,
    "start_time": "2022-03-08T19:15:33.187Z"
   },
   {
    "duration": 24,
    "start_time": "2022-03-08T19:15:33.194Z"
   },
   {
    "duration": 5,
    "start_time": "2022-03-08T19:15:33.219Z"
   },
   {
    "duration": 21,
    "start_time": "2022-03-08T19:15:33.225Z"
   },
   {
    "duration": 3,
    "start_time": "2022-03-08T19:15:33.247Z"
   },
   {
    "duration": 7,
    "start_time": "2022-03-08T19:15:33.252Z"
   },
   {
    "duration": 840,
    "start_time": "2022-03-08T19:15:33.261Z"
   },
   {
    "duration": 26,
    "start_time": "2022-03-08T19:16:57.022Z"
   },
   {
    "duration": 4,
    "start_time": "2022-03-08T19:17:12.239Z"
   },
   {
    "duration": 4,
    "start_time": "2022-03-08T19:17:19.521Z"
   },
   {
    "duration": 92,
    "start_time": "2022-03-08T19:17:45.109Z"
   },
   {
    "duration": 7290,
    "start_time": "2022-03-08T19:17:47.727Z"
   },
   {
    "duration": 4,
    "start_time": "2022-03-08T19:18:27.419Z"
   },
   {
    "duration": 6,
    "start_time": "2022-03-08T19:18:37.311Z"
   },
   {
    "duration": 4,
    "start_time": "2022-03-08T19:18:40.799Z"
   },
   {
    "duration": 7230,
    "start_time": "2022-03-08T19:18:55.501Z"
   },
   {
    "duration": 5,
    "start_time": "2022-03-08T19:19:11.204Z"
   },
   {
    "duration": 395,
    "start_time": "2022-03-08T19:20:21.661Z"
   },
   {
    "duration": 4,
    "start_time": "2022-03-08T19:20:30.294Z"
   },
   {
    "duration": 279,
    "start_time": "2022-03-08T19:20:53.303Z"
   },
   {
    "duration": 287,
    "start_time": "2022-03-08T19:21:24.318Z"
   },
   {
    "duration": 6,
    "start_time": "2022-03-08T19:21:37.742Z"
   },
   {
    "duration": 5,
    "start_time": "2022-03-08T19:21:55.952Z"
   },
   {
    "duration": 25,
    "start_time": "2022-03-08T19:22:45.897Z"
   },
   {
    "duration": 363,
    "start_time": "2022-03-08T19:22:49.464Z"
   },
   {
    "duration": 6,
    "start_time": "2022-03-08T19:22:51.838Z"
   },
   {
    "duration": 4,
    "start_time": "2022-03-08T19:23:13.122Z"
   },
   {
    "duration": 4,
    "start_time": "2022-03-08T19:23:23.419Z"
   },
   {
    "duration": 28,
    "start_time": "2022-03-08T19:23:40.839Z"
   },
   {
    "duration": 9,
    "start_time": "2022-03-08T19:23:47.364Z"
   },
   {
    "duration": 8,
    "start_time": "2022-03-08T19:23:55.488Z"
   },
   {
    "duration": 6,
    "start_time": "2022-03-08T19:25:57.341Z"
   },
   {
    "duration": 7,
    "start_time": "2022-03-08T19:26:01.021Z"
   },
   {
    "duration": 4,
    "start_time": "2022-03-08T19:26:13.238Z"
   },
   {
    "duration": 3,
    "start_time": "2022-03-08T19:29:03.163Z"
   },
   {
    "duration": 1032,
    "start_time": "2022-03-08T19:32:36.944Z"
   },
   {
    "duration": 736,
    "start_time": "2022-03-08T19:32:37.978Z"
   },
   {
    "duration": 3,
    "start_time": "2022-03-08T19:32:38.717Z"
   },
   {
    "duration": 5,
    "start_time": "2022-03-08T19:32:38.722Z"
   },
   {
    "duration": 7,
    "start_time": "2022-03-08T19:32:38.728Z"
   },
   {
    "duration": 8,
    "start_time": "2022-03-08T19:32:38.736Z"
   },
   {
    "duration": 6,
    "start_time": "2022-03-08T19:32:38.745Z"
   },
   {
    "duration": 9,
    "start_time": "2022-03-08T19:32:38.753Z"
   },
   {
    "duration": 4,
    "start_time": "2022-03-08T19:32:38.764Z"
   },
   {
    "duration": 6,
    "start_time": "2022-03-08T19:32:38.770Z"
   },
   {
    "duration": 13,
    "start_time": "2022-03-08T19:32:38.778Z"
   },
   {
    "duration": 7,
    "start_time": "2022-03-08T19:32:38.805Z"
   },
   {
    "duration": 32,
    "start_time": "2022-03-08T19:33:15.002Z"
   },
   {
    "duration": 10,
    "start_time": "2022-03-08T19:33:23.618Z"
   },
   {
    "duration": 9,
    "start_time": "2022-03-08T19:33:32.199Z"
   },
   {
    "duration": 10,
    "start_time": "2022-03-08T19:33:45.594Z"
   },
   {
    "duration": 14,
    "start_time": "2022-03-08T19:34:17.675Z"
   },
   {
    "duration": 386,
    "start_time": "2022-03-08T19:34:35.989Z"
   },
   {
    "duration": 6,
    "start_time": "2022-03-08T19:34:38.340Z"
   },
   {
    "duration": 8,
    "start_time": "2022-03-08T19:35:00.767Z"
   },
   {
    "duration": 27,
    "start_time": "2022-03-08T19:35:09.101Z"
   },
   {
    "duration": 1017,
    "start_time": "2022-03-08T19:38:45.960Z"
   },
   {
    "duration": 698,
    "start_time": "2022-03-08T19:38:46.979Z"
   },
   {
    "duration": 2,
    "start_time": "2022-03-08T19:38:47.679Z"
   },
   {
    "duration": 5,
    "start_time": "2022-03-08T19:38:47.683Z"
   },
   {
    "duration": 9,
    "start_time": "2022-03-08T19:38:47.690Z"
   },
   {
    "duration": 8,
    "start_time": "2022-03-08T19:38:47.701Z"
   },
   {
    "duration": 5,
    "start_time": "2022-03-08T19:38:47.710Z"
   },
   {
    "duration": 7,
    "start_time": "2022-03-08T19:38:47.717Z"
   },
   {
    "duration": 4,
    "start_time": "2022-03-08T19:38:47.726Z"
   },
   {
    "duration": 6,
    "start_time": "2022-03-08T19:38:47.732Z"
   },
   {
    "duration": 8,
    "start_time": "2022-03-08T19:38:47.740Z"
   },
   {
    "duration": 6,
    "start_time": "2022-03-08T19:38:47.750Z"
   },
   {
    "duration": 10,
    "start_time": "2022-03-08T19:38:47.757Z"
   },
   {
    "duration": 8,
    "start_time": "2022-03-08T19:38:47.768Z"
   },
   {
    "duration": 32,
    "start_time": "2022-03-08T19:38:47.778Z"
   },
   {
    "duration": 3,
    "start_time": "2022-03-08T19:38:47.811Z"
   },
   {
    "duration": 7,
    "start_time": "2022-03-08T19:38:47.816Z"
   },
   {
    "duration": 437,
    "start_time": "2022-03-08T19:38:47.824Z"
   },
   {
    "duration": 5,
    "start_time": "2022-03-08T19:38:48.263Z"
   },
   {
    "duration": 15,
    "start_time": "2022-03-08T19:38:48.269Z"
   },
   {
    "duration": 390,
    "start_time": "2022-03-08T19:38:48.305Z"
   },
   {
    "duration": 10,
    "start_time": "2022-03-08T19:38:48.697Z"
   },
   {
    "duration": 7,
    "start_time": "2022-03-08T19:38:48.711Z"
   },
   {
    "duration": 5,
    "start_time": "2022-03-08T19:38:48.719Z"
   },
   {
    "duration": 9,
    "start_time": "2022-03-08T19:38:48.725Z"
   },
   {
    "duration": 5,
    "start_time": "2022-03-08T19:38:48.735Z"
   },
   {
    "duration": 21,
    "start_time": "2022-03-08T19:38:48.741Z"
   },
   {
    "duration": 2,
    "start_time": "2022-03-08T19:38:48.763Z"
   },
   {
    "duration": 6,
    "start_time": "2022-03-08T19:38:48.767Z"
   },
   {
    "duration": 789,
    "start_time": "2022-03-08T19:38:48.774Z"
   },
   {
    "duration": 1384,
    "start_time": "2022-03-09T16:58:00.944Z"
   },
   {
    "duration": 826,
    "start_time": "2022-03-09T16:58:02.331Z"
   },
   {
    "duration": 6,
    "start_time": "2022-03-09T16:58:03.160Z"
   },
   {
    "duration": 9,
    "start_time": "2022-03-09T16:58:03.169Z"
   },
   {
    "duration": 15,
    "start_time": "2022-03-09T16:58:03.181Z"
   },
   {
    "duration": 15,
    "start_time": "2022-03-09T16:58:03.198Z"
   },
   {
    "duration": 35,
    "start_time": "2022-03-09T16:58:03.216Z"
   },
   {
    "duration": 6,
    "start_time": "2022-03-09T16:58:03.255Z"
   },
   {
    "duration": 11,
    "start_time": "2022-03-09T16:58:03.264Z"
   },
   {
    "duration": 8,
    "start_time": "2022-03-09T16:58:03.278Z"
   },
   {
    "duration": 15,
    "start_time": "2022-03-09T16:58:03.289Z"
   },
   {
    "duration": 50,
    "start_time": "2022-03-09T16:58:03.307Z"
   },
   {
    "duration": 14,
    "start_time": "2022-03-09T16:58:03.361Z"
   },
   {
    "duration": 5,
    "start_time": "2022-03-09T16:58:03.378Z"
   },
   {
    "duration": 13,
    "start_time": "2022-03-09T16:58:12.515Z"
   },
   {
    "duration": 7,
    "start_time": "2022-03-09T16:58:21.565Z"
   },
   {
    "duration": 11,
    "start_time": "2022-03-09T16:58:36.197Z"
   },
   {
    "duration": 39,
    "start_time": "2022-03-09T16:58:46.835Z"
   },
   {
    "duration": 32,
    "start_time": "2022-03-09T16:58:59.820Z"
   },
   {
    "duration": 65,
    "start_time": "2022-03-09T16:59:05.278Z"
   },
   {
    "duration": 38,
    "start_time": "2022-03-09T17:00:24.510Z"
   },
   {
    "duration": 8,
    "start_time": "2022-03-09T17:00:29.977Z"
   },
   {
    "duration": 8,
    "start_time": "2022-03-09T17:00:47.449Z"
   },
   {
    "duration": 11,
    "start_time": "2022-03-09T17:00:57.016Z"
   },
   {
    "duration": 10,
    "start_time": "2022-03-09T17:01:39.832Z"
   },
   {
    "duration": 239,
    "start_time": "2022-03-09T17:01:48.753Z"
   },
   {
    "duration": 12,
    "start_time": "2022-03-09T17:04:49.606Z"
   },
   {
    "duration": 13,
    "start_time": "2022-03-09T17:04:58.543Z"
   },
   {
    "duration": 11,
    "start_time": "2022-03-09T17:05:11.059Z"
   },
   {
    "duration": 37,
    "start_time": "2022-03-09T17:09:28.725Z"
   },
   {
    "duration": 4,
    "start_time": "2022-03-09T17:09:36.944Z"
   },
   {
    "duration": 9,
    "start_time": "2022-03-09T17:09:55.630Z"
   },
   {
    "duration": 10,
    "start_time": "2022-03-09T17:09:59.870Z"
   },
   {
    "duration": 390,
    "start_time": "2022-03-09T17:10:27.133Z"
   },
   {
    "duration": 4,
    "start_time": "2022-03-09T17:10:33.479Z"
   },
   {
    "duration": 20,
    "start_time": "2022-03-09T17:10:47.190Z"
   },
   {
    "duration": 31,
    "start_time": "2022-03-09T17:11:37.833Z"
   },
   {
    "duration": 27,
    "start_time": "2022-03-09T17:11:47.426Z"
   },
   {
    "duration": 14,
    "start_time": "2022-03-09T17:11:52.410Z"
   },
   {
    "duration": 18,
    "start_time": "2022-03-09T17:12:09.129Z"
   },
   {
    "duration": 80,
    "start_time": "2022-03-09T17:12:35.137Z"
   },
   {
    "duration": 19,
    "start_time": "2022-03-09T17:12:54.484Z"
   },
   {
    "duration": 21,
    "start_time": "2022-03-09T17:12:59.493Z"
   },
   {
    "duration": 24,
    "start_time": "2022-03-09T17:13:00.507Z"
   },
   {
    "duration": 23,
    "start_time": "2022-03-09T17:13:02.082Z"
   },
   {
    "duration": 23,
    "start_time": "2022-03-09T17:13:03.211Z"
   },
   {
    "duration": 23,
    "start_time": "2022-03-09T17:13:04.003Z"
   },
   {
    "duration": 23,
    "start_time": "2022-03-09T17:13:05.244Z"
   },
   {
    "duration": 417,
    "start_time": "2022-03-09T17:13:29.924Z"
   },
   {
    "duration": 14,
    "start_time": "2022-03-09T17:13:43.798Z"
   },
   {
    "duration": 17,
    "start_time": "2022-03-09T17:13:46.316Z"
   },
   {
    "duration": 48,
    "start_time": "2022-03-09T17:16:20.153Z"
   },
   {
    "duration": 17,
    "start_time": "2022-03-09T17:16:40.968Z"
   },
   {
    "duration": 14,
    "start_time": "2022-03-09T17:16:59.528Z"
   },
   {
    "duration": 15,
    "start_time": "2022-03-09T17:17:01.586Z"
   },
   {
    "duration": 13,
    "start_time": "2022-03-09T17:17:15.338Z"
   },
   {
    "duration": 11,
    "start_time": "2022-03-09T17:17:29.891Z"
   },
   {
    "duration": 30,
    "start_time": "2022-03-09T17:18:54.141Z"
   },
   {
    "duration": 32,
    "start_time": "2022-03-09T17:19:00.190Z"
   },
   {
    "duration": 14,
    "start_time": "2022-03-09T17:19:05.389Z"
   },
   {
    "duration": 16,
    "start_time": "2022-03-09T17:19:07.333Z"
   },
   {
    "duration": 9,
    "start_time": "2022-03-09T17:19:20.196Z"
   },
   {
    "duration": 9,
    "start_time": "2022-03-09T17:19:34.401Z"
   },
   {
    "duration": 8,
    "start_time": "2022-03-09T17:19:52.715Z"
   },
   {
    "duration": 9,
    "start_time": "2022-03-09T17:19:53.367Z"
   },
   {
    "duration": 9,
    "start_time": "2022-03-09T17:19:53.901Z"
   },
   {
    "duration": 9,
    "start_time": "2022-03-09T17:19:54.424Z"
   },
   {
    "duration": 8,
    "start_time": "2022-03-09T17:19:54.871Z"
   },
   {
    "duration": 10,
    "start_time": "2022-03-09T17:19:55.126Z"
   },
   {
    "duration": 10,
    "start_time": "2022-03-09T17:19:55.365Z"
   },
   {
    "duration": 10,
    "start_time": "2022-03-09T17:19:55.609Z"
   },
   {
    "duration": 9,
    "start_time": "2022-03-09T17:19:55.838Z"
   },
   {
    "duration": 9,
    "start_time": "2022-03-09T17:19:56.078Z"
   },
   {
    "duration": 10,
    "start_time": "2022-03-09T17:19:56.313Z"
   },
   {
    "duration": 9,
    "start_time": "2022-03-09T17:19:56.541Z"
   },
   {
    "duration": 9,
    "start_time": "2022-03-09T17:19:56.782Z"
   },
   {
    "duration": 9,
    "start_time": "2022-03-09T17:19:57.014Z"
   },
   {
    "duration": 9,
    "start_time": "2022-03-09T17:19:57.257Z"
   },
   {
    "duration": 9,
    "start_time": "2022-03-09T17:19:57.504Z"
   },
   {
    "duration": 10,
    "start_time": "2022-03-09T17:19:57.742Z"
   },
   {
    "duration": 11,
    "start_time": "2022-03-09T17:19:57.976Z"
   },
   {
    "duration": 9,
    "start_time": "2022-03-09T17:19:58.213Z"
   },
   {
    "duration": 10,
    "start_time": "2022-03-09T17:19:58.457Z"
   },
   {
    "duration": 9,
    "start_time": "2022-03-09T17:19:58.881Z"
   },
   {
    "duration": 12,
    "start_time": "2022-03-09T17:19:59.268Z"
   },
   {
    "duration": 10,
    "start_time": "2022-03-09T17:19:59.476Z"
   },
   {
    "duration": 12,
    "start_time": "2022-03-09T17:19:59.689Z"
   },
   {
    "duration": 11,
    "start_time": "2022-03-09T17:19:59.895Z"
   },
   {
    "duration": 1389,
    "start_time": "2022-03-09T17:20:16.349Z"
   },
   {
    "duration": 886,
    "start_time": "2022-03-09T17:20:17.741Z"
   },
   {
    "duration": 4,
    "start_time": "2022-03-09T17:20:18.631Z"
   },
   {
    "duration": 17,
    "start_time": "2022-03-09T17:20:18.638Z"
   },
   {
    "duration": 12,
    "start_time": "2022-03-09T17:20:18.658Z"
   },
   {
    "duration": 11,
    "start_time": "2022-03-09T17:20:18.673Z"
   },
   {
    "duration": 4,
    "start_time": "2022-03-09T17:20:18.687Z"
   },
   {
    "duration": 5,
    "start_time": "2022-03-09T17:20:18.695Z"
   },
   {
    "duration": 9,
    "start_time": "2022-03-09T17:20:18.703Z"
   },
   {
    "duration": 42,
    "start_time": "2022-03-09T17:20:18.714Z"
   },
   {
    "duration": 18,
    "start_time": "2022-03-09T17:20:18.758Z"
   },
   {
    "duration": 12,
    "start_time": "2022-03-09T17:20:18.778Z"
   },
   {
    "duration": 18,
    "start_time": "2022-03-09T17:20:18.792Z"
   },
   {
    "duration": 11,
    "start_time": "2022-03-09T17:20:18.812Z"
   },
   {
    "duration": 31,
    "start_time": "2022-03-09T17:20:18.825Z"
   },
   {
    "duration": 44,
    "start_time": "2022-03-09T17:20:18.858Z"
   },
   {
    "duration": 9,
    "start_time": "2022-03-09T17:20:26.263Z"
   },
   {
    "duration": 7,
    "start_time": "2022-03-09T17:20:53.761Z"
   },
   {
    "duration": 21,
    "start_time": "2022-03-09T17:21:22.499Z"
   },
   {
    "duration": 411,
    "start_time": "2022-03-09T17:21:32.234Z"
   },
   {
    "duration": 9,
    "start_time": "2022-03-09T17:21:34.625Z"
   },
   {
    "duration": 12,
    "start_time": "2022-03-09T17:21:39.587Z"
   },
   {
    "duration": 12,
    "start_time": "2022-03-09T17:21:43.738Z"
   },
   {
    "duration": 4,
    "start_time": "2022-03-09T17:23:08.565Z"
   },
   {
    "duration": 885,
    "start_time": "2022-03-09T17:23:08.574Z"
   },
   {
    "duration": 3,
    "start_time": "2022-03-09T17:23:09.462Z"
   },
   {
    "duration": 7,
    "start_time": "2022-03-09T17:23:09.468Z"
   },
   {
    "duration": 7,
    "start_time": "2022-03-09T17:23:09.478Z"
   },
   {
    "duration": 9,
    "start_time": "2022-03-09T17:23:09.487Z"
   },
   {
    "duration": 53,
    "start_time": "2022-03-09T17:23:09.498Z"
   },
   {
    "duration": 5,
    "start_time": "2022-03-09T17:23:09.553Z"
   },
   {
    "duration": 4,
    "start_time": "2022-03-09T17:23:09.562Z"
   },
   {
    "duration": 6,
    "start_time": "2022-03-09T17:23:09.569Z"
   },
   {
    "duration": 15,
    "start_time": "2022-03-09T17:23:09.577Z"
   },
   {
    "duration": 63,
    "start_time": "2022-03-09T17:23:09.595Z"
   },
   {
    "duration": 9,
    "start_time": "2022-03-09T17:23:09.661Z"
   },
   {
    "duration": 15,
    "start_time": "2022-03-09T17:23:09.672Z"
   },
   {
    "duration": 19,
    "start_time": "2022-03-09T17:23:09.690Z"
   },
   {
    "duration": 45,
    "start_time": "2022-03-09T17:23:09.712Z"
   },
   {
    "duration": 8,
    "start_time": "2022-03-09T17:23:09.761Z"
   },
   {
    "duration": 818,
    "start_time": "2022-03-09T17:23:09.771Z"
   },
   {
    "duration": 8,
    "start_time": "2022-03-09T17:23:10.592Z"
   },
   {
    "duration": 50,
    "start_time": "2022-03-09T17:23:10.602Z"
   },
   {
    "duration": 774,
    "start_time": "2022-03-09T17:23:10.655Z"
   },
   {
    "duration": 7,
    "start_time": "2022-03-09T17:23:11.431Z"
   },
   {
    "duration": 8,
    "start_time": "2022-03-09T17:23:11.452Z"
   },
   {
    "duration": 7,
    "start_time": "2022-03-09T17:23:11.464Z"
   },
   {
    "duration": 8,
    "start_time": "2022-03-09T17:23:11.474Z"
   },
   {
    "duration": 8,
    "start_time": "2022-03-09T17:23:11.485Z"
   },
   {
    "duration": 72,
    "start_time": "2022-03-09T17:23:11.496Z"
   },
   {
    "duration": 4,
    "start_time": "2022-03-09T17:23:11.571Z"
   },
   {
    "duration": 10,
    "start_time": "2022-03-09T17:23:11.579Z"
   },
   {
    "duration": 1586,
    "start_time": "2022-03-09T17:23:11.591Z"
   },
   {
    "duration": 5,
    "start_time": "2022-03-09T17:53:11.335Z"
   },
   {
    "duration": 5,
    "start_time": "2022-03-09T17:53:17.964Z"
   },
   {
    "duration": 6348,
    "start_time": "2022-03-09T17:54:05.176Z"
   },
   {
    "duration": 5,
    "start_time": "2022-03-09T17:54:54.690Z"
   },
   {
    "duration": 6763,
    "start_time": "2022-03-09T17:54:56.348Z"
   },
   {
    "duration": 6383,
    "start_time": "2022-03-09T17:55:39.078Z"
   },
   {
    "duration": 1379,
    "start_time": "2022-03-09T17:56:27.993Z"
   },
   {
    "duration": 918,
    "start_time": "2022-03-09T17:56:29.375Z"
   },
   {
    "duration": 5,
    "start_time": "2022-03-09T17:56:30.297Z"
   },
   {
    "duration": 10,
    "start_time": "2022-03-09T17:56:30.304Z"
   },
   {
    "duration": 13,
    "start_time": "2022-03-09T17:56:30.317Z"
   },
   {
    "duration": 30,
    "start_time": "2022-03-09T17:56:30.332Z"
   },
   {
    "duration": 13,
    "start_time": "2022-03-09T17:56:30.365Z"
   },
   {
    "duration": 16,
    "start_time": "2022-03-09T17:56:30.383Z"
   },
   {
    "duration": 5,
    "start_time": "2022-03-09T17:56:30.403Z"
   },
   {
    "duration": 8,
    "start_time": "2022-03-09T17:56:30.411Z"
   },
   {
    "duration": 12,
    "start_time": "2022-03-09T17:56:30.451Z"
   },
   {
    "duration": 11,
    "start_time": "2022-03-09T17:56:30.465Z"
   },
   {
    "duration": 15,
    "start_time": "2022-03-09T17:56:30.478Z"
   },
   {
    "duration": 14,
    "start_time": "2022-03-09T17:56:30.496Z"
   },
   {
    "duration": 72,
    "start_time": "2022-03-09T17:56:30.513Z"
   },
   {
    "duration": 10,
    "start_time": "2022-03-09T17:56:30.600Z"
   },
   {
    "duration": 20,
    "start_time": "2022-03-09T17:56:30.612Z"
   },
   {
    "duration": 848,
    "start_time": "2022-03-09T17:56:30.635Z"
   },
   {
    "duration": 7,
    "start_time": "2022-03-09T17:56:31.487Z"
   },
   {
    "duration": 56,
    "start_time": "2022-03-09T17:56:31.497Z"
   },
   {
    "duration": 779,
    "start_time": "2022-03-09T17:56:31.555Z"
   },
   {
    "duration": 16,
    "start_time": "2022-03-09T17:56:32.336Z"
   },
   {
    "duration": 5,
    "start_time": "2022-03-09T17:56:32.357Z"
   },
   {
    "duration": 7,
    "start_time": "2022-03-09T17:56:32.365Z"
   },
   {
    "duration": 9,
    "start_time": "2022-03-09T17:56:32.374Z"
   },
   {
    "duration": 7,
    "start_time": "2022-03-09T17:56:32.385Z"
   },
   {
    "duration": 20,
    "start_time": "2022-03-09T17:56:32.394Z"
   },
   {
    "duration": 5,
    "start_time": "2022-03-09T17:56:32.451Z"
   },
   {
    "duration": 8,
    "start_time": "2022-03-09T17:56:32.459Z"
   },
   {
    "duration": 1506,
    "start_time": "2022-03-09T17:56:32.470Z"
   },
   {
    "duration": 4,
    "start_time": "2022-03-09T17:56:33.979Z"
   },
   {
    "duration": 13,
    "start_time": "2022-03-09T17:56:33.985Z"
   },
   {
    "duration": 9,
    "start_time": "2022-03-09T17:56:34.000Z"
   },
   {
    "duration": 12,
    "start_time": "2022-03-09T17:57:17.144Z"
   },
   {
    "duration": 404,
    "start_time": "2022-03-09T17:57:18.743Z"
   },
   {
    "duration": 4,
    "start_time": "2022-03-09T18:00:23.709Z"
   },
   {
    "duration": 4,
    "start_time": "2022-03-09T18:03:56.243Z"
   },
   {
    "duration": 5,
    "start_time": "2022-03-09T18:04:36.290Z"
   },
   {
    "duration": 6,
    "start_time": "2022-03-09T18:05:15.728Z"
   },
   {
    "duration": 780,
    "start_time": "2022-03-09T18:06:00.866Z"
   },
   {
    "duration": 6,
    "start_time": "2022-03-09T18:06:30.437Z"
   },
   {
    "duration": 21,
    "start_time": "2022-03-09T18:06:32.061Z"
   },
   {
    "duration": 14,
    "start_time": "2022-03-09T18:06:37.156Z"
   },
   {
    "duration": 6,
    "start_time": "2022-03-09T18:06:38.612Z"
   },
   {
    "duration": 261,
    "start_time": "2022-03-09T18:08:49.490Z"
   },
   {
    "duration": 44,
    "start_time": "2022-03-09T18:08:55.424Z"
   },
   {
    "duration": 4,
    "start_time": "2022-03-09T18:09:00.694Z"
   },
   {
    "duration": 6,
    "start_time": "2022-03-09T18:10:21.228Z"
   },
   {
    "duration": 284,
    "start_time": "2022-03-09T18:10:44.379Z"
   },
   {
    "duration": 266,
    "start_time": "2022-03-09T18:10:52.941Z"
   },
   {
    "duration": 308,
    "start_time": "2022-03-09T18:11:01.871Z"
   },
   {
    "duration": 8,
    "start_time": "2022-03-09T18:11:05.551Z"
   },
   {
    "duration": 5,
    "start_time": "2022-03-09T18:11:13.997Z"
   },
   {
    "duration": 9,
    "start_time": "2022-03-09T18:11:39.431Z"
   },
   {
    "duration": 1667,
    "start_time": "2022-03-09T18:11:56.711Z"
   },
   {
    "duration": 5,
    "start_time": "2022-03-09T18:14:17.629Z"
   },
   {
    "duration": 1614,
    "start_time": "2022-03-09T18:14:58.676Z"
   },
   {
    "duration": 1583,
    "start_time": "2022-03-09T18:15:08.457Z"
   },
   {
    "duration": 8,
    "start_time": "2022-03-09T18:15:12.250Z"
   },
   {
    "duration": 7353,
    "start_time": "2022-03-09T18:17:03.135Z"
   },
   {
    "duration": 9,
    "start_time": "2022-03-09T18:17:20.258Z"
   },
   {
    "duration": 6542,
    "start_time": "2022-03-09T18:17:30.721Z"
   },
   {
    "duration": 13,
    "start_time": "2022-03-09T18:17:39.784Z"
   },
   {
    "duration": 7,
    "start_time": "2022-03-09T18:17:58.177Z"
   },
   {
    "duration": 6,
    "start_time": "2022-03-09T18:18:03.734Z"
   },
   {
    "duration": 6,
    "start_time": "2022-03-09T18:18:12.134Z"
   },
   {
    "duration": 1697,
    "start_time": "2022-03-09T18:18:32.697Z"
   },
   {
    "duration": 1673,
    "start_time": "2022-03-09T18:18:37.060Z"
   },
   {
    "duration": 6483,
    "start_time": "2022-03-09T18:18:45.674Z"
   },
   {
    "duration": 6,
    "start_time": "2022-03-09T18:18:59.681Z"
   },
   {
    "duration": 87,
    "start_time": "2022-03-09T18:19:06.256Z"
   },
   {
    "duration": 13,
    "start_time": "2022-03-09T18:19:10.345Z"
   },
   {
    "duration": 11,
    "start_time": "2022-03-09T18:19:14.619Z"
   },
   {
    "duration": 265,
    "start_time": "2022-03-09T18:19:19.500Z"
   },
   {
    "duration": 277,
    "start_time": "2022-03-09T18:19:23.533Z"
   },
   {
    "duration": 276,
    "start_time": "2022-03-09T18:19:26.863Z"
   },
   {
    "duration": 6,
    "start_time": "2022-03-09T18:19:30.164Z"
   },
   {
    "duration": 8,
    "start_time": "2022-03-09T18:19:39.978Z"
   },
   {
    "duration": 121,
    "start_time": "2022-03-09T18:20:33.336Z"
   },
   {
    "duration": 8,
    "start_time": "2022-03-09T18:21:19.958Z"
   },
   {
    "duration": 6,
    "start_time": "2022-03-09T18:21:25.662Z"
   },
   {
    "duration": 100,
    "start_time": "2022-03-09T18:21:31.238Z"
   },
   {
    "duration": 84,
    "start_time": "2022-03-09T18:21:37.854Z"
   },
   {
    "duration": 91,
    "start_time": "2022-03-09T18:21:46.407Z"
   },
   {
    "duration": 4,
    "start_time": "2022-03-09T18:24:44.108Z"
   },
   {
    "duration": 6,
    "start_time": "2022-03-09T18:24:47.606Z"
   },
   {
    "duration": 293,
    "start_time": "2022-03-09T18:25:02.523Z"
   },
   {
    "duration": 9,
    "start_time": "2022-03-09T18:25:15.114Z"
   },
   {
    "duration": 3,
    "start_time": "2022-03-09T18:25:15.939Z"
   },
   {
    "duration": 5,
    "start_time": "2022-03-09T18:25:30.362Z"
   },
   {
    "duration": 4,
    "start_time": "2022-03-09T18:25:34.972Z"
   },
   {
    "duration": 5,
    "start_time": "2022-03-09T18:25:35.939Z"
   },
   {
    "duration": 1704,
    "start_time": "2022-03-09T18:25:40.279Z"
   },
   {
    "duration": 4,
    "start_time": "2022-03-09T18:25:43.213Z"
   },
   {
    "duration": 5,
    "start_time": "2022-03-09T18:25:45.517Z"
   },
   {
    "duration": 4,
    "start_time": "2022-03-09T18:26:03.347Z"
   },
   {
    "duration": 5,
    "start_time": "2022-03-09T18:26:06.804Z"
   },
   {
    "duration": 232,
    "start_time": "2022-03-09T18:26:13.979Z"
   },
   {
    "duration": 4,
    "start_time": "2022-03-09T18:26:29.689Z"
   },
   {
    "duration": 10,
    "start_time": "2022-03-09T18:26:31.719Z"
   },
   {
    "duration": 4,
    "start_time": "2022-03-09T18:28:48.628Z"
   },
   {
    "duration": 6,
    "start_time": "2022-03-09T18:30:05.412Z"
   },
   {
    "duration": 6,
    "start_time": "2022-03-09T18:30:16.551Z"
   },
   {
    "duration": 90,
    "start_time": "2022-03-09T18:30:41.131Z"
   },
   {
    "duration": 14,
    "start_time": "2022-03-09T18:30:47.839Z"
   },
   {
    "duration": 13,
    "start_time": "2022-03-09T18:32:05.135Z"
   },
   {
    "duration": 1610,
    "start_time": "2022-03-09T18:32:09.958Z"
   },
   {
    "duration": 1658,
    "start_time": "2022-03-09T18:33:20.217Z"
   },
   {
    "duration": 90,
    "start_time": "2022-03-09T18:33:28.050Z"
   },
   {
    "duration": 90,
    "start_time": "2022-03-09T18:33:30.569Z"
   },
   {
    "duration": 1831,
    "start_time": "2022-03-09T18:33:34.642Z"
   },
   {
    "duration": 11,
    "start_time": "2022-03-09T18:34:01.396Z"
   },
   {
    "duration": 489,
    "start_time": "2022-03-09T18:35:57.181Z"
   },
   {
    "duration": 5,
    "start_time": "2022-03-09T18:37:08.775Z"
   },
   {
    "duration": 8,
    "start_time": "2022-03-09T18:37:11.519Z"
   },
   {
    "duration": 7,
    "start_time": "2022-03-09T18:37:17.009Z"
   },
   {
    "duration": 4,
    "start_time": "2022-03-09T18:37:54.537Z"
   },
   {
    "duration": 8,
    "start_time": "2022-03-09T18:37:57.148Z"
   },
   {
    "duration": 4,
    "start_time": "2022-03-09T18:38:12.009Z"
   },
   {
    "duration": 4,
    "start_time": "2022-03-09T18:39:39.717Z"
   },
   {
    "duration": 8,
    "start_time": "2022-03-09T18:39:41.796Z"
   },
   {
    "duration": 133,
    "start_time": "2022-03-09T18:40:20.118Z"
   },
   {
    "duration": 6,
    "start_time": "2022-03-09T18:40:28.173Z"
   },
   {
    "duration": 7,
    "start_time": "2022-03-09T18:40:29.493Z"
   },
   {
    "duration": 4,
    "start_time": "2022-03-09T18:42:14.233Z"
   },
   {
    "duration": 8,
    "start_time": "2022-03-09T18:42:15.775Z"
   },
   {
    "duration": 7,
    "start_time": "2022-03-09T18:43:16.681Z"
   },
   {
    "duration": 8,
    "start_time": "2022-03-09T18:43:23.813Z"
   },
   {
    "duration": 9,
    "start_time": "2022-03-09T18:44:24.767Z"
   },
   {
    "duration": 7,
    "start_time": "2022-03-09T18:45:17.233Z"
   },
   {
    "duration": 7,
    "start_time": "2022-03-09T18:45:29.712Z"
   },
   {
    "duration": 7,
    "start_time": "2022-03-09T18:45:43.063Z"
   },
   {
    "duration": 75,
    "start_time": "2022-03-09T18:45:50.640Z"
   },
   {
    "duration": 9,
    "start_time": "2022-03-09T18:46:14.425Z"
   },
   {
    "duration": 4,
    "start_time": "2022-03-09T18:52:20.379Z"
   },
   {
    "duration": 5,
    "start_time": "2022-03-09T18:52:23.737Z"
   },
   {
    "duration": 7,
    "start_time": "2022-03-09T18:52:36.809Z"
   },
   {
    "duration": 4,
    "start_time": "2022-03-09T18:52:44.298Z"
   },
   {
    "duration": 9,
    "start_time": "2022-03-09T18:52:46.801Z"
   },
   {
    "duration": 6,
    "start_time": "2022-03-09T18:53:01.747Z"
   },
   {
    "duration": 6,
    "start_time": "2022-03-09T18:53:09.296Z"
   },
   {
    "duration": 5,
    "start_time": "2022-03-09T18:53:17.244Z"
   },
   {
    "duration": 5,
    "start_time": "2022-03-09T18:53:21.990Z"
   },
   {
    "duration": 6,
    "start_time": "2022-03-09T18:53:34.630Z"
   },
   {
    "duration": 9,
    "start_time": "2022-03-09T18:53:53.740Z"
   },
   {
    "duration": 9,
    "start_time": "2022-03-09T18:53:55.137Z"
   },
   {
    "duration": 8,
    "start_time": "2022-03-09T18:53:55.651Z"
   },
   {
    "duration": 9,
    "start_time": "2022-03-09T18:53:56.083Z"
   },
   {
    "duration": 9,
    "start_time": "2022-03-09T18:53:56.524Z"
   },
   {
    "duration": 9,
    "start_time": "2022-03-09T18:53:57.660Z"
   },
   {
    "duration": 7,
    "start_time": "2022-03-09T18:55:29.176Z"
   },
   {
    "duration": 6,
    "start_time": "2022-03-09T18:55:49.618Z"
   },
   {
    "duration": 9,
    "start_time": "2022-03-09T18:55:51.985Z"
   },
   {
    "duration": 9,
    "start_time": "2022-03-09T18:55:53.033Z"
   },
   {
    "duration": 7,
    "start_time": "2022-03-09T18:55:53.615Z"
   },
   {
    "duration": 8,
    "start_time": "2022-03-09T18:55:54.078Z"
   },
   {
    "duration": 9,
    "start_time": "2022-03-09T18:55:54.526Z"
   },
   {
    "duration": 10,
    "start_time": "2022-03-09T18:55:54.750Z"
   },
   {
    "duration": 10,
    "start_time": "2022-03-09T18:55:54.989Z"
   },
   {
    "duration": 4,
    "start_time": "2022-03-09T18:55:58.582Z"
   },
   {
    "duration": 91,
    "start_time": "2022-03-09T18:56:33.906Z"
   },
   {
    "duration": 8,
    "start_time": "2022-03-09T18:56:39.176Z"
   },
   {
    "duration": 1438,
    "start_time": "2022-03-09T18:57:15.135Z"
   },
   {
    "duration": 812,
    "start_time": "2022-03-09T18:57:16.576Z"
   },
   {
    "duration": 4,
    "start_time": "2022-03-09T18:57:17.391Z"
   },
   {
    "duration": 5,
    "start_time": "2022-03-09T18:57:17.398Z"
   },
   {
    "duration": 10,
    "start_time": "2022-03-09T18:57:17.406Z"
   },
   {
    "duration": 35,
    "start_time": "2022-03-09T18:57:17.419Z"
   },
   {
    "duration": 5,
    "start_time": "2022-03-09T18:57:17.457Z"
   },
   {
    "duration": 8,
    "start_time": "2022-03-09T18:57:17.466Z"
   },
   {
    "duration": 4,
    "start_time": "2022-03-09T18:57:17.477Z"
   },
   {
    "duration": 7,
    "start_time": "2022-03-09T18:57:17.484Z"
   },
   {
    "duration": 12,
    "start_time": "2022-03-09T18:57:17.493Z"
   },
   {
    "duration": 48,
    "start_time": "2022-03-09T18:57:17.508Z"
   },
   {
    "duration": 14,
    "start_time": "2022-03-09T18:57:17.559Z"
   },
   {
    "duration": 12,
    "start_time": "2022-03-09T18:57:17.575Z"
   },
   {
    "duration": 68,
    "start_time": "2022-03-09T18:57:17.589Z"
   },
   {
    "duration": 4,
    "start_time": "2022-03-09T18:57:17.659Z"
   },
   {
    "duration": 7,
    "start_time": "2022-03-09T18:57:17.665Z"
   },
   {
    "duration": 777,
    "start_time": "2022-03-09T18:57:17.674Z"
   },
   {
    "duration": 7,
    "start_time": "2022-03-09T18:57:18.453Z"
   },
   {
    "duration": 24,
    "start_time": "2022-03-09T18:57:18.462Z"
   },
   {
    "duration": 734,
    "start_time": "2022-03-09T18:57:18.488Z"
   },
   {
    "duration": 7,
    "start_time": "2022-03-09T18:57:19.224Z"
   },
   {
    "duration": 19,
    "start_time": "2022-03-09T18:57:19.235Z"
   },
   {
    "duration": 6,
    "start_time": "2022-03-09T18:57:19.256Z"
   },
   {
    "duration": 5,
    "start_time": "2022-03-09T18:57:19.264Z"
   },
   {
    "duration": 7,
    "start_time": "2022-03-09T18:57:19.271Z"
   },
   {
    "duration": 22,
    "start_time": "2022-03-09T18:57:19.281Z"
   },
   {
    "duration": 5,
    "start_time": "2022-03-09T18:57:19.305Z"
   },
   {
    "duration": 8,
    "start_time": "2022-03-09T18:57:19.352Z"
   },
   {
    "duration": 1432,
    "start_time": "2022-03-09T18:57:19.362Z"
   },
   {
    "duration": 4,
    "start_time": "2022-03-09T18:57:20.796Z"
   },
   {
    "duration": 18,
    "start_time": "2022-03-09T18:57:20.802Z"
   },
   {
    "duration": 449,
    "start_time": "2022-03-09T18:57:20.823Z"
   },
   {
    "duration": -103,
    "start_time": "2022-03-09T18:57:21.377Z"
   },
   {
    "duration": -113,
    "start_time": "2022-03-09T18:57:21.389Z"
   },
   {
    "duration": -123,
    "start_time": "2022-03-09T18:57:21.400Z"
   },
   {
    "duration": -130,
    "start_time": "2022-03-09T18:57:21.408Z"
   },
   {
    "duration": -137,
    "start_time": "2022-03-09T18:57:21.416Z"
   },
   {
    "duration": -143,
    "start_time": "2022-03-09T18:57:21.424Z"
   },
   {
    "duration": 243,
    "start_time": "2022-03-09T18:57:45.899Z"
   },
   {
    "duration": 14,
    "start_time": "2022-03-09T18:57:56.930Z"
   },
   {
    "duration": 2267,
    "start_time": "2022-03-09T18:57:58.555Z"
   },
   {
    "duration": 8,
    "start_time": "2022-03-09T18:58:03.619Z"
   },
   {
    "duration": 5,
    "start_time": "2022-03-09T18:58:57.877Z"
   },
   {
    "duration": 6,
    "start_time": "2022-03-09T18:59:03.148Z"
   },
   {
    "duration": 4,
    "start_time": "2022-03-09T19:06:12.321Z"
   },
   {
    "duration": 8,
    "start_time": "2022-03-09T19:06:20.826Z"
   },
   {
    "duration": 5,
    "start_time": "2022-03-09T19:06:24.089Z"
   },
   {
    "duration": 7,
    "start_time": "2022-03-09T19:06:26.091Z"
   },
   {
    "duration": 8,
    "start_time": "2022-03-09T19:06:27.161Z"
   },
   {
    "duration": 1621,
    "start_time": "2022-03-09T19:06:44.105Z"
   },
   {
    "duration": 15,
    "start_time": "2022-03-09T19:06:46.505Z"
   },
   {
    "duration": 13,
    "start_time": "2022-03-09T19:07:10.674Z"
   },
   {
    "duration": 1670,
    "start_time": "2022-03-09T19:07:11.425Z"
   },
   {
    "duration": 4,
    "start_time": "2022-03-09T19:07:13.097Z"
   },
   {
    "duration": 8,
    "start_time": "2022-03-09T19:07:17.371Z"
   },
   {
    "duration": 8,
    "start_time": "2022-03-09T19:07:18.345Z"
   },
   {
    "duration": 4,
    "start_time": "2022-03-09T19:07:28.964Z"
   },
   {
    "duration": 9,
    "start_time": "2022-03-09T19:07:30.771Z"
   },
   {
    "duration": 5,
    "start_time": "2022-03-09T19:07:34.181Z"
   },
   {
    "duration": 8,
    "start_time": "2022-03-09T19:07:36.442Z"
   },
   {
    "duration": 6,
    "start_time": "2022-03-09T19:08:10.950Z"
   },
   {
    "duration": 5,
    "start_time": "2022-03-09T19:08:21.478Z"
   },
   {
    "duration": 7924,
    "start_time": "2022-03-09T19:09:16.974Z"
   },
   {
    "duration": 8,
    "start_time": "2022-03-09T19:09:27.104Z"
   },
   {
    "duration": 77,
    "start_time": "2022-03-09T19:09:35.733Z"
   },
   {
    "duration": 9,
    "start_time": "2022-03-09T19:10:01.497Z"
   },
   {
    "duration": 4,
    "start_time": "2022-03-09T19:10:24.600Z"
   },
   {
    "duration": 11,
    "start_time": "2022-03-09T19:10:26.808Z"
   },
   {
    "duration": 4,
    "start_time": "2022-03-09T19:10:51.089Z"
   },
   {
    "duration": 8,
    "start_time": "2022-03-09T19:10:54.873Z"
   },
   {
    "duration": 4,
    "start_time": "2022-03-09T19:10:59.576Z"
   },
   {
    "duration": 9,
    "start_time": "2022-03-09T19:11:01.478Z"
   },
   {
    "duration": 117,
    "start_time": "2022-03-09T19:11:07.752Z"
   },
   {
    "duration": 110,
    "start_time": "2022-03-09T19:11:12.779Z"
   },
   {
    "duration": 4,
    "start_time": "2022-03-09T19:11:23.198Z"
   },
   {
    "duration": 7,
    "start_time": "2022-03-09T19:11:25.738Z"
   },
   {
    "duration": 4,
    "start_time": "2022-03-09T19:12:14.682Z"
   },
   {
    "duration": 8,
    "start_time": "2022-03-09T19:12:16.439Z"
   },
   {
    "duration": 8,
    "start_time": "2022-03-09T19:12:40.661Z"
   },
   {
    "duration": 10,
    "start_time": "2022-03-09T19:12:51.850Z"
   },
   {
    "duration": 9,
    "start_time": "2022-03-09T19:13:28.310Z"
   },
   {
    "duration": 6,
    "start_time": "2022-03-09T19:13:40.509Z"
   },
   {
    "duration": 5,
    "start_time": "2022-03-09T19:13:41.814Z"
   },
   {
    "duration": 8,
    "start_time": "2022-03-09T19:13:46.327Z"
   },
   {
    "duration": 7,
    "start_time": "2022-03-09T19:13:55.798Z"
   },
   {
    "duration": 9,
    "start_time": "2022-03-09T19:14:30.409Z"
   },
   {
    "duration": 7,
    "start_time": "2022-03-09T19:14:38.520Z"
   },
   {
    "duration": 6,
    "start_time": "2022-03-09T19:14:49.599Z"
   },
   {
    "duration": 5,
    "start_time": "2022-03-09T19:15:02.912Z"
   },
   {
    "duration": 8,
    "start_time": "2022-03-09T19:15:07.302Z"
   },
   {
    "duration": 4,
    "start_time": "2022-03-09T19:16:39.681Z"
   },
   {
    "duration": 10,
    "start_time": "2022-03-09T19:16:43.489Z"
   },
   {
    "duration": 4,
    "start_time": "2022-03-09T19:16:47.419Z"
   },
   {
    "duration": 10,
    "start_time": "2022-03-09T19:16:49.491Z"
   },
   {
    "duration": 4,
    "start_time": "2022-03-09T19:17:02.972Z"
   },
   {
    "duration": 5,
    "start_time": "2022-03-09T19:17:11.067Z"
   },
   {
    "duration": 8,
    "start_time": "2022-03-09T19:17:12.499Z"
   },
   {
    "duration": 4,
    "start_time": "2022-03-09T19:17:24.853Z"
   },
   {
    "duration": 8,
    "start_time": "2022-03-09T19:17:27.228Z"
   },
   {
    "duration": 6,
    "start_time": "2022-03-09T19:20:48.458Z"
   },
   {
    "duration": 5,
    "start_time": "2022-03-09T19:20:52.827Z"
   },
   {
    "duration": 315,
    "start_time": "2022-03-09T19:22:27.812Z"
   },
   {
    "duration": 10,
    "start_time": "2022-03-09T19:22:32.567Z"
   },
   {
    "duration": -87,
    "start_time": "2022-03-09T19:23:09.200Z"
   },
   {
    "duration": 1738,
    "start_time": "2022-03-09T19:23:10.621Z"
   },
   {
    "duration": 13,
    "start_time": "2022-03-09T19:23:14.815Z"
   },
   {
    "duration": 9,
    "start_time": "2022-03-09T19:23:18.617Z"
   },
   {
    "duration": 10,
    "start_time": "2022-03-09T19:23:22.710Z"
   },
   {
    "duration": -89,
    "start_time": "2022-03-09T19:23:34.579Z"
   },
   {
    "duration": 1743,
    "start_time": "2022-03-09T19:23:40.945Z"
   },
   {
    "duration": 1710,
    "start_time": "2022-03-09T19:23:45.202Z"
   },
   {
    "duration": 10,
    "start_time": "2022-03-09T19:23:48.411Z"
   },
   {
    "duration": 10,
    "start_time": "2022-03-09T19:23:55.606Z"
   },
   {
    "duration": 10,
    "start_time": "2022-03-09T19:24:00.056Z"
   },
   {
    "duration": 12,
    "start_time": "2022-03-09T19:24:03.358Z"
   },
   {
    "duration": 9,
    "start_time": "2022-03-09T19:24:12.480Z"
   },
   {
    "duration": 10,
    "start_time": "2022-03-09T19:24:16.414Z"
   },
   {
    "duration": 265,
    "start_time": "2022-03-09T19:24:19.399Z"
   },
   {
    "duration": 10,
    "start_time": "2022-03-09T19:24:21.600Z"
   },
   {
    "duration": 10,
    "start_time": "2022-03-09T19:24:25.407Z"
   },
   {
    "duration": 10,
    "start_time": "2022-03-09T19:24:27.961Z"
   },
   {
    "duration": 7,
    "start_time": "2022-03-09T19:24:58.275Z"
   },
   {
    "duration": 1615,
    "start_time": "2022-03-09T19:26:12.604Z"
   },
   {
    "duration": 5,
    "start_time": "2022-03-09T19:28:41.103Z"
   },
   {
    "duration": 261,
    "start_time": "2022-03-09T19:29:51.010Z"
   },
   {
    "duration": 10,
    "start_time": "2022-03-09T19:30:19.595Z"
   },
   {
    "duration": 6,
    "start_time": "2022-03-09T19:30:26.929Z"
   },
   {
    "duration": 285,
    "start_time": "2022-03-09T19:30:43.137Z"
   },
   {
    "duration": 12,
    "start_time": "2022-03-09T19:31:02.052Z"
   },
   {
    "duration": 1936,
    "start_time": "2022-03-09T19:31:06.822Z"
   },
   {
    "duration": 4,
    "start_time": "2022-03-09T19:31:13.467Z"
   },
   {
    "duration": 7,
    "start_time": "2022-03-09T19:31:14.434Z"
   },
   {
    "duration": 553,
    "start_time": "2022-03-09T19:31:15.699Z"
   },
   {
    "duration": 675,
    "start_time": "2022-03-09T19:31:26.483Z"
   },
   {
    "duration": 5,
    "start_time": "2022-03-09T19:34:14.449Z"
   },
   {
    "duration": 10,
    "start_time": "2022-03-09T19:34:37.200Z"
   },
   {
    "duration": 10,
    "start_time": "2022-03-09T19:34:40.529Z"
   },
   {
    "duration": 1635,
    "start_time": "2022-03-09T19:35:00.256Z"
   },
   {
    "duration": 12,
    "start_time": "2022-03-09T19:35:05.656Z"
   },
   {
    "duration": 1757,
    "start_time": "2022-03-09T19:35:06.568Z"
   },
   {
    "duration": 6,
    "start_time": "2022-03-09T19:35:08.328Z"
   },
   {
    "duration": 11,
    "start_time": "2022-03-09T19:35:08.394Z"
   },
   {
    "duration": 10,
    "start_time": "2022-03-09T19:35:09.317Z"
   },
   {
    "duration": 10,
    "start_time": "2022-03-09T19:35:09.792Z"
   },
   {
    "duration": 12,
    "start_time": "2022-03-09T19:35:10.167Z"
   },
   {
    "duration": 11,
    "start_time": "2022-03-09T19:35:10.534Z"
   },
   {
    "duration": 10,
    "start_time": "2022-03-09T19:35:10.903Z"
   },
   {
    "duration": 1395,
    "start_time": "2022-03-09T19:35:20.074Z"
   },
   {
    "duration": 852,
    "start_time": "2022-03-09T19:35:21.472Z"
   },
   {
    "duration": 4,
    "start_time": "2022-03-09T19:35:22.327Z"
   },
   {
    "duration": 5,
    "start_time": "2022-03-09T19:35:22.334Z"
   },
   {
    "duration": 11,
    "start_time": "2022-03-09T19:35:22.352Z"
   },
   {
    "duration": 12,
    "start_time": "2022-03-09T19:35:22.365Z"
   },
   {
    "duration": 9,
    "start_time": "2022-03-09T19:35:22.380Z"
   },
   {
    "duration": 6,
    "start_time": "2022-03-09T19:35:22.393Z"
   },
   {
    "duration": 4,
    "start_time": "2022-03-09T19:35:22.402Z"
   },
   {
    "duration": 44,
    "start_time": "2022-03-09T19:35:22.409Z"
   },
   {
    "duration": 11,
    "start_time": "2022-03-09T19:35:22.455Z"
   },
   {
    "duration": 8,
    "start_time": "2022-03-09T19:35:22.469Z"
   },
   {
    "duration": 13,
    "start_time": "2022-03-09T19:35:22.479Z"
   },
   {
    "duration": 8,
    "start_time": "2022-03-09T19:35:22.495Z"
   },
   {
    "duration": 67,
    "start_time": "2022-03-09T19:35:22.505Z"
   },
   {
    "duration": 4,
    "start_time": "2022-03-09T19:35:22.574Z"
   },
   {
    "duration": 8,
    "start_time": "2022-03-09T19:35:22.582Z"
   },
   {
    "duration": 801,
    "start_time": "2022-03-09T19:35:22.592Z"
   },
   {
    "duration": 6,
    "start_time": "2022-03-09T19:35:23.396Z"
   },
   {
    "duration": 24,
    "start_time": "2022-03-09T19:35:23.404Z"
   },
   {
    "duration": 733,
    "start_time": "2022-03-09T19:35:23.452Z"
   },
   {
    "duration": 6,
    "start_time": "2022-03-09T19:35:24.188Z"
   },
   {
    "duration": 5,
    "start_time": "2022-03-09T19:35:24.199Z"
   },
   {
    "duration": 6,
    "start_time": "2022-03-09T19:35:24.206Z"
   },
   {
    "duration": 37,
    "start_time": "2022-03-09T19:35:24.214Z"
   },
   {
    "duration": 5,
    "start_time": "2022-03-09T19:35:24.254Z"
   },
   {
    "duration": 22,
    "start_time": "2022-03-09T19:35:24.262Z"
   },
   {
    "duration": 5,
    "start_time": "2022-03-09T19:35:24.286Z"
   },
   {
    "duration": 9,
    "start_time": "2022-03-09T19:35:24.293Z"
   },
   {
    "duration": 1555,
    "start_time": "2022-03-09T19:35:24.304Z"
   },
   {
    "duration": 13,
    "start_time": "2022-03-09T19:35:25.861Z"
   },
   {
    "duration": 1651,
    "start_time": "2022-03-09T19:35:25.877Z"
   },
   {
    "duration": 6,
    "start_time": "2022-03-09T19:35:27.530Z"
   },
   {
    "duration": 20,
    "start_time": "2022-03-09T19:35:27.538Z"
   },
   {
    "duration": 6,
    "start_time": "2022-03-09T19:39:05.137Z"
   },
   {
    "duration": 11,
    "start_time": "2022-03-09T19:39:07.042Z"
   },
   {
    "duration": 8,
    "start_time": "2022-03-09T19:39:23.381Z"
   },
   {
    "duration": 8,
    "start_time": "2022-03-09T19:39:49.717Z"
   },
   {
    "duration": 8,
    "start_time": "2022-03-09T19:40:01.605Z"
   },
   {
    "duration": 9,
    "start_time": "2022-03-09T19:40:11.172Z"
   },
   {
    "duration": 10,
    "start_time": "2022-03-09T19:40:44.033Z"
   },
   {
    "duration": 11,
    "start_time": "2022-03-09T19:40:49.736Z"
   },
   {
    "duration": 85,
    "start_time": "2022-03-09T19:41:01.097Z"
   },
   {
    "duration": 11,
    "start_time": "2022-03-09T19:41:07.655Z"
   },
   {
    "duration": 11,
    "start_time": "2022-03-09T19:41:38.098Z"
   },
   {
    "duration": 9,
    "start_time": "2022-03-09T19:41:45.274Z"
   },
   {
    "duration": 10,
    "start_time": "2022-03-09T19:42:14.194Z"
   },
   {
    "duration": 5,
    "start_time": "2022-03-09T19:42:48.827Z"
   },
   {
    "duration": 9,
    "start_time": "2022-03-09T19:43:19.371Z"
   },
   {
    "duration": 6,
    "start_time": "2022-03-09T19:46:53.530Z"
   },
   {
    "duration": 10,
    "start_time": "2022-03-09T19:47:00.142Z"
   },
   {
    "duration": 13,
    "start_time": "2022-03-09T19:47:23.752Z"
   },
   {
    "duration": 1601,
    "start_time": "2022-03-09T19:47:24.557Z"
   },
   {
    "duration": 7,
    "start_time": "2022-03-09T19:47:27.646Z"
   },
   {
    "duration": 10,
    "start_time": "2022-03-09T19:47:28.607Z"
   },
   {
    "duration": 2058,
    "start_time": "2022-03-09T19:48:03.588Z"
   },
   {
    "duration": 1584,
    "start_time": "2022-03-09T19:48:27.160Z"
   },
   {
    "duration": 10,
    "start_time": "2022-03-09T19:48:34.420Z"
   },
   {
    "duration": 720,
    "start_time": "2022-03-09T19:48:42.469Z"
   },
   {
    "duration": 1666,
    "start_time": "2022-03-09T19:48:50.831Z"
   },
   {
    "duration": 10,
    "start_time": "2022-03-09T19:48:54.487Z"
   },
   {
    "duration": 874,
    "start_time": "2022-03-09T19:49:56.446Z"
   },
   {
    "duration": 10,
    "start_time": "2022-03-09T19:49:59.311Z"
   },
   {
    "duration": 1599,
    "start_time": "2022-03-09T19:50:05.565Z"
   },
   {
    "duration": 12,
    "start_time": "2022-03-09T19:50:08.628Z"
   },
   {
    "duration": 763,
    "start_time": "2022-03-09T19:50:13.718Z"
   },
   {
    "duration": 9,
    "start_time": "2022-03-09T19:50:15.311Z"
   },
   {
    "duration": 836,
    "start_time": "2022-03-09T19:50:18.615Z"
   },
   {
    "duration": 10,
    "start_time": "2022-03-09T19:50:20.855Z"
   },
   {
    "duration": 527,
    "start_time": "2022-03-09T19:50:24.808Z"
   },
   {
    "duration": 11,
    "start_time": "2022-03-09T19:50:28.029Z"
   },
   {
    "duration": 469,
    "start_time": "2022-03-09T19:50:34.177Z"
   },
   {
    "duration": 9,
    "start_time": "2022-03-09T19:50:36.510Z"
   },
   {
    "duration": 575,
    "start_time": "2022-03-09T19:50:39.936Z"
   },
   {
    "duration": 9,
    "start_time": "2022-03-09T19:50:42.732Z"
   },
   {
    "duration": 198,
    "start_time": "2022-03-09T19:50:47.070Z"
   },
   {
    "duration": 10,
    "start_time": "2022-03-09T19:50:49.551Z"
   },
   {
    "duration": 9,
    "start_time": "2022-03-09T19:50:53.702Z"
   },
   {
    "duration": 10,
    "start_time": "2022-03-09T19:50:55.005Z"
   },
   {
    "duration": 13,
    "start_time": "2022-03-09T19:50:55.592Z"
   },
   {
    "duration": 10,
    "start_time": "2022-03-09T19:50:56.094Z"
   },
   {
    "duration": 11,
    "start_time": "2022-03-09T19:50:56.630Z"
   },
   {
    "duration": 201,
    "start_time": "2022-03-09T19:50:58.655Z"
   },
   {
    "duration": 9,
    "start_time": "2022-03-09T19:51:00.998Z"
   },
   {
    "duration": 109,
    "start_time": "2022-03-09T19:51:03.950Z"
   },
   {
    "duration": 9,
    "start_time": "2022-03-09T19:51:07.376Z"
   },
   {
    "duration": 601,
    "start_time": "2022-03-09T19:51:19.644Z"
   },
   {
    "duration": 10,
    "start_time": "2022-03-09T19:51:22.574Z"
   },
   {
    "duration": 523,
    "start_time": "2022-03-09T19:51:29.635Z"
   },
   {
    "duration": 12,
    "start_time": "2022-03-09T19:51:32.416Z"
   },
   {
    "duration": 108,
    "start_time": "2022-03-09T19:51:37.240Z"
   },
   {
    "duration": 10,
    "start_time": "2022-03-09T19:51:48.206Z"
   },
   {
    "duration": 1598,
    "start_time": "2022-03-09T19:51:56.408Z"
   },
   {
    "duration": 10,
    "start_time": "2022-03-09T19:51:58.888Z"
   },
   {
    "duration": 1667,
    "start_time": "2022-03-09T19:52:03.684Z"
   },
   {
    "duration": 10,
    "start_time": "2022-03-09T19:52:06.377Z"
   },
   {
    "duration": 1454,
    "start_time": "2022-03-09T19:52:11.888Z"
   },
   {
    "duration": 10,
    "start_time": "2022-03-09T19:52:14.014Z"
   },
   {
    "duration": 292,
    "start_time": "2022-03-09T19:52:19.875Z"
   },
   {
    "duration": 10,
    "start_time": "2022-03-09T19:52:21.985Z"
   },
   {
    "duration": 104,
    "start_time": "2022-03-09T19:52:25.601Z"
   },
   {
    "duration": 10,
    "start_time": "2022-03-09T19:52:27.712Z"
   },
   {
    "duration": 10,
    "start_time": "2022-03-09T19:52:32.393Z"
   },
   {
    "duration": 109,
    "start_time": "2022-03-09T19:52:34.211Z"
   },
   {
    "duration": 11,
    "start_time": "2022-03-09T19:52:36.794Z"
   },
   {
    "duration": 193,
    "start_time": "2022-03-09T19:52:52.664Z"
   },
   {
    "duration": 9,
    "start_time": "2022-03-09T19:52:54.633Z"
   },
   {
    "duration": 277,
    "start_time": "2022-03-09T19:52:59.275Z"
   },
   {
    "duration": 9,
    "start_time": "2022-03-09T19:53:00.915Z"
   },
   {
    "duration": 197,
    "start_time": "2022-03-09T19:53:03.363Z"
   },
   {
    "duration": 10,
    "start_time": "2022-03-09T19:53:05.303Z"
   },
   {
    "duration": 103,
    "start_time": "2022-03-09T19:53:08.721Z"
   },
   {
    "duration": 11,
    "start_time": "2022-03-09T19:53:10.994Z"
   },
   {
    "duration": 194,
    "start_time": "2022-03-09T19:53:13.698Z"
   },
   {
    "duration": 10,
    "start_time": "2022-03-09T19:53:15.267Z"
   },
   {
    "duration": 6,
    "start_time": "2022-03-09T19:54:03.541Z"
   },
   {
    "duration": 6,
    "start_time": "2022-03-09T19:54:14.893Z"
   },
   {
    "duration": 5,
    "start_time": "2022-03-09T19:54:22.436Z"
   },
   {
    "duration": 6,
    "start_time": "2022-03-09T19:54:29.829Z"
   },
   {
    "duration": 6,
    "start_time": "2022-03-09T19:54:32.799Z"
   },
   {
    "duration": 7,
    "start_time": "2022-03-09T19:55:03.527Z"
   },
   {
    "duration": 8,
    "start_time": "2022-03-09T19:55:10.729Z"
   },
   {
    "duration": 12,
    "start_time": "2022-03-09T19:55:13.149Z"
   },
   {
    "duration": 6,
    "start_time": "2022-03-09T19:56:36.841Z"
   },
   {
    "duration": 7,
    "start_time": "2022-03-09T19:57:41.239Z"
   },
   {
    "duration": 18,
    "start_time": "2022-03-09T19:57:43.027Z"
   },
   {
    "duration": 8,
    "start_time": "2022-03-09T19:57:58.659Z"
   },
   {
    "duration": 11,
    "start_time": "2022-03-09T19:58:00.531Z"
   },
   {
    "duration": 6,
    "start_time": "2022-03-09T19:58:46.214Z"
   },
   {
    "duration": 10,
    "start_time": "2022-03-09T19:58:47.101Z"
   },
   {
    "duration": 437,
    "start_time": "2022-03-09T19:59:25.302Z"
   },
   {
    "duration": 218,
    "start_time": "2022-03-09T19:59:31.855Z"
   },
   {
    "duration": 4,
    "start_time": "2022-03-09T19:59:45.916Z"
   },
   {
    "duration": 201,
    "start_time": "2022-03-09T19:59:51.472Z"
   },
   {
    "duration": 245,
    "start_time": "2022-03-09T20:00:54.074Z"
   },
   {
    "duration": 14,
    "start_time": "2022-03-09T20:01:05.976Z"
   },
   {
    "duration": 4,
    "start_time": "2022-03-09T20:01:15.832Z"
   },
   {
    "duration": 28005,
    "start_time": "2022-03-09T20:02:22.409Z"
   },
   {
    "duration": 20188,
    "start_time": "2022-03-09T20:02:58.645Z"
   },
   {
    "duration": 4,
    "start_time": "2022-03-09T20:03:33.206Z"
   },
   {
    "duration": 26818,
    "start_time": "2022-03-09T20:03:38.734Z"
   },
   {
    "duration": 27934,
    "start_time": "2022-03-09T20:04:22.777Z"
   },
   {
    "duration": 36,
    "start_time": "2022-03-09T20:05:17.902Z"
   },
   {
    "duration": 10,
    "start_time": "2022-03-09T20:05:25.321Z"
   },
   {
    "duration": 4,
    "start_time": "2022-03-09T20:05:37.720Z"
   },
   {
    "duration": 12,
    "start_time": "2022-03-09T20:05:40.311Z"
   },
   {
    "duration": 624,
    "start_time": "2022-03-09T20:05:42.432Z"
   },
   {
    "duration": 7,
    "start_time": "2022-03-09T20:05:45.799Z"
   },
   {
    "duration": 10,
    "start_time": "2022-03-09T20:05:47.000Z"
   },
   {
    "duration": 1019,
    "start_time": "2022-03-09T20:06:01.769Z"
   },
   {
    "duration": 988,
    "start_time": "2022-03-09T20:06:08.625Z"
   },
   {
    "duration": 981,
    "start_time": "2022-03-09T20:06:13.578Z"
   },
   {
    "duration": 1248,
    "start_time": "2022-03-09T20:06:20.666Z"
   },
   {
    "duration": 1929,
    "start_time": "2022-03-09T20:06:25.431Z"
   },
   {
    "duration": 671,
    "start_time": "2022-03-09T20:06:29.666Z"
   },
   {
    "duration": 1274,
    "start_time": "2022-03-09T20:06:32.714Z"
   },
   {
    "duration": 420,
    "start_time": "2022-03-09T20:06:36.712Z"
   },
   {
    "duration": 354,
    "start_time": "2022-03-09T20:06:40.834Z"
   },
   {
    "duration": 152,
    "start_time": "2022-03-09T20:06:43.112Z"
   },
   {
    "duration": 561,
    "start_time": "2022-03-09T20:06:45.634Z"
   },
   {
    "duration": 647,
    "start_time": "2022-03-09T20:06:51.929Z"
   },
   {
    "duration": 625,
    "start_time": "2022-03-09T20:06:59.097Z"
   },
   {
    "duration": 785,
    "start_time": "2022-03-09T20:07:03.268Z"
   },
   {
    "duration": 1917,
    "start_time": "2022-03-09T20:07:12.521Z"
   },
   {
    "duration": 647,
    "start_time": "2022-03-09T20:07:17.152Z"
   },
   {
    "duration": 913,
    "start_time": "2022-03-09T20:07:22.210Z"
   },
   {
    "duration": 329,
    "start_time": "2022-03-09T20:07:25.282Z"
   },
   {
    "duration": 648,
    "start_time": "2022-03-09T20:07:27.514Z"
   },
   {
    "duration": 385,
    "start_time": "2022-03-09T20:07:30.403Z"
   },
   {
    "duration": 266,
    "start_time": "2022-03-09T20:07:33.330Z"
   },
   {
    "duration": 617,
    "start_time": "2022-03-09T20:07:36.067Z"
   },
   {
    "duration": 736,
    "start_time": "2022-03-09T20:07:38.867Z"
   },
   {
    "duration": 5660,
    "start_time": "2022-03-09T20:07:42.122Z"
   },
   {
    "duration": 1004,
    "start_time": "2022-03-09T20:07:55.935Z"
   },
   {
    "duration": 1157,
    "start_time": "2022-03-09T20:08:01.595Z"
   },
   {
    "duration": 1267,
    "start_time": "2022-03-09T20:08:06.244Z"
   },
   {
    "duration": 1703,
    "start_time": "2022-03-09T20:08:11.172Z"
   },
   {
    "duration": 751,
    "start_time": "2022-03-09T20:08:17.343Z"
   },
   {
    "duration": 625,
    "start_time": "2022-03-09T20:08:20.590Z"
   },
   {
    "duration": 268,
    "start_time": "2022-03-09T20:10:21.794Z"
   },
   {
    "duration": 4,
    "start_time": "2022-03-09T20:10:29.375Z"
   },
   {
    "duration": 304,
    "start_time": "2022-03-09T20:10:33.848Z"
   },
   {
    "duration": 1247,
    "start_time": "2022-03-10T17:35:33.699Z"
   },
   {
    "duration": 684,
    "start_time": "2022-03-10T17:35:34.948Z"
   },
   {
    "duration": 3,
    "start_time": "2022-03-10T17:35:35.634Z"
   },
   {
    "duration": 4,
    "start_time": "2022-03-10T17:35:35.640Z"
   },
   {
    "duration": 6,
    "start_time": "2022-03-10T17:35:35.646Z"
   },
   {
    "duration": 9,
    "start_time": "2022-03-10T17:35:35.653Z"
   },
   {
    "duration": 3,
    "start_time": "2022-03-10T17:35:35.664Z"
   },
   {
    "duration": 4,
    "start_time": "2022-03-10T17:35:35.700Z"
   },
   {
    "duration": 3,
    "start_time": "2022-03-10T17:35:35.707Z"
   },
   {
    "duration": 5,
    "start_time": "2022-03-10T17:35:35.712Z"
   },
   {
    "duration": 8,
    "start_time": "2022-03-10T17:35:35.718Z"
   },
   {
    "duration": 6,
    "start_time": "2022-03-10T17:35:35.727Z"
   },
   {
    "duration": 13,
    "start_time": "2022-03-10T17:35:35.735Z"
   },
   {
    "duration": 10,
    "start_time": "2022-03-10T17:35:35.749Z"
   },
   {
    "duration": 41,
    "start_time": "2022-03-10T17:35:35.761Z"
   },
   {
    "duration": 2,
    "start_time": "2022-03-10T17:35:35.805Z"
   },
   {
    "duration": 5,
    "start_time": "2022-03-10T17:35:35.809Z"
   },
   {
    "duration": 451,
    "start_time": "2022-03-10T17:35:35.815Z"
   },
   {
    "duration": 5,
    "start_time": "2022-03-10T17:35:36.267Z"
   },
   {
    "duration": 27,
    "start_time": "2022-03-10T17:35:36.274Z"
   },
   {
    "duration": 401,
    "start_time": "2022-03-10T17:35:36.302Z"
   },
   {
    "duration": 5,
    "start_time": "2022-03-10T17:35:36.704Z"
   },
   {
    "duration": 5,
    "start_time": "2022-03-10T17:35:36.710Z"
   },
   {
    "duration": 4,
    "start_time": "2022-03-10T17:35:36.716Z"
   },
   {
    "duration": 4,
    "start_time": "2022-03-10T17:35:36.722Z"
   },
   {
    "duration": 5,
    "start_time": "2022-03-10T17:35:36.727Z"
   },
   {
    "duration": 18,
    "start_time": "2022-03-10T17:35:36.735Z"
   },
   {
    "duration": 4,
    "start_time": "2022-03-10T17:35:36.754Z"
   },
   {
    "duration": 10,
    "start_time": "2022-03-10T17:35:36.760Z"
   },
   {
    "duration": 836,
    "start_time": "2022-03-10T17:35:36.772Z"
   },
   {
    "duration": 9,
    "start_time": "2022-03-10T17:35:37.610Z"
   },
   {
    "duration": 5,
    "start_time": "2022-03-10T17:35:37.621Z"
   },
   {
    "duration": 178,
    "start_time": "2022-03-10T17:35:37.627Z"
   },
   {
    "duration": 472,
    "start_time": "2022-03-10T17:35:37.807Z"
   },
   {
    "duration": 227,
    "start_time": "2022-03-10T17:35:38.281Z"
   },
   {
    "duration": 4,
    "start_time": "2022-03-10T17:36:05.414Z"
   },
   {
    "duration": 690,
    "start_time": "2022-03-10T17:36:05.422Z"
   },
   {
    "duration": 3,
    "start_time": "2022-03-10T17:36:06.114Z"
   },
   {
    "duration": 4,
    "start_time": "2022-03-10T17:36:06.120Z"
   },
   {
    "duration": 6,
    "start_time": "2022-03-10T17:36:06.126Z"
   },
   {
    "duration": 6,
    "start_time": "2022-03-10T17:36:06.133Z"
   },
   {
    "duration": 4,
    "start_time": "2022-03-10T17:36:06.140Z"
   },
   {
    "duration": 5,
    "start_time": "2022-03-10T17:36:06.146Z"
   },
   {
    "duration": 6,
    "start_time": "2022-03-10T17:36:06.153Z"
   },
   {
    "duration": 9,
    "start_time": "2022-03-10T17:36:06.160Z"
   },
   {
    "duration": 8,
    "start_time": "2022-03-10T17:36:06.200Z"
   },
   {
    "duration": 5,
    "start_time": "2022-03-10T17:36:06.210Z"
   },
   {
    "duration": 11,
    "start_time": "2022-03-10T17:36:06.216Z"
   },
   {
    "duration": 10,
    "start_time": "2022-03-10T17:36:06.229Z"
   },
   {
    "duration": 20,
    "start_time": "2022-03-10T17:36:06.240Z"
   },
   {
    "duration": 2,
    "start_time": "2022-03-10T17:36:06.261Z"
   },
   {
    "duration": 7,
    "start_time": "2022-03-10T17:36:06.265Z"
   },
   {
    "duration": 441,
    "start_time": "2022-03-10T17:36:06.274Z"
   },
   {
    "duration": 4,
    "start_time": "2022-03-10T17:36:06.717Z"
   },
   {
    "duration": 15,
    "start_time": "2022-03-10T17:36:06.722Z"
   },
   {
    "duration": 435,
    "start_time": "2022-03-10T17:36:06.738Z"
   },
   {
    "duration": 5,
    "start_time": "2022-03-10T17:36:07.174Z"
   },
   {
    "duration": 21,
    "start_time": "2022-03-10T17:36:07.180Z"
   },
   {
    "duration": 5,
    "start_time": "2022-03-10T17:36:07.204Z"
   },
   {
    "duration": 5,
    "start_time": "2022-03-10T17:36:07.210Z"
   },
   {
    "duration": 7,
    "start_time": "2022-03-10T17:36:07.216Z"
   },
   {
    "duration": 18,
    "start_time": "2022-03-10T17:36:07.224Z"
   },
   {
    "duration": 4,
    "start_time": "2022-03-10T17:36:07.243Z"
   },
   {
    "duration": 9,
    "start_time": "2022-03-10T17:36:07.249Z"
   },
   {
    "duration": 794,
    "start_time": "2022-03-10T17:36:07.259Z"
   },
   {
    "duration": 8,
    "start_time": "2022-03-10T17:36:08.055Z"
   },
   {
    "duration": 5,
    "start_time": "2022-03-10T17:36:08.064Z"
   },
   {
    "duration": 171,
    "start_time": "2022-03-10T17:36:08.070Z"
   },
   {
    "duration": 477,
    "start_time": "2022-03-10T17:36:08.242Z"
   },
   {
    "duration": 702,
    "start_time": "2022-03-10T17:36:11.676Z"
   },
   {
    "duration": 19671,
    "start_time": "2022-03-10T17:36:41.634Z"
   },
   {
    "duration": 21298,
    "start_time": "2022-03-10T17:37:08.309Z"
   },
   {
    "duration": 7013,
    "start_time": "2022-03-10T17:37:36.037Z"
   },
   {
    "duration": 43165,
    "start_time": "2022-03-10T17:38:56.009Z"
   },
   {
    "duration": 23074,
    "start_time": "2022-03-10T17:41:26.513Z"
   },
   {
    "duration": 5189,
    "start_time": "2022-03-10T17:42:00.519Z"
   },
   {
    "duration": 5204,
    "start_time": "2022-03-10T17:42:07.824Z"
   },
   {
    "duration": 212,
    "start_time": "2022-03-10T17:42:25.192Z"
   },
   {
    "duration": 3,
    "start_time": "2022-03-10T17:52:08.545Z"
   },
   {
    "duration": 435,
    "start_time": "2022-03-10T17:52:25.121Z"
   },
   {
    "duration": 2,
    "start_time": "2022-03-10T17:52:32.680Z"
   },
   {
    "duration": 313,
    "start_time": "2022-03-10T17:52:36.841Z"
   },
   {
    "duration": 625,
    "start_time": "2022-03-10T17:52:56.860Z"
   },
   {
    "duration": 624,
    "start_time": "2022-03-10T17:53:51.996Z"
   },
   {
    "duration": 620,
    "start_time": "2022-03-10T17:53:56.843Z"
   },
   {
    "duration": 596,
    "start_time": "2022-03-10T17:56:12.047Z"
   },
   {
    "duration": 4,
    "start_time": "2022-03-10T17:56:18.567Z"
   },
   {
    "duration": 3,
    "start_time": "2022-03-10T17:56:24.351Z"
   },
   {
    "duration": 5,
    "start_time": "2022-03-10T17:56:46.273Z"
   },
   {
    "duration": 423,
    "start_time": "2022-03-10T17:57:25.225Z"
   },
   {
    "duration": 2050,
    "start_time": "2022-03-10T17:58:05.259Z"
   },
   {
    "duration": 308,
    "start_time": "2022-03-10T17:58:31.005Z"
   },
   {
    "duration": 3,
    "start_time": "2022-03-10T17:58:33.925Z"
   },
   {
    "duration": 329,
    "start_time": "2022-03-10T17:58:48.193Z"
   },
   {
    "duration": 4,
    "start_time": "2022-03-10T18:04:35.752Z"
   },
   {
    "duration": 3,
    "start_time": "2022-03-10T18:06:11.407Z"
   },
   {
    "duration": 338,
    "start_time": "2022-03-10T18:09:29.805Z"
   },
   {
    "duration": 337,
    "start_time": "2022-03-10T18:09:33.208Z"
   },
   {
    "duration": 371,
    "start_time": "2022-03-10T18:10:01.407Z"
   },
   {
    "duration": 307,
    "start_time": "2022-03-10T18:10:32.554Z"
   },
   {
    "duration": 294,
    "start_time": "2022-03-10T18:11:05.192Z"
   },
   {
    "duration": 4,
    "start_time": "2022-03-10T18:11:10.768Z"
   },
   {
    "duration": 299,
    "start_time": "2022-03-10T18:11:15.351Z"
   },
   {
    "duration": 340,
    "start_time": "2022-03-10T18:11:22.609Z"
   },
   {
    "duration": 304,
    "start_time": "2022-03-10T18:12:42.338Z"
   },
   {
    "duration": 4,
    "start_time": "2022-03-10T18:12:45.761Z"
   },
   {
    "duration": 312,
    "start_time": "2022-03-10T18:13:25.492Z"
   },
   {
    "duration": 5,
    "start_time": "2022-03-10T18:13:30.090Z"
   },
   {
    "duration": 294,
    "start_time": "2022-03-10T18:14:53.932Z"
   },
   {
    "duration": 3,
    "start_time": "2022-03-10T18:14:55.255Z"
   },
   {
    "duration": 295,
    "start_time": "2022-03-10T18:15:06.342Z"
   },
   {
    "duration": 5,
    "start_time": "2022-03-10T18:15:11.444Z"
   },
   {
    "duration": 308,
    "start_time": "2022-03-10T18:15:22.495Z"
   },
   {
    "duration": 4,
    "start_time": "2022-03-10T18:15:24.262Z"
   },
   {
    "duration": 315,
    "start_time": "2022-03-10T18:15:28.421Z"
   },
   {
    "duration": 4,
    "start_time": "2022-03-10T18:15:34.423Z"
   },
   {
    "duration": 6,
    "start_time": "2022-03-10T18:15:35.951Z"
   },
   {
    "duration": 3,
    "start_time": "2022-03-10T18:15:36.487Z"
   },
   {
    "duration": 3,
    "start_time": "2022-03-10T18:15:36.951Z"
   },
   {
    "duration": 4,
    "start_time": "2022-03-10T18:15:37.375Z"
   },
   {
    "duration": 3,
    "start_time": "2022-03-10T18:15:37.791Z"
   },
   {
    "duration": 4,
    "start_time": "2022-03-10T18:15:38.190Z"
   },
   {
    "duration": 4,
    "start_time": "2022-03-10T18:15:38.518Z"
   },
   {
    "duration": 4,
    "start_time": "2022-03-10T18:15:38.790Z"
   },
   {
    "duration": 730,
    "start_time": "2022-03-10T18:20:10.542Z"
   },
   {
    "duration": 366,
    "start_time": "2022-03-10T18:20:17.376Z"
   },
   {
    "duration": 307,
    "start_time": "2022-03-10T18:20:35.264Z"
   },
   {
    "duration": 301,
    "start_time": "2022-03-10T18:24:07.416Z"
   },
   {
    "duration": 4,
    "start_time": "2022-03-10T18:24:09.500Z"
   },
   {
    "duration": 3,
    "start_time": "2022-03-10T18:24:10.500Z"
   },
   {
    "duration": 4,
    "start_time": "2022-03-10T18:24:10.861Z"
   },
   {
    "duration": 4,
    "start_time": "2022-03-10T18:24:11.203Z"
   },
   {
    "duration": 619,
    "start_time": "2022-03-10T18:24:14.565Z"
   },
   {
    "duration": 4,
    "start_time": "2022-03-10T18:24:16.771Z"
   },
   {
    "duration": 137,
    "start_time": "2022-03-10T18:27:55.748Z"
   },
   {
    "duration": 767,
    "start_time": "2022-03-10T18:27:58.483Z"
   },
   {
    "duration": 455,
    "start_time": "2022-03-10T18:28:06.915Z"
   },
   {
    "duration": 19,
    "start_time": "2022-03-10T18:30:13.773Z"
   },
   {
    "duration": 3,
    "start_time": "2022-03-10T18:32:10.410Z"
   },
   {
    "duration": 2,
    "start_time": "2022-03-10T18:32:32.420Z"
   },
   {
    "duration": 15,
    "start_time": "2022-03-10T18:39:52.885Z"
   },
   {
    "duration": 357,
    "start_time": "2022-03-10T18:40:50.778Z"
   },
   {
    "duration": 17,
    "start_time": "2022-03-10T18:41:20.897Z"
   },
   {
    "duration": 7,
    "start_time": "2022-03-10T18:41:21.865Z"
   },
   {
    "duration": 650,
    "start_time": "2022-03-10T18:41:36.079Z"
   },
   {
    "duration": 3,
    "start_time": "2022-03-10T18:41:41.514Z"
   },
   {
    "duration": 329,
    "start_time": "2022-03-10T18:43:14.445Z"
   },
   {
    "duration": 331,
    "start_time": "2022-03-10T18:43:19.101Z"
   },
   {
    "duration": 319,
    "start_time": "2022-03-10T18:43:24.541Z"
   },
   {
    "duration": 13,
    "start_time": "2022-03-10T18:47:49.125Z"
   },
   {
    "duration": 15,
    "start_time": "2022-03-10T18:48:20.703Z"
   },
   {
    "duration": 14,
    "start_time": "2022-03-10T18:48:39.964Z"
   },
   {
    "duration": 150,
    "start_time": "2022-03-10T18:48:44.188Z"
   },
   {
    "duration": 460,
    "start_time": "2022-03-10T18:48:45.772Z"
   },
   {
    "duration": 171,
    "start_time": "2022-03-10T18:48:48.637Z"
   },
   {
    "duration": 130,
    "start_time": "2022-03-10T18:49:13.174Z"
   },
   {
    "duration": 155,
    "start_time": "2022-03-10T18:49:14.056Z"
   },
   {
    "duration": 207,
    "start_time": "2022-03-10T18:49:14.902Z"
   },
   {
    "duration": 396,
    "start_time": "2022-03-10T18:50:00.809Z"
   },
   {
    "duration": 8,
    "start_time": "2022-03-10T18:50:17.208Z"
   },
   {
    "duration": 16,
    "start_time": "2022-03-10T18:50:18.487Z"
   },
   {
    "duration": 519,
    "start_time": "2022-03-10T18:50:20.840Z"
   },
   {
    "duration": 4,
    "start_time": "2022-03-10T18:50:25.870Z"
   },
   {
    "duration": 159,
    "start_time": "2022-03-10T18:50:37.416Z"
   },
   {
    "duration": 158,
    "start_time": "2022-03-10T18:50:38.329Z"
   },
   {
    "duration": 453,
    "start_time": "2022-03-10T18:50:40.690Z"
   },
   {
    "duration": 135,
    "start_time": "2022-03-10T18:50:43.674Z"
   },
   {
    "duration": 9,
    "start_time": "2022-03-10T18:50:50.833Z"
   },
   {
    "duration": 20,
    "start_time": "2022-03-10T18:50:51.688Z"
   },
   {
    "duration": 5,
    "start_time": "2022-03-10T18:50:52.542Z"
   },
   {
    "duration": 152,
    "start_time": "2022-03-10T18:50:54.082Z"
   },
   {
    "duration": 462,
    "start_time": "2022-03-10T18:50:55.913Z"
   },
   {
    "duration": 396,
    "start_time": "2022-03-10T18:50:57.512Z"
   },
   {
    "duration": 11,
    "start_time": "2022-03-10T18:51:11.243Z"
   },
   {
    "duration": 1086,
    "start_time": "2022-03-10T18:51:38.525Z"
   },
   {
    "duration": 658,
    "start_time": "2022-03-10T18:51:39.613Z"
   },
   {
    "duration": 3,
    "start_time": "2022-03-10T18:51:40.272Z"
   },
   {
    "duration": 4,
    "start_time": "2022-03-10T18:51:40.277Z"
   },
   {
    "duration": 6,
    "start_time": "2022-03-10T18:51:40.282Z"
   },
   {
    "duration": 15,
    "start_time": "2022-03-10T18:51:40.289Z"
   },
   {
    "duration": 2,
    "start_time": "2022-03-10T18:51:40.306Z"
   },
   {
    "duration": 4,
    "start_time": "2022-03-10T18:51:40.311Z"
   },
   {
    "duration": 7,
    "start_time": "2022-03-10T18:51:40.317Z"
   },
   {
    "duration": 10,
    "start_time": "2022-03-10T18:51:40.325Z"
   },
   {
    "duration": 11,
    "start_time": "2022-03-10T18:51:40.336Z"
   },
   {
    "duration": 10,
    "start_time": "2022-03-10T18:51:40.349Z"
   },
   {
    "duration": 13,
    "start_time": "2022-03-10T18:51:40.361Z"
   },
   {
    "duration": 8,
    "start_time": "2022-03-10T18:51:40.376Z"
   },
   {
    "duration": 32,
    "start_time": "2022-03-10T18:51:40.385Z"
   },
   {
    "duration": 3,
    "start_time": "2022-03-10T18:51:40.418Z"
   },
   {
    "duration": 9,
    "start_time": "2022-03-10T18:51:40.422Z"
   },
   {
    "duration": 455,
    "start_time": "2022-03-10T18:51:40.433Z"
   },
   {
    "duration": 13,
    "start_time": "2022-03-10T18:51:40.889Z"
   },
   {
    "duration": 16,
    "start_time": "2022-03-10T18:51:40.903Z"
   },
   {
    "duration": 417,
    "start_time": "2022-03-10T18:51:40.920Z"
   },
   {
    "duration": 4,
    "start_time": "2022-03-10T18:51:41.339Z"
   },
   {
    "duration": 3,
    "start_time": "2022-03-10T18:51:41.346Z"
   },
   {
    "duration": 4,
    "start_time": "2022-03-10T18:51:41.351Z"
   },
   {
    "duration": 6,
    "start_time": "2022-03-10T18:51:41.357Z"
   },
   {
    "duration": 4,
    "start_time": "2022-03-10T18:51:41.364Z"
   },
   {
    "duration": 37,
    "start_time": "2022-03-10T18:51:41.369Z"
   },
   {
    "duration": 3,
    "start_time": "2022-03-10T18:51:41.408Z"
   },
   {
    "duration": 7,
    "start_time": "2022-03-10T18:51:41.413Z"
   },
   {
    "duration": 923,
    "start_time": "2022-03-10T18:51:41.421Z"
   },
   {
    "duration": 18,
    "start_time": "2022-03-10T18:51:42.345Z"
   },
   {
    "duration": 9,
    "start_time": "2022-03-10T18:51:42.365Z"
   },
   {
    "duration": 4,
    "start_time": "2022-03-10T18:51:42.375Z"
   },
   {
    "duration": 22,
    "start_time": "2022-03-10T18:51:42.380Z"
   },
   {
    "duration": 367,
    "start_time": "2022-03-10T18:51:42.403Z"
   },
   {
    "duration": 1492,
    "start_time": "2022-03-10T18:51:41.280Z"
   },
   {
    "duration": 1477,
    "start_time": "2022-03-10T18:51:41.296Z"
   },
   {
    "duration": 1468,
    "start_time": "2022-03-10T18:51:41.306Z"
   },
   {
    "duration": 1447,
    "start_time": "2022-03-10T18:51:41.328Z"
   },
   {
    "duration": 1437,
    "start_time": "2022-03-10T18:51:41.338Z"
   },
   {
    "duration": 151,
    "start_time": "2022-03-10T18:51:59.792Z"
   },
   {
    "duration": 453,
    "start_time": "2022-03-10T18:52:02.871Z"
   },
   {
    "duration": 220,
    "start_time": "2022-03-10T18:52:04.582Z"
   },
   {
    "duration": 16,
    "start_time": "2022-03-10T18:52:16.417Z"
   },
   {
    "duration": 151,
    "start_time": "2022-03-10T18:52:18.696Z"
   },
   {
    "duration": 461,
    "start_time": "2022-03-10T18:52:20.335Z"
   },
   {
    "duration": 136,
    "start_time": "2022-03-10T18:52:21.872Z"
   },
   {
    "duration": 344,
    "start_time": "2022-03-10T18:52:53.960Z"
   },
   {
    "duration": 289,
    "start_time": "2022-03-10T18:52:57.025Z"
   },
   {
    "duration": 3,
    "start_time": "2022-03-10T18:53:01.944Z"
   },
   {
    "duration": 314,
    "start_time": "2022-03-10T18:53:04.100Z"
   },
   {
    "duration": 321,
    "start_time": "2022-03-10T18:53:33.059Z"
   },
   {
    "duration": 413,
    "start_time": "2022-03-10T18:53:36.025Z"
   },
   {
    "duration": 911,
    "start_time": "2022-03-10T18:53:54.258Z"
   },
   {
    "duration": 620,
    "start_time": "2022-03-10T18:54:30.483Z"
   },
   {
    "duration": 631,
    "start_time": "2022-03-10T18:57:27.664Z"
   },
   {
    "duration": 608,
    "start_time": "2022-03-10T18:57:50.244Z"
   },
   {
    "duration": 907,
    "start_time": "2022-03-10T18:58:39.728Z"
   },
   {
    "duration": 925,
    "start_time": "2022-03-10T18:59:07.004Z"
   },
   {
    "duration": 934,
    "start_time": "2022-03-10T18:59:28.732Z"
   },
   {
    "duration": 299,
    "start_time": "2022-03-10T19:00:54.509Z"
   },
   {
    "duration": 300,
    "start_time": "2022-03-10T19:01:05.248Z"
   },
   {
    "duration": 311,
    "start_time": "2022-03-10T19:01:20.854Z"
   },
   {
    "duration": 345,
    "start_time": "2022-03-10T19:01:51.226Z"
   },
   {
    "duration": 1322,
    "start_time": "2022-03-10T19:01:55.050Z"
   },
   {
    "duration": 769,
    "start_time": "2022-03-10T19:02:24.842Z"
   },
   {
    "duration": 912,
    "start_time": "2022-03-10T19:02:36.774Z"
   },
   {
    "duration": 1010,
    "start_time": "2022-03-10T19:02:48.879Z"
   },
   {
    "duration": 978,
    "start_time": "2022-03-10T19:03:18.373Z"
   },
   {
    "duration": 805,
    "start_time": "2022-03-10T19:03:29.997Z"
   },
   {
    "duration": 320,
    "start_time": "2022-03-10T19:03:42.781Z"
   },
   {
    "duration": 1100,
    "start_time": "2022-03-10T19:06:43.706Z"
   },
   {
    "duration": 670,
    "start_time": "2022-03-10T19:06:44.808Z"
   },
   {
    "duration": 2,
    "start_time": "2022-03-10T19:06:45.480Z"
   },
   {
    "duration": 5,
    "start_time": "2022-03-10T19:06:45.484Z"
   },
   {
    "duration": 14,
    "start_time": "2022-03-10T19:06:45.490Z"
   },
   {
    "duration": 8,
    "start_time": "2022-03-10T19:06:45.506Z"
   },
   {
    "duration": 4,
    "start_time": "2022-03-10T19:06:45.516Z"
   },
   {
    "duration": 5,
    "start_time": "2022-03-10T19:06:45.523Z"
   },
   {
    "duration": 3,
    "start_time": "2022-03-10T19:06:45.530Z"
   },
   {
    "duration": 10,
    "start_time": "2022-03-10T19:06:45.535Z"
   },
   {
    "duration": 13,
    "start_time": "2022-03-10T19:06:45.547Z"
   },
   {
    "duration": 7,
    "start_time": "2022-03-10T19:06:45.562Z"
   },
   {
    "duration": 37,
    "start_time": "2022-03-10T19:06:45.571Z"
   },
   {
    "duration": 8,
    "start_time": "2022-03-10T19:06:45.610Z"
   },
   {
    "duration": 24,
    "start_time": "2022-03-10T19:06:45.619Z"
   },
   {
    "duration": 3,
    "start_time": "2022-03-10T19:06:45.645Z"
   },
   {
    "duration": 8,
    "start_time": "2022-03-10T19:06:45.649Z"
   },
   {
    "duration": 468,
    "start_time": "2022-03-10T19:06:45.658Z"
   },
   {
    "duration": 5,
    "start_time": "2022-03-10T19:06:46.128Z"
   },
   {
    "duration": 15,
    "start_time": "2022-03-10T19:06:46.135Z"
   },
   {
    "duration": 434,
    "start_time": "2022-03-10T19:06:46.152Z"
   },
   {
    "duration": 14,
    "start_time": "2022-03-10T19:06:46.588Z"
   },
   {
    "duration": 4,
    "start_time": "2022-03-10T19:06:46.606Z"
   },
   {
    "duration": 5,
    "start_time": "2022-03-10T19:06:46.612Z"
   },
   {
    "duration": 6,
    "start_time": "2022-03-10T19:06:46.618Z"
   },
   {
    "duration": 4,
    "start_time": "2022-03-10T19:06:46.626Z"
   },
   {
    "duration": 16,
    "start_time": "2022-03-10T19:06:46.631Z"
   },
   {
    "duration": 3,
    "start_time": "2022-03-10T19:06:46.648Z"
   },
   {
    "duration": 10,
    "start_time": "2022-03-10T19:06:46.652Z"
   },
   {
    "duration": 841,
    "start_time": "2022-03-10T19:06:46.663Z"
   },
   {
    "duration": 18,
    "start_time": "2022-03-10T19:06:47.506Z"
   },
   {
    "duration": 9,
    "start_time": "2022-03-10T19:06:47.526Z"
   },
   {
    "duration": 4,
    "start_time": "2022-03-10T19:06:47.537Z"
   },
   {
    "duration": 184,
    "start_time": "2022-03-10T19:06:47.543Z"
   },
   {
    "duration": 473,
    "start_time": "2022-03-10T19:06:47.729Z"
   },
   {
    "duration": 256,
    "start_time": "2022-03-10T19:06:53.746Z"
   },
   {
    "duration": 307,
    "start_time": "2022-03-10T19:07:07.343Z"
   },
   {
    "duration": 875,
    "start_time": "2022-03-10T19:07:09.687Z"
   },
   {
    "duration": 822,
    "start_time": "2022-03-10T19:07:11.681Z"
   },
   {
    "duration": 456,
    "start_time": "2022-03-10T19:17:45.668Z"
   },
   {
    "duration": 393,
    "start_time": "2022-03-10T19:27:27.109Z"
   },
   {
    "duration": 4,
    "start_time": "2022-03-10T19:29:01.918Z"
   },
   {
    "duration": 107,
    "start_time": "2022-03-10T19:29:58.639Z"
   },
   {
    "duration": 325,
    "start_time": "2022-03-10T19:30:04.471Z"
   },
   {
    "duration": 103,
    "start_time": "2022-03-10T19:30:16.017Z"
   },
   {
    "duration": 4,
    "start_time": "2022-03-10T19:30:19.325Z"
   },
   {
    "duration": 4,
    "start_time": "2022-03-10T19:35:37.626Z"
   },
   {
    "duration": 5,
    "start_time": "2022-03-10T19:36:53.729Z"
   },
   {
    "duration": 4,
    "start_time": "2022-03-10T19:37:15.986Z"
   },
   {
    "duration": 3,
    "start_time": "2022-03-10T19:38:30.117Z"
   },
   {
    "duration": 6,
    "start_time": "2022-03-10T19:38:40.733Z"
   },
   {
    "duration": 5,
    "start_time": "2022-03-10T19:39:05.302Z"
   },
   {
    "duration": 29,
    "start_time": "2022-03-10T19:39:13.055Z"
   },
   {
    "duration": 106,
    "start_time": "2022-03-10T19:40:25.913Z"
   },
   {
    "duration": 8,
    "start_time": "2022-03-10T19:40:32.002Z"
   },
   {
    "duration": 120,
    "start_time": "2022-03-10T19:41:34.562Z"
   },
   {
    "duration": 347,
    "start_time": "2022-03-10T19:41:49.612Z"
   },
   {
    "duration": 381,
    "start_time": "2022-03-10T19:43:30.053Z"
   },
   {
    "duration": 314,
    "start_time": "2022-03-10T19:45:14.362Z"
   },
   {
    "duration": 350,
    "start_time": "2022-03-10T19:45:57.176Z"
   },
   {
    "duration": 354,
    "start_time": "2022-03-11T17:50:07.575Z"
   },
   {
    "duration": 1080,
    "start_time": "2022-03-11T17:50:22.746Z"
   },
   {
    "duration": 689,
    "start_time": "2022-03-11T17:50:23.828Z"
   },
   {
    "duration": 2,
    "start_time": "2022-03-11T17:50:24.519Z"
   },
   {
    "duration": 5,
    "start_time": "2022-03-11T17:50:24.523Z"
   },
   {
    "duration": 6,
    "start_time": "2022-03-11T17:50:24.529Z"
   },
   {
    "duration": 7,
    "start_time": "2022-03-11T17:50:24.537Z"
   },
   {
    "duration": 3,
    "start_time": "2022-03-11T17:50:24.545Z"
   },
   {
    "duration": 4,
    "start_time": "2022-03-11T17:50:24.550Z"
   },
   {
    "duration": 4,
    "start_time": "2022-03-11T17:50:24.555Z"
   },
   {
    "duration": 7,
    "start_time": "2022-03-11T17:50:24.561Z"
   },
   {
    "duration": 34,
    "start_time": "2022-03-11T17:50:24.570Z"
   },
   {
    "duration": 4,
    "start_time": "2022-03-11T17:50:24.606Z"
   },
   {
    "duration": 11,
    "start_time": "2022-03-11T17:50:24.612Z"
   },
   {
    "duration": 9,
    "start_time": "2022-03-11T17:50:24.624Z"
   },
   {
    "duration": 23,
    "start_time": "2022-03-11T17:50:24.635Z"
   },
   {
    "duration": 3,
    "start_time": "2022-03-11T17:50:24.659Z"
   },
   {
    "duration": 6,
    "start_time": "2022-03-11T17:50:24.663Z"
   },
   {
    "duration": 480,
    "start_time": "2022-03-11T17:50:24.670Z"
   },
   {
    "duration": 4,
    "start_time": "2022-03-11T17:50:25.152Z"
   },
   {
    "duration": 19,
    "start_time": "2022-03-11T17:50:25.157Z"
   },
   {
    "duration": 416,
    "start_time": "2022-03-11T17:50:25.177Z"
   },
   {
    "duration": 5,
    "start_time": "2022-03-11T17:50:25.600Z"
   },
   {
    "duration": 4,
    "start_time": "2022-03-11T17:50:25.609Z"
   },
   {
    "duration": 5,
    "start_time": "2022-03-11T17:50:25.615Z"
   },
   {
    "duration": 4,
    "start_time": "2022-03-11T17:50:25.622Z"
   },
   {
    "duration": 9,
    "start_time": "2022-03-11T17:50:25.628Z"
   },
   {
    "duration": 17,
    "start_time": "2022-03-11T17:50:25.638Z"
   },
   {
    "duration": 3,
    "start_time": "2022-03-11T17:50:25.656Z"
   },
   {
    "duration": 9,
    "start_time": "2022-03-11T17:50:25.661Z"
   },
   {
    "duration": 863,
    "start_time": "2022-03-11T17:50:25.671Z"
   },
   {
    "duration": 18,
    "start_time": "2022-03-11T17:50:26.536Z"
   },
   {
    "duration": 10,
    "start_time": "2022-03-11T17:50:26.556Z"
   },
   {
    "duration": 5,
    "start_time": "2022-03-11T17:50:26.567Z"
   },
   {
    "duration": 178,
    "start_time": "2022-03-11T17:50:26.573Z"
   },
   {
    "duration": 3,
    "start_time": "2022-03-11T17:50:26.752Z"
   },
   {
    "duration": 5,
    "start_time": "2022-03-11T17:50:26.757Z"
   },
   {
    "duration": 396,
    "start_time": "2022-03-11T17:50:26.763Z"
   },
   {
    "duration": 2632,
    "start_time": "2022-03-11T17:50:24.529Z"
   },
   {
    "duration": 2623,
    "start_time": "2022-03-11T17:50:24.539Z"
   },
   {
    "duration": 2614,
    "start_time": "2022-03-11T17:50:24.549Z"
   },
   {
    "duration": 2604,
    "start_time": "2022-03-11T17:50:24.560Z"
   },
   {
    "duration": 445,
    "start_time": "2022-03-11T17:50:52.253Z"
   },
   {
    "duration": 90,
    "start_time": "2022-03-11T17:50:54.620Z"
   },
   {
    "duration": 8,
    "start_time": "2022-03-11T17:51:00.957Z"
   },
   {
    "duration": 4,
    "start_time": "2022-03-11T17:51:06.631Z"
   },
   {
    "duration": 9,
    "start_time": "2022-03-11T17:51:14.400Z"
   },
   {
    "duration": 22,
    "start_time": "2022-03-11T17:52:19.079Z"
   },
   {
    "duration": 351,
    "start_time": "2022-03-11T18:09:50.218Z"
   },
   {
    "duration": 2,
    "start_time": "2022-03-11T18:10:14.246Z"
   },
   {
    "duration": 23,
    "start_time": "2022-03-11T18:10:19.723Z"
   },
   {
    "duration": 4,
    "start_time": "2022-03-11T18:10:31.932Z"
   },
   {
    "duration": 3,
    "start_time": "2022-03-11T18:10:42.727Z"
   },
   {
    "duration": 3,
    "start_time": "2022-03-11T18:12:04.406Z"
   },
   {
    "duration": 3,
    "start_time": "2022-03-11T18:12:10.182Z"
   },
   {
    "duration": 1111,
    "start_time": "2022-03-11T18:12:56.906Z"
   },
   {
    "duration": 683,
    "start_time": "2022-03-11T18:12:58.019Z"
   },
   {
    "duration": 3,
    "start_time": "2022-03-11T18:12:58.703Z"
   },
   {
    "duration": 12,
    "start_time": "2022-03-11T18:12:58.707Z"
   },
   {
    "duration": 26,
    "start_time": "2022-03-11T18:12:58.721Z"
   },
   {
    "duration": 27,
    "start_time": "2022-03-11T18:12:58.748Z"
   },
   {
    "duration": 15,
    "start_time": "2022-03-11T18:12:58.776Z"
   },
   {
    "duration": 26,
    "start_time": "2022-03-11T18:12:58.793Z"
   },
   {
    "duration": 3,
    "start_time": "2022-03-11T18:12:58.820Z"
   },
   {
    "duration": 18,
    "start_time": "2022-03-11T18:12:58.824Z"
   },
   {
    "duration": 17,
    "start_time": "2022-03-11T18:12:58.844Z"
   },
   {
    "duration": 22,
    "start_time": "2022-03-11T18:12:58.862Z"
   },
   {
    "duration": 21,
    "start_time": "2022-03-11T18:12:58.885Z"
   },
   {
    "duration": 24,
    "start_time": "2022-03-11T18:12:58.908Z"
   },
   {
    "duration": 43,
    "start_time": "2022-03-11T18:12:58.934Z"
   },
   {
    "duration": 3,
    "start_time": "2022-03-11T18:12:58.978Z"
   },
   {
    "duration": 18,
    "start_time": "2022-03-11T18:12:58.982Z"
   },
   {
    "duration": 453,
    "start_time": "2022-03-11T18:12:59.002Z"
   },
   {
    "duration": 5,
    "start_time": "2022-03-11T18:12:59.457Z"
   },
   {
    "duration": 37,
    "start_time": "2022-03-11T18:12:59.464Z"
   },
   {
    "duration": 407,
    "start_time": "2022-03-11T18:12:59.503Z"
   },
   {
    "duration": 4,
    "start_time": "2022-03-11T18:12:59.912Z"
   },
   {
    "duration": 10,
    "start_time": "2022-03-11T18:12:59.919Z"
   },
   {
    "duration": 6,
    "start_time": "2022-03-11T18:12:59.931Z"
   },
   {
    "duration": 8,
    "start_time": "2022-03-11T18:12:59.939Z"
   },
   {
    "duration": 8,
    "start_time": "2022-03-11T18:12:59.949Z"
   },
   {
    "duration": 32,
    "start_time": "2022-03-11T18:12:59.958Z"
   },
   {
    "duration": 3,
    "start_time": "2022-03-11T18:12:59.991Z"
   },
   {
    "duration": 12,
    "start_time": "2022-03-11T18:12:59.995Z"
   },
   {
    "duration": 848,
    "start_time": "2022-03-11T18:13:00.009Z"
   },
   {
    "duration": 18,
    "start_time": "2022-03-11T18:13:00.858Z"
   },
   {
    "duration": 23,
    "start_time": "2022-03-11T18:13:00.878Z"
   },
   {
    "duration": 7,
    "start_time": "2022-03-11T18:13:00.903Z"
   },
   {
    "duration": 179,
    "start_time": "2022-03-11T18:13:00.912Z"
   },
   {
    "duration": 457,
    "start_time": "2022-03-11T18:13:01.092Z"
   },
   {
    "duration": 154,
    "start_time": "2022-03-11T18:13:01.551Z"
   },
   {
    "duration": 7,
    "start_time": "2022-03-11T18:13:04.566Z"
   },
   {
    "duration": 4,
    "start_time": "2022-03-11T18:13:05.799Z"
   },
   {
    "duration": 2,
    "start_time": "2022-03-11T18:13:29.632Z"
   },
   {
    "duration": 376,
    "start_time": "2022-03-11T18:13:40.158Z"
   },
   {
    "duration": 4,
    "start_time": "2022-03-11T18:13:45.782Z"
   },
   {
    "duration": 4,
    "start_time": "2022-03-11T18:13:51.060Z"
   },
   {
    "duration": 4,
    "start_time": "2022-03-11T18:13:52.893Z"
   },
   {
    "duration": 4,
    "start_time": "2022-03-11T18:13:54.967Z"
   },
   {
    "duration": 4,
    "start_time": "2022-03-11T18:13:58.983Z"
   },
   {
    "duration": 313,
    "start_time": "2022-03-11T18:14:02.716Z"
   },
   {
    "duration": 4,
    "start_time": "2022-03-11T18:14:06.808Z"
   },
   {
    "duration": 22,
    "start_time": "2022-03-11T18:14:35.968Z"
   },
   {
    "duration": 5,
    "start_time": "2022-03-11T18:14:51.609Z"
   },
   {
    "duration": 3,
    "start_time": "2022-03-11T18:15:00.324Z"
   },
   {
    "duration": 337,
    "start_time": "2022-03-11T18:15:01.072Z"
   },
   {
    "duration": 3,
    "start_time": "2022-03-11T18:15:09.111Z"
   },
   {
    "duration": 4,
    "start_time": "2022-03-11T18:15:10.234Z"
   },
   {
    "duration": 4,
    "start_time": "2022-03-11T18:15:11.223Z"
   },
   {
    "duration": 4,
    "start_time": "2022-03-11T18:15:11.911Z"
   },
   {
    "duration": 4,
    "start_time": "2022-03-11T18:15:34.659Z"
   },
   {
    "duration": 2,
    "start_time": "2022-03-11T18:17:07.557Z"
   },
   {
    "duration": 3,
    "start_time": "2022-03-11T18:17:09.285Z"
   },
   {
    "duration": 24,
    "start_time": "2022-03-11T18:17:24.365Z"
   },
   {
    "duration": 4,
    "start_time": "2022-03-11T18:17:32.716Z"
   },
   {
    "duration": 7,
    "start_time": "2022-03-11T18:17:41.316Z"
   },
   {
    "duration": 6,
    "start_time": "2022-03-11T18:17:44.654Z"
   },
   {
    "duration": 5,
    "start_time": "2022-03-11T18:22:32.743Z"
   },
   {
    "duration": 309,
    "start_time": "2022-03-11T18:25:52.204Z"
   },
   {
    "duration": 309,
    "start_time": "2022-03-11T18:25:59.033Z"
   },
   {
    "duration": 3,
    "start_time": "2022-03-11T18:26:16.132Z"
   },
   {
    "duration": 3,
    "start_time": "2022-03-11T18:27:36.214Z"
   },
   {
    "duration": 315,
    "start_time": "2022-03-11T18:28:03.221Z"
   },
   {
    "duration": 4,
    "start_time": "2022-03-11T18:28:43.808Z"
   },
   {
    "duration": 350,
    "start_time": "2022-03-11T18:28:48.755Z"
   },
   {
    "duration": 323,
    "start_time": "2022-03-11T18:29:02.096Z"
   },
   {
    "duration": 313,
    "start_time": "2022-03-11T18:29:06.783Z"
   },
   {
    "duration": 3,
    "start_time": "2022-03-11T18:30:18.949Z"
   },
   {
    "duration": 3,
    "start_time": "2022-03-11T18:30:39.473Z"
   },
   {
    "duration": 317,
    "start_time": "2022-03-11T18:32:31.158Z"
   },
   {
    "duration": 3687,
    "start_time": "2022-03-11T18:32:39.023Z"
   },
   {
    "duration": 4,
    "start_time": "2022-03-11T18:32:56.014Z"
   },
   {
    "duration": 3,
    "start_time": "2022-03-11T18:36:00.490Z"
   },
   {
    "duration": 479,
    "start_time": "2022-03-11T18:37:22.409Z"
   },
   {
    "duration": 3,
    "start_time": "2022-03-11T18:37:24.248Z"
   },
   {
    "duration": 7,
    "start_time": "2022-03-11T18:37:25.095Z"
   },
   {
    "duration": 3996,
    "start_time": "2022-03-11T18:37:36.105Z"
   },
   {
    "duration": 144,
    "start_time": "2022-03-11T18:38:55.928Z"
   },
   {
    "duration": 110,
    "start_time": "2022-03-11T18:39:03.053Z"
   },
   {
    "duration": 108,
    "start_time": "2022-03-11T18:39:06.240Z"
   },
   {
    "duration": 302,
    "start_time": "2022-03-11T18:39:10.705Z"
   },
   {
    "duration": 383,
    "start_time": "2022-03-11T18:39:31.979Z"
   },
   {
    "duration": 103,
    "start_time": "2022-03-11T18:39:51.269Z"
   },
   {
    "duration": 3,
    "start_time": "2022-03-11T18:40:14.292Z"
   },
   {
    "duration": 4,
    "start_time": "2022-03-11T18:40:29.622Z"
   },
   {
    "duration": 4,
    "start_time": "2022-03-11T18:40:37.903Z"
   },
   {
    "duration": 327,
    "start_time": "2022-03-11T18:40:41.540Z"
   },
   {
    "duration": 306,
    "start_time": "2022-03-11T18:41:03.168Z"
   },
   {
    "duration": 4,
    "start_time": "2022-03-11T18:41:44.219Z"
   },
   {
    "duration": 5,
    "start_time": "2022-03-11T18:44:38.000Z"
   },
   {
    "duration": 7,
    "start_time": "2022-03-11T18:44:47.969Z"
   },
   {
    "duration": 7,
    "start_time": "2022-03-11T18:45:02.684Z"
   },
   {
    "duration": 7,
    "start_time": "2022-03-11T18:45:19.537Z"
   },
   {
    "duration": 6,
    "start_time": "2022-03-11T18:45:20.180Z"
   },
   {
    "duration": 6,
    "start_time": "2022-03-11T18:45:20.728Z"
   },
   {
    "duration": 7,
    "start_time": "2022-03-11T18:45:21.305Z"
   },
   {
    "duration": 6,
    "start_time": "2022-03-11T18:45:21.855Z"
   },
   {
    "duration": 7,
    "start_time": "2022-03-11T18:45:22.404Z"
   },
   {
    "duration": 6,
    "start_time": "2022-03-11T18:45:22.945Z"
   },
   {
    "duration": 7,
    "start_time": "2022-03-11T18:45:23.486Z"
   },
   {
    "duration": 6,
    "start_time": "2022-03-11T18:45:24.052Z"
   },
   {
    "duration": 7,
    "start_time": "2022-03-11T18:45:24.593Z"
   },
   {
    "duration": 6,
    "start_time": "2022-03-11T18:45:25.011Z"
   },
   {
    "duration": 6,
    "start_time": "2022-03-11T18:45:25.499Z"
   },
   {
    "duration": 6,
    "start_time": "2022-03-11T18:45:25.853Z"
   },
   {
    "duration": 6,
    "start_time": "2022-03-11T18:45:26.123Z"
   },
   {
    "duration": 7,
    "start_time": "2022-03-11T18:45:26.427Z"
   },
   {
    "duration": 6,
    "start_time": "2022-03-11T18:45:26.699Z"
   },
   {
    "duration": 6,
    "start_time": "2022-03-11T18:45:27.027Z"
   },
   {
    "duration": 2,
    "start_time": "2022-03-11T18:46:03.908Z"
   },
   {
    "duration": 4200,
    "start_time": "2022-03-11T18:46:27.237Z"
   },
   {
    "duration": 7569,
    "start_time": "2022-03-11T18:47:13.834Z"
   },
   {
    "duration": 7,
    "start_time": "2022-03-11T18:47:23.885Z"
   },
   {
    "duration": 7888,
    "start_time": "2022-03-11T18:52:21.920Z"
   },
   {
    "duration": 6,
    "start_time": "2022-03-11T18:52:39.416Z"
   },
   {
    "duration": 1108,
    "start_time": "2022-03-11T18:53:05.410Z"
   },
   {
    "duration": 655,
    "start_time": "2022-03-11T18:53:06.520Z"
   },
   {
    "duration": 3,
    "start_time": "2022-03-11T18:53:07.177Z"
   },
   {
    "duration": 6,
    "start_time": "2022-03-11T18:53:07.181Z"
   },
   {
    "duration": 14,
    "start_time": "2022-03-11T18:53:07.188Z"
   },
   {
    "duration": 7,
    "start_time": "2022-03-11T18:53:07.203Z"
   },
   {
    "duration": 3,
    "start_time": "2022-03-11T18:53:07.211Z"
   },
   {
    "duration": 5,
    "start_time": "2022-03-11T18:53:07.216Z"
   },
   {
    "duration": 5,
    "start_time": "2022-03-11T18:53:07.222Z"
   },
   {
    "duration": 11,
    "start_time": "2022-03-11T18:53:07.229Z"
   },
   {
    "duration": 13,
    "start_time": "2022-03-11T18:53:07.241Z"
   },
   {
    "duration": 8,
    "start_time": "2022-03-11T18:53:07.255Z"
   },
   {
    "duration": 13,
    "start_time": "2022-03-11T18:53:07.265Z"
   },
   {
    "duration": 22,
    "start_time": "2022-03-11T18:53:07.279Z"
   },
   {
    "duration": 22,
    "start_time": "2022-03-11T18:53:07.303Z"
   },
   {
    "duration": 2,
    "start_time": "2022-03-11T18:53:07.327Z"
   },
   {
    "duration": 8,
    "start_time": "2022-03-11T18:53:07.330Z"
   },
   {
    "duration": 438,
    "start_time": "2022-03-11T18:53:07.339Z"
   },
   {
    "duration": 4,
    "start_time": "2022-03-11T18:53:07.779Z"
   },
   {
    "duration": 27,
    "start_time": "2022-03-11T18:53:07.785Z"
   },
   {
    "duration": 403,
    "start_time": "2022-03-11T18:53:07.814Z"
   },
   {
    "duration": 4,
    "start_time": "2022-03-11T18:53:08.219Z"
   },
   {
    "duration": 4,
    "start_time": "2022-03-11T18:53:08.226Z"
   },
   {
    "duration": 4,
    "start_time": "2022-03-11T18:53:08.232Z"
   },
   {
    "duration": 4,
    "start_time": "2022-03-11T18:53:08.237Z"
   },
   {
    "duration": 4,
    "start_time": "2022-03-11T18:53:08.242Z"
   },
   {
    "duration": 16,
    "start_time": "2022-03-11T18:53:08.247Z"
   },
   {
    "duration": 3,
    "start_time": "2022-03-11T18:53:08.264Z"
   },
   {
    "duration": 34,
    "start_time": "2022-03-11T18:53:08.269Z"
   },
   {
    "duration": 823,
    "start_time": "2022-03-11T18:53:08.305Z"
   },
   {
    "duration": 17,
    "start_time": "2022-03-11T18:53:09.130Z"
   },
   {
    "duration": 9,
    "start_time": "2022-03-11T18:53:09.149Z"
   },
   {
    "duration": 6,
    "start_time": "2022-03-11T18:53:09.159Z"
   },
   {
    "duration": 168,
    "start_time": "2022-03-11T18:53:09.166Z"
   },
   {
    "duration": 579,
    "start_time": "2022-03-11T18:53:09.336Z"
   },
   {
    "duration": 287,
    "start_time": "2022-03-11T18:53:09.916Z"
   },
   {
    "duration": 7698,
    "start_time": "2022-03-11T18:53:10.205Z"
   },
   {
    "duration": 96,
    "start_time": "2022-03-11T18:53:17.906Z"
   },
   {
    "duration": 8,
    "start_time": "2022-03-11T18:54:10.193Z"
   },
   {
    "duration": 4,
    "start_time": "2022-03-11T18:57:05.407Z"
   },
   {
    "duration": 9,
    "start_time": "2022-03-11T18:57:17.514Z"
   },
   {
    "duration": 9,
    "start_time": "2022-03-11T18:57:31.425Z"
   },
   {
    "duration": 10,
    "start_time": "2022-03-11T18:57:36.369Z"
   },
   {
    "duration": 9,
    "start_time": "2022-03-11T18:57:46.970Z"
   },
   {
    "duration": 13,
    "start_time": "2022-03-11T18:58:03.566Z"
   },
   {
    "duration": 7,
    "start_time": "2022-03-11T18:58:11.248Z"
   },
   {
    "duration": 6,
    "start_time": "2022-03-11T18:58:13.266Z"
   },
   {
    "duration": 3,
    "start_time": "2022-03-11T18:58:14.495Z"
   },
   {
    "duration": 7441,
    "start_time": "2022-03-11T18:59:21.861Z"
   },
   {
    "duration": 4,
    "start_time": "2022-03-11T18:59:40.308Z"
   },
   {
    "duration": 2625,
    "start_time": "2022-03-11T19:00:11.025Z"
   },
   {
    "duration": 300,
    "start_time": "2022-03-11T19:00:14.588Z"
   },
   {
    "duration": 35,
    "start_time": "2022-03-11T19:01:03.333Z"
   },
   {
    "duration": 16180,
    "start_time": "2022-03-11T19:01:09.523Z"
   },
   {
    "duration": 7,
    "start_time": "2022-03-11T19:01:29.325Z"
   },
   {
    "duration": 2060,
    "start_time": "2022-03-11T19:01:42.850Z"
   },
   {
    "duration": 7,
    "start_time": "2022-03-11T19:01:46.484Z"
   },
   {
    "duration": 3561,
    "start_time": "2022-03-11T19:01:57.346Z"
   },
   {
    "duration": 7,
    "start_time": "2022-03-11T19:02:02.692Z"
   },
   {
    "duration": 8,
    "start_time": "2022-03-11T19:02:21.908Z"
   },
   {
    "duration": 8,
    "start_time": "2022-03-11T19:02:22.535Z"
   },
   {
    "duration": 8,
    "start_time": "2022-03-11T19:02:22.962Z"
   },
   {
    "duration": 8,
    "start_time": "2022-03-11T19:02:23.274Z"
   },
   {
    "duration": 8,
    "start_time": "2022-03-11T19:02:23.602Z"
   },
   {
    "duration": 8,
    "start_time": "2022-03-11T19:02:23.909Z"
   },
   {
    "duration": 305,
    "start_time": "2022-03-11T19:06:56.214Z"
   },
   {
    "duration": 2977,
    "start_time": "2022-03-11T19:07:04.913Z"
   },
   {
    "duration": 14084,
    "start_time": "2022-03-11T19:07:27.050Z"
   },
   {
    "duration": 18547,
    "start_time": "2022-03-11T19:07:41.912Z"
   },
   {
    "duration": 8107,
    "start_time": "2022-03-11T19:08:50.928Z"
   },
   {
    "duration": 7869,
    "start_time": "2022-03-11T19:09:29.105Z"
   },
   {
    "duration": 3026,
    "start_time": "2022-03-11T19:10:08.842Z"
   },
   {
    "duration": 9361,
    "start_time": "2022-03-11T19:10:16.981Z"
   },
   {
    "duration": 18613,
    "start_time": "2022-03-11T19:10:42.218Z"
   },
   {
    "duration": 2632,
    "start_time": "2022-03-11T19:11:36.872Z"
   },
   {
    "duration": 19127,
    "start_time": "2022-03-11T19:11:40.618Z"
   },
   {
    "duration": 21225,
    "start_time": "2022-03-11T19:12:26.415Z"
   },
   {
    "duration": 25147,
    "start_time": "2022-03-11T19:13:05.118Z"
   },
   {
    "duration": 2617,
    "start_time": "2022-03-11T19:13:55.970Z"
   },
   {
    "duration": 3010,
    "start_time": "2022-03-11T19:13:59.404Z"
   },
   {
    "duration": 4,
    "start_time": "2022-03-11T19:14:35.966Z"
   },
   {
    "duration": 367,
    "start_time": "2022-03-11T19:14:49.002Z"
   },
   {
    "duration": 275,
    "start_time": "2022-03-11T19:15:28.793Z"
   },
   {
    "duration": 293,
    "start_time": "2022-03-11T19:15:31.894Z"
   },
   {
    "duration": 268,
    "start_time": "2022-03-11T19:15:32.935Z"
   },
   {
    "duration": 280,
    "start_time": "2022-03-11T19:15:33.782Z"
   },
   {
    "duration": 124,
    "start_time": "2022-03-11T19:15:37.351Z"
   },
   {
    "duration": 120,
    "start_time": "2022-03-11T19:15:41.583Z"
   },
   {
    "duration": 2955,
    "start_time": "2022-03-11T19:15:58.460Z"
   },
   {
    "duration": 3001,
    "start_time": "2022-03-11T19:16:33.527Z"
   },
   {
    "duration": 9209,
    "start_time": "2022-03-11T19:19:38.024Z"
   },
   {
    "duration": 9573,
    "start_time": "2022-03-11T19:19:56.167Z"
   },
   {
    "duration": 8882,
    "start_time": "2022-03-11T19:20:09.943Z"
   },
   {
    "duration": 366,
    "start_time": "2022-03-11T19:20:45.792Z"
   },
   {
    "duration": 9279,
    "start_time": "2022-03-11T19:20:49.413Z"
   },
   {
    "duration": 1132,
    "start_time": "2022-03-11T19:21:10.577Z"
   },
   {
    "duration": 665,
    "start_time": "2022-03-11T19:21:11.711Z"
   },
   {
    "duration": 3,
    "start_time": "2022-03-11T19:21:12.378Z"
   },
   {
    "duration": 5,
    "start_time": "2022-03-11T19:21:12.382Z"
   },
   {
    "duration": 14,
    "start_time": "2022-03-11T19:21:12.388Z"
   },
   {
    "duration": 8,
    "start_time": "2022-03-11T19:21:12.403Z"
   },
   {
    "duration": 3,
    "start_time": "2022-03-11T19:21:12.412Z"
   },
   {
    "duration": 4,
    "start_time": "2022-03-11T19:21:12.417Z"
   },
   {
    "duration": 5,
    "start_time": "2022-03-11T19:21:12.422Z"
   },
   {
    "duration": 10,
    "start_time": "2022-03-11T19:21:12.428Z"
   },
   {
    "duration": 10,
    "start_time": "2022-03-11T19:21:12.439Z"
   },
   {
    "duration": 8,
    "start_time": "2022-03-11T19:21:12.450Z"
   },
   {
    "duration": 13,
    "start_time": "2022-03-11T19:21:12.460Z"
   },
   {
    "duration": 9,
    "start_time": "2022-03-11T19:21:12.474Z"
   },
   {
    "duration": 33,
    "start_time": "2022-03-11T19:21:12.485Z"
   },
   {
    "duration": 3,
    "start_time": "2022-03-11T19:21:12.519Z"
   },
   {
    "duration": 7,
    "start_time": "2022-03-11T19:21:12.523Z"
   },
   {
    "duration": 432,
    "start_time": "2022-03-11T19:21:12.531Z"
   },
   {
    "duration": 4,
    "start_time": "2022-03-11T19:21:12.965Z"
   },
   {
    "duration": 14,
    "start_time": "2022-03-11T19:21:12.970Z"
   },
   {
    "duration": 400,
    "start_time": "2022-03-11T19:21:13.001Z"
   },
   {
    "duration": 4,
    "start_time": "2022-03-11T19:21:13.403Z"
   },
   {
    "duration": 3,
    "start_time": "2022-03-11T19:21:13.410Z"
   },
   {
    "duration": 4,
    "start_time": "2022-03-11T19:21:13.415Z"
   },
   {
    "duration": 4,
    "start_time": "2022-03-11T19:21:13.421Z"
   },
   {
    "duration": 6,
    "start_time": "2022-03-11T19:21:13.426Z"
   },
   {
    "duration": 17,
    "start_time": "2022-03-11T19:21:13.434Z"
   },
   {
    "duration": 2,
    "start_time": "2022-03-11T19:21:13.453Z"
   },
   {
    "duration": 10,
    "start_time": "2022-03-11T19:21:13.456Z"
   },
   {
    "duration": 837,
    "start_time": "2022-03-11T19:21:13.467Z"
   },
   {
    "duration": 9,
    "start_time": "2022-03-11T19:21:14.305Z"
   },
   {
    "duration": 5,
    "start_time": "2022-03-11T19:21:14.315Z"
   },
   {
    "duration": 3837,
    "start_time": "2022-03-11T19:21:14.322Z"
   },
   {
    "duration": 5210,
    "start_time": "2022-03-11T19:21:18.161Z"
   },
   {
    "duration": 272,
    "start_time": "2022-03-11T19:21:29.433Z"
   },
   {
    "duration": 204,
    "start_time": "2022-03-11T19:23:42.101Z"
   },
   {
    "duration": 157,
    "start_time": "2022-03-11T19:23:48.247Z"
   },
   {
    "duration": 5131,
    "start_time": "2022-03-11T19:25:27.235Z"
   },
   {
    "duration": 13179,
    "start_time": "2022-03-11T19:25:36.070Z"
   },
   {
    "duration": 9541,
    "start_time": "2022-03-11T19:25:57.804Z"
   },
   {
    "duration": 4449,
    "start_time": "2022-03-11T19:27:56.270Z"
   },
   {
    "duration": 8,
    "start_time": "2022-03-11T19:28:06.660Z"
   },
   {
    "duration": 150,
    "start_time": "2022-03-11T19:29:18.150Z"
   },
   {
    "duration": 70,
    "start_time": "2022-03-11T19:29:28.433Z"
   },
   {
    "duration": 31,
    "start_time": "2022-03-11T19:29:30.672Z"
   },
   {
    "duration": 25,
    "start_time": "2022-03-11T19:29:31.278Z"
   },
   {
    "duration": 33,
    "start_time": "2022-03-11T19:29:31.870Z"
   },
   {
    "duration": 113,
    "start_time": "2022-03-11T19:29:32.190Z"
   },
   {
    "duration": 121,
    "start_time": "2022-03-11T19:29:32.782Z"
   },
   {
    "duration": 7308,
    "start_time": "2022-03-11T19:29:35.417Z"
   },
   {
    "duration": 1132,
    "start_time": "2022-03-11T19:29:53.519Z"
   },
   {
    "duration": 702,
    "start_time": "2022-03-11T19:29:54.653Z"
   },
   {
    "duration": 3,
    "start_time": "2022-03-11T19:29:55.357Z"
   },
   {
    "duration": 34,
    "start_time": "2022-03-11T19:29:55.361Z"
   },
   {
    "duration": 38,
    "start_time": "2022-03-11T19:29:55.396Z"
   },
   {
    "duration": 23,
    "start_time": "2022-03-11T19:29:55.436Z"
   },
   {
    "duration": 20,
    "start_time": "2022-03-11T19:29:55.461Z"
   },
   {
    "duration": 16,
    "start_time": "2022-03-11T19:29:55.485Z"
   },
   {
    "duration": 21,
    "start_time": "2022-03-11T19:29:55.504Z"
   },
   {
    "duration": 17,
    "start_time": "2022-03-11T19:29:55.527Z"
   },
   {
    "duration": 13,
    "start_time": "2022-03-11T19:29:55.546Z"
   },
   {
    "duration": 21,
    "start_time": "2022-03-11T19:29:55.561Z"
   },
   {
    "duration": 16,
    "start_time": "2022-03-11T19:29:55.584Z"
   },
   {
    "duration": 27,
    "start_time": "2022-03-11T19:29:55.602Z"
   },
   {
    "duration": 45,
    "start_time": "2022-03-11T19:29:55.631Z"
   },
   {
    "duration": 3,
    "start_time": "2022-03-11T19:29:55.678Z"
   },
   {
    "duration": 24,
    "start_time": "2022-03-11T19:29:55.683Z"
   },
   {
    "duration": 495,
    "start_time": "2022-03-11T19:29:55.709Z"
   },
   {
    "duration": 4,
    "start_time": "2022-03-11T19:29:56.206Z"
   },
   {
    "duration": 19,
    "start_time": "2022-03-11T19:29:56.212Z"
   },
   {
    "duration": 492,
    "start_time": "2022-03-11T19:29:56.232Z"
   },
   {
    "duration": 4,
    "start_time": "2022-03-11T19:29:56.726Z"
   },
   {
    "duration": 78,
    "start_time": "2022-03-11T19:29:56.733Z"
   },
   {
    "duration": 23,
    "start_time": "2022-03-11T19:29:56.812Z"
   },
   {
    "duration": 29,
    "start_time": "2022-03-11T19:29:56.837Z"
   },
   {
    "duration": 15,
    "start_time": "2022-03-11T19:29:56.868Z"
   },
   {
    "duration": 27,
    "start_time": "2022-03-11T19:29:56.885Z"
   },
   {
    "duration": 3,
    "start_time": "2022-03-11T19:29:56.914Z"
   },
   {
    "duration": 11,
    "start_time": "2022-03-11T19:29:56.919Z"
   },
   {
    "duration": 933,
    "start_time": "2022-03-11T19:29:56.932Z"
   },
   {
    "duration": 11,
    "start_time": "2022-03-11T19:29:57.867Z"
   },
   {
    "duration": 5,
    "start_time": "2022-03-11T19:29:57.880Z"
   },
   {
    "duration": 3991,
    "start_time": "2022-03-11T19:29:57.886Z"
   },
   {
    "duration": 9059,
    "start_time": "2022-03-11T19:30:01.878Z"
   },
   {
    "duration": 48,
    "start_time": "2022-03-11T19:30:13.561Z"
   },
   {
    "duration": 110,
    "start_time": "2022-03-11T19:31:10.519Z"
   },
   {
    "duration": 3693,
    "start_time": "2022-03-11T19:31:19.015Z"
   },
   {
    "duration": 6,
    "start_time": "2022-03-11T19:31:29.220Z"
   },
   {
    "duration": 898,
    "start_time": "2022-03-11T19:35:12.308Z"
   },
   {
    "duration": 9,
    "start_time": "2022-03-11T19:35:19.115Z"
   },
   {
    "duration": 8,
    "start_time": "2022-03-11T19:35:24.114Z"
   },
   {
    "duration": 12,
    "start_time": "2022-03-11T19:35:46.333Z"
   },
   {
    "duration": 9,
    "start_time": "2022-03-11T19:36:43.543Z"
   },
   {
    "duration": 4,
    "start_time": "2022-03-11T19:37:01.277Z"
   },
   {
    "duration": 9,
    "start_time": "2022-03-11T19:37:05.286Z"
   },
   {
    "duration": 8,
    "start_time": "2022-03-11T19:37:05.773Z"
   },
   {
    "duration": 8,
    "start_time": "2022-03-11T19:37:06.236Z"
   },
   {
    "duration": 9,
    "start_time": "2022-03-11T19:37:06.651Z"
   },
   {
    "duration": 7,
    "start_time": "2022-03-11T19:37:07.075Z"
   },
   {
    "duration": 9,
    "start_time": "2022-03-11T19:37:07.468Z"
   },
   {
    "duration": 7,
    "start_time": "2022-03-11T19:37:07.750Z"
   },
   {
    "duration": 8,
    "start_time": "2022-03-11T19:37:07.968Z"
   },
   {
    "duration": 9,
    "start_time": "2022-03-11T19:37:08.149Z"
   },
   {
    "duration": 9,
    "start_time": "2022-03-11T19:37:08.347Z"
   },
   {
    "duration": 9,
    "start_time": "2022-03-11T19:37:08.539Z"
   },
   {
    "duration": 9,
    "start_time": "2022-03-11T19:37:08.999Z"
   },
   {
    "duration": 9,
    "start_time": "2022-03-11T19:37:09.210Z"
   },
   {
    "duration": 9,
    "start_time": "2022-03-11T19:37:09.427Z"
   },
   {
    "duration": 107,
    "start_time": "2022-03-11T19:38:54.019Z"
   },
   {
    "duration": 110,
    "start_time": "2022-03-11T19:38:58.044Z"
   },
   {
    "duration": 905,
    "start_time": "2022-03-11T19:39:05.720Z"
   },
   {
    "duration": 11,
    "start_time": "2022-03-11T19:39:55.379Z"
   },
   {
    "duration": 1167,
    "start_time": "2022-03-11T19:40:29.399Z"
   },
   {
    "duration": 783,
    "start_time": "2022-03-11T19:40:30.568Z"
   },
   {
    "duration": 3,
    "start_time": "2022-03-11T19:40:31.352Z"
   },
   {
    "duration": 5,
    "start_time": "2022-03-11T19:40:31.357Z"
   },
   {
    "duration": 6,
    "start_time": "2022-03-11T19:40:31.364Z"
   },
   {
    "duration": 8,
    "start_time": "2022-03-11T19:40:31.372Z"
   },
   {
    "duration": 2,
    "start_time": "2022-03-11T19:40:31.382Z"
   },
   {
    "duration": 18,
    "start_time": "2022-03-11T19:40:31.386Z"
   },
   {
    "duration": 5,
    "start_time": "2022-03-11T19:40:31.406Z"
   },
   {
    "duration": 10,
    "start_time": "2022-03-11T19:40:31.412Z"
   },
   {
    "duration": 11,
    "start_time": "2022-03-11T19:40:31.424Z"
   },
   {
    "duration": 8,
    "start_time": "2022-03-11T19:40:31.437Z"
   },
   {
    "duration": 21,
    "start_time": "2022-03-11T19:40:31.446Z"
   },
   {
    "duration": 11,
    "start_time": "2022-03-11T19:40:31.469Z"
   },
   {
    "duration": 30,
    "start_time": "2022-03-11T19:40:31.482Z"
   },
   {
    "duration": 2,
    "start_time": "2022-03-11T19:40:31.514Z"
   },
   {
    "duration": 6,
    "start_time": "2022-03-11T19:40:31.517Z"
   },
   {
    "duration": 462,
    "start_time": "2022-03-11T19:40:31.525Z"
   },
   {
    "duration": 14,
    "start_time": "2022-03-11T19:40:31.989Z"
   },
   {
    "duration": 15,
    "start_time": "2022-03-11T19:40:32.004Z"
   },
   {
    "duration": 420,
    "start_time": "2022-03-11T19:40:32.021Z"
   },
   {
    "duration": 4,
    "start_time": "2022-03-11T19:40:32.443Z"
   },
   {
    "duration": 4,
    "start_time": "2022-03-11T19:40:32.449Z"
   },
   {
    "duration": 4,
    "start_time": "2022-03-11T19:40:32.454Z"
   },
   {
    "duration": 6,
    "start_time": "2022-03-11T19:40:32.459Z"
   },
   {
    "duration": 6,
    "start_time": "2022-03-11T19:40:32.466Z"
   },
   {
    "duration": 41,
    "start_time": "2022-03-11T19:40:32.474Z"
   },
   {
    "duration": 2,
    "start_time": "2022-03-11T19:40:32.517Z"
   },
   {
    "duration": 7,
    "start_time": "2022-03-11T19:40:32.521Z"
   },
   {
    "duration": 835,
    "start_time": "2022-03-11T19:40:32.529Z"
   },
   {
    "duration": 10,
    "start_time": "2022-03-11T19:40:33.365Z"
   },
   {
    "duration": 5,
    "start_time": "2022-03-11T19:40:33.376Z"
   },
   {
    "duration": 3754,
    "start_time": "2022-03-11T19:40:33.383Z"
   },
   {
    "duration": 9763,
    "start_time": "2022-03-11T19:40:37.139Z"
   },
   {
    "duration": 106,
    "start_time": "2022-03-11T19:40:46.903Z"
   },
   {
    "duration": 3693,
    "start_time": "2022-03-11T19:40:47.011Z"
   },
   {
    "duration": 14,
    "start_time": "2022-03-11T19:40:50.706Z"
   },
   {
    "duration": 1140,
    "start_time": "2022-03-11T19:41:06.992Z"
   },
   {
    "duration": 680,
    "start_time": "2022-03-11T19:41:08.134Z"
   },
   {
    "duration": 3,
    "start_time": "2022-03-11T19:41:08.816Z"
   },
   {
    "duration": 5,
    "start_time": "2022-03-11T19:41:08.820Z"
   },
   {
    "duration": 6,
    "start_time": "2022-03-11T19:41:08.826Z"
   },
   {
    "duration": 8,
    "start_time": "2022-03-11T19:41:08.833Z"
   },
   {
    "duration": 5,
    "start_time": "2022-03-11T19:41:08.842Z"
   },
   {
    "duration": 4,
    "start_time": "2022-03-11T19:41:08.849Z"
   },
   {
    "duration": 6,
    "start_time": "2022-03-11T19:41:08.855Z"
   },
   {
    "duration": 10,
    "start_time": "2022-03-11T19:41:08.863Z"
   },
   {
    "duration": 30,
    "start_time": "2022-03-11T19:41:08.874Z"
   },
   {
    "duration": 4,
    "start_time": "2022-03-11T19:41:08.906Z"
   },
   {
    "duration": 12,
    "start_time": "2022-03-11T19:41:08.912Z"
   },
   {
    "duration": 9,
    "start_time": "2022-03-11T19:41:08.926Z"
   },
   {
    "duration": 23,
    "start_time": "2022-03-11T19:41:08.937Z"
   },
   {
    "duration": 2,
    "start_time": "2022-03-11T19:41:08.961Z"
   },
   {
    "duration": 6,
    "start_time": "2022-03-11T19:41:08.965Z"
   },
   {
    "duration": 447,
    "start_time": "2022-03-11T19:41:08.972Z"
   },
   {
    "duration": 5,
    "start_time": "2022-03-11T19:41:09.420Z"
   },
   {
    "duration": 15,
    "start_time": "2022-03-11T19:41:09.426Z"
   },
   {
    "duration": 425,
    "start_time": "2022-03-11T19:41:09.442Z"
   },
   {
    "duration": 5,
    "start_time": "2022-03-11T19:41:09.868Z"
   },
   {
    "duration": 4,
    "start_time": "2022-03-11T19:41:09.875Z"
   },
   {
    "duration": 20,
    "start_time": "2022-03-11T19:41:09.881Z"
   },
   {
    "duration": 4,
    "start_time": "2022-03-11T19:41:09.903Z"
   },
   {
    "duration": 5,
    "start_time": "2022-03-11T19:41:09.909Z"
   },
   {
    "duration": 15,
    "start_time": "2022-03-11T19:41:09.916Z"
   },
   {
    "duration": 3,
    "start_time": "2022-03-11T19:41:09.933Z"
   },
   {
    "duration": 9,
    "start_time": "2022-03-11T19:41:09.937Z"
   },
   {
    "duration": 835,
    "start_time": "2022-03-11T19:41:09.948Z"
   },
   {
    "duration": 9,
    "start_time": "2022-03-11T19:41:10.784Z"
   },
   {
    "duration": 3,
    "start_time": "2022-03-11T19:41:10.801Z"
   },
   {
    "duration": 3714,
    "start_time": "2022-03-11T19:41:10.806Z"
   },
   {
    "duration": 3653,
    "start_time": "2022-03-11T19:41:50.078Z"
   },
   {
    "duration": 5721,
    "start_time": "2022-03-11T19:41:59.449Z"
   },
   {
    "duration": 214,
    "start_time": "2022-03-11T19:42:09.898Z"
   },
   {
    "duration": 4090,
    "start_time": "2022-03-11T19:43:18.714Z"
   },
   {
    "duration": 3929,
    "start_time": "2022-03-11T19:43:53.274Z"
   },
   {
    "duration": 3961,
    "start_time": "2022-03-11T19:44:02.250Z"
   },
   {
    "duration": 3588,
    "start_time": "2022-03-11T19:44:53.217Z"
   },
   {
    "duration": 8,
    "start_time": "2022-03-11T19:45:20.834Z"
   },
   {
    "duration": 1323,
    "start_time": "2022-03-11T19:45:56.704Z"
   },
   {
    "duration": 687,
    "start_time": "2022-03-11T19:45:58.029Z"
   },
   {
    "duration": 3,
    "start_time": "2022-03-11T19:45:58.718Z"
   },
   {
    "duration": 4,
    "start_time": "2022-03-11T19:45:58.723Z"
   },
   {
    "duration": 6,
    "start_time": "2022-03-11T19:45:58.729Z"
   },
   {
    "duration": 9,
    "start_time": "2022-03-11T19:45:58.737Z"
   },
   {
    "duration": 4,
    "start_time": "2022-03-11T19:45:58.747Z"
   },
   {
    "duration": 3,
    "start_time": "2022-03-11T19:45:58.754Z"
   },
   {
    "duration": 6,
    "start_time": "2022-03-11T19:45:58.759Z"
   },
   {
    "duration": 35,
    "start_time": "2022-03-11T19:45:58.766Z"
   },
   {
    "duration": 9,
    "start_time": "2022-03-11T19:45:58.803Z"
   },
   {
    "duration": 4,
    "start_time": "2022-03-11T19:45:58.814Z"
   },
   {
    "duration": 11,
    "start_time": "2022-03-11T19:45:58.820Z"
   },
   {
    "duration": 10,
    "start_time": "2022-03-11T19:45:58.833Z"
   },
   {
    "duration": 25,
    "start_time": "2022-03-11T19:45:58.844Z"
   },
   {
    "duration": 2,
    "start_time": "2022-03-11T19:45:58.870Z"
   },
   {
    "duration": 3,
    "start_time": "2022-03-11T19:45:58.902Z"
   },
   {
    "duration": 457,
    "start_time": "2022-03-11T19:45:58.907Z"
   },
   {
    "duration": 4,
    "start_time": "2022-03-11T19:45:59.366Z"
   },
   {
    "duration": 14,
    "start_time": "2022-03-11T19:45:59.372Z"
   },
   {
    "duration": 438,
    "start_time": "2022-03-11T19:45:59.401Z"
   },
   {
    "duration": 4,
    "start_time": "2022-03-11T19:45:59.841Z"
   },
   {
    "duration": 3,
    "start_time": "2022-03-11T19:45:59.848Z"
   },
   {
    "duration": 3,
    "start_time": "2022-03-11T19:45:59.853Z"
   },
   {
    "duration": 4,
    "start_time": "2022-03-11T19:45:59.858Z"
   },
   {
    "duration": 6,
    "start_time": "2022-03-11T19:45:59.863Z"
   },
   {
    "duration": 37,
    "start_time": "2022-03-11T19:45:59.871Z"
   },
   {
    "duration": 3,
    "start_time": "2022-03-11T19:45:59.910Z"
   },
   {
    "duration": 7,
    "start_time": "2022-03-11T19:45:59.914Z"
   },
   {
    "duration": 848,
    "start_time": "2022-03-11T19:45:59.922Z"
   },
   {
    "duration": 10,
    "start_time": "2022-03-11T19:46:00.771Z"
   },
   {
    "duration": 19,
    "start_time": "2022-03-11T19:46:00.783Z"
   },
   {
    "duration": 3709,
    "start_time": "2022-03-11T19:46:00.804Z"
   },
   {
    "duration": 5141,
    "start_time": "2022-03-11T19:46:04.516Z"
   },
   {
    "duration": 243,
    "start_time": "2022-03-11T19:46:09.659Z"
   },
   {
    "duration": 3902,
    "start_time": "2022-03-11T19:46:09.904Z"
   },
   {
    "duration": 7,
    "start_time": "2022-03-11T19:46:13.807Z"
   },
   {
    "duration": 4159,
    "start_time": "2022-03-11T19:46:53.222Z"
   },
   {
    "duration": 4064,
    "start_time": "2022-03-11T19:46:59.177Z"
   },
   {
    "duration": 4348,
    "start_time": "2022-03-11T19:47:04.302Z"
   },
   {
    "duration": 3078,
    "start_time": "2022-03-11T19:47:23.331Z"
   },
   {
    "duration": 3361,
    "start_time": "2022-03-11T19:47:35.643Z"
   },
   {
    "duration": 4197,
    "start_time": "2022-03-11T19:48:32.317Z"
   },
   {
    "duration": 333,
    "start_time": "2022-03-11T19:49:14.132Z"
   },
   {
    "duration": 1058,
    "start_time": "2022-03-11T19:49:17.547Z"
   },
   {
    "duration": 679,
    "start_time": "2022-03-11T19:49:18.606Z"
   },
   {
    "duration": 3,
    "start_time": "2022-03-11T19:49:19.286Z"
   },
   {
    "duration": 5,
    "start_time": "2022-03-11T19:49:19.290Z"
   },
   {
    "duration": 7,
    "start_time": "2022-03-11T19:49:19.297Z"
   },
   {
    "duration": 8,
    "start_time": "2022-03-11T19:49:19.306Z"
   },
   {
    "duration": 2,
    "start_time": "2022-03-11T19:49:19.316Z"
   },
   {
    "duration": 5,
    "start_time": "2022-03-11T19:49:19.321Z"
   },
   {
    "duration": 5,
    "start_time": "2022-03-11T19:49:19.328Z"
   },
   {
    "duration": 10,
    "start_time": "2022-03-11T19:49:19.334Z"
   },
   {
    "duration": 11,
    "start_time": "2022-03-11T19:49:19.346Z"
   },
   {
    "duration": 8,
    "start_time": "2022-03-11T19:49:19.359Z"
   },
   {
    "duration": 37,
    "start_time": "2022-03-11T19:49:19.368Z"
   },
   {
    "duration": 6,
    "start_time": "2022-03-11T19:49:19.407Z"
   },
   {
    "duration": 22,
    "start_time": "2022-03-11T19:49:19.415Z"
   },
   {
    "duration": 3,
    "start_time": "2022-03-11T19:49:19.438Z"
   },
   {
    "duration": 7,
    "start_time": "2022-03-11T19:49:19.443Z"
   },
   {
    "duration": 442,
    "start_time": "2022-03-11T19:49:19.452Z"
   },
   {
    "duration": 6,
    "start_time": "2022-03-11T19:49:19.896Z"
   },
   {
    "duration": 14,
    "start_time": "2022-03-11T19:49:19.904Z"
   },
   {
    "duration": 422,
    "start_time": "2022-03-11T19:49:19.919Z"
   },
   {
    "duration": 4,
    "start_time": "2022-03-11T19:49:20.343Z"
   },
   {
    "duration": 4,
    "start_time": "2022-03-11T19:49:20.350Z"
   },
   {
    "duration": 4,
    "start_time": "2022-03-11T19:49:20.356Z"
   },
   {
    "duration": 4,
    "start_time": "2022-03-11T19:49:20.362Z"
   },
   {
    "duration": 4,
    "start_time": "2022-03-11T19:49:20.367Z"
   },
   {
    "duration": 37,
    "start_time": "2022-03-11T19:49:20.372Z"
   },
   {
    "duration": 3,
    "start_time": "2022-03-11T19:49:20.411Z"
   },
   {
    "duration": 8,
    "start_time": "2022-03-11T19:49:20.415Z"
   },
   {
    "duration": 819,
    "start_time": "2022-03-11T19:49:20.424Z"
   },
   {
    "duration": 9,
    "start_time": "2022-03-11T19:49:21.245Z"
   },
   {
    "duration": 8,
    "start_time": "2022-03-11T19:49:21.256Z"
   },
   {
    "duration": 3845,
    "start_time": "2022-03-11T19:49:21.265Z"
   },
   {
    "duration": 5135,
    "start_time": "2022-03-11T19:49:25.971Z"
   },
   {
    "duration": 3,
    "start_time": "2022-03-11T19:51:43.064Z"
   },
   {
    "duration": 110,
    "start_time": "2022-03-11T19:52:54.257Z"
   },
   {
    "duration": 99,
    "start_time": "2022-03-11T19:53:39.474Z"
   },
   {
    "duration": 18,
    "start_time": "2022-03-11T19:53:46.433Z"
   },
   {
    "duration": 1116,
    "start_time": "2022-03-11T19:54:04.234Z"
   },
   {
    "duration": 722,
    "start_time": "2022-03-11T19:54:05.351Z"
   },
   {
    "duration": 3,
    "start_time": "2022-03-11T19:54:06.075Z"
   },
   {
    "duration": 4,
    "start_time": "2022-03-11T19:54:06.080Z"
   },
   {
    "duration": 15,
    "start_time": "2022-03-11T19:54:06.086Z"
   },
   {
    "duration": 10,
    "start_time": "2022-03-11T19:54:06.103Z"
   },
   {
    "duration": 4,
    "start_time": "2022-03-11T19:54:06.114Z"
   },
   {
    "duration": 4,
    "start_time": "2022-03-11T19:54:06.121Z"
   },
   {
    "duration": 6,
    "start_time": "2022-03-11T19:54:06.127Z"
   },
   {
    "duration": 14,
    "start_time": "2022-03-11T19:54:06.134Z"
   },
   {
    "duration": 9,
    "start_time": "2022-03-11T19:54:06.149Z"
   },
   {
    "duration": 11,
    "start_time": "2022-03-11T19:54:06.160Z"
   },
   {
    "duration": 34,
    "start_time": "2022-03-11T19:54:06.172Z"
   },
   {
    "duration": 6,
    "start_time": "2022-03-11T19:54:06.208Z"
   },
   {
    "duration": 23,
    "start_time": "2022-03-11T19:54:06.216Z"
   },
   {
    "duration": 3,
    "start_time": "2022-03-11T19:54:06.240Z"
   },
   {
    "duration": 10,
    "start_time": "2022-03-11T19:54:06.245Z"
   },
   {
    "duration": 456,
    "start_time": "2022-03-11T19:54:06.256Z"
   },
   {
    "duration": 3,
    "start_time": "2022-03-11T19:54:06.714Z"
   },
   {
    "duration": 15,
    "start_time": "2022-03-11T19:54:06.719Z"
   },
   {
    "duration": 432,
    "start_time": "2022-03-11T19:54:06.735Z"
   },
   {
    "duration": 5,
    "start_time": "2022-03-11T19:54:07.168Z"
   },
   {
    "duration": 6,
    "start_time": "2022-03-11T19:54:07.175Z"
   },
   {
    "duration": 5,
    "start_time": "2022-03-11T19:54:07.182Z"
   },
   {
    "duration": 15,
    "start_time": "2022-03-11T19:54:07.188Z"
   },
   {
    "duration": 4,
    "start_time": "2022-03-11T19:54:07.205Z"
   },
   {
    "duration": 17,
    "start_time": "2022-03-11T19:54:07.210Z"
   },
   {
    "duration": 3,
    "start_time": "2022-03-11T19:54:07.228Z"
   },
   {
    "duration": 10,
    "start_time": "2022-03-11T19:54:07.233Z"
   },
   {
    "duration": 823,
    "start_time": "2022-03-11T19:54:07.244Z"
   },
   {
    "duration": 16,
    "start_time": "2022-03-11T19:54:08.069Z"
   },
   {
    "duration": 4,
    "start_time": "2022-03-11T19:54:13.569Z"
   },
   {
    "duration": 472,
    "start_time": "2022-03-11T19:54:37.314Z"
   },
   {
    "duration": 2806,
    "start_time": "2022-03-11T19:55:02.072Z"
   },
   {
    "duration": 12611,
    "start_time": "2022-03-11T19:55:35.822Z"
   },
   {
    "duration": 92,
    "start_time": "2022-03-11T19:56:39.428Z"
   },
   {
    "duration": 214,
    "start_time": "2022-03-11T19:57:21.490Z"
   },
   {
    "duration": 7352,
    "start_time": "2022-03-11T19:57:28.050Z"
   },
   {
    "duration": 7334,
    "start_time": "2022-03-11T19:57:52.678Z"
   },
   {
    "duration": 8,
    "start_time": "2022-03-11T19:58:12.701Z"
   },
   {
    "duration": 9,
    "start_time": "2022-03-11T19:58:17.050Z"
   },
   {
    "duration": 8,
    "start_time": "2022-03-11T19:58:17.618Z"
   },
   {
    "duration": 9,
    "start_time": "2022-03-11T19:58:18.074Z"
   },
   {
    "duration": 9,
    "start_time": "2022-03-11T19:58:18.589Z"
   },
   {
    "duration": 245,
    "start_time": "2022-03-12T17:48:52.238Z"
   },
   {
    "duration": 1312,
    "start_time": "2022-03-12T17:48:56.789Z"
   },
   {
    "duration": 710,
    "start_time": "2022-03-12T17:48:58.103Z"
   },
   {
    "duration": 362,
    "start_time": "2022-03-12T17:48:58.815Z"
   },
   {
    "duration": 285,
    "start_time": "2022-03-12T17:48:59.179Z"
   },
   {
    "duration": 343,
    "start_time": "2022-03-12T17:48:59.466Z"
   },
   {
    "duration": 773,
    "start_time": "2022-03-12T17:48:59.811Z"
   },
   {
    "duration": 853,
    "start_time": "2022-03-12T17:49:00.586Z"
   },
   {
    "duration": 731,
    "start_time": "2022-03-12T17:49:01.442Z"
   },
   {
    "duration": 366,
    "start_time": "2022-03-12T17:49:02.175Z"
   },
   {
    "duration": 865,
    "start_time": "2022-03-12T17:49:02.543Z"
   },
   {
    "duration": 762,
    "start_time": "2022-03-12T17:49:03.410Z"
   },
   {
    "duration": 657,
    "start_time": "2022-03-12T17:49:04.174Z"
   },
   {
    "duration": 760,
    "start_time": "2022-03-12T17:49:04.833Z"
   },
   {
    "duration": 475,
    "start_time": "2022-03-12T17:49:05.595Z"
   },
   {
    "duration": 1286,
    "start_time": "2022-03-12T17:49:06.071Z"
   },
   {
    "duration": 523,
    "start_time": "2022-03-12T17:49:09.041Z"
   },
   {
    "duration": 6664,
    "start_time": "2022-03-12T17:49:15.054Z"
   },
   {
    "duration": 6716,
    "start_time": "2022-03-12T17:49:23.251Z"
   },
   {
    "duration": 7168,
    "start_time": "2022-03-12T17:49:53.568Z"
   },
   {
    "duration": 7307,
    "start_time": "2022-03-12T17:50:09.436Z"
   },
   {
    "duration": 10523,
    "start_time": "2022-03-12T17:50:41.890Z"
   },
   {
    "duration": 12359,
    "start_time": "2022-03-12T17:50:52.531Z"
   },
   {
    "duration": 5,
    "start_time": "2022-03-12T17:51:56.692Z"
   },
   {
    "duration": 23,
    "start_time": "2022-03-12T17:52:49.274Z"
   },
   {
    "duration": 7,
    "start_time": "2022-03-12T17:53:57.506Z"
   },
   {
    "duration": 549,
    "start_time": "2022-03-12T17:56:41.389Z"
   },
   {
    "duration": 251,
    "start_time": "2022-03-12T17:57:02.700Z"
   },
   {
    "duration": 9,
    "start_time": "2022-03-12T17:57:59.378Z"
   },
   {
    "duration": 680,
    "start_time": "2022-03-12T17:58:07.356Z"
   },
   {
    "duration": 239,
    "start_time": "2022-03-12T17:58:33.035Z"
   },
   {
    "duration": 259,
    "start_time": "2022-03-12T17:59:01.570Z"
   },
   {
    "duration": 250,
    "start_time": "2022-03-12T17:59:27.296Z"
   },
   {
    "duration": 225,
    "start_time": "2022-03-12T18:00:14.265Z"
   },
   {
    "duration": 198,
    "start_time": "2022-03-12T18:00:24.444Z"
   },
   {
    "duration": 227,
    "start_time": "2022-03-12T18:01:50.327Z"
   },
   {
    "duration": 428,
    "start_time": "2022-03-12T18:01:56.206Z"
   },
   {
    "duration": 5,
    "start_time": "2022-03-12T18:02:10.093Z"
   },
   {
    "duration": 5,
    "start_time": "2022-03-12T18:02:14.260Z"
   },
   {
    "duration": 1250,
    "start_time": "2022-03-12T18:02:56.044Z"
   },
   {
    "duration": 8770,
    "start_time": "2022-03-12T18:02:57.296Z"
   },
   {
    "duration": 2283,
    "start_time": "2022-03-12T18:03:06.068Z"
   },
   {
    "duration": 4351,
    "start_time": "2022-03-12T18:03:08.353Z"
   },
   {
    "duration": 2459,
    "start_time": "2022-03-12T18:03:12.706Z"
   },
   {
    "duration": 3964,
    "start_time": "2022-03-12T18:03:15.167Z"
   },
   {
    "duration": 5717,
    "start_time": "2022-03-12T18:03:19.133Z"
   },
   {
    "duration": 4887,
    "start_time": "2022-03-12T18:03:24.853Z"
   },
   {
    "duration": 4888,
    "start_time": "2022-03-12T18:03:29.742Z"
   },
   {
    "duration": 2234,
    "start_time": "2022-03-12T18:03:34.632Z"
   },
   {
    "duration": 663,
    "start_time": "2022-03-12T18:03:36.868Z"
   },
   {
    "duration": 906,
    "start_time": "2022-03-12T18:03:37.533Z"
   },
   {
    "duration": 1604,
    "start_time": "2022-03-12T18:03:38.440Z"
   },
   {
    "duration": 3185,
    "start_time": "2022-03-12T18:03:40.046Z"
   },
   {
    "duration": 2908,
    "start_time": "2022-03-12T18:03:43.233Z"
   },
   {
    "duration": 3559,
    "start_time": "2022-03-12T18:03:46.143Z"
   },
   {
    "duration": 5749,
    "start_time": "2022-03-12T18:03:49.704Z"
   },
   {
    "duration": 4241,
    "start_time": "2022-03-12T18:03:55.456Z"
   },
   {
    "duration": 959,
    "start_time": "2022-03-12T18:03:59.698Z"
   },
   {
    "duration": 369,
    "start_time": "2022-03-12T18:04:00.659Z"
   },
   {
    "duration": 4,
    "start_time": "2022-03-12T18:04:06.965Z"
   },
   {
    "duration": 1522,
    "start_time": "2022-03-12T18:05:15.517Z"
   },
   {
    "duration": 10877,
    "start_time": "2022-03-12T18:05:23.439Z"
   },
   {
    "duration": 12508,
    "start_time": "2022-03-12T18:05:35.286Z"
   },
   {
    "duration": 13594,
    "start_time": "2022-03-12T18:05:51.701Z"
   },
   {
    "duration": 315,
    "start_time": "2022-03-12T18:08:22.300Z"
   },
   {
    "duration": 4,
    "start_time": "2022-03-12T18:09:01.236Z"
   },
   {
    "duration": 6,
    "start_time": "2022-03-12T18:09:09.930Z"
   },
   {
    "duration": 3,
    "start_time": "2022-03-12T18:09:18.116Z"
   },
   {
    "duration": 287,
    "start_time": "2022-03-12T18:09:19.073Z"
   },
   {
    "duration": 288,
    "start_time": "2022-03-12T18:10:02.825Z"
   },
   {
    "duration": 4,
    "start_time": "2022-03-12T18:10:06.725Z"
   },
   {
    "duration": 1032,
    "start_time": "2022-03-12T18:10:07.519Z"
   },
   {
    "duration": 5,
    "start_time": "2022-03-12T18:10:15.319Z"
   },
   {
    "duration": 63,
    "start_time": "2022-03-12T18:10:33.928Z"
   },
   {
    "duration": 1676,
    "start_time": "2022-03-12T18:10:48.584Z"
   },
   {
    "duration": 1141,
    "start_time": "2022-03-12T18:10:50.263Z"
   },
   {
    "duration": 4,
    "start_time": "2022-03-12T18:10:51.407Z"
   },
   {
    "duration": 206,
    "start_time": "2022-03-12T18:10:51.414Z"
   },
   {
    "duration": 219,
    "start_time": "2022-03-12T18:10:51.623Z"
   },
   {
    "duration": 376,
    "start_time": "2022-03-12T18:10:51.844Z"
   },
   {
    "duration": 301,
    "start_time": "2022-03-12T18:10:52.221Z"
   },
   {
    "duration": 507,
    "start_time": "2022-03-12T18:10:52.525Z"
   },
   {
    "duration": 430,
    "start_time": "2022-03-12T18:10:53.034Z"
   },
   {
    "duration": 1566,
    "start_time": "2022-03-12T18:10:53.466Z"
   },
   {
    "duration": 843,
    "start_time": "2022-03-12T18:10:55.034Z"
   },
   {
    "duration": 934,
    "start_time": "2022-03-12T18:10:55.879Z"
   },
   {
    "duration": 899,
    "start_time": "2022-03-12T18:10:56.815Z"
   },
   {
    "duration": 510,
    "start_time": "2022-03-12T18:10:57.716Z"
   },
   {
    "duration": 819,
    "start_time": "2022-03-12T18:10:58.228Z"
   },
   {
    "duration": 1622,
    "start_time": "2022-03-12T18:10:59.048Z"
   },
   {
    "duration": 659,
    "start_time": "2022-03-12T18:11:00.672Z"
   },
   {
    "duration": 813,
    "start_time": "2022-03-12T18:11:01.333Z"
   },
   {
    "duration": 392,
    "start_time": "2022-03-12T18:11:02.148Z"
   },
   {
    "duration": 212,
    "start_time": "2022-03-12T18:11:02.542Z"
   },
   {
    "duration": 984,
    "start_time": "2022-03-12T18:11:02.756Z"
   },
   {
    "duration": 90,
    "start_time": "2022-03-12T18:11:08.779Z"
   },
   {
    "duration": 5,
    "start_time": "2022-03-12T18:11:11.541Z"
   },
   {
    "duration": 5,
    "start_time": "2022-03-12T18:11:12.757Z"
   },
   {
    "duration": 12078,
    "start_time": "2022-03-12T18:11:59.787Z"
   },
   {
    "duration": 1533,
    "start_time": "2022-03-12T18:13:16.964Z"
   },
   {
    "duration": 793,
    "start_time": "2022-03-12T18:13:18.501Z"
   },
   {
    "duration": 465,
    "start_time": "2022-03-12T18:13:19.296Z"
   },
   {
    "duration": 1020,
    "start_time": "2022-03-12T18:13:19.764Z"
   },
   {
    "duration": 1589,
    "start_time": "2022-03-12T18:13:20.786Z"
   },
   {
    "duration": 1892,
    "start_time": "2022-03-12T18:13:22.377Z"
   },
   {
    "duration": 993,
    "start_time": "2022-03-12T18:13:24.271Z"
   },
   {
    "duration": 1272,
    "start_time": "2022-03-12T18:13:25.267Z"
   },
   {
    "duration": 428,
    "start_time": "2022-03-12T18:13:26.541Z"
   },
   {
    "duration": 837,
    "start_time": "2022-03-12T18:13:26.971Z"
   },
   {
    "duration": 484,
    "start_time": "2022-03-12T18:13:27.810Z"
   },
   {
    "duration": 1475,
    "start_time": "2022-03-12T18:13:28.297Z"
   },
   {
    "duration": 613,
    "start_time": "2022-03-12T18:13:29.774Z"
   },
   {
    "duration": 468,
    "start_time": "2022-03-12T18:13:30.389Z"
   },
   {
    "duration": 483,
    "start_time": "2022-03-12T18:13:30.859Z"
   },
   {
    "duration": 12845,
    "start_time": "2022-03-12T18:13:31.345Z"
   },
   {
    "duration": 10,
    "start_time": "2022-03-12T18:13:44.192Z"
   },
   {
    "duration": 928,
    "start_time": "2022-03-12T18:13:44.204Z"
   },
   {
    "duration": 508,
    "start_time": "2022-03-12T18:13:45.134Z"
   },
   {
    "duration": 1349,
    "start_time": "2022-03-12T18:13:45.644Z"
   },
   {
    "duration": 975,
    "start_time": "2022-03-12T18:13:46.995Z"
   },
   {
    "duration": 667,
    "start_time": "2022-03-12T18:13:47.972Z"
   },
   {
    "duration": 967,
    "start_time": "2022-03-12T18:13:48.643Z"
   },
   {
    "duration": 872,
    "start_time": "2022-03-12T18:13:49.613Z"
   },
   {
    "duration": 479,
    "start_time": "2022-03-12T18:13:50.487Z"
   },
   {
    "duration": 2237,
    "start_time": "2022-03-12T18:13:50.968Z"
   },
   {
    "duration": 1014,
    "start_time": "2022-03-12T18:13:53.208Z"
   },
   {
    "duration": 712,
    "start_time": "2022-03-12T18:13:54.224Z"
   },
   {
    "duration": 1746,
    "start_time": "2022-03-12T18:13:54.938Z"
   },
   {
    "duration": 705,
    "start_time": "2022-03-12T18:13:56.686Z"
   },
   {
    "duration": 865,
    "start_time": "2022-03-12T18:13:57.392Z"
   },
   {
    "duration": 1129,
    "start_time": "2022-03-12T18:13:58.259Z"
   },
   {
    "duration": 567,
    "start_time": "2022-03-12T18:13:59.389Z"
   },
   {
    "duration": 626,
    "start_time": "2022-03-12T18:13:59.958Z"
   },
   {
    "duration": 590,
    "start_time": "2022-03-12T18:14:00.586Z"
   },
   {
    "duration": 731,
    "start_time": "2022-03-12T18:14:01.178Z"
   },
   {
    "duration": 1521,
    "start_time": "2022-03-12T18:14:01.912Z"
   },
   {
    "duration": 3066,
    "start_time": "2022-03-12T18:14:03.435Z"
   },
   {
    "duration": 21,
    "start_time": "2022-03-12T18:14:06.503Z"
   },
   {
    "duration": 1041,
    "start_time": "2022-03-12T18:14:06.526Z"
   },
   {
    "duration": 1435,
    "start_time": "2022-03-12T18:14:07.569Z"
   },
   {
    "duration": 4680,
    "start_time": "2022-03-12T18:14:04.326Z"
   },
   {
    "duration": 4663,
    "start_time": "2022-03-12T18:14:04.344Z"
   },
   {
    "duration": 4652,
    "start_time": "2022-03-12T18:14:04.357Z"
   },
   {
    "duration": 4643,
    "start_time": "2022-03-12T18:14:04.367Z"
   },
   {
    "duration": 1280,
    "start_time": "2022-03-12T18:15:00.822Z"
   },
   {
    "duration": 1224,
    "start_time": "2022-03-12T18:15:02.105Z"
   },
   {
    "duration": 1426,
    "start_time": "2022-03-12T18:15:03.332Z"
   },
   {
    "duration": 1352,
    "start_time": "2022-03-12T18:15:04.760Z"
   },
   {
    "duration": 738,
    "start_time": "2022-03-12T18:15:06.114Z"
   },
   {
    "duration": 455,
    "start_time": "2022-03-12T18:15:06.854Z"
   },
   {
    "duration": 745,
    "start_time": "2022-03-12T18:15:07.311Z"
   },
   {
    "duration": 626,
    "start_time": "2022-03-12T18:15:08.059Z"
   },
   {
    "duration": 614,
    "start_time": "2022-03-12T18:15:08.687Z"
   },
   {
    "duration": 2905,
    "start_time": "2022-03-12T18:15:09.303Z"
   },
   {
    "duration": 517,
    "start_time": "2022-03-12T18:15:12.209Z"
   },
   {
    "duration": 506,
    "start_time": "2022-03-12T18:15:12.728Z"
   },
   {
    "duration": 818,
    "start_time": "2022-03-12T18:15:13.235Z"
   },
   {
    "duration": 560,
    "start_time": "2022-03-12T18:15:14.055Z"
   },
   {
    "duration": 616,
    "start_time": "2022-03-12T18:15:14.617Z"
   },
   {
    "duration": 12170,
    "start_time": "2022-03-12T18:15:15.234Z"
   },
   {
    "duration": 7,
    "start_time": "2022-03-12T18:15:27.406Z"
   },
   {
    "duration": 902,
    "start_time": "2022-03-12T18:15:27.415Z"
   },
   {
    "duration": 1342,
    "start_time": "2022-03-12T18:15:28.319Z"
   },
   {
    "duration": 1017,
    "start_time": "2022-03-12T18:15:29.663Z"
   },
   {
    "duration": 709,
    "start_time": "2022-03-12T18:15:30.683Z"
   },
   {
    "duration": 935,
    "start_time": "2022-03-12T18:15:31.394Z"
   },
   {
    "duration": 577,
    "start_time": "2022-03-12T18:15:32.333Z"
   },
   {
    "duration": 357,
    "start_time": "2022-03-12T18:15:32.913Z"
   },
   {
    "duration": 697,
    "start_time": "2022-03-12T18:15:33.273Z"
   },
   {
    "duration": 1591,
    "start_time": "2022-03-12T18:15:33.972Z"
   },
   {
    "duration": 42,
    "start_time": "2022-03-12T18:15:35.564Z"
   },
   {
    "duration": 807,
    "start_time": "2022-03-12T18:15:35.608Z"
   },
   {
    "duration": 855,
    "start_time": "2022-03-12T18:15:36.417Z"
   },
   {
    "duration": 5,
    "start_time": "2022-03-12T18:15:37.274Z"
   },
   {
    "duration": 693,
    "start_time": "2022-03-12T18:15:37.281Z"
   },
   {
    "duration": 680,
    "start_time": "2022-03-12T18:15:37.975Z"
   },
   {
    "duration": 904,
    "start_time": "2022-03-12T18:15:38.657Z"
   },
   {
    "duration": 1077,
    "start_time": "2022-03-12T18:15:39.563Z"
   },
   {
    "duration": 473,
    "start_time": "2022-03-12T18:15:40.642Z"
   },
   {
    "duration": 1348,
    "start_time": "2022-03-12T18:15:41.118Z"
   },
   {
    "duration": 2132,
    "start_time": "2022-03-12T18:15:42.467Z"
   },
   {
    "duration": 1841,
    "start_time": "2022-03-12T18:15:44.601Z"
   },
   {
    "duration": 672,
    "start_time": "2022-03-12T18:15:46.444Z"
   },
   {
    "duration": 1662,
    "start_time": "2022-03-12T18:15:47.118Z"
   },
   {
    "duration": 5591,
    "start_time": "2022-03-12T18:15:48.782Z"
   },
   {
    "duration": 14793,
    "start_time": "2022-03-12T18:15:54.375Z"
   },
   {
    "duration": 234,
    "start_time": "2022-03-12T18:16:09.169Z"
   },
   {
    "duration": 9008,
    "start_time": "2022-03-12T18:16:09.405Z"
   },
   {
    "duration": 9,
    "start_time": "2022-03-12T18:16:18.415Z"
   },
   {
    "duration": 4,
    "start_time": "2022-03-12T18:17:22.009Z"
   },
   {
    "duration": 1355,
    "start_time": "2022-03-12T18:17:36.536Z"
   },
   {
    "duration": 1013,
    "start_time": "2022-03-12T18:17:37.893Z"
   },
   {
    "duration": 3,
    "start_time": "2022-03-12T18:17:38.909Z"
   },
   {
    "duration": 678,
    "start_time": "2022-03-12T18:17:38.914Z"
   },
   {
    "duration": 432,
    "start_time": "2022-03-12T18:17:39.593Z"
   },
   {
    "duration": 798,
    "start_time": "2022-03-12T18:17:40.027Z"
   },
   {
    "duration": 909,
    "start_time": "2022-03-12T18:17:40.827Z"
   },
   {
    "duration": 1776,
    "start_time": "2022-03-12T18:17:41.739Z"
   },
   {
    "duration": 1157,
    "start_time": "2022-03-12T18:17:43.517Z"
   },
   {
    "duration": 584,
    "start_time": "2022-03-12T18:17:44.676Z"
   },
   {
    "duration": 1541,
    "start_time": "2022-03-12T18:17:45.262Z"
   },
   {
    "duration": 1425,
    "start_time": "2022-03-12T18:17:46.805Z"
   },
   {
    "duration": 1322,
    "start_time": "2022-03-12T18:17:48.232Z"
   },
   {
    "duration": 1024,
    "start_time": "2022-03-12T18:17:49.556Z"
   },
   {
    "duration": 899,
    "start_time": "2022-03-12T18:17:50.582Z"
   },
   {
    "duration": 12758,
    "start_time": "2022-03-12T18:17:51.483Z"
   },
   {
    "duration": 6,
    "start_time": "2022-03-12T18:18:04.243Z"
   },
   {
    "duration": 1012,
    "start_time": "2022-03-12T18:18:04.251Z"
   },
   {
    "duration": 703,
    "start_time": "2022-03-12T18:18:05.265Z"
   },
   {
    "duration": 615,
    "start_time": "2022-03-12T18:18:05.970Z"
   },
   {
    "duration": 1636,
    "start_time": "2022-03-12T18:18:06.588Z"
   },
   {
    "duration": 868,
    "start_time": "2022-03-12T18:18:08.226Z"
   },
   {
    "duration": 1013,
    "start_time": "2022-03-12T18:18:09.098Z"
   },
   {
    "duration": 735,
    "start_time": "2022-03-12T18:18:10.113Z"
   },
   {
    "duration": 404,
    "start_time": "2022-03-12T18:18:10.850Z"
   },
   {
    "duration": 1031,
    "start_time": "2022-03-12T18:18:11.255Z"
   },
   {
    "duration": 1167,
    "start_time": "2022-03-12T18:18:12.288Z"
   },
   {
    "duration": 25,
    "start_time": "2022-03-12T18:18:13.457Z"
   },
   {
    "duration": 623,
    "start_time": "2022-03-12T18:18:13.484Z"
   },
   {
    "duration": 1339,
    "start_time": "2022-03-12T18:18:14.108Z"
   },
   {
    "duration": 28,
    "start_time": "2022-03-12T18:18:15.449Z"
   },
   {
    "duration": 935,
    "start_time": "2022-03-12T18:18:15.478Z"
   },
   {
    "duration": 940,
    "start_time": "2022-03-12T18:18:16.415Z"
   },
   {
    "duration": 838,
    "start_time": "2022-03-12T18:18:17.357Z"
   },
   {
    "duration": 721,
    "start_time": "2022-03-12T18:18:18.197Z"
   },
   {
    "duration": 1109,
    "start_time": "2022-03-12T18:18:18.920Z"
   },
   {
    "duration": 224,
    "start_time": "2022-03-12T18:18:20.031Z"
   },
   {
    "duration": 1147,
    "start_time": "2022-03-12T18:18:20.257Z"
   },
   {
    "duration": 1580,
    "start_time": "2022-03-12T18:18:21.406Z"
   },
   {
    "duration": 26,
    "start_time": "2022-03-12T18:18:22.988Z"
   },
   {
    "duration": 1266,
    "start_time": "2022-03-12T18:18:23.016Z"
   },
   {
    "duration": 4001,
    "start_time": "2022-03-12T18:18:24.284Z"
   },
   {
    "duration": 15416,
    "start_time": "2022-03-12T18:18:28.287Z"
   },
   {
    "duration": 205,
    "start_time": "2022-03-12T18:18:43.705Z"
   },
   {
    "duration": 17501,
    "start_time": "2022-03-12T18:18:43.913Z"
   },
   {
    "duration": 89,
    "start_time": "2022-03-12T18:19:01.417Z"
   },
   {
    "duration": 32,
    "start_time": "2022-03-12T18:22:41.827Z"
   },
   {
    "duration": 40,
    "start_time": "2022-03-12T18:23:04.494Z"
   },
   {
    "duration": 28,
    "start_time": "2022-03-12T18:23:14.693Z"
   },
   {
    "duration": 2561,
    "start_time": "2022-03-12T18:23:18.015Z"
   },
   {
    "duration": 4,
    "start_time": "2022-03-12T18:23:37.245Z"
   },
   {
    "duration": 4032,
    "start_time": "2022-03-12T18:23:37.254Z"
   },
   {
    "duration": 1277,
    "start_time": "2022-03-12T18:23:49.695Z"
   },
   {
    "duration": 1279,
    "start_time": "2022-03-12T18:23:50.975Z"
   },
   {
    "duration": 704,
    "start_time": "2022-03-12T18:23:52.257Z"
   },
   {
    "duration": 1618,
    "start_time": "2022-03-12T18:23:52.963Z"
   },
   {
    "duration": 881,
    "start_time": "2022-03-12T18:23:54.583Z"
   },
   {
    "duration": 1118,
    "start_time": "2022-03-12T18:23:55.466Z"
   },
   {
    "duration": 1137,
    "start_time": "2022-03-12T18:23:56.588Z"
   },
   {
    "duration": 1320,
    "start_time": "2022-03-12T18:23:57.727Z"
   },
   {
    "duration": 2880,
    "start_time": "2022-03-12T18:23:59.049Z"
   },
   {
    "duration": 2207,
    "start_time": "2022-03-12T18:24:01.931Z"
   },
   {
    "duration": 2346,
    "start_time": "2022-03-12T18:24:04.139Z"
   },
   {
    "duration": 1580,
    "start_time": "2022-03-12T18:24:06.487Z"
   },
   {
    "duration": 1405,
    "start_time": "2022-03-12T18:24:08.069Z"
   },
   {
    "duration": 1633,
    "start_time": "2022-03-12T18:24:09.476Z"
   },
   {
    "duration": 2218,
    "start_time": "2022-03-12T18:24:11.111Z"
   },
   {
    "duration": 14385,
    "start_time": "2022-03-12T18:24:13.332Z"
   },
   {
    "duration": 6,
    "start_time": "2022-03-12T18:24:27.718Z"
   },
   {
    "duration": 7239,
    "start_time": "2022-03-12T18:24:27.726Z"
   },
   {
    "duration": 899,
    "start_time": "2022-03-12T18:24:34.967Z"
   },
   {
    "duration": 1677,
    "start_time": "2022-03-12T18:24:35.868Z"
   },
   {
    "duration": 2371,
    "start_time": "2022-03-12T18:24:37.547Z"
   },
   {
    "duration": 44,
    "start_time": "2022-03-12T18:24:53.339Z"
   },
   {
    "duration": 1278,
    "start_time": "2022-03-12T18:24:55.110Z"
   },
   {
    "duration": 4,
    "start_time": "2022-03-12T18:24:59.197Z"
   },
   {
    "duration": 3794,
    "start_time": "2022-03-12T18:25:00.611Z"
   },
   {
    "duration": 192,
    "start_time": "2022-03-12T18:25:42.980Z"
   },
   {
    "duration": 3,
    "start_time": "2022-03-12T18:26:57.558Z"
   },
   {
    "duration": 3,
    "start_time": "2022-03-12T18:27:02.083Z"
   },
   {
    "duration": 2651,
    "start_time": "2022-03-12T18:27:02.091Z"
   },
   {
    "duration": 2953,
    "start_time": "2022-03-12T18:27:04.745Z"
   },
   {
    "duration": 2053,
    "start_time": "2022-03-12T18:27:07.700Z"
   },
   {
    "duration": 2139,
    "start_time": "2022-03-12T18:27:09.755Z"
   },
   {
    "duration": 2554,
    "start_time": "2022-03-12T18:27:11.896Z"
   },
   {
    "duration": 4139,
    "start_time": "2022-03-12T18:27:14.452Z"
   },
   {
    "duration": 1513,
    "start_time": "2022-03-12T18:27:18.593Z"
   },
   {
    "duration": 3006,
    "start_time": "2022-03-12T18:27:20.109Z"
   },
   {
    "duration": 1321,
    "start_time": "2022-03-12T18:27:23.118Z"
   },
   {
    "duration": 2246,
    "start_time": "2022-03-12T18:27:24.441Z"
   },
   {
    "duration": 1217,
    "start_time": "2022-03-12T18:27:26.689Z"
   },
   {
    "duration": 1531,
    "start_time": "2022-03-12T18:27:27.908Z"
   },
   {
    "duration": 830,
    "start_time": "2022-03-12T18:27:29.441Z"
   },
   {
    "duration": 910,
    "start_time": "2022-03-12T18:27:30.273Z"
   },
   {
    "duration": 1963,
    "start_time": "2022-03-12T18:27:31.186Z"
   },
   {
    "duration": 24,
    "start_time": "2022-03-12T18:27:33.152Z"
   },
   {
    "duration": 758,
    "start_time": "2022-03-12T18:27:33.178Z"
   },
   {
    "duration": 3675,
    "start_time": "2022-03-12T18:27:33.938Z"
   },
   {
    "duration": 16896,
    "start_time": "2022-03-12T18:27:37.615Z"
   },
   {
    "duration": 290,
    "start_time": "2022-03-12T18:27:54.512Z"
   },
   {
    "duration": 22007,
    "start_time": "2022-03-12T18:27:54.805Z"
   },
   {
    "duration": 9,
    "start_time": "2022-03-12T18:28:16.814Z"
   },
   {
    "duration": 1251,
    "start_time": "2022-03-12T18:30:14.258Z"
   },
   {
    "duration": 5313,
    "start_time": "2022-03-12T18:30:15.511Z"
   },
   {
    "duration": 1531,
    "start_time": "2022-03-12T18:30:20.827Z"
   },
   {
    "duration": 3516,
    "start_time": "2022-03-12T18:30:22.361Z"
   },
   {
    "duration": 1059,
    "start_time": "2022-03-12T18:30:25.880Z"
   },
   {
    "duration": 2211,
    "start_time": "2022-03-12T18:30:26.942Z"
   },
   {
    "duration": 2606,
    "start_time": "2022-03-12T18:30:29.155Z"
   },
   {
    "duration": 1733,
    "start_time": "2022-03-12T18:30:31.763Z"
   },
   {
    "duration": 1358,
    "start_time": "2022-03-12T18:30:33.499Z"
   },
   {
    "duration": 1404,
    "start_time": "2022-03-12T18:30:34.860Z"
   },
   {
    "duration": 1475,
    "start_time": "2022-03-12T18:30:36.266Z"
   },
   {
    "duration": 1655,
    "start_time": "2022-03-12T18:30:37.743Z"
   },
   {
    "duration": 1242,
    "start_time": "2022-03-12T18:30:39.400Z"
   },
   {
    "duration": 962,
    "start_time": "2022-03-12T18:30:40.644Z"
   },
   {
    "duration": 1856,
    "start_time": "2022-03-12T18:30:41.608Z"
   },
   {
    "duration": 13786,
    "start_time": "2022-03-12T18:30:43.466Z"
   },
   {
    "duration": 7,
    "start_time": "2022-03-12T18:30:57.255Z"
   },
   {
    "duration": 34746,
    "start_time": "2022-03-12T18:30:57.263Z"
   },
   {
    "duration": 1291,
    "start_time": "2022-03-12T18:31:32.012Z"
   },
   {
    "duration": 3480,
    "start_time": "2022-03-12T18:31:33.305Z"
   },
   {
    "duration": 778,
    "start_time": "2022-03-12T18:31:36.787Z"
   },
   {
    "duration": 3229,
    "start_time": "2022-03-12T18:31:37.567Z"
   },
   {
    "duration": 2722,
    "start_time": "2022-03-12T18:31:40.798Z"
   },
   {
    "duration": 2450,
    "start_time": "2022-03-12T18:31:43.522Z"
   },
   {
    "duration": 2581,
    "start_time": "2022-03-12T18:31:45.975Z"
   },
   {
    "duration": 1602,
    "start_time": "2022-03-12T18:31:48.558Z"
   },
   {
    "duration": 1170,
    "start_time": "2022-03-12T18:31:50.165Z"
   },
   {
    "duration": 3394,
    "start_time": "2022-03-12T18:31:51.338Z"
   },
   {
    "duration": 3222,
    "start_time": "2022-03-12T18:31:54.734Z"
   },
   {
    "duration": 2002,
    "start_time": "2022-03-12T18:31:57.958Z"
   },
   {
    "duration": 2008,
    "start_time": "2022-03-12T18:31:59.962Z"
   },
   {
    "duration": 2577,
    "start_time": "2022-03-12T18:32:01.972Z"
   },
   {
    "duration": 2523,
    "start_time": "2022-03-12T18:32:04.551Z"
   },
   {
    "duration": 3002,
    "start_time": "2022-03-12T18:32:07.076Z"
   },
   {
    "duration": 2157,
    "start_time": "2022-03-12T18:32:10.080Z"
   },
   {
    "duration": 1950,
    "start_time": "2022-03-12T18:32:12.240Z"
   },
   {
    "duration": 1544,
    "start_time": "2022-03-12T18:32:14.192Z"
   },
   {
    "duration": 2196,
    "start_time": "2022-03-12T18:33:05.405Z"
   },
   {
    "duration": 1252,
    "start_time": "2022-03-12T18:33:07.606Z"
   },
   {
    "duration": 1969,
    "start_time": "2022-03-12T18:33:08.860Z"
   },
   {
    "duration": 2016,
    "start_time": "2022-03-12T18:33:10.831Z"
   },
   {
    "duration": 2304,
    "start_time": "2022-03-12T18:33:12.850Z"
   },
   {
    "duration": 2298,
    "start_time": "2022-03-12T18:33:15.156Z"
   },
   {
    "duration": 3198,
    "start_time": "2022-03-12T18:33:17.456Z"
   },
   {
    "duration": 3603,
    "start_time": "2022-03-12T18:33:20.657Z"
   },
   {
    "duration": 1651,
    "start_time": "2022-03-12T18:33:24.263Z"
   },
   {
    "duration": 4375,
    "start_time": "2022-03-12T18:33:25.916Z"
   },
   {
    "duration": 1638,
    "start_time": "2022-03-12T18:33:30.294Z"
   },
   {
    "duration": 1274,
    "start_time": "2022-03-12T18:33:31.934Z"
   },
   {
    "duration": 1070,
    "start_time": "2022-03-12T18:33:33.210Z"
   },
   {
    "duration": 1547,
    "start_time": "2022-03-12T18:33:34.282Z"
   },
   {
    "duration": 1420,
    "start_time": "2022-03-12T18:33:35.832Z"
   },
   {
    "duration": 13700,
    "start_time": "2022-03-12T18:33:37.254Z"
   },
   {
    "duration": 6,
    "start_time": "2022-03-12T18:33:50.955Z"
   },
   {
    "duration": 2834,
    "start_time": "2022-03-12T18:33:50.963Z"
   },
   {
    "duration": 835,
    "start_time": "2022-03-12T18:33:53.799Z"
   },
   {
    "duration": 827,
    "start_time": "2022-03-12T18:33:54.637Z"
   },
   {
    "duration": 1359,
    "start_time": "2022-03-12T18:33:55.465Z"
   },
   {
    "duration": 1008,
    "start_time": "2022-03-12T18:33:56.826Z"
   },
   {
    "duration": 883,
    "start_time": "2022-03-12T18:33:57.836Z"
   },
   {
    "duration": 783,
    "start_time": "2022-03-12T18:33:58.721Z"
   },
   {
    "duration": 999,
    "start_time": "2022-03-12T18:33:59.506Z"
   },
   {
    "duration": 2060,
    "start_time": "2022-03-12T18:34:00.509Z"
   },
   {
    "duration": 1070,
    "start_time": "2022-03-12T18:34:02.571Z"
   },
   {
    "duration": 926,
    "start_time": "2022-03-12T18:34:03.643Z"
   },
   {
    "duration": 1781,
    "start_time": "2022-03-12T18:34:04.571Z"
   },
   {
    "duration": 1621,
    "start_time": "2022-03-12T18:34:06.354Z"
   },
   {
    "duration": 1648,
    "start_time": "2022-03-12T18:34:07.977Z"
   },
   {
    "duration": 2718,
    "start_time": "2022-03-12T18:34:09.627Z"
   },
   {
    "duration": 1692,
    "start_time": "2022-03-12T18:34:12.348Z"
   },
   {
    "duration": 1271,
    "start_time": "2022-03-12T18:34:14.043Z"
   },
   {
    "duration": 1219,
    "start_time": "2022-03-12T18:34:15.316Z"
   },
   {
    "duration": 1038,
    "start_time": "2022-03-12T18:34:16.538Z"
   },
   {
    "duration": 3419,
    "start_time": "2022-03-12T18:34:17.579Z"
   },
   {
    "duration": 4,
    "start_time": "2022-03-12T18:35:10.433Z"
   },
   {
    "duration": 1537,
    "start_time": "2022-03-12T18:35:10.455Z"
   },
   {
    "duration": 513,
    "start_time": "2022-03-12T18:35:11.994Z"
   },
   {
    "duration": 932,
    "start_time": "2022-03-12T18:35:12.509Z"
   },
   {
    "duration": 2513,
    "start_time": "2022-03-12T18:35:13.443Z"
   },
   {
    "duration": 5395,
    "start_time": "2022-03-12T18:35:15.958Z"
   },
   {
    "duration": 938,
    "start_time": "2022-03-12T18:35:21.354Z"
   },
   {
    "duration": 1752,
    "start_time": "2022-03-12T18:35:22.295Z"
   },
   {
    "duration": 2371,
    "start_time": "2022-03-12T18:35:24.048Z"
   },
   {
    "duration": 922,
    "start_time": "2022-03-12T18:35:26.422Z"
   },
   {
    "duration": 306,
    "start_time": "2022-03-12T18:35:27.346Z"
   },
   {
    "duration": 1248,
    "start_time": "2022-03-12T18:35:27.654Z"
   },
   {
    "duration": 2557,
    "start_time": "2022-03-12T18:35:28.903Z"
   },
   {
    "duration": 1722,
    "start_time": "2022-03-12T18:35:31.463Z"
   },
   {
    "duration": 3542,
    "start_time": "2022-03-12T18:35:33.187Z"
   },
   {
    "duration": 13098,
    "start_time": "2022-03-12T18:35:36.731Z"
   },
   {
    "duration": 4,
    "start_time": "2022-03-12T18:35:49.831Z"
   },
   {
    "duration": 2021,
    "start_time": "2022-03-12T18:35:49.836Z"
   },
   {
    "duration": 784,
    "start_time": "2022-03-12T18:35:51.859Z"
   },
   {
    "duration": 1532,
    "start_time": "2022-03-12T18:35:52.646Z"
   },
   {
    "duration": 681,
    "start_time": "2022-03-12T18:35:54.180Z"
   },
   {
    "duration": 616,
    "start_time": "2022-03-12T18:35:54.863Z"
   },
   {
    "duration": 1215,
    "start_time": "2022-03-12T18:35:55.481Z"
   },
   {
    "duration": 1004,
    "start_time": "2022-03-12T18:35:56.698Z"
   },
   {
    "duration": 1878,
    "start_time": "2022-03-12T18:35:57.705Z"
   },
   {
    "duration": 1382,
    "start_time": "2022-03-12T18:35:59.585Z"
   },
   {
    "duration": 985,
    "start_time": "2022-03-12T18:36:00.969Z"
   },
   {
    "duration": 814,
    "start_time": "2022-03-12T18:36:01.958Z"
   },
   {
    "duration": 1609,
    "start_time": "2022-03-12T18:36:02.775Z"
   },
   {
    "duration": 1174,
    "start_time": "2022-03-12T18:36:04.386Z"
   },
   {
    "duration": 2568,
    "start_time": "2022-03-12T18:36:05.562Z"
   },
   {
    "duration": 1788,
    "start_time": "2022-03-12T18:36:08.132Z"
   },
   {
    "duration": 900,
    "start_time": "2022-03-12T18:36:09.922Z"
   },
   {
    "duration": 1463,
    "start_time": "2022-03-12T18:36:10.823Z"
   },
   {
    "duration": 1852,
    "start_time": "2022-03-12T18:36:12.288Z"
   },
   {
    "duration": 731,
    "start_time": "2022-03-12T18:36:14.141Z"
   },
   {
    "duration": 741,
    "start_time": "2022-03-12T18:36:14.874Z"
   },
   {
    "duration": 834,
    "start_time": "2022-03-12T18:36:15.617Z"
   },
   {
    "duration": 2113,
    "start_time": "2022-03-12T18:36:16.454Z"
   },
   {
    "duration": 1735,
    "start_time": "2022-03-12T18:36:18.569Z"
   },
   {
    "duration": 1608,
    "start_time": "2022-03-12T18:36:20.307Z"
   },
   {
    "duration": 38,
    "start_time": "2022-03-12T18:36:21.916Z"
   },
   {
    "duration": 2012,
    "start_time": "2022-03-12T18:36:21.956Z"
   },
   {
    "duration": 3771,
    "start_time": "2022-03-12T18:36:23.969Z"
   },
   {
    "duration": 14694,
    "start_time": "2022-03-12T18:36:27.742Z"
   },
   {
    "duration": 265,
    "start_time": "2022-03-12T18:36:42.438Z"
   },
   {
    "duration": 9209,
    "start_time": "2022-03-12T18:36:42.705Z"
   },
   {
    "duration": 12,
    "start_time": "2022-03-12T18:36:51.916Z"
   },
   {
    "duration": 4,
    "start_time": "2022-03-12T18:38:34.006Z"
   },
   {
    "duration": 3,
    "start_time": "2022-03-12T18:38:52.894Z"
   },
   {
    "duration": 4,
    "start_time": "2022-03-12T18:40:53.707Z"
   },
   {
    "duration": 311,
    "start_time": "2022-03-12T18:41:09.842Z"
   },
   {
    "duration": 4,
    "start_time": "2022-03-12T18:41:25.006Z"
   },
   {
    "duration": 3,
    "start_time": "2022-03-12T18:41:51.785Z"
   },
   {
    "duration": 5,
    "start_time": "2022-03-12T18:42:35.333Z"
   },
   {
    "duration": 77,
    "start_time": "2022-03-12T18:43:21.080Z"
   },
   {
    "duration": 84,
    "start_time": "2022-03-12T18:43:25.021Z"
   },
   {
    "duration": 16,
    "start_time": "2022-03-12T18:43:27.214Z"
   },
   {
    "duration": 17,
    "start_time": "2022-03-12T18:44:37.192Z"
   },
   {
    "duration": 14,
    "start_time": "2022-03-12T18:44:46.581Z"
   },
   {
    "duration": 13,
    "start_time": "2022-03-12T18:45:07.094Z"
   },
   {
    "duration": 13,
    "start_time": "2022-03-12T18:45:16.146Z"
   },
   {
    "duration": 283,
    "start_time": "2022-03-12T18:45:54.394Z"
   },
   {
    "duration": 171,
    "start_time": "2022-03-12T18:45:59.674Z"
   },
   {
    "duration": 175,
    "start_time": "2022-03-12T18:46:18.008Z"
   },
   {
    "duration": 292,
    "start_time": "2022-03-12T18:46:44.211Z"
   },
   {
    "duration": 178,
    "start_time": "2022-03-12T18:46:51.652Z"
   },
   {
    "duration": 293,
    "start_time": "2022-03-12T18:47:27.204Z"
   },
   {
    "duration": 731,
    "start_time": "2022-03-12T18:47:41.224Z"
   },
   {
    "duration": 348,
    "start_time": "2022-03-12T18:48:19.831Z"
   },
   {
    "duration": 695,
    "start_time": "2022-03-12T18:48:25.053Z"
   },
   {
    "duration": 176,
    "start_time": "2022-03-12T18:48:34.705Z"
   },
   {
    "duration": 178,
    "start_time": "2022-03-12T18:49:28.697Z"
   },
   {
    "duration": 211,
    "start_time": "2022-03-12T18:50:57.620Z"
   },
   {
    "duration": 1950,
    "start_time": "2022-03-12T18:51:02.570Z"
   },
   {
    "duration": 5226,
    "start_time": "2022-03-12T18:51:05.602Z"
   },
   {
    "duration": 296,
    "start_time": "2022-03-12T18:51:55.965Z"
   },
   {
    "duration": 192,
    "start_time": "2022-03-12T18:52:05.989Z"
   },
   {
    "duration": 289,
    "start_time": "2022-03-12T18:52:19.498Z"
   },
   {
    "duration": 5,
    "start_time": "2022-03-12T18:52:38.398Z"
   },
   {
    "duration": 4443,
    "start_time": "2022-03-12T18:52:41.374Z"
   },
   {
    "duration": 179,
    "start_time": "2022-03-12T18:54:19.900Z"
   },
   {
    "duration": 174,
    "start_time": "2022-03-12T18:54:37.155Z"
   },
   {
    "duration": 221,
    "start_time": "2022-03-12T18:56:42.470Z"
   },
   {
    "duration": 201,
    "start_time": "2022-03-12T18:58:13.907Z"
   },
   {
    "duration": 206,
    "start_time": "2022-03-12T18:58:54.828Z"
   },
   {
    "duration": 203,
    "start_time": "2022-03-12T18:58:58.968Z"
   },
   {
    "duration": 1900,
    "start_time": "2022-03-12T18:59:48.890Z"
   },
   {
    "duration": 1280,
    "start_time": "2022-03-12T18:59:50.793Z"
   },
   {
    "duration": 2277,
    "start_time": "2022-03-12T18:59:52.075Z"
   },
   {
    "duration": 278,
    "start_time": "2022-03-12T19:00:11.144Z"
   },
   {
    "duration": 244,
    "start_time": "2022-03-12T19:00:39.191Z"
   },
   {
    "duration": 1217,
    "start_time": "2022-03-12T19:00:46.701Z"
   },
   {
    "duration": 253,
    "start_time": "2022-03-12T19:00:57.151Z"
   },
   {
    "duration": 227,
    "start_time": "2022-03-12T19:02:28.321Z"
   },
   {
    "duration": 231,
    "start_time": "2022-03-12T19:02:44.819Z"
   },
   {
    "duration": 76,
    "start_time": "2022-03-12T19:02:57.452Z"
   },
   {
    "duration": 431,
    "start_time": "2022-03-12T19:03:01.035Z"
   },
   {
    "duration": 240,
    "start_time": "2022-03-12T19:03:39.885Z"
   },
   {
    "duration": 230,
    "start_time": "2022-03-12T19:03:47.492Z"
   },
   {
    "duration": 230,
    "start_time": "2022-03-12T19:04:01.512Z"
   },
   {
    "duration": 307,
    "start_time": "2022-03-12T19:04:09.236Z"
   },
   {
    "duration": 232,
    "start_time": "2022-03-12T19:04:12.371Z"
   },
   {
    "duration": 225,
    "start_time": "2022-03-12T19:05:13.631Z"
   },
   {
    "duration": 830,
    "start_time": "2022-03-12T19:06:16.113Z"
   },
   {
    "duration": 878,
    "start_time": "2022-03-12T19:06:43.969Z"
   },
   {
    "duration": 801,
    "start_time": "2022-03-12T19:07:21.410Z"
   },
   {
    "duration": 214,
    "start_time": "2022-03-12T19:07:48.970Z"
   },
   {
    "duration": 3,
    "start_time": "2022-03-12T19:13:55.531Z"
   },
   {
    "duration": 10,
    "start_time": "2022-03-12T19:14:09.237Z"
   },
   {
    "duration": 322,
    "start_time": "2022-03-12T19:14:17.317Z"
   },
   {
    "duration": 227,
    "start_time": "2022-03-12T19:14:20.607Z"
   },
   {
    "duration": 212,
    "start_time": "2022-03-12T19:14:24.119Z"
   },
   {
    "duration": 4,
    "start_time": "2022-03-12T19:14:26.378Z"
   },
   {
    "duration": 6,
    "start_time": "2022-03-12T19:14:29.453Z"
   },
   {
    "duration": 222,
    "start_time": "2022-03-12T19:14:36.077Z"
   },
   {
    "duration": 219,
    "start_time": "2022-03-12T19:17:46.956Z"
   },
   {
    "duration": 3,
    "start_time": "2022-03-12T19:17:49.576Z"
   },
   {
    "duration": 9,
    "start_time": "2022-03-12T19:17:50.483Z"
   },
   {
    "duration": 232,
    "start_time": "2022-03-12T19:18:00.907Z"
   },
   {
    "duration": 6,
    "start_time": "2022-03-12T19:18:03.202Z"
   },
   {
    "duration": 1360,
    "start_time": "2022-03-12T19:18:05.506Z"
   },
   {
    "duration": 4,
    "start_time": "2022-03-12T19:18:14.704Z"
   },
   {
    "duration": 5,
    "start_time": "2022-03-12T19:23:39.254Z"
   },
   {
    "duration": 3,
    "start_time": "2022-03-12T19:24:29.157Z"
   },
   {
    "duration": 228,
    "start_time": "2022-03-12T19:24:31.565Z"
   },
   {
    "duration": 9,
    "start_time": "2022-03-12T19:25:09.759Z"
   },
   {
    "duration": 5,
    "start_time": "2022-03-12T19:27:33.714Z"
   },
   {
    "duration": 7,
    "start_time": "2022-03-12T19:27:41.233Z"
   },
   {
    "duration": 6,
    "start_time": "2022-03-12T19:27:52.180Z"
   },
   {
    "duration": 919,
    "start_time": "2022-03-12T19:27:57.300Z"
   },
   {
    "duration": 1807,
    "start_time": "2022-03-12T19:28:01.234Z"
   },
   {
    "duration": 277,
    "start_time": "2022-03-12T19:28:21.782Z"
   },
   {
    "duration": 1836,
    "start_time": "2022-03-12T19:29:13.159Z"
   },
   {
    "duration": 2285,
    "start_time": "2022-03-12T19:29:14.997Z"
   },
   {
    "duration": 8008,
    "start_time": "2022-03-12T19:29:17.285Z"
   },
   {
    "duration": 4608,
    "start_time": "2022-03-12T19:29:25.295Z"
   },
   {
    "duration": 2552,
    "start_time": "2022-03-12T19:29:29.905Z"
   },
   {
    "duration": 2350,
    "start_time": "2022-03-12T19:29:32.460Z"
   },
   {
    "duration": 6297,
    "start_time": "2022-03-12T19:29:34.812Z"
   },
   {
    "duration": 2161,
    "start_time": "2022-03-12T19:29:41.110Z"
   },
   {
    "duration": 3768,
    "start_time": "2022-03-12T19:29:43.273Z"
   },
   {
    "duration": 2388,
    "start_time": "2022-03-12T19:29:47.042Z"
   },
   {
    "duration": 6,
    "start_time": "2022-03-12T19:29:55.280Z"
   },
   {
    "duration": 307,
    "start_time": "2022-03-12T19:30:02.000Z"
   },
   {
    "duration": 7,
    "start_time": "2022-03-12T19:30:08.485Z"
   },
   {
    "duration": 8,
    "start_time": "2022-03-12T19:30:23.002Z"
   },
   {
    "duration": 7,
    "start_time": "2022-03-12T19:30:27.358Z"
   },
   {
    "duration": 9,
    "start_time": "2022-03-12T19:31:48.686Z"
   },
   {
    "duration": 8,
    "start_time": "2022-03-12T19:31:55.490Z"
   },
   {
    "duration": 8,
    "start_time": "2022-03-12T19:32:34.387Z"
   },
   {
    "duration": 297,
    "start_time": "2022-03-12T19:32:38.026Z"
   },
   {
    "duration": 236,
    "start_time": "2022-03-12T19:32:42.170Z"
   },
   {
    "duration": 7,
    "start_time": "2022-03-12T19:32:59.570Z"
   },
   {
    "duration": 7,
    "start_time": "2022-03-12T19:33:17.523Z"
   },
   {
    "duration": 7,
    "start_time": "2022-03-12T19:33:20.691Z"
   },
   {
    "duration": 7,
    "start_time": "2022-03-12T19:33:26.794Z"
   },
   {
    "duration": 5,
    "start_time": "2022-03-12T19:33:30.979Z"
   },
   {
    "duration": 10,
    "start_time": "2022-03-12T19:34:57.853Z"
   },
   {
    "duration": 9,
    "start_time": "2022-03-12T19:35:37.003Z"
   },
   {
    "duration": 21,
    "start_time": "2022-03-12T19:38:06.614Z"
   },
   {
    "duration": 3,
    "start_time": "2022-03-12T19:48:28.379Z"
   },
   {
    "duration": 4,
    "start_time": "2022-03-12T19:48:39.986Z"
   },
   {
    "duration": 552,
    "start_time": "2022-03-12T19:48:41.354Z"
   },
   {
    "duration": 5,
    "start_time": "2022-03-12T19:49:18.400Z"
   },
   {
    "duration": 4,
    "start_time": "2022-03-12T19:52:28.701Z"
   },
   {
    "duration": 3,
    "start_time": "2022-03-12T19:53:32.543Z"
   },
   {
    "duration": 5,
    "start_time": "2022-03-12T19:53:34.710Z"
   },
   {
    "duration": 590,
    "start_time": "2022-03-12T19:53:35.558Z"
   },
   {
    "duration": 6,
    "start_time": "2022-03-12T20:08:38.797Z"
   },
   {
    "duration": 17,
    "start_time": "2022-03-12T20:10:56.202Z"
   },
   {
    "duration": 537,
    "start_time": "2022-03-12T20:11:43.381Z"
   },
   {
    "duration": 7,
    "start_time": "2022-03-12T20:15:02.260Z"
   },
   {
    "duration": 5,
    "start_time": "2022-03-12T20:16:18.773Z"
   },
   {
    "duration": 5,
    "start_time": "2022-03-12T20:16:20.863Z"
   },
   {
    "duration": 5,
    "start_time": "2022-03-12T20:16:24.061Z"
   },
   {
    "duration": 5,
    "start_time": "2022-03-12T20:16:25.903Z"
   },
   {
    "duration": 17,
    "start_time": "2022-03-12T20:17:17.452Z"
   },
   {
    "duration": 3,
    "start_time": "2022-03-12T20:17:19.139Z"
   },
   {
    "duration": 7,
    "start_time": "2022-03-12T20:17:35.157Z"
   },
   {
    "duration": 4,
    "start_time": "2022-03-12T20:18:46.348Z"
   },
   {
    "duration": 942,
    "start_time": "2022-03-12T20:19:39.739Z"
   },
   {
    "duration": 11,
    "start_time": "2022-03-12T20:21:53.742Z"
   },
   {
    "duration": 24,
    "start_time": "2022-03-12T20:22:09.678Z"
   },
   {
    "duration": 14,
    "start_time": "2022-03-12T20:22:50.749Z"
   },
   {
    "duration": 5,
    "start_time": "2022-03-12T20:23:16.496Z"
   },
   {
    "duration": 15706,
    "start_time": "2022-03-12T20:24:56.256Z"
   },
   {
    "duration": 3194,
    "start_time": "2022-03-12T20:25:19.435Z"
   },
   {
    "duration": 4684,
    "start_time": "2022-03-12T20:25:33.990Z"
   },
   {
    "duration": 271,
    "start_time": "2022-03-12T20:25:39.814Z"
   },
   {
    "duration": 57651,
    "start_time": "2022-03-12T20:25:44.997Z"
   },
   {
    "duration": 3257,
    "start_time": "2022-03-12T20:26:51.062Z"
   },
   {
    "duration": 15545,
    "start_time": "2022-03-12T20:26:55.110Z"
   },
   {
    "duration": 216,
    "start_time": "2022-03-12T20:27:12.787Z"
   },
   {
    "duration": 8855,
    "start_time": "2022-03-12T20:33:42.063Z"
   },
   {
    "duration": 10,
    "start_time": "2022-03-12T20:34:48.234Z"
   },
   {
    "duration": 9,
    "start_time": "2022-03-12T20:35:05.379Z"
   },
   {
    "duration": 8,
    "start_time": "2022-03-12T20:35:06.050Z"
   },
   {
    "duration": 5,
    "start_time": "2022-03-12T20:36:00.982Z"
   },
   {
    "duration": 9,
    "start_time": "2022-03-12T20:36:25.397Z"
   },
   {
    "duration": 8,
    "start_time": "2022-03-12T20:36:26.149Z"
   },
   {
    "duration": 1273,
    "start_time": "2022-03-12T20:36:36.817Z"
   },
   {
    "duration": 810,
    "start_time": "2022-03-12T20:36:38.092Z"
   },
   {
    "duration": 4,
    "start_time": "2022-03-12T20:36:38.904Z"
   },
   {
    "duration": 319,
    "start_time": "2022-03-12T20:36:38.910Z"
   },
   {
    "duration": 4,
    "start_time": "2022-03-12T20:36:39.232Z"
   },
   {
    "duration": 16,
    "start_time": "2022-03-12T20:36:39.238Z"
   },
   {
    "duration": 24,
    "start_time": "2022-03-12T20:36:39.256Z"
   },
   {
    "duration": 5,
    "start_time": "2022-03-12T20:36:39.284Z"
   },
   {
    "duration": 18,
    "start_time": "2022-03-12T20:36:39.292Z"
   },
   {
    "duration": 23,
    "start_time": "2022-03-12T20:36:39.312Z"
   },
   {
    "duration": 30,
    "start_time": "2022-03-12T20:36:39.337Z"
   },
   {
    "duration": 16,
    "start_time": "2022-03-12T20:36:39.370Z"
   },
   {
    "duration": 24,
    "start_time": "2022-03-12T20:36:39.389Z"
   },
   {
    "duration": 15,
    "start_time": "2022-03-12T20:36:39.415Z"
   },
   {
    "duration": 34,
    "start_time": "2022-03-12T20:36:39.432Z"
   },
   {
    "duration": 7,
    "start_time": "2022-03-12T20:36:39.468Z"
   },
   {
    "duration": 7,
    "start_time": "2022-03-12T20:36:39.477Z"
   },
   {
    "duration": 563,
    "start_time": "2022-03-12T20:36:39.486Z"
   },
   {
    "duration": 7,
    "start_time": "2022-03-12T20:36:40.052Z"
   },
   {
    "duration": 44,
    "start_time": "2022-03-12T20:36:40.062Z"
   },
   {
    "duration": 514,
    "start_time": "2022-03-12T20:36:40.108Z"
   },
   {
    "duration": 6,
    "start_time": "2022-03-12T20:36:40.624Z"
   },
   {
    "duration": 8,
    "start_time": "2022-03-12T20:36:40.633Z"
   },
   {
    "duration": 6,
    "start_time": "2022-03-12T20:36:40.644Z"
   },
   {
    "duration": 9,
    "start_time": "2022-03-12T20:36:40.652Z"
   },
   {
    "duration": 11,
    "start_time": "2022-03-12T20:36:40.663Z"
   },
   {
    "duration": 39,
    "start_time": "2022-03-12T20:36:40.676Z"
   },
   {
    "duration": 3,
    "start_time": "2022-03-12T20:36:40.717Z"
   },
   {
    "duration": 12,
    "start_time": "2022-03-12T20:36:40.722Z"
   },
   {
    "duration": 1022,
    "start_time": "2022-03-12T20:36:40.736Z"
   },
   {
    "duration": 11,
    "start_time": "2022-03-12T20:36:41.760Z"
   },
   {
    "duration": 43,
    "start_time": "2022-03-12T20:36:41.773Z"
   },
   {
    "duration": 14,
    "start_time": "2022-03-12T20:36:41.818Z"
   },
   {
    "duration": 5,
    "start_time": "2022-03-12T20:36:41.834Z"
   },
   {
    "duration": 3300,
    "start_time": "2022-03-12T20:36:41.841Z"
   },
   {
    "duration": 15057,
    "start_time": "2022-03-12T20:36:45.143Z"
   },
   {
    "duration": 304,
    "start_time": "2022-03-12T20:37:00.202Z"
   },
   {
    "duration": 8604,
    "start_time": "2022-03-12T20:37:00.508Z"
   },
   {
    "duration": 10,
    "start_time": "2022-03-12T20:37:09.114Z"
   },
   {
    "duration": 1318,
    "start_time": "2022-03-12T20:38:03.077Z"
   },
   {
    "duration": 779,
    "start_time": "2022-03-12T20:38:04.397Z"
   },
   {
    "duration": 4,
    "start_time": "2022-03-12T20:38:05.178Z"
   },
   {
    "duration": 284,
    "start_time": "2022-03-12T20:38:05.184Z"
   },
   {
    "duration": 3,
    "start_time": "2022-03-12T20:38:05.472Z"
   },
   {
    "duration": 23,
    "start_time": "2022-03-12T20:38:05.478Z"
   },
   {
    "duration": 22,
    "start_time": "2022-03-12T20:38:05.503Z"
   },
   {
    "duration": 27,
    "start_time": "2022-03-12T20:38:05.528Z"
   },
   {
    "duration": 19,
    "start_time": "2022-03-12T20:38:05.557Z"
   },
   {
    "duration": 13,
    "start_time": "2022-03-12T20:38:05.578Z"
   },
   {
    "duration": 20,
    "start_time": "2022-03-12T20:38:05.593Z"
   },
   {
    "duration": 24,
    "start_time": "2022-03-12T20:38:05.616Z"
   },
   {
    "duration": 17,
    "start_time": "2022-03-12T20:38:05.642Z"
   },
   {
    "duration": 10,
    "start_time": "2022-03-12T20:38:05.661Z"
   },
   {
    "duration": 37,
    "start_time": "2022-03-12T20:38:05.673Z"
   },
   {
    "duration": 3,
    "start_time": "2022-03-12T20:38:05.712Z"
   },
   {
    "duration": 20,
    "start_time": "2022-03-12T20:38:05.717Z"
   },
   {
    "duration": 581,
    "start_time": "2022-03-12T20:38:05.739Z"
   },
   {
    "duration": 6,
    "start_time": "2022-03-12T20:38:06.322Z"
   },
   {
    "duration": 23,
    "start_time": "2022-03-12T20:38:06.330Z"
   },
   {
    "duration": 523,
    "start_time": "2022-03-12T20:38:06.355Z"
   },
   {
    "duration": 6,
    "start_time": "2022-03-12T20:38:06.881Z"
   },
   {
    "duration": 17,
    "start_time": "2022-03-12T20:38:06.891Z"
   },
   {
    "duration": 9,
    "start_time": "2022-03-12T20:38:06.911Z"
   },
   {
    "duration": 10,
    "start_time": "2022-03-12T20:38:06.922Z"
   },
   {
    "duration": 9,
    "start_time": "2022-03-12T20:38:06.934Z"
   },
   {
    "duration": 39,
    "start_time": "2022-03-12T20:38:06.945Z"
   },
   {
    "duration": 4,
    "start_time": "2022-03-12T20:38:06.986Z"
   },
   {
    "duration": 13,
    "start_time": "2022-03-12T20:38:06.993Z"
   },
   {
    "duration": 1453,
    "start_time": "2022-03-12T20:38:07.009Z"
   },
   {
    "duration": 13,
    "start_time": "2022-03-12T20:38:08.464Z"
   },
   {
    "duration": 7,
    "start_time": "2022-03-12T20:38:08.480Z"
   },
   {
    "duration": 13,
    "start_time": "2022-03-12T20:38:08.501Z"
   },
   {
    "duration": 5,
    "start_time": "2022-03-12T20:38:08.516Z"
   },
   {
    "duration": 3327,
    "start_time": "2022-03-12T20:38:08.523Z"
   },
   {
    "duration": 15299,
    "start_time": "2022-03-12T20:38:11.852Z"
   },
   {
    "duration": 450,
    "start_time": "2022-03-12T20:38:27.153Z"
   },
   {
    "duration": 11115,
    "start_time": "2022-03-12T20:38:27.605Z"
   },
   {
    "duration": 11,
    "start_time": "2022-03-12T20:38:38.723Z"
   },
   {
    "duration": 9,
    "start_time": "2022-03-12T20:44:17.295Z"
   },
   {
    "duration": 8646,
    "start_time": "2022-03-12T20:44:47.063Z"
   },
   {
    "duration": 58,
    "start_time": "2022-03-12T20:45:11.153Z"
   },
   {
    "duration": 15146,
    "start_time": "2022-03-12T20:45:12.619Z"
   },
   {
    "duration": 3318,
    "start_time": "2022-03-12T20:45:27.768Z"
   },
   {
    "duration": 1317,
    "start_time": "2022-03-12T20:45:38.892Z"
   },
   {
    "duration": 789,
    "start_time": "2022-03-12T20:45:40.212Z"
   },
   {
    "duration": 4,
    "start_time": "2022-03-12T20:45:41.007Z"
   },
   {
    "duration": 268,
    "start_time": "2022-03-12T20:45:41.013Z"
   },
   {
    "duration": 5,
    "start_time": "2022-03-12T20:45:41.283Z"
   },
   {
    "duration": 15,
    "start_time": "2022-03-12T20:45:41.290Z"
   },
   {
    "duration": 11,
    "start_time": "2022-03-12T20:45:41.308Z"
   },
   {
    "duration": 6,
    "start_time": "2022-03-12T20:45:41.322Z"
   },
   {
    "duration": 8,
    "start_time": "2022-03-12T20:45:41.330Z"
   },
   {
    "duration": 13,
    "start_time": "2022-03-12T20:45:41.339Z"
   },
   {
    "duration": 14,
    "start_time": "2022-03-12T20:45:41.354Z"
   },
   {
    "duration": 9,
    "start_time": "2022-03-12T20:45:41.371Z"
   },
   {
    "duration": 18,
    "start_time": "2022-03-12T20:45:41.402Z"
   },
   {
    "duration": 12,
    "start_time": "2022-03-12T20:45:41.422Z"
   },
   {
    "duration": 33,
    "start_time": "2022-03-12T20:45:41.437Z"
   },
   {
    "duration": 3,
    "start_time": "2022-03-12T20:45:41.473Z"
   },
   {
    "duration": 22,
    "start_time": "2022-03-12T20:45:41.479Z"
   },
   {
    "duration": 797,
    "start_time": "2022-03-12T20:45:41.504Z"
   },
   {
    "duration": 5,
    "start_time": "2022-03-12T20:45:42.304Z"
   },
   {
    "duration": 28,
    "start_time": "2022-03-12T20:45:42.311Z"
   },
   {
    "duration": 745,
    "start_time": "2022-03-12T20:45:42.342Z"
   },
   {
    "duration": 8,
    "start_time": "2022-03-12T20:45:43.100Z"
   },
   {
    "duration": 9,
    "start_time": "2022-03-12T20:45:43.110Z"
   },
   {
    "duration": 11,
    "start_time": "2022-03-12T20:45:43.121Z"
   },
   {
    "duration": 6,
    "start_time": "2022-03-12T20:45:43.134Z"
   },
   {
    "duration": 10,
    "start_time": "2022-03-12T20:45:43.142Z"
   },
   {
    "duration": 22,
    "start_time": "2022-03-12T20:45:43.153Z"
   },
   {
    "duration": 24,
    "start_time": "2022-03-12T20:45:43.177Z"
   },
   {
    "duration": 7,
    "start_time": "2022-03-12T20:45:43.203Z"
   },
   {
    "duration": 1016,
    "start_time": "2022-03-12T20:45:43.212Z"
   },
   {
    "duration": 12,
    "start_time": "2022-03-12T20:45:44.229Z"
   },
   {
    "duration": 21,
    "start_time": "2022-03-12T20:45:44.243Z"
   },
   {
    "duration": 5,
    "start_time": "2022-03-12T20:45:44.266Z"
   },
   {
    "duration": 3314,
    "start_time": "2022-03-12T20:45:44.273Z"
   },
   {
    "duration": 15375,
    "start_time": "2022-03-12T20:45:47.589Z"
   },
   {
    "duration": 247,
    "start_time": "2022-03-12T20:46:02.966Z"
   },
   {
    "duration": 8786,
    "start_time": "2022-03-12T20:46:03.216Z"
   },
   {
    "duration": 10,
    "start_time": "2022-03-12T20:46:12.005Z"
   },
   {
    "duration": 18266,
    "start_time": "2022-03-12T20:47:14.038Z"
   },
   {
    "duration": 9148,
    "start_time": "2022-03-12T20:47:56.569Z"
   },
   {
    "duration": 1592,
    "start_time": "2022-03-12T20:48:08.009Z"
   },
   {
    "duration": 1128,
    "start_time": "2022-03-12T20:48:09.603Z"
   },
   {
    "duration": 3,
    "start_time": "2022-03-12T20:48:10.734Z"
   },
   {
    "duration": 359,
    "start_time": "2022-03-12T20:48:10.742Z"
   },
   {
    "duration": 4,
    "start_time": "2022-03-12T20:48:11.103Z"
   },
   {
    "duration": 17,
    "start_time": "2022-03-12T20:48:11.109Z"
   },
   {
    "duration": 28,
    "start_time": "2022-03-12T20:48:11.129Z"
   },
   {
    "duration": 17,
    "start_time": "2022-03-12T20:48:11.160Z"
   },
   {
    "duration": 17,
    "start_time": "2022-03-12T20:48:11.180Z"
   },
   {
    "duration": 17,
    "start_time": "2022-03-12T20:48:11.199Z"
   },
   {
    "duration": 21,
    "start_time": "2022-03-12T20:48:11.218Z"
   },
   {
    "duration": 23,
    "start_time": "2022-03-12T20:48:11.242Z"
   },
   {
    "duration": 34,
    "start_time": "2022-03-12T20:48:11.267Z"
   },
   {
    "duration": 26,
    "start_time": "2022-03-12T20:48:11.303Z"
   },
   {
    "duration": 35,
    "start_time": "2022-03-12T20:48:11.332Z"
   },
   {
    "duration": 3,
    "start_time": "2022-03-12T20:48:11.369Z"
   },
   {
    "duration": 23,
    "start_time": "2022-03-12T20:48:11.374Z"
   },
   {
    "duration": 707,
    "start_time": "2022-03-12T20:48:11.399Z"
   },
   {
    "duration": 7,
    "start_time": "2022-03-12T20:48:12.108Z"
   },
   {
    "duration": 28,
    "start_time": "2022-03-12T20:48:12.116Z"
   },
   {
    "duration": 831,
    "start_time": "2022-03-12T20:48:12.147Z"
   },
   {
    "duration": 8,
    "start_time": "2022-03-12T20:48:12.981Z"
   },
   {
    "duration": 5,
    "start_time": "2022-03-12T20:48:13.004Z"
   },
   {
    "duration": 13,
    "start_time": "2022-03-12T20:48:13.011Z"
   },
   {
    "duration": 7,
    "start_time": "2022-03-12T20:48:13.026Z"
   },
   {
    "duration": 9,
    "start_time": "2022-03-12T20:48:13.035Z"
   },
   {
    "duration": 23,
    "start_time": "2022-03-12T20:48:13.046Z"
   },
   {
    "duration": 3,
    "start_time": "2022-03-12T20:48:13.071Z"
   },
   {
    "duration": 30,
    "start_time": "2022-03-12T20:48:13.076Z"
   },
   {
    "duration": 1018,
    "start_time": "2022-03-12T20:48:13.108Z"
   },
   {
    "duration": 11,
    "start_time": "2022-03-12T20:48:14.128Z"
   },
   {
    "duration": 18,
    "start_time": "2022-03-12T20:48:14.141Z"
   },
   {
    "duration": 4,
    "start_time": "2022-03-12T20:48:14.161Z"
   },
   {
    "duration": 3353,
    "start_time": "2022-03-12T20:48:14.167Z"
   },
   {
    "duration": 15889,
    "start_time": "2022-03-12T20:48:17.522Z"
   },
   {
    "duration": 299,
    "start_time": "2022-03-12T20:48:33.413Z"
   },
   {
    "duration": 8792,
    "start_time": "2022-03-12T20:48:33.714Z"
   },
   {
    "duration": 11,
    "start_time": "2022-03-12T20:48:42.508Z"
   },
   {
    "duration": 371,
    "start_time": "2022-03-14T18:08:52.148Z"
   },
   {
    "duration": 1644,
    "start_time": "2022-03-14T18:08:59.499Z"
   },
   {
    "duration": 907,
    "start_time": "2022-03-14T18:09:01.146Z"
   },
   {
    "duration": 3,
    "start_time": "2022-03-14T18:09:02.056Z"
   },
   {
    "duration": 457,
    "start_time": "2022-03-14T18:09:02.062Z"
   },
   {
    "duration": 4,
    "start_time": "2022-03-14T18:09:02.522Z"
   },
   {
    "duration": 17,
    "start_time": "2022-03-14T18:09:02.529Z"
   },
   {
    "duration": 11,
    "start_time": "2022-03-14T18:09:02.549Z"
   },
   {
    "duration": 7,
    "start_time": "2022-03-14T18:09:02.566Z"
   },
   {
    "duration": 8,
    "start_time": "2022-03-14T18:09:02.576Z"
   },
   {
    "duration": 7,
    "start_time": "2022-03-14T18:09:02.587Z"
   },
   {
    "duration": 48,
    "start_time": "2022-03-14T18:09:02.597Z"
   },
   {
    "duration": 9,
    "start_time": "2022-03-14T18:09:02.649Z"
   },
   {
    "duration": 16,
    "start_time": "2022-03-14T18:09:02.660Z"
   },
   {
    "duration": 12,
    "start_time": "2022-03-14T18:09:02.679Z"
   },
   {
    "duration": 66,
    "start_time": "2022-03-14T18:09:02.694Z"
   },
   {
    "duration": 4,
    "start_time": "2022-03-14T18:09:02.763Z"
   },
   {
    "duration": 10,
    "start_time": "2022-03-14T18:09:02.770Z"
   },
   {
    "duration": 1102,
    "start_time": "2022-03-14T18:09:02.783Z"
   },
   {
    "duration": 6,
    "start_time": "2022-03-14T18:09:03.888Z"
   },
   {
    "duration": 44,
    "start_time": "2022-03-14T18:09:03.901Z"
   },
   {
    "duration": 1055,
    "start_time": "2022-03-14T18:09:03.947Z"
   },
   {
    "duration": 7,
    "start_time": "2022-03-14T18:09:05.005Z"
   },
   {
    "duration": 26,
    "start_time": "2022-03-14T18:09:05.017Z"
   },
   {
    "duration": 11,
    "start_time": "2022-03-14T18:09:05.046Z"
   },
   {
    "duration": 9,
    "start_time": "2022-03-14T18:09:05.059Z"
   },
   {
    "duration": 24,
    "start_time": "2022-03-14T18:09:05.071Z"
   },
   {
    "duration": 59,
    "start_time": "2022-03-14T18:09:05.097Z"
   },
   {
    "duration": 7,
    "start_time": "2022-03-14T18:09:05.159Z"
   },
   {
    "duration": 29,
    "start_time": "2022-03-14T18:09:05.169Z"
   },
   {
    "duration": 2105,
    "start_time": "2022-03-14T18:09:05.201Z"
   },
   {
    "duration": 19,
    "start_time": "2022-03-14T18:09:16.200Z"
   },
   {
    "duration": 454,
    "start_time": "2022-03-14T18:10:53.718Z"
   },
   {
    "duration": 15,
    "start_time": "2022-03-14T18:11:09.855Z"
   },
   {
    "duration": 14,
    "start_time": "2022-03-14T18:11:59.793Z"
   },
   {
    "duration": 15,
    "start_time": "2022-03-14T18:12:17.760Z"
   },
   {
    "duration": 26,
    "start_time": "2022-03-14T18:12:39.782Z"
   },
   {
    "duration": 8,
    "start_time": "2022-03-14T18:13:35.657Z"
   },
   {
    "duration": 10,
    "start_time": "2022-03-14T18:13:44.505Z"
   },
   {
    "duration": 9,
    "start_time": "2022-03-14T18:13:52.767Z"
   },
   {
    "duration": 10,
    "start_time": "2022-03-14T18:14:06.615Z"
   },
   {
    "duration": 7,
    "start_time": "2022-03-14T18:14:11.967Z"
   },
   {
    "duration": 156,
    "start_time": "2022-03-14T18:14:23.514Z"
   },
   {
    "duration": 12,
    "start_time": "2022-03-14T18:14:27.226Z"
   },
   {
    "duration": 15,
    "start_time": "2022-03-14T18:15:36.433Z"
   },
   {
    "duration": 792,
    "start_time": "2022-03-14T18:17:49.999Z"
   },
   {
    "duration": 11,
    "start_time": "2022-03-14T18:18:42.064Z"
   },
   {
    "duration": 7515,
    "start_time": "2022-03-14T18:20:40.134Z"
   },
   {
    "duration": 7554,
    "start_time": "2022-03-14T18:20:57.107Z"
   },
   {
    "duration": 8,
    "start_time": "2022-03-14T18:21:06.380Z"
   },
   {
    "duration": 15,
    "start_time": "2022-03-14T18:22:44.067Z"
   },
   {
    "duration": 370,
    "start_time": "2022-03-14T18:23:23.832Z"
   },
   {
    "duration": 96,
    "start_time": "2022-03-14T18:23:39.200Z"
   },
   {
    "duration": 12,
    "start_time": "2022-03-14T18:23:43.935Z"
   },
   {
    "duration": 14,
    "start_time": "2022-03-14T18:23:56.290Z"
   },
   {
    "duration": 4,
    "start_time": "2022-03-14T18:24:55.673Z"
   },
   {
    "duration": 5,
    "start_time": "2022-03-14T18:25:11.260Z"
   },
   {
    "duration": 1528,
    "start_time": "2022-03-14T18:25:30.889Z"
   },
   {
    "duration": 857,
    "start_time": "2022-03-14T18:25:32.420Z"
   },
   {
    "duration": 4,
    "start_time": "2022-03-14T18:25:33.281Z"
   },
   {
    "duration": 435,
    "start_time": "2022-03-14T18:25:33.289Z"
   },
   {
    "duration": 17,
    "start_time": "2022-03-14T18:25:33.727Z"
   },
   {
    "duration": 7,
    "start_time": "2022-03-14T18:25:33.746Z"
   },
   {
    "duration": 11,
    "start_time": "2022-03-14T18:25:33.755Z"
   },
   {
    "duration": 7,
    "start_time": "2022-03-14T18:25:33.770Z"
   },
   {
    "duration": 8,
    "start_time": "2022-03-14T18:25:33.780Z"
   },
   {
    "duration": 9,
    "start_time": "2022-03-14T18:25:33.791Z"
   },
   {
    "duration": 47,
    "start_time": "2022-03-14T18:25:33.802Z"
   },
   {
    "duration": 9,
    "start_time": "2022-03-14T18:25:33.851Z"
   },
   {
    "duration": 15,
    "start_time": "2022-03-14T18:25:33.862Z"
   },
   {
    "duration": 109,
    "start_time": "2022-03-14T18:25:33.879Z"
   },
   {
    "duration": 26,
    "start_time": "2022-03-14T18:25:33.991Z"
   },
   {
    "duration": 4,
    "start_time": "2022-03-14T18:25:34.019Z"
   },
   {
    "duration": 7,
    "start_time": "2022-03-14T18:25:34.025Z"
   },
   {
    "duration": 812,
    "start_time": "2022-03-14T18:25:34.034Z"
   },
   {
    "duration": 7,
    "start_time": "2022-03-14T18:25:34.848Z"
   },
   {
    "duration": 25,
    "start_time": "2022-03-14T18:25:34.858Z"
   },
   {
    "duration": 794,
    "start_time": "2022-03-14T18:25:34.886Z"
   },
   {
    "duration": 6,
    "start_time": "2022-03-14T18:25:35.683Z"
   },
   {
    "duration": 5,
    "start_time": "2022-03-14T18:25:35.694Z"
   },
   {
    "duration": 11,
    "start_time": "2022-03-14T18:25:35.701Z"
   },
   {
    "duration": 29,
    "start_time": "2022-03-14T18:25:35.714Z"
   },
   {
    "duration": 10,
    "start_time": "2022-03-14T18:25:35.745Z"
   },
   {
    "duration": 26,
    "start_time": "2022-03-14T18:25:35.757Z"
   },
   {
    "duration": 4,
    "start_time": "2022-03-14T18:25:35.786Z"
   },
   {
    "duration": 14,
    "start_time": "2022-03-14T18:25:35.792Z"
   },
   {
    "duration": 1527,
    "start_time": "2022-03-14T18:25:35.808Z"
   },
   {
    "duration": 11,
    "start_time": "2022-03-14T18:25:37.337Z"
   },
   {
    "duration": 44,
    "start_time": "2022-03-14T18:25:37.350Z"
   },
   {
    "duration": 26,
    "start_time": "2022-03-14T18:25:37.397Z"
   },
   {
    "duration": 14,
    "start_time": "2022-03-14T18:25:37.426Z"
   },
   {
    "duration": 14,
    "start_time": "2022-03-14T18:25:37.443Z"
   },
   {
    "duration": 5,
    "start_time": "2022-03-14T18:25:40.156Z"
   },
   {
    "duration": 8,
    "start_time": "2022-03-14T18:27:49.333Z"
   },
   {
    "duration": 1485,
    "start_time": "2022-03-14T18:28:01.562Z"
   },
   {
    "duration": 126,
    "start_time": "2022-03-14T18:29:19.344Z"
   },
   {
    "duration": 5,
    "start_time": "2022-03-14T18:43:43.786Z"
   },
   {
    "duration": 6,
    "start_time": "2022-03-14T18:46:27.778Z"
   },
   {
    "duration": 1912,
    "start_time": "2022-03-14T18:47:03.809Z"
   },
   {
    "duration": 1336,
    "start_time": "2022-03-14T18:47:05.724Z"
   },
   {
    "duration": 4,
    "start_time": "2022-03-14T18:47:07.064Z"
   },
   {
    "duration": 424,
    "start_time": "2022-03-14T18:47:07.071Z"
   },
   {
    "duration": 3,
    "start_time": "2022-03-14T18:47:07.498Z"
   },
   {
    "duration": 6,
    "start_time": "2022-03-14T18:47:07.504Z"
   },
   {
    "duration": 43,
    "start_time": "2022-03-14T18:47:07.513Z"
   },
   {
    "duration": 9,
    "start_time": "2022-03-14T18:47:07.559Z"
   },
   {
    "duration": 8,
    "start_time": "2022-03-14T18:47:07.573Z"
   },
   {
    "duration": 8,
    "start_time": "2022-03-14T18:47:07.583Z"
   },
   {
    "duration": 13,
    "start_time": "2022-03-14T18:47:07.593Z"
   },
   {
    "duration": 37,
    "start_time": "2022-03-14T18:47:07.609Z"
   },
   {
    "duration": 19,
    "start_time": "2022-03-14T18:47:07.649Z"
   },
   {
    "duration": 13,
    "start_time": "2022-03-14T18:47:07.671Z"
   },
   {
    "duration": 29,
    "start_time": "2022-03-14T18:47:07.686Z"
   },
   {
    "duration": 5,
    "start_time": "2022-03-14T18:47:07.742Z"
   },
   {
    "duration": 8,
    "start_time": "2022-03-14T18:47:07.750Z"
   },
   {
    "duration": 1114,
    "start_time": "2022-03-14T18:47:07.760Z"
   },
   {
    "duration": 6,
    "start_time": "2022-03-14T18:47:08.876Z"
   },
   {
    "duration": 26,
    "start_time": "2022-03-14T18:47:08.884Z"
   },
   {
    "duration": 786,
    "start_time": "2022-03-14T18:47:08.944Z"
   },
   {
    "duration": 12,
    "start_time": "2022-03-14T18:47:09.732Z"
   },
   {
    "duration": 11,
    "start_time": "2022-03-14T18:47:09.749Z"
   },
   {
    "duration": 7,
    "start_time": "2022-03-14T18:47:09.763Z"
   },
   {
    "duration": 9,
    "start_time": "2022-03-14T18:47:09.773Z"
   },
   {
    "duration": 10,
    "start_time": "2022-03-14T18:47:09.785Z"
   },
   {
    "duration": 66,
    "start_time": "2022-03-14T18:47:09.798Z"
   },
   {
    "duration": 5,
    "start_time": "2022-03-14T18:47:09.866Z"
   },
   {
    "duration": 12,
    "start_time": "2022-03-14T18:47:09.874Z"
   },
   {
    "duration": 1663,
    "start_time": "2022-03-14T18:47:09.889Z"
   },
   {
    "duration": 6,
    "start_time": "2022-03-14T18:47:11.556Z"
   },
   {
    "duration": 7,
    "start_time": "2022-03-14T18:47:11.565Z"
   },
   {
    "duration": 15,
    "start_time": "2022-03-14T18:47:11.575Z"
   },
   {
    "duration": 12,
    "start_time": "2022-03-14T18:47:11.592Z"
   },
   {
    "duration": 47,
    "start_time": "2022-03-14T18:47:11.607Z"
   },
   {
    "duration": 10,
    "start_time": "2022-03-14T18:47:11.657Z"
   },
   {
    "duration": 105,
    "start_time": "2022-03-14T18:47:23.754Z"
   },
   {
    "duration": 473,
    "start_time": "2022-03-14T18:47:31.817Z"
   },
   {
    "duration": 336,
    "start_time": "2022-03-14T18:47:38.684Z"
   },
   {
    "duration": 5,
    "start_time": "2022-03-14T18:47:46.684Z"
   },
   {
    "duration": 349,
    "start_time": "2022-03-14T18:48:01.718Z"
   },
   {
    "duration": 6,
    "start_time": "2022-03-14T18:48:08.074Z"
   },
   {
    "duration": 6,
    "start_time": "2022-03-14T18:48:29.296Z"
   },
   {
    "duration": 6,
    "start_time": "2022-03-14T18:48:43.278Z"
   },
   {
    "duration": 8,
    "start_time": "2022-03-14T18:49:03.437Z"
   },
   {
    "duration": 1464,
    "start_time": "2022-03-14T18:49:05.509Z"
   },
   {
    "duration": 18,
    "start_time": "2022-03-14T18:51:33.569Z"
   },
   {
    "duration": 14,
    "start_time": "2022-03-14T18:57:17.506Z"
   },
   {
    "duration": 7,
    "start_time": "2022-03-14T18:57:30.275Z"
   },
   {
    "duration": 4496,
    "start_time": "2022-03-14T18:57:39.610Z"
   },
   {
    "duration": 18823,
    "start_time": "2022-03-14T18:57:44.109Z"
   },
   {
    "duration": 316,
    "start_time": "2022-03-14T18:58:02.935Z"
   },
   {
    "duration": 311,
    "start_time": "2022-03-14T18:59:30.535Z"
   },
   {
    "duration": 9850,
    "start_time": "2022-03-14T18:59:35.502Z"
   },
   {
    "duration": 11,
    "start_time": "2022-03-14T19:01:51.107Z"
   },
   {
    "duration": 6,
    "start_time": "2022-03-14T19:02:46.981Z"
   },
   {
    "duration": 6,
    "start_time": "2022-03-14T19:07:30.429Z"
   },
   {
    "duration": 15,
    "start_time": "2022-03-14T19:08:04.800Z"
   },
   {
    "duration": 6,
    "start_time": "2022-03-14T19:08:45.087Z"
   },
   {
    "duration": 10,
    "start_time": "2022-03-14T19:08:46.431Z"
   },
   {
    "duration": 100,
    "start_time": "2022-03-14T19:11:45.933Z"
   },
   {
    "duration": 11,
    "start_time": "2022-03-14T19:11:49.056Z"
   },
   {
    "duration": 10554,
    "start_time": "2022-03-14T19:12:56.591Z"
   }
  ],
  "kernelspec": {
   "display_name": "Python 3 (ipykernel)",
   "language": "python",
   "name": "python3"
  },
  "language_info": {
   "codemirror_mode": {
    "name": "ipython",
    "version": 3
   },
   "file_extension": ".py",
   "mimetype": "text/x-python",
   "name": "python",
   "nbconvert_exporter": "python",
   "pygments_lexer": "ipython3",
   "version": "3.9.10"
  },
  "toc": {
   "base_numbering": 1,
   "nav_menu": {},
   "number_sections": true,
   "sideBar": true,
   "skip_h1_title": true,
   "title_cell": "Содержание",
   "title_sidebar": "Contents",
   "toc_cell": true,
   "toc_position": {},
   "toc_section_display": true,
   "toc_window_display": false
  }
 },
 "nbformat": 4,
 "nbformat_minor": 2
}
