{
 "cells": [
  {
   "cell_type": "markdown",
   "metadata": {},
   "source": [
    "# Выбор локации для скважины"
   ]
  },
  {
   "cell_type": "markdown",
   "metadata": {},
   "source": [
    "Допустим, вы работаете в добывающей компании «ГлавРосГосНефть». Нужно решить, где бурить новую скважину.\n",
    "\n",
    "Вам предоставлены пробы нефти в трёх регионах: в каждом 10 000 месторождений, где измерили качество нефти и объём её запасов. Постройте модель машинного обучения, которая поможет определить регион, где добыча принесёт наибольшую прибыль. Проанализируйте возможную прибыль и риски техникой *Bootstrap.*\n",
    "\n",
    "Шаги для выбора локации:\n",
    "\n",
    "- В избранном регионе ищут месторождения, для каждого определяют значения признаков;\n",
    "- Строят модель и оценивают объём запасов;\n",
    "- Выбирают месторождения с самым высокими оценками значений. Количество месторождений зависит от бюджета компании и стоимости разработки одной скважины;\n",
    "- Прибыль равна суммарной прибыли отобранных месторождений."
   ]
  },
  {
   "cell_type": "markdown",
   "metadata": {},
   "source": [
    "## Загрузка и подготовка данных"
   ]
  },
  {
   "cell_type": "code",
   "execution_count": 1,
   "metadata": {},
   "outputs": [],
   "source": [
    "import pandas as pd\n",
    "import numpy as np\n",
    "from sklearn.model_selection import train_test_split\n",
    "from sklearn.linear_model import LinearRegression\n",
    "from sklearn.metrics import mean_squared_error\n",
    "from numpy.random import RandomState\n",
    "from tqdm.notebook import tqdm"
   ]
  },
  {
   "cell_type": "markdown",
   "metadata": {},
   "source": [
    "Загрузим все файлы в список для обеспечения возможности последующей обработки в цикле данных по всем регионам."
   ]
  },
  {
   "cell_type": "code",
   "execution_count": 2,
   "metadata": {},
   "outputs": [],
   "source": [
    "files = ['/datasets/geo_data_0.csv',\n",
    "         '/datasets/geo_data_1.csv',\n",
    "         '/datasets/geo_data_2.csv'] #сохраняю адреса файлов в список для последующей загрузки через цикл\n",
    "datas = [] #в этот список буду добавлять датафреймы\n",
    "for file in files:\n",
    "    try:\n",
    "        datas.append(pd.read_csv(file))\n",
    "    except:\n",
    "        print('Не удалось загрузить файл:', file)"
   ]
  },
  {
   "cell_type": "markdown",
   "metadata": {},
   "source": [
    "Посморим на структуру данных, наличие пропусков и дубликатов."
   ]
  },
  {
   "cell_type": "code",
   "execution_count": 3,
   "metadata": {},
   "outputs": [
    {
     "name": "stdout",
     "output_type": "stream",
     "text": [
      "Данные по региону № 1\n",
      "      id        f0        f1        f2     product\n",
      "0  txEyH  0.705745 -0.497823  1.221170  105.280062\n",
      "1  2acmU  1.334711 -0.340164  4.365080   73.037750\n",
      "2  409Wp  1.022732  0.151990  1.419926   85.265647\n",
      "3  iJLyR -0.032172  0.139033  2.978566  168.620776\n",
      "4  Xdl7t  1.988431  0.155413  4.751769  154.036647\n",
      "Пропуски:\n",
      "id         0.0\n",
      "f0         0.0\n",
      "f1         0.0\n",
      "f2         0.0\n",
      "product    0.0\n",
      "dtype: float64\n",
      "Дубликатов:\n",
      "0\n",
      "\n",
      "Данные по региону № 2\n",
      "      id         f0         f1        f2     product\n",
      "0  kBEdx -15.001348  -8.276000 -0.005876    3.179103\n",
      "1  62mP7  14.272088  -3.475083  0.999183   26.953261\n",
      "2  vyE1P   6.263187  -5.948386  5.001160  134.766305\n",
      "3  KcrkZ -13.081196 -11.506057  4.999415  137.945408\n",
      "4  AHL4O  12.702195  -8.147433  5.004363  134.766305\n",
      "Пропуски:\n",
      "id         0.0\n",
      "f0         0.0\n",
      "f1         0.0\n",
      "f2         0.0\n",
      "product    0.0\n",
      "dtype: float64\n",
      "Дубликатов:\n",
      "0\n",
      "\n",
      "Данные по региону № 3\n",
      "      id        f0        f1        f2     product\n",
      "0  fwXo0 -1.146987  0.963328 -0.828965   27.758673\n",
      "1  WJtFt  0.262778  0.269839 -2.530187   56.069697\n",
      "2  ovLUW  0.194587  0.289035 -5.586433   62.871910\n",
      "3  q6cA6  2.236060 -0.553760  0.930038  114.572842\n",
      "4  WPMUX -0.515993  1.716266  5.899011  149.600746\n",
      "Пропуски:\n",
      "id         0.0\n",
      "f0         0.0\n",
      "f1         0.0\n",
      "f2         0.0\n",
      "product    0.0\n",
      "dtype: float64\n",
      "Дубликатов:\n",
      "0\n",
      "\n"
     ]
    }
   ],
   "source": [
    "for i in range(len(datas)):\n",
    "    print('Данные по региону №', i + 1)\n",
    "    print(datas[i].head())\n",
    "    print('Пропуски:')\n",
    "    print(datas[i].isna().mean())\n",
    "    print('Дубликатов:')\n",
    "    print(datas[i].duplicated().sum())\n",
    "    print()"
   ]
  },
  {
   "cell_type": "markdown",
   "metadata": {},
   "source": [
    "## Обучение и проверка модели"
   ]
  },
  {
   "cell_type": "markdown",
   "metadata": {},
   "source": [
    "Создадим функцию, которая получив на вход данные по региону, возвратит переменные с целевым признаком и остальными признаками."
   ]
  },
  {
   "cell_type": "code",
   "execution_count": 4,
   "metadata": {},
   "outputs": [],
   "source": [
    "def target_select(data):\n",
    "    features = data.drop(['product', 'id'], axis=1)\n",
    "    target = data['product']\n",
    "    return features, target"
   ]
  },
  {
   "cell_type": "markdown",
   "metadata": {},
   "source": [
    "Применив созданную функцию, также создадим функцию, которая будет обучать модель по данным региона и печатать средний запас сырья в скважине региона, средний запас сырья в скважине региона по предсказанным моделью данным, а также метрику RMSE; возвращать обученную модель."
   ]
  },
  {
   "cell_type": "code",
   "execution_count": 5,
   "metadata": {},
   "outputs": [],
   "source": [
    "def train_model(data):\n",
    "    features, target = target_select(data)\n",
    "    features_train, features_valid, target_train, target_valid = train_test_split(features, \n",
    "                                                                                  target, \n",
    "                                                                                  test_size=0.25, \n",
    "                                                                                  random_state=123)\n",
    "    model = LinearRegression()\n",
    "    model.fit(features_train, target_train)\n",
    "    predictions = model.predict(features_valid)\n",
    "    mse = mean_squared_error(target_valid, predictions)\n",
    "    rmse = np.sqrt(mse)\n",
    "    print('Средний запас сырья:', target.mean())\n",
    "    print('Средний запас предсказанного сырья:', model.predict(features).mean())\n",
    "    print('RMSE:', rmse)\n",
    "    return model"
   ]
  },
  {
   "cell_type": "markdown",
   "metadata": {},
   "source": [
    "В цикле пройдемся созданной функцией по данным всех регионов. \n",
    "\n",
    "Кроме того, создадим список, в котором будут храниться модели по каждому региону."
   ]
  },
  {
   "cell_type": "code",
   "execution_count": 6,
   "metadata": {
    "scrolled": false
   },
   "outputs": [
    {
     "name": "stdout",
     "output_type": "stream",
     "text": [
      "Регион № 1\n",
      "Средний запас сырья: 92.50000000000001\n",
      "Средний запас предсказанного сырья: 92.42468449498216\n",
      "RMSE: 37.64786282376176\n",
      "\n",
      "Регион № 2\n",
      "Средний запас сырья: 68.82500000000002\n",
      "Средний запас предсказанного сырья: 68.8265765614402\n",
      "RMSE: 0.8954139804944304\n",
      "\n",
      "Регион № 3\n",
      "Средний запас сырья: 95.00000000000004\n",
      "Средний запас предсказанного сырья: 95.05627778732796\n",
      "RMSE: 40.12803006598514\n",
      "\n"
     ]
    }
   ],
   "source": [
    "models = []\n",
    "for i in range(len(datas)):\n",
    "    print('Регион №', i + 1)\n",
    "    model = train_model(datas[i])\n",
    "    models.append(model)\n",
    "    print()"
   ]
  },
  {
   "cell_type": "markdown",
   "metadata": {},
   "source": [
    "**Вывод**"
   ]
  },
  {
   "cell_type": "markdown",
   "metadata": {},
   "source": [
    "Модели в целом предсказывают верный общий запас сырья в скважинах региона. Судя по метрике RMSE предсказания объема сырья точнее всего по второму региону."
   ]
  },
  {
   "cell_type": "markdown",
   "metadata": {},
   "source": [
    "## Подготовка к расчёту прибыли"
   ]
  },
  {
   "cell_type": "markdown",
   "metadata": {},
   "source": [
    "С целью расчета прогнозируемой прибыли сохраним все ключевые значения в отдельных переменных."
   ]
  },
  {
   "cell_type": "code",
   "execution_count": 7,
   "metadata": {},
   "outputs": [],
   "source": [
    "BUDGET_FOR_REGION = 10_000_000_000\n",
    "DEVELOPMENT_WELLS_NUM = 200\n",
    "RESEARCHED_WELLS_NUM = 500\n",
    "INCOME_PER_BARREL = 450\n",
    "INCOME_PER_UNIT = INCOME_PER_BARREL * 1_000"
   ]
  },
  {
   "cell_type": "markdown",
   "metadata": {},
   "source": [
    "Расчитаем минимальное среднее количество сырья, которое позволит вести разработку в регионе без убытков."
   ]
  },
  {
   "cell_type": "code",
   "execution_count": 8,
   "metadata": {
    "scrolled": true
   },
   "outputs": [
    {
     "name": "stdout",
     "output_type": "stream",
     "text": [
      "Необходимое минимальное среднее количество сырья в скважинах 111 тыс. баррелей\n"
     ]
    }
   ],
   "source": [
    "sufficient_raw = (BUDGET_FOR_REGION / DEVELOPMENT_WELLS_NUM) / INCOME_PER_UNIT\n",
    "print('Необходимое минимальное среднее количество сырья в скважинах', round(sufficient_raw), 'тыс. баррелей')"
   ]
  },
  {
   "cell_type": "markdown",
   "metadata": {},
   "source": [
    "Сравним данное значение со средними значениями реального количества сырья во всех скважинах региона."
   ]
  },
  {
   "cell_type": "code",
   "execution_count": 9,
   "metadata": {
    "scrolled": true
   },
   "outputs": [
    {
     "name": "stdout",
     "output_type": "stream",
     "text": [
      "Регион № 1\n",
      "Среднее количество сырья в скважинах: 93 тыс. баррелей\n",
      "Регион № 2\n",
      "Среднее количество сырья в скважинах: 69 тыс. баррелей\n",
      "Регион № 3\n",
      "Среднее количество сырья в скважинах: 95 тыс. баррелей\n"
     ]
    }
   ],
   "source": [
    "for i in range(len(datas)):\n",
    "    print('Регион №', i + 1)\n",
    "    print('Среднее количество сырья в скважинах:', round(datas[i]['product'].mean()), 'тыс. баррелей')"
   ]
  },
  {
   "cell_type": "markdown",
   "metadata": {},
   "source": [
    "**Вывод**"
   ]
  },
  {
   "cell_type": "markdown",
   "metadata": {},
   "source": [
    "Среднее количество сырья в скважинах регионов меньше, чем необходимое для безубыточной разработки скважин. В связи с этим случайный выбор разрабатываемых скважин скорее всего приведет к убытка. Таким образом, необходимо отбирать скважины и регионы для разработки с помощью анализа данных и машинного обучения."
   ]
  },
  {
   "cell_type": "markdown",
   "metadata": {},
   "source": [
    "## Расчёт прибыли и рисков "
   ]
  },
  {
   "cell_type": "markdown",
   "metadata": {},
   "source": [
    "Создадим функцию, которая будет производить расчет реально полученной прибыли от отобранных моделью скважин."
   ]
  },
  {
   "cell_type": "code",
   "execution_count": 10,
   "metadata": {},
   "outputs": [],
   "source": [
    "def profit_calc(data_index): #функция будет принимать индекс данных из списка предоставленных данных по регионам \n",
    "    features, target = target_select(datas[data_index]) #выделяем целевой признак ранее созданной функцией\n",
    "    predictions = models[data_index].predict(features) #сохраняем предсказания модели в переменную\n",
    "    predictions = pd.Series(predictions).sort_values(ascending=False)[:200] #отбираем 200 наиболее прибольных скважин\n",
    "    total_income = target[predictions.index].sum() * INCOME_PER_UNIT #находим прибыль от данных скважин\n",
    "    profit = total_income - BUDGET_FOR_REGION\n",
    "    return profit"
   ]
  },
  {
   "cell_type": "markdown",
   "metadata": {},
   "source": [
    "Применим данную функцию к данным по каждому региону."
   ]
  },
  {
   "cell_type": "code",
   "execution_count": 11,
   "metadata": {
    "scrolled": true
   },
   "outputs": [
    {
     "name": "stdout",
     "output_type": "stream",
     "text": [
      "Прибыль от отобранных моделью скважин\n",
      "Региона № 1: 3.492 млрд. руб.\n",
      "Региона № 2: 2.415 млрд. руб.\n",
      "Региона № 3: 2.596 млрд. руб.\n"
     ]
    }
   ],
   "source": [
    "print('Прибыль от отобранных моделью скважин')\n",
    "for i in range(len(datas)):\n",
    "    print(f'Региона № {i + 1}: {profit_calc(i) * 10 ** (-9):.4} млрд. руб.')"
   ]
  },
  {
   "cell_type": "markdown",
   "metadata": {},
   "source": [
    "Создадим функцию, которая будет отбирать 500 случайных скважин региона, отбирать из них 200 наиболее прибыльных по предсказаниям модели и рассчитывать прибыль на основании реальных данных о количестве сырья в скважине; через bootstrap обработает 1000 вариантов случайных выборок, найдет по ним среднюю прибыль, 95%-й доверительный интервал и вероятность убытков."
   ]
  },
  {
   "cell_type": "code",
   "execution_count": 12,
   "metadata": {},
   "outputs": [],
   "source": [
    "state = RandomState(12345)"
   ]
  },
  {
   "cell_type": "code",
   "execution_count": 13,
   "metadata": {},
   "outputs": [],
   "source": [
    "def estimate_risks(data_index, n = 1000):\n",
    "    profits = [] #в данный список буду сохранять значения прибыли\n",
    "    for i in tqdm(range(n)):\n",
    "        researched_wells = datas[data_index].sample(RESEARCHED_WELLS_NUM, random_state=state) \n",
    "        #делаю случайную выборку исследуемых скважин\n",
    "        researched_wells = researched_wells.reset_index(drop=True) \n",
    "        #сбрасываю индексы для последующего сопоставления с индексами предсказаний\n",
    "        features, target = target_select(researched_wells)\n",
    "        #разделяю данные об исследуемых скважинах на целевой признак и признаки для обучения модели\n",
    "        predictions = models[data_index].predict(features)\n",
    "        #использую модель, обученную по данным региона, для предсказаний по отобранным скважинам\n",
    "        predictions = pd.Series(predictions).sort_values(ascending=False)[:DEVELOPMENT_WELLS_NUM]\n",
    "        #отбираю наиболее прибыльные скважины по результатам предсказания модели\n",
    "        total_income = target[predictions.index].sum() * INCOME_PER_UNIT \n",
    "        #считаю общий доход исходя из реального объема сырья в скважинах\n",
    "        profit = total_income - BUDGET_FOR_REGION #считаю прибыль\n",
    "        profits.append(profit) #сохраняю значения прибыли в список\n",
    "    profits = pd.Series(profits)\n",
    "    mean_profit = profits.mean() #нахожу среднюю прибыль по получившимся значениями прибыли\n",
    "    confidence_interval = (profits.quantile(0.025), profits.quantile(0.975)) #нахожу 95%-й доверительный интервал\n",
    "    loss_prob = (profits < 0).mean() #нахожу долю убыточных значений\n",
    "    print('Риски по региону №', data_index + 1)\n",
    "    print(f'Средняя прибыль из возможных: {mean_profit * 10 ** (-9):.3} млрд.руб.')\n",
    "    print(f'95%-й доверительный интервал возможной прибыли: от {confidence_interval[0] * 10 ** (-9):.3f} млрд. руб. до {confidence_interval[1] * 10 ** (-9):.3f} млрд.руб.')\n",
    "    print('Вероятность убытков:', loss_prob)"
   ]
  },
  {
   "cell_type": "code",
   "execution_count": 14,
   "metadata": {
    "scrolled": true
   },
   "outputs": [
    {
     "name": "stdout",
     "output_type": "stream",
     "text": [
      "Количество изучаемых регионов: 3\n"
     ]
    },
    {
     "data": {
      "application/vnd.jupyter.widget-view+json": {
       "model_id": "51515f1aa477418791fbc2b9b12f235d",
       "version_major": 2,
       "version_minor": 0
      },
      "text/plain": [
       "HBox(children=(HTML(value=''), FloatProgress(value=0.0, max=1000.0), HTML(value='')))"
      ]
     },
     "metadata": {},
     "output_type": "display_data"
    },
    {
     "name": "stdout",
     "output_type": "stream",
     "text": [
      "\n",
      "Риски по региону № 1\n",
      "Средняя прибыль из возможных: 0.42 млрд.руб.\n",
      "95%-й доверительный интервал возможной прибыли: от -0.088 млрд. руб. до 0.908 млрд.руб.\n",
      "Вероятность убытков: 0.056\n",
      "\n"
     ]
    },
    {
     "data": {
      "application/vnd.jupyter.widget-view+json": {
       "model_id": "6106d383eaac4be3ae504ed508731e10",
       "version_major": 2,
       "version_minor": 0
      },
      "text/plain": [
       "HBox(children=(HTML(value=''), FloatProgress(value=0.0, max=1000.0), HTML(value='')))"
      ]
     },
     "metadata": {},
     "output_type": "display_data"
    },
    {
     "name": "stdout",
     "output_type": "stream",
     "text": [
      "\n",
      "Риски по региону № 2\n",
      "Средняя прибыль из возможных: 0.457 млрд.руб.\n",
      "95%-й доверительный интервал возможной прибыли: от 0.067 млрд. руб. до 0.858 млрд.руб.\n",
      "Вероятность убытков: 0.01\n",
      "\n"
     ]
    },
    {
     "data": {
      "application/vnd.jupyter.widget-view+json": {
       "model_id": "4e6f4821603f422586edf642344aa00e",
       "version_major": 2,
       "version_minor": 0
      },
      "text/plain": [
       "HBox(children=(HTML(value=''), FloatProgress(value=0.0, max=1000.0), HTML(value='')))"
      ]
     },
     "metadata": {},
     "output_type": "display_data"
    },
    {
     "name": "stdout",
     "output_type": "stream",
     "text": [
      "\n",
      "Риски по региону № 3\n",
      "Средняя прибыль из возможных: 0.356 млрд.руб.\n",
      "95%-й доверительный интервал возможной прибыли: от -0.155 млрд. руб. до 0.863 млрд.руб.\n",
      "Вероятность убытков: 0.104\n",
      "\n"
     ]
    }
   ],
   "source": [
    "print('Количество изучаемых регионов:', len(datas))\n",
    "for index in range(len(datas)):\n",
    "    estimate_risks(index)\n",
    "    print()"
   ]
  },
  {
   "cell_type": "markdown",
   "metadata": {},
   "source": [
    "# Общий вывод"
   ]
  },
  {
   "cell_type": "markdown",
   "metadata": {},
   "source": [
    "В результате анализа данных об объеме сырья в скважинах регионов установлено, что средний запас сырья в скважинах второго региона меньше чем у остальных (68 тыс. баррелей против 92 - в первом регионе и 95 - в третьем).\n",
    "\n",
    "С целью определения возможности предсказания объема сырья в месторожднении регонов обучены модели линейной регрессии для получения предсказаний объема сырья в скважинах на основании признаков месторождения. \n",
    "\n",
    "По второму региону модель предсказывает наиболее точные значения объема сырья в месторождении (метрика RMSE - менее 1, в отличии от первого и второго региона, где RMSE равно 37 и 40 соответственно). \n",
    "\n",
    "Оценка рисков разработки месторождений в регионах методом bootstrap на 1000 вариантах случайных выборок показала наиболее выгодные перспективы разработки месторождений второго региона. В пользу это свидетельствуют следующие показатели: \n",
    "- вероятность убыточности разработки скважин второго региона всего лишь около одного процента (по первому и третьему регионам вероятность убытков около 5-8 процентов), \n",
    "- 95%-й доверительный интервал возможной прибыли с регоина находится в пределах от 0.057 млрд.руб. до 0.850 млрд.руб. (по другим регионам доходит до отрицательных значений - убытков);\n",
    "- средняя прибыль из всех полученных по второму региону вариантов прибыли - 0.447 млрд.руб. (в первом - 0.41, в третьем - 0.372)."
   ]
  }
 ],
 "metadata": {
  "ExecuteTimeLog": [
   {
    "duration": 753,
    "start_time": "2022-02-26T18:01:34.562Z"
   },
   {
    "duration": 460,
    "start_time": "2022-02-26T18:02:30.600Z"
   },
   {
    "duration": 35,
    "start_time": "2022-02-26T18:02:43.036Z"
   },
   {
    "duration": 12,
    "start_time": "2022-02-26T18:06:06.525Z"
   },
   {
    "duration": 5,
    "start_time": "2022-02-26T18:06:24.589Z"
   },
   {
    "duration": 578,
    "start_time": "2022-02-26T18:08:58.293Z"
   },
   {
    "duration": 361,
    "start_time": "2022-02-26T18:12:04.941Z"
   },
   {
    "duration": 49,
    "start_time": "2022-02-26T18:12:09.284Z"
   },
   {
    "duration": 15,
    "start_time": "2022-02-26T18:13:51.040Z"
   },
   {
    "duration": 16,
    "start_time": "2022-02-26T18:13:58.408Z"
   },
   {
    "duration": 17,
    "start_time": "2022-02-26T18:14:07.255Z"
   },
   {
    "duration": 247,
    "start_time": "2022-02-26T18:14:21.244Z"
   },
   {
    "duration": 14,
    "start_time": "2022-02-26T18:14:30.075Z"
   },
   {
    "duration": 69,
    "start_time": "2022-02-26T18:14:48.329Z"
   },
   {
    "duration": 73,
    "start_time": "2022-02-26T18:14:53.762Z"
   },
   {
    "duration": 20,
    "start_time": "2022-02-26T18:18:01.857Z"
   },
   {
    "duration": 4,
    "start_time": "2022-02-26T18:18:14.636Z"
   },
   {
    "duration": 12,
    "start_time": "2022-02-26T18:20:32.978Z"
   },
   {
    "duration": 529,
    "start_time": "2022-02-26T18:22:18.484Z"
   },
   {
    "duration": 13,
    "start_time": "2022-02-26T18:22:26.187Z"
   },
   {
    "duration": 8,
    "start_time": "2022-02-26T18:22:44.524Z"
   },
   {
    "duration": 10,
    "start_time": "2022-02-26T18:22:49.844Z"
   },
   {
    "duration": 10,
    "start_time": "2022-02-26T18:24:46.962Z"
   },
   {
    "duration": 19,
    "start_time": "2022-02-26T18:27:16.535Z"
   },
   {
    "duration": 18,
    "start_time": "2022-02-26T18:27:34.341Z"
   },
   {
    "duration": 447,
    "start_time": "2022-02-26T18:29:52.378Z"
   },
   {
    "duration": 21,
    "start_time": "2022-02-26T18:29:58.012Z"
   },
   {
    "duration": 16,
    "start_time": "2022-02-26T18:30:15.258Z"
   },
   {
    "duration": 18,
    "start_time": "2022-02-26T18:30:20.306Z"
   },
   {
    "duration": 451,
    "start_time": "2022-02-26T18:30:33.636Z"
   },
   {
    "duration": 21,
    "start_time": "2022-02-26T18:32:28.350Z"
   },
   {
    "duration": 20,
    "start_time": "2022-02-26T18:32:33.856Z"
   },
   {
    "duration": 5,
    "start_time": "2022-02-26T18:33:06.399Z"
   },
   {
    "duration": 3,
    "start_time": "2022-02-26T18:34:04.665Z"
   },
   {
    "duration": 4,
    "start_time": "2022-02-26T18:34:27.873Z"
   },
   {
    "duration": 441,
    "start_time": "2022-02-26T18:34:28.664Z"
   },
   {
    "duration": 3,
    "start_time": "2022-02-26T18:34:30.199Z"
   },
   {
    "duration": 438,
    "start_time": "2022-02-26T18:34:31.335Z"
   },
   {
    "duration": 23,
    "start_time": "2022-02-26T18:34:32.868Z"
   },
   {
    "duration": 26,
    "start_time": "2022-02-26T18:34:33.840Z"
   },
   {
    "duration": 23,
    "start_time": "2022-02-26T18:37:24.576Z"
   },
   {
    "duration": 218,
    "start_time": "2022-02-26T18:41:51.473Z"
   },
   {
    "duration": 24,
    "start_time": "2022-02-26T18:44:46.579Z"
   },
   {
    "duration": 24,
    "start_time": "2022-02-26T18:45:21.026Z"
   },
   {
    "duration": 26,
    "start_time": "2022-02-26T18:45:21.962Z"
   },
   {
    "duration": 4,
    "start_time": "2022-02-26T18:47:48.184Z"
   },
   {
    "duration": 26,
    "start_time": "2022-02-26T18:50:07.478Z"
   },
   {
    "duration": 24,
    "start_time": "2022-02-26T18:50:07.507Z"
   },
   {
    "duration": 25,
    "start_time": "2022-02-26T18:50:07.533Z"
   },
   {
    "duration": 25,
    "start_time": "2022-02-26T18:50:23.620Z"
   },
   {
    "duration": 25,
    "start_time": "2022-02-26T18:50:24.458Z"
   },
   {
    "duration": 22,
    "start_time": "2022-02-26T18:50:25.266Z"
   },
   {
    "duration": 7,
    "start_time": "2022-02-26T18:50:36.788Z"
   },
   {
    "duration": 4,
    "start_time": "2022-02-26T18:50:43.013Z"
   },
   {
    "duration": 4,
    "start_time": "2022-02-26T18:50:49.867Z"
   },
   {
    "duration": 24,
    "start_time": "2022-02-26T18:51:06.333Z"
   },
   {
    "duration": 24,
    "start_time": "2022-02-26T18:51:08.364Z"
   },
   {
    "duration": 24,
    "start_time": "2022-02-26T18:51:09.147Z"
   },
   {
    "duration": 4,
    "start_time": "2022-02-26T18:51:11.316Z"
   },
   {
    "duration": 5,
    "start_time": "2022-02-26T18:51:14.092Z"
   },
   {
    "duration": 1464,
    "start_time": "2022-02-26T18:51:20.214Z"
   },
   {
    "duration": 449,
    "start_time": "2022-02-26T18:51:21.680Z"
   },
   {
    "duration": 19,
    "start_time": "2022-02-26T18:51:22.132Z"
   },
   {
    "duration": 42,
    "start_time": "2022-02-26T18:51:22.153Z"
   },
   {
    "duration": 24,
    "start_time": "2022-02-26T18:51:22.198Z"
   },
   {
    "duration": 24,
    "start_time": "2022-02-26T18:51:22.225Z"
   },
   {
    "duration": 13,
    "start_time": "2022-02-26T18:51:22.251Z"
   },
   {
    "duration": 5,
    "start_time": "2022-02-26T18:51:22.287Z"
   },
   {
    "duration": 356,
    "start_time": "2022-02-26T18:51:22.295Z"
   },
   {
    "duration": 6,
    "start_time": "2022-02-26T18:51:46.946Z"
   },
   {
    "duration": 6,
    "start_time": "2022-02-26T18:51:47.937Z"
   },
   {
    "duration": 74,
    "start_time": "2022-02-26T18:52:44.498Z"
   },
   {
    "duration": -52,
    "start_time": "2022-02-26T18:52:44.627Z"
   },
   {
    "duration": -56,
    "start_time": "2022-02-26T18:52:44.633Z"
   },
   {
    "duration": 27,
    "start_time": "2022-02-26T18:53:00.213Z"
   },
   {
    "duration": 26,
    "start_time": "2022-02-26T18:53:00.243Z"
   },
   {
    "duration": 31,
    "start_time": "2022-02-26T18:53:00.272Z"
   },
   {
    "duration": 5,
    "start_time": "2022-02-26T18:53:02.428Z"
   },
   {
    "duration": 5,
    "start_time": "2022-02-26T18:53:03.220Z"
   },
   {
    "duration": 238,
    "start_time": "2022-02-26T18:53:23.342Z"
   },
   {
    "duration": 230,
    "start_time": "2022-02-26T18:53:57.734Z"
   },
   {
    "duration": 19,
    "start_time": "2022-02-26T18:54:00.565Z"
   },
   {
    "duration": 292,
    "start_time": "2022-02-26T18:54:17.384Z"
   },
   {
    "duration": 214,
    "start_time": "2022-02-26T18:54:35.539Z"
   },
   {
    "duration": 210,
    "start_time": "2022-02-26T18:54:47.913Z"
   },
   {
    "duration": 229,
    "start_time": "2022-02-26T18:55:04.354Z"
   },
   {
    "duration": 243,
    "start_time": "2022-02-26T18:55:20.871Z"
   },
   {
    "duration": 16,
    "start_time": "2022-02-26T18:55:32.380Z"
   },
   {
    "duration": 14,
    "start_time": "2022-02-26T18:55:39.619Z"
   },
   {
    "duration": 14,
    "start_time": "2022-02-26T18:55:50.001Z"
   },
   {
    "duration": 23,
    "start_time": "2022-02-26T18:55:50.018Z"
   },
   {
    "duration": 19,
    "start_time": "2022-02-26T18:55:50.044Z"
   },
   {
    "duration": 26,
    "start_time": "2022-02-26T18:55:50.066Z"
   },
   {
    "duration": 17,
    "start_time": "2022-02-26T18:55:51.560Z"
   },
   {
    "duration": 6,
    "start_time": "2022-02-26T18:57:22.692Z"
   },
   {
    "duration": 6,
    "start_time": "2022-02-26T18:59:20.262Z"
   },
   {
    "duration": 6,
    "start_time": "2022-02-26T18:59:25.655Z"
   },
   {
    "duration": 4,
    "start_time": "2022-02-26T19:02:41.492Z"
   },
   {
    "duration": 212,
    "start_time": "2022-02-26T19:03:12.246Z"
   },
   {
    "duration": 4,
    "start_time": "2022-02-26T19:03:16.566Z"
   },
   {
    "duration": 231,
    "start_time": "2022-02-26T19:03:26.790Z"
   },
   {
    "duration": 4,
    "start_time": "2022-02-26T19:03:39.406Z"
   },
   {
    "duration": 4,
    "start_time": "2022-02-26T19:03:44.263Z"
   },
   {
    "duration": 5,
    "start_time": "2022-02-26T19:03:55.295Z"
   },
   {
    "duration": 7,
    "start_time": "2022-02-26T19:04:51.308Z"
   },
   {
    "duration": 7,
    "start_time": "2022-02-26T19:20:10.835Z"
   },
   {
    "duration": 34,
    "start_time": "2022-02-26T19:20:27.616Z"
   },
   {
    "duration": 461,
    "start_time": "2022-02-26T19:22:26.071Z"
   },
   {
    "duration": 6,
    "start_time": "2022-02-26T19:22:29.448Z"
   },
   {
    "duration": 437,
    "start_time": "2022-02-26T19:23:09.232Z"
   },
   {
    "duration": 7,
    "start_time": "2022-02-26T19:23:17.281Z"
   },
   {
    "duration": 431,
    "start_time": "2022-02-26T19:23:18.377Z"
   },
   {
    "duration": 5,
    "start_time": "2022-02-26T19:25:01.829Z"
   },
   {
    "duration": 435,
    "start_time": "2022-02-26T19:25:02.665Z"
   },
   {
    "duration": 7,
    "start_time": "2022-02-26T19:26:15.345Z"
   },
   {
    "duration": 464,
    "start_time": "2022-02-26T19:26:16.340Z"
   },
   {
    "duration": 425,
    "start_time": "2022-02-26T19:26:36.885Z"
   },
   {
    "duration": 6,
    "start_time": "2022-02-26T19:26:43.325Z"
   },
   {
    "duration": 405,
    "start_time": "2022-02-26T19:26:44.299Z"
   },
   {
    "duration": 6,
    "start_time": "2022-02-26T19:27:03.528Z"
   },
   {
    "duration": 447,
    "start_time": "2022-02-26T19:27:04.957Z"
   },
   {
    "duration": 7,
    "start_time": "2022-02-26T19:27:50.496Z"
   },
   {
    "duration": 6,
    "start_time": "2022-02-26T19:27:51.376Z"
   },
   {
    "duration": 457,
    "start_time": "2022-02-26T19:27:56.854Z"
   },
   {
    "duration": 503,
    "start_time": "2022-02-26T19:28:40.751Z"
   },
   {
    "duration": 431,
    "start_time": "2022-02-26T19:28:48.673Z"
   },
   {
    "duration": 7,
    "start_time": "2022-02-26T19:32:47.636Z"
   },
   {
    "duration": 461,
    "start_time": "2022-02-26T19:32:48.743Z"
   },
   {
    "duration": 251,
    "start_time": "2022-02-26T19:33:13.713Z"
   },
   {
    "duration": 515,
    "start_time": "2022-02-26T19:33:24.681Z"
   },
   {
    "duration": 442,
    "start_time": "2022-02-26T19:33:37.673Z"
   },
   {
    "duration": 6,
    "start_time": "2022-02-26T19:33:44.889Z"
   },
   {
    "duration": 6,
    "start_time": "2022-02-26T19:34:33.371Z"
   },
   {
    "duration": 520,
    "start_time": "2022-02-26T19:34:34.768Z"
   },
   {
    "duration": 5,
    "start_time": "2022-02-26T19:34:46.386Z"
   },
   {
    "duration": 494,
    "start_time": "2022-02-26T19:36:41.317Z"
   },
   {
    "duration": 524,
    "start_time": "2022-02-26T19:37:01.496Z"
   },
   {
    "duration": 434,
    "start_time": "2022-02-26T19:38:18.761Z"
   },
   {
    "duration": 6,
    "start_time": "2022-02-26T19:38:26.768Z"
   },
   {
    "duration": 499,
    "start_time": "2022-02-26T19:38:46.289Z"
   },
   {
    "duration": 583,
    "start_time": "2022-02-26T19:40:27.141Z"
   },
   {
    "duration": 726,
    "start_time": "2022-02-26T19:40:34.268Z"
   },
   {
    "duration": 441,
    "start_time": "2022-02-26T19:40:44.764Z"
   },
   {
    "duration": 7,
    "start_time": "2022-02-26T19:40:54.445Z"
   },
   {
    "duration": 434,
    "start_time": "2022-02-26T19:40:56.972Z"
   },
   {
    "duration": 488,
    "start_time": "2022-02-26T19:41:12.966Z"
   },
   {
    "duration": 431,
    "start_time": "2022-02-26T19:41:40.534Z"
   },
   {
    "duration": 232,
    "start_time": "2022-02-26T19:41:44.605Z"
   },
   {
    "duration": 443,
    "start_time": "2022-02-26T19:41:55.333Z"
   },
   {
    "duration": 7,
    "start_time": "2022-02-26T19:41:58.358Z"
   },
   {
    "duration": 215,
    "start_time": "2022-02-26T19:42:08.902Z"
   },
   {
    "duration": 584,
    "start_time": "2022-02-26T19:42:34.538Z"
   },
   {
    "duration": 428,
    "start_time": "2022-02-26T19:42:37.679Z"
   },
   {
    "duration": 516,
    "start_time": "2022-02-26T19:43:16.070Z"
   },
   {
    "duration": 593,
    "start_time": "2022-02-26T19:43:33.589Z"
   },
   {
    "duration": 612,
    "start_time": "2022-02-26T19:43:36.995Z"
   },
   {
    "duration": 428,
    "start_time": "2022-02-26T19:43:56.011Z"
   },
   {
    "duration": 543,
    "start_time": "2022-02-26T19:43:59.354Z"
   },
   {
    "duration": 3,
    "start_time": "2022-02-26T19:44:55.996Z"
   },
   {
    "duration": 428,
    "start_time": "2022-02-26T19:45:12.445Z"
   },
   {
    "duration": 227,
    "start_time": "2022-02-26T19:46:34.765Z"
   },
   {
    "duration": 211,
    "start_time": "2022-02-26T19:46:55.266Z"
   },
   {
    "duration": 211,
    "start_time": "2022-02-26T19:47:31.960Z"
   },
   {
    "duration": 217,
    "start_time": "2022-02-26T19:47:39.392Z"
   },
   {
    "duration": 202,
    "start_time": "2022-02-26T19:47:44.178Z"
   },
   {
    "duration": 212,
    "start_time": "2022-02-26T19:47:54.009Z"
   },
   {
    "duration": 4,
    "start_time": "2022-02-27T17:20:12.711Z"
   },
   {
    "duration": 4,
    "start_time": "2022-02-27T17:23:53.272Z"
   },
   {
    "duration": 4,
    "start_time": "2022-02-27T17:27:13.842Z"
   },
   {
    "duration": 3,
    "start_time": "2022-02-27T17:28:50.942Z"
   },
   {
    "duration": 14,
    "start_time": "2022-02-27T17:32:01.738Z"
   },
   {
    "duration": 3,
    "start_time": "2022-02-27T17:34:47.887Z"
   },
   {
    "duration": 3,
    "start_time": "2022-02-27T17:37:15.820Z"
   },
   {
    "duration": 4,
    "start_time": "2022-02-27T17:37:28.864Z"
   },
   {
    "duration": 4,
    "start_time": "2022-02-27T17:37:56.420Z"
   },
   {
    "duration": 4,
    "start_time": "2022-02-27T17:38:19.524Z"
   },
   {
    "duration": 5,
    "start_time": "2022-02-27T17:38:30.445Z"
   },
   {
    "duration": 5,
    "start_time": "2022-02-27T17:38:42.758Z"
   },
   {
    "duration": 6,
    "start_time": "2022-02-27T17:49:42.456Z"
   },
   {
    "duration": 272,
    "start_time": "2022-02-27T17:49:46.013Z"
   },
   {
    "duration": 1307,
    "start_time": "2022-02-27T17:49:59.405Z"
   },
   {
    "duration": 452,
    "start_time": "2022-02-27T17:50:00.715Z"
   },
   {
    "duration": 363,
    "start_time": "2022-02-27T17:50:01.170Z"
   },
   {
    "duration": 1122,
    "start_time": "2022-02-27T17:50:00.414Z"
   },
   {
    "duration": 1115,
    "start_time": "2022-02-27T17:50:00.423Z"
   },
   {
    "duration": 232,
    "start_time": "2022-02-27T17:50:23.393Z"
   },
   {
    "duration": 5,
    "start_time": "2022-02-27T17:50:26.949Z"
   },
   {
    "duration": 6,
    "start_time": "2022-02-27T17:50:28.086Z"
   },
   {
    "duration": 490,
    "start_time": "2022-02-27T17:50:30.614Z"
   },
   {
    "duration": 6,
    "start_time": "2022-02-27T17:51:50.054Z"
   },
   {
    "duration": 5,
    "start_time": "2022-02-27T17:59:01.212Z"
   },
   {
    "duration": 492,
    "start_time": "2022-02-27T17:59:14.804Z"
   },
   {
    "duration": 5,
    "start_time": "2022-02-27T17:59:42.774Z"
   },
   {
    "duration": 563,
    "start_time": "2022-02-27T17:59:44.239Z"
   },
   {
    "duration": 4,
    "start_time": "2022-02-27T17:59:51.224Z"
   },
   {
    "duration": 57,
    "start_time": "2022-02-27T17:59:53.437Z"
   },
   {
    "duration": 5,
    "start_time": "2022-02-27T18:00:05.862Z"
   },
   {
    "duration": 499,
    "start_time": "2022-02-27T18:00:06.639Z"
   },
   {
    "duration": 4,
    "start_time": "2022-02-27T18:00:13.335Z"
   },
   {
    "duration": 550,
    "start_time": "2022-02-27T18:00:14.151Z"
   },
   {
    "duration": 4,
    "start_time": "2022-02-27T18:00:26.088Z"
   },
   {
    "duration": 498,
    "start_time": "2022-02-27T18:00:27.623Z"
   },
   {
    "duration": 4,
    "start_time": "2022-02-27T18:01:10.625Z"
   },
   {
    "duration": 1053,
    "start_time": "2022-02-27T18:01:11.847Z"
   },
   {
    "duration": 5,
    "start_time": "2022-02-27T18:01:40.363Z"
   },
   {
    "duration": 501,
    "start_time": "2022-02-27T18:01:41.546Z"
   },
   {
    "duration": 7,
    "start_time": "2022-02-27T18:02:18.732Z"
   },
   {
    "duration": 480,
    "start_time": "2022-02-27T18:02:25.394Z"
   },
   {
    "duration": 4,
    "start_time": "2022-02-27T18:02:37.939Z"
   },
   {
    "duration": 76,
    "start_time": "2022-02-27T18:02:39.220Z"
   },
   {
    "duration": 4,
    "start_time": "2022-02-27T18:02:48.306Z"
   },
   {
    "duration": 129,
    "start_time": "2022-02-27T18:02:49.361Z"
   },
   {
    "duration": 4,
    "start_time": "2022-02-27T18:02:56.948Z"
   },
   {
    "duration": 152,
    "start_time": "2022-02-27T18:02:58.042Z"
   },
   {
    "duration": 4,
    "start_time": "2022-02-27T18:03:18.044Z"
   },
   {
    "duration": 210,
    "start_time": "2022-02-27T18:03:19.677Z"
   },
   {
    "duration": 5,
    "start_time": "2022-02-27T18:03:28.858Z"
   },
   {
    "duration": 162,
    "start_time": "2022-02-27T18:03:30.238Z"
   },
   {
    "duration": 105,
    "start_time": "2022-02-27T18:03:37.895Z"
   },
   {
    "duration": 183,
    "start_time": "2022-02-27T18:03:48.806Z"
   },
   {
    "duration": 6,
    "start_time": "2022-02-27T18:04:00.572Z"
   },
   {
    "duration": 4,
    "start_time": "2022-02-27T18:04:38.575Z"
   },
   {
    "duration": 702,
    "start_time": "2022-02-27T18:04:40.909Z"
   },
   {
    "duration": 7,
    "start_time": "2022-02-27T18:04:47.141Z"
   },
   {
    "duration": 229,
    "start_time": "2022-02-27T18:04:47.749Z"
   },
   {
    "duration": 237,
    "start_time": "2022-02-27T18:04:58.023Z"
   },
   {
    "duration": 4,
    "start_time": "2022-02-27T18:05:00.958Z"
   },
   {
    "duration": 6,
    "start_time": "2022-02-27T18:05:06.782Z"
   },
   {
    "duration": 6,
    "start_time": "2022-02-27T18:05:09.751Z"
   },
   {
    "duration": 111,
    "start_time": "2022-02-27T18:05:10.576Z"
   },
   {
    "duration": 5,
    "start_time": "2022-02-27T18:05:52.281Z"
   },
   {
    "duration": 151,
    "start_time": "2022-02-27T18:05:53.552Z"
   },
   {
    "duration": 5,
    "start_time": "2022-02-27T18:10:52.618Z"
   },
   {
    "duration": 5,
    "start_time": "2022-02-27T18:11:21.283Z"
   },
   {
    "duration": 5,
    "start_time": "2022-02-27T18:11:28.394Z"
   },
   {
    "duration": 212,
    "start_time": "2022-02-27T18:11:32.482Z"
   },
   {
    "duration": 5,
    "start_time": "2022-02-27T18:12:04.172Z"
   },
   {
    "duration": 217,
    "start_time": "2022-02-27T18:12:06.083Z"
   },
   {
    "duration": 8,
    "start_time": "2022-02-27T18:12:31.757Z"
   },
   {
    "duration": 5,
    "start_time": "2022-02-27T18:12:36.834Z"
   },
   {
    "duration": 230,
    "start_time": "2022-02-27T18:12:38.065Z"
   },
   {
    "duration": 5,
    "start_time": "2022-02-27T18:12:53.396Z"
   },
   {
    "duration": 226,
    "start_time": "2022-02-27T18:12:55.163Z"
   },
   {
    "duration": 5,
    "start_time": "2022-02-27T18:13:07.940Z"
   },
   {
    "duration": 203,
    "start_time": "2022-02-27T18:13:09.583Z"
   },
   {
    "duration": 5,
    "start_time": "2022-02-27T18:13:28.396Z"
   },
   {
    "duration": 156,
    "start_time": "2022-02-27T18:13:30.441Z"
   },
   {
    "duration": 6,
    "start_time": "2022-02-27T18:14:34.072Z"
   },
   {
    "duration": 117,
    "start_time": "2022-02-27T18:14:35.183Z"
   },
   {
    "duration": 5,
    "start_time": "2022-02-27T18:15:30.671Z"
   },
   {
    "duration": 149,
    "start_time": "2022-02-27T18:16:02.838Z"
   },
   {
    "duration": 146,
    "start_time": "2022-02-27T18:16:06.841Z"
   },
   {
    "duration": 576,
    "start_time": "2022-02-27T18:17:23.412Z"
   },
   {
    "duration": 93,
    "start_time": "2022-02-27T18:20:02.853Z"
   },
   {
    "duration": 630,
    "start_time": "2022-02-27T18:20:06.159Z"
   },
   {
    "duration": 579,
    "start_time": "2022-02-27T18:20:26.411Z"
   },
   {
    "duration": 78,
    "start_time": "2022-02-27T18:21:19.564Z"
   },
   {
    "duration": 74,
    "start_time": "2022-02-27T18:21:23.915Z"
   },
   {
    "duration": 482,
    "start_time": "2022-02-27T18:21:26.413Z"
   },
   {
    "duration": 616,
    "start_time": "2022-02-27T18:21:44.172Z"
   },
   {
    "duration": 458,
    "start_time": "2022-02-27T18:21:51.341Z"
   },
   {
    "duration": 519,
    "start_time": "2022-02-27T18:22:09.369Z"
   },
   {
    "duration": 545,
    "start_time": "2022-02-27T18:22:26.243Z"
   },
   {
    "duration": 527,
    "start_time": "2022-02-27T18:22:33.963Z"
   },
   {
    "duration": 308,
    "start_time": "2022-02-27T18:22:44.492Z"
   },
   {
    "duration": 562,
    "start_time": "2022-02-27T18:23:04.533Z"
   },
   {
    "duration": 623,
    "start_time": "2022-02-27T18:23:38.177Z"
   },
   {
    "duration": 402,
    "start_time": "2022-02-27T18:23:53.613Z"
   },
   {
    "duration": 462,
    "start_time": "2022-02-27T18:23:58.137Z"
   },
   {
    "duration": 429,
    "start_time": "2022-02-27T18:24:10.672Z"
   },
   {
    "duration": 274,
    "start_time": "2022-02-27T18:24:16.023Z"
   },
   {
    "duration": 595,
    "start_time": "2022-02-27T18:24:22.802Z"
   },
   {
    "duration": 430,
    "start_time": "2022-02-27T18:24:31.369Z"
   },
   {
    "duration": 6,
    "start_time": "2022-02-27T18:39:37.803Z"
   },
   {
    "duration": 558,
    "start_time": "2022-02-27T18:39:50.386Z"
   },
   {
    "duration": 4,
    "start_time": "2022-02-27T18:39:58.617Z"
   },
   {
    "duration": 443,
    "start_time": "2022-02-27T18:40:04.138Z"
   },
   {
    "duration": 4,
    "start_time": "2022-02-27T18:40:14.250Z"
   },
   {
    "duration": 6,
    "start_time": "2022-02-27T18:40:29.989Z"
   },
   {
    "duration": 418,
    "start_time": "2022-02-27T18:40:30.770Z"
   },
   {
    "duration": 4,
    "start_time": "2022-02-27T18:40:35.659Z"
   },
   {
    "duration": 6,
    "start_time": "2022-02-27T18:40:38.236Z"
   },
   {
    "duration": 17,
    "start_time": "2022-02-27T18:40:39.410Z"
   },
   {
    "duration": 6,
    "start_time": "2022-02-27T18:41:29.304Z"
   },
   {
    "duration": 525,
    "start_time": "2022-02-27T18:41:30.401Z"
   },
   {
    "duration": 6,
    "start_time": "2022-02-27T18:45:01.996Z"
   },
   {
    "duration": 508,
    "start_time": "2022-02-27T18:45:08.215Z"
   },
   {
    "duration": 6,
    "start_time": "2022-02-27T18:45:17.024Z"
   },
   {
    "duration": 473,
    "start_time": "2022-02-27T18:45:19.331Z"
   },
   {
    "duration": 6,
    "start_time": "2022-02-27T18:47:32.167Z"
   },
   {
    "duration": 459,
    "start_time": "2022-02-27T18:47:34.016Z"
   },
   {
    "duration": 5,
    "start_time": "2022-02-27T18:48:34.065Z"
   },
   {
    "duration": 521,
    "start_time": "2022-02-27T18:48:35.471Z"
   },
   {
    "duration": 5,
    "start_time": "2022-02-27T18:49:03.153Z"
   },
   {
    "duration": 542,
    "start_time": "2022-02-27T18:49:04.617Z"
   },
   {
    "duration": 5,
    "start_time": "2022-02-27T18:50:34.774Z"
   },
   {
    "duration": 381,
    "start_time": "2022-02-27T18:50:36.508Z"
   },
   {
    "duration": 5,
    "start_time": "2022-02-27T18:51:00.932Z"
   },
   {
    "duration": 15,
    "start_time": "2022-02-27T18:51:06.289Z"
   },
   {
    "duration": 5,
    "start_time": "2022-02-27T18:51:20.628Z"
   },
   {
    "duration": 115,
    "start_time": "2022-02-27T18:51:21.475Z"
   },
   {
    "duration": 5,
    "start_time": "2022-02-27T18:51:31.630Z"
   },
   {
    "duration": 550,
    "start_time": "2022-02-27T18:51:32.442Z"
   },
   {
    "duration": 4,
    "start_time": "2022-02-27T18:51:40.341Z"
   },
   {
    "duration": 607,
    "start_time": "2022-02-27T18:51:41.589Z"
   },
   {
    "duration": 7,
    "start_time": "2022-02-27T18:52:37.841Z"
   },
   {
    "duration": 6,
    "start_time": "2022-02-27T18:53:24.740Z"
   },
   {
    "duration": 15,
    "start_time": "2022-02-27T18:53:37.727Z"
   },
   {
    "duration": 5,
    "start_time": "2022-02-27T18:54:10.223Z"
   },
   {
    "duration": 14,
    "start_time": "2022-02-27T18:54:10.993Z"
   },
   {
    "duration": 5,
    "start_time": "2022-02-27T18:54:15.728Z"
   },
   {
    "duration": 14,
    "start_time": "2022-02-27T18:54:17.647Z"
   },
   {
    "duration": 6,
    "start_time": "2022-02-27T18:54:19.151Z"
   },
   {
    "duration": 14,
    "start_time": "2022-02-27T18:54:19.959Z"
   },
   {
    "duration": 15,
    "start_time": "2022-02-27T18:54:24.144Z"
   },
   {
    "duration": 18,
    "start_time": "2022-02-27T18:54:25.073Z"
   },
   {
    "duration": 18,
    "start_time": "2022-02-27T18:54:25.617Z"
   },
   {
    "duration": 19,
    "start_time": "2022-02-27T18:54:25.937Z"
   },
   {
    "duration": 17,
    "start_time": "2022-02-27T18:54:26.186Z"
   },
   {
    "duration": 14,
    "start_time": "2022-02-27T18:54:26.464Z"
   },
   {
    "duration": 14,
    "start_time": "2022-02-27T18:54:26.728Z"
   },
   {
    "duration": 13,
    "start_time": "2022-02-27T18:54:27.001Z"
   },
   {
    "duration": 12,
    "start_time": "2022-02-27T18:54:27.280Z"
   },
   {
    "duration": 14,
    "start_time": "2022-02-27T18:54:27.553Z"
   },
   {
    "duration": 14,
    "start_time": "2022-02-27T18:54:27.848Z"
   },
   {
    "duration": 9,
    "start_time": "2022-02-27T18:54:47.484Z"
   },
   {
    "duration": 4,
    "start_time": "2022-02-27T18:54:53.155Z"
   },
   {
    "duration": 6,
    "start_time": "2022-02-27T18:54:54.249Z"
   },
   {
    "duration": 13,
    "start_time": "2022-02-27T18:54:55.085Z"
   },
   {
    "duration": 507,
    "start_time": "2022-02-27T18:54:55.626Z"
   },
   {
    "duration": 15,
    "start_time": "2022-02-27T18:54:56.733Z"
   },
   {
    "duration": 500,
    "start_time": "2022-02-27T18:54:57.633Z"
   },
   {
    "duration": 6,
    "start_time": "2022-02-27T18:55:30.405Z"
   },
   {
    "duration": 13,
    "start_time": "2022-02-27T18:55:31.766Z"
   },
   {
    "duration": 12,
    "start_time": "2022-02-27T18:55:35.788Z"
   },
   {
    "duration": 15,
    "start_time": "2022-02-27T18:55:36.418Z"
   },
   {
    "duration": 494,
    "start_time": "2022-02-27T18:55:36.931Z"
   },
   {
    "duration": 7,
    "start_time": "2022-02-27T18:57:30.784Z"
   },
   {
    "duration": 443,
    "start_time": "2022-02-27T18:57:34.185Z"
   },
   {
    "duration": 5,
    "start_time": "2022-02-27T19:07:07.330Z"
   },
   {
    "duration": 5,
    "start_time": "2022-02-27T19:07:23.041Z"
   },
   {
    "duration": 451,
    "start_time": "2022-02-27T19:07:24.047Z"
   },
   {
    "duration": 5,
    "start_time": "2022-02-27T19:07:38.080Z"
   },
   {
    "duration": 11,
    "start_time": "2022-02-27T19:07:39.919Z"
   },
   {
    "duration": 5,
    "start_time": "2022-02-27T19:08:07.312Z"
   },
   {
    "duration": 599,
    "start_time": "2022-02-27T19:08:08.543Z"
   },
   {
    "duration": 4,
    "start_time": "2022-02-27T19:08:24.306Z"
   },
   {
    "duration": 10,
    "start_time": "2022-02-27T19:08:25.490Z"
   },
   {
    "duration": 5,
    "start_time": "2022-02-27T19:08:43.962Z"
   },
   {
    "duration": 17,
    "start_time": "2022-02-27T19:08:45.809Z"
   },
   {
    "duration": 4,
    "start_time": "2022-02-27T19:09:02.603Z"
   },
   {
    "duration": 16,
    "start_time": "2022-02-27T19:09:04.136Z"
   },
   {
    "duration": 5,
    "start_time": "2022-02-27T19:09:19.691Z"
   },
   {
    "duration": 5,
    "start_time": "2022-02-27T19:09:31.285Z"
   },
   {
    "duration": 11,
    "start_time": "2022-02-27T19:09:32.649Z"
   },
   {
    "duration": 5,
    "start_time": "2022-02-27T19:10:19.582Z"
   },
   {
    "duration": 5,
    "start_time": "2022-02-27T19:10:35.816Z"
   },
   {
    "duration": 12,
    "start_time": "2022-02-27T19:10:37.716Z"
   },
   {
    "duration": 6,
    "start_time": "2022-02-27T19:10:50.188Z"
   },
   {
    "duration": 11,
    "start_time": "2022-02-27T19:10:51.611Z"
   },
   {
    "duration": 5,
    "start_time": "2022-02-27T19:11:32.615Z"
   },
   {
    "duration": 5,
    "start_time": "2022-02-27T19:11:40.367Z"
   },
   {
    "duration": 14,
    "start_time": "2022-02-27T19:11:41.405Z"
   },
   {
    "duration": 13,
    "start_time": "2022-02-27T19:12:54.634Z"
   },
   {
    "duration": 6,
    "start_time": "2022-02-27T19:12:58.543Z"
   },
   {
    "duration": 82,
    "start_time": "2022-02-27T19:12:59.478Z"
   },
   {
    "duration": 7,
    "start_time": "2022-02-27T19:13:13.220Z"
   },
   {
    "duration": 7509,
    "start_time": "2022-02-27T19:13:14.409Z"
   },
   {
    "duration": 7573,
    "start_time": "2022-02-27T19:13:32.515Z"
   },
   {
    "duration": 7723,
    "start_time": "2022-02-27T19:14:43.186Z"
   },
   {
    "duration": 216,
    "start_time": "2022-02-27T19:15:04.157Z"
   },
   {
    "duration": 7,
    "start_time": "2022-02-27T19:15:15.393Z"
   },
   {
    "duration": 6,
    "start_time": "2022-02-27T19:16:19.658Z"
   },
   {
    "duration": 7,
    "start_time": "2022-02-27T19:16:26.615Z"
   },
   {
    "duration": 228,
    "start_time": "2022-02-27T19:16:39.896Z"
   },
   {
    "duration": 7740,
    "start_time": "2022-02-27T19:16:45.402Z"
   },
   {
    "duration": 6,
    "start_time": "2022-02-27T19:22:05.817Z"
   },
   {
    "duration": 4842,
    "start_time": "2022-02-27T19:22:06.869Z"
   },
   {
    "duration": 6,
    "start_time": "2022-02-27T19:22:54.000Z"
   },
   {
    "duration": 7874,
    "start_time": "2022-02-27T19:22:55.025Z"
   },
   {
    "duration": 7,
    "start_time": "2022-02-27T19:27:27.380Z"
   },
   {
    "duration": 7,
    "start_time": "2022-02-27T19:27:40.284Z"
   },
   {
    "duration": 7578,
    "start_time": "2022-02-27T19:27:41.440Z"
   },
   {
    "duration": 10,
    "start_time": "2022-02-27T19:29:48.712Z"
   },
   {
    "duration": 7715,
    "start_time": "2022-02-27T19:29:50.020Z"
   },
   {
    "duration": 8,
    "start_time": "2022-02-27T19:32:38.950Z"
   },
   {
    "duration": 7630,
    "start_time": "2022-02-27T19:32:41.578Z"
   },
   {
    "duration": 8,
    "start_time": "2022-02-27T19:33:17.502Z"
   },
   {
    "duration": 228,
    "start_time": "2022-02-27T19:33:52.837Z"
   },
   {
    "duration": 9,
    "start_time": "2022-02-27T19:34:12.916Z"
   },
   {
    "duration": 23024,
    "start_time": "2022-02-27T19:34:38.215Z"
   },
   {
    "duration": 52,
    "start_time": "2022-02-27T19:36:17.521Z"
   },
   {
    "duration": 9,
    "start_time": "2022-02-27T19:36:51.018Z"
   },
   {
    "duration": 25706,
    "start_time": "2022-02-27T19:37:43.892Z"
   },
   {
    "duration": 9,
    "start_time": "2022-02-27T19:39:28.505Z"
   },
   {
    "duration": 8,
    "start_time": "2022-02-27T19:39:53.080Z"
   },
   {
    "duration": 25405,
    "start_time": "2022-02-27T19:39:56.546Z"
   },
   {
    "duration": 35,
    "start_time": "2022-02-27T19:40:21.953Z"
   },
   {
    "duration": 26072,
    "start_time": "2022-02-27T19:40:22.094Z"
   },
   {
    "duration": 9,
    "start_time": "2022-02-27T19:41:36.988Z"
   },
   {
    "duration": 8,
    "start_time": "2022-02-27T19:41:43.443Z"
   },
   {
    "duration": 26234,
    "start_time": "2022-02-27T19:42:12.777Z"
   },
   {
    "duration": 8,
    "start_time": "2022-02-27T19:42:39.013Z"
   },
   {
    "duration": 181,
    "start_time": "2022-02-27T19:43:02.820Z"
   },
   {
    "duration": 73,
    "start_time": "2022-02-27T19:43:28.481Z"
   },
   {
    "duration": 8,
    "start_time": "2022-02-27T19:43:37.579Z"
   },
   {
    "duration": 25649,
    "start_time": "2022-02-27T19:43:39.092Z"
   },
   {
    "duration": 8,
    "start_time": "2022-02-27T19:44:57.562Z"
   },
   {
    "duration": 25219,
    "start_time": "2022-02-27T19:45:00.902Z"
   },
   {
    "duration": 25532,
    "start_time": "2022-02-27T19:45:58.589Z"
   },
   {
    "duration": 9,
    "start_time": "2022-02-27T19:46:48.221Z"
   },
   {
    "duration": 27261,
    "start_time": "2022-02-27T19:46:50.557Z"
   },
   {
    "duration": 11,
    "start_time": "2022-02-27T19:47:41.039Z"
   },
   {
    "duration": 8,
    "start_time": "2022-02-27T19:48:09.817Z"
   },
   {
    "duration": 25360,
    "start_time": "2022-02-27T19:48:09.828Z"
   },
   {
    "duration": 11,
    "start_time": "2022-02-27T19:48:35.190Z"
   },
   {
    "duration": 27438,
    "start_time": "2022-02-27T19:48:36.210Z"
   },
   {
    "duration": 9,
    "start_time": "2022-02-27T19:56:00.626Z"
   },
   {
    "duration": 10,
    "start_time": "2022-02-27T19:56:22.360Z"
   },
   {
    "duration": 78,
    "start_time": "2022-02-27T19:56:39.411Z"
   },
   {
    "duration": 10,
    "start_time": "2022-02-27T19:56:43.516Z"
   },
   {
    "duration": 9,
    "start_time": "2022-02-27T19:56:51.243Z"
   },
   {
    "duration": 5,
    "start_time": "2022-02-27T19:57:03.500Z"
   },
   {
    "duration": 5,
    "start_time": "2022-02-27T19:57:15.953Z"
   },
   {
    "duration": 5,
    "start_time": "2022-02-27T19:57:55.885Z"
   },
   {
    "duration": 220,
    "start_time": "2022-02-27T19:58:41.815Z"
   },
   {
    "duration": 4,
    "start_time": "2022-02-27T19:59:04.746Z"
   },
   {
    "duration": 26698,
    "start_time": "2022-02-27T20:00:02.168Z"
   },
   {
    "duration": 8,
    "start_time": "2022-02-28T08:19:28.004Z"
   },
   {
    "duration": 1375,
    "start_time": "2022-02-28T08:19:30.588Z"
   },
   {
    "duration": 481,
    "start_time": "2022-02-28T08:19:37.627Z"
   },
   {
    "duration": 390,
    "start_time": "2022-02-28T08:28:20.457Z"
   },
   {
    "duration": 4,
    "start_time": "2022-02-28T08:28:43.058Z"
   },
   {
    "duration": 6,
    "start_time": "2022-02-28T08:28:45.250Z"
   },
   {
    "duration": 651,
    "start_time": "2022-02-28T08:28:47.330Z"
   },
   {
    "duration": 521,
    "start_time": "2022-02-28T08:29:20.069Z"
   },
   {
    "duration": 523,
    "start_time": "2022-02-28T08:29:26.555Z"
   },
   {
    "duration": 529,
    "start_time": "2022-02-28T08:29:33.252Z"
   },
   {
    "duration": 6,
    "start_time": "2022-02-28T08:30:33.836Z"
   },
   {
    "duration": 1176,
    "start_time": "2022-02-28T11:51:20.894Z"
   },
   {
    "duration": 402,
    "start_time": "2022-02-28T11:51:24.846Z"
   },
   {
    "duration": 152,
    "start_time": "2022-02-28T11:51:26.829Z"
   },
   {
    "duration": 4,
    "start_time": "2022-02-28T11:52:18.217Z"
   },
   {
    "duration": 399,
    "start_time": "2022-02-28T11:52:18.225Z"
   },
   {
    "duration": 158,
    "start_time": "2022-02-28T11:52:18.626Z"
   },
   {
    "duration": 4,
    "start_time": "2022-02-28T11:52:18.787Z"
   },
   {
    "duration": 25,
    "start_time": "2022-02-28T11:52:18.793Z"
   },
   {
    "duration": 446,
    "start_time": "2022-02-28T11:52:18.820Z"
   },
   {
    "duration": 4,
    "start_time": "2022-02-28T11:52:19.268Z"
   },
   {
    "duration": 17,
    "start_time": "2022-02-28T11:52:19.362Z"
   },
   {
    "duration": 30,
    "start_time": "2022-02-28T11:52:19.382Z"
   },
   {
    "duration": 12,
    "start_time": "2022-02-28T11:52:19.414Z"
   },
   {
    "duration": 536,
    "start_time": "2022-02-28T11:52:19.428Z"
   },
   {
    "duration": 5,
    "start_time": "2022-02-28T11:52:19.966Z"
   },
   {
    "duration": 7,
    "start_time": "2022-02-28T11:52:23.550Z"
   },
   {
    "duration": 18016,
    "start_time": "2022-02-28T11:52:33.333Z"
   },
   {
    "duration": 74,
    "start_time": "2022-02-28T11:54:45.229Z"
   },
   {
    "duration": 7,
    "start_time": "2022-02-28T11:55:16.015Z"
   },
   {
    "duration": 19193,
    "start_time": "2022-02-28T11:55:24.452Z"
   },
   {
    "duration": 7,
    "start_time": "2022-02-28T11:58:31.968Z"
   },
   {
    "duration": 17877,
    "start_time": "2022-02-28T11:58:35.375Z"
   },
   {
    "duration": 18221,
    "start_time": "2022-02-28T11:59:07.619Z"
   },
   {
    "duration": 4,
    "start_time": "2022-02-28T17:55:37.107Z"
   },
   {
    "duration": 1001,
    "start_time": "2022-02-28T17:55:47.886Z"
   },
   {
    "duration": 355,
    "start_time": "2022-02-28T17:55:48.889Z"
   },
   {
    "duration": 163,
    "start_time": "2022-02-28T17:55:49.246Z"
   },
   {
    "duration": 3,
    "start_time": "2022-02-28T17:55:49.411Z"
   },
   {
    "duration": 18,
    "start_time": "2022-02-28T17:55:49.415Z"
   },
   {
    "duration": 416,
    "start_time": "2022-02-28T17:55:49.435Z"
   },
   {
    "duration": 3,
    "start_time": "2022-02-28T17:59:05.854Z"
   },
   {
    "duration": 290,
    "start_time": "2022-02-28T17:59:07.757Z"
   },
   {
    "duration": 183,
    "start_time": "2022-02-28T17:59:46.266Z"
   },
   {
    "duration": 3,
    "start_time": "2022-02-28T17:59:50.135Z"
   },
   {
    "duration": 4,
    "start_time": "2022-02-28T17:59:52.525Z"
   },
   {
    "duration": 8,
    "start_time": "2022-02-28T18:00:01.064Z"
   },
   {
    "duration": 4,
    "start_time": "2022-02-28T18:00:17.696Z"
   },
   {
    "duration": 1009,
    "start_time": "2022-02-28T18:00:44.579Z"
   },
   {
    "duration": 336,
    "start_time": "2022-02-28T18:00:45.590Z"
   },
   {
    "duration": 142,
    "start_time": "2022-02-28T18:00:45.928Z"
   },
   {
    "duration": 2,
    "start_time": "2022-02-28T18:00:46.073Z"
   },
   {
    "duration": 7,
    "start_time": "2022-02-28T18:00:46.077Z"
   },
   {
    "duration": 468,
    "start_time": "2022-02-28T18:00:46.085Z"
   },
   {
    "duration": 3,
    "start_time": "2022-02-28T18:00:46.634Z"
   },
   {
    "duration": 101,
    "start_time": "2022-02-28T18:00:46.640Z"
   },
   {
    "duration": 8,
    "start_time": "2022-02-28T18:00:49.724Z"
   },
   {
    "duration": 3,
    "start_time": "2022-02-28T18:01:47.822Z"
   },
   {
    "duration": 477,
    "start_time": "2022-02-28T18:01:56.156Z"
   },
   {
    "duration": 4,
    "start_time": "2022-02-28T18:01:59.571Z"
   },
   {
    "duration": 6,
    "start_time": "2022-02-28T18:02:12.533Z"
   },
   {
    "duration": 6,
    "start_time": "2022-02-28T18:02:35.274Z"
   },
   {
    "duration": 482,
    "start_time": "2022-02-28T18:02:37.822Z"
   },
   {
    "duration": 6,
    "start_time": "2022-02-28T18:03:11.898Z"
   },
   {
    "duration": 482,
    "start_time": "2022-02-28T18:03:14.573Z"
   },
   {
    "duration": 7,
    "start_time": "2022-02-28T18:03:46.428Z"
   },
   {
    "duration": 400,
    "start_time": "2022-02-28T18:03:49.614Z"
   },
   {
    "duration": 7,
    "start_time": "2022-02-28T18:04:10.804Z"
   },
   {
    "duration": 15054,
    "start_time": "2022-02-28T18:04:13.139Z"
   },
   {
    "duration": 184,
    "start_time": "2022-02-28T18:06:39.008Z"
   },
   {
    "duration": 7,
    "start_time": "2022-02-28T18:07:16.090Z"
   },
   {
    "duration": 6,
    "start_time": "2022-02-28T18:07:24.161Z"
   },
   {
    "duration": 15488,
    "start_time": "2022-02-28T18:07:29.447Z"
   },
   {
    "duration": 5140,
    "start_time": "2022-02-28T18:08:09.996Z"
   },
   {
    "duration": 2555,
    "start_time": "2022-02-28T18:08:12.584Z"
   },
   {
    "duration": 15384,
    "start_time": "2022-02-28T18:08:15.515Z"
   },
   {
    "duration": 6,
    "start_time": "2022-02-28T18:08:58.441Z"
   },
   {
    "duration": 15540,
    "start_time": "2022-02-28T18:09:01.433Z"
   },
   {
    "duration": 6,
    "start_time": "2022-02-28T18:09:23.315Z"
   },
   {
    "duration": 15296,
    "start_time": "2022-02-28T18:09:26.027Z"
   },
   {
    "duration": 8,
    "start_time": "2022-02-28T18:09:41.333Z"
   },
   {
    "duration": 15333,
    "start_time": "2022-02-28T18:09:42.921Z"
   },
   {
    "duration": 6,
    "start_time": "2022-02-28T18:10:48.622Z"
   },
   {
    "duration": 456,
    "start_time": "2022-02-28T18:10:53.716Z"
   },
   {
    "duration": 7,
    "start_time": "2022-02-28T18:11:07.467Z"
   },
   {
    "duration": 15404,
    "start_time": "2022-02-28T18:11:09.518Z"
   },
   {
    "duration": 15257,
    "start_time": "2022-02-28T18:11:54.137Z"
   },
   {
    "duration": 15008,
    "start_time": "2022-02-28T18:12:29.188Z"
   },
   {
    "duration": 1020,
    "start_time": "2022-02-28T18:19:53.468Z"
   },
   {
    "duration": 349,
    "start_time": "2022-02-28T18:19:54.490Z"
   },
   {
    "duration": 140,
    "start_time": "2022-02-28T18:19:54.840Z"
   },
   {
    "duration": 3,
    "start_time": "2022-02-28T18:19:54.982Z"
   },
   {
    "duration": 7,
    "start_time": "2022-02-28T18:19:54.986Z"
   },
   {
    "duration": 538,
    "start_time": "2022-02-28T18:19:54.995Z"
   },
   {
    "duration": 5,
    "start_time": "2022-02-28T18:19:55.535Z"
   },
   {
    "duration": 97,
    "start_time": "2022-02-28T18:19:55.543Z"
   },
   {
    "duration": 7,
    "start_time": "2022-02-28T18:19:55.642Z"
   },
   {
    "duration": 3,
    "start_time": "2022-02-28T18:19:55.651Z"
   },
   {
    "duration": 489,
    "start_time": "2022-02-28T18:19:55.656Z"
   },
   {
    "duration": 3,
    "start_time": "2022-02-28T18:19:56.232Z"
   },
   {
    "duration": 8,
    "start_time": "2022-02-28T18:19:56.237Z"
   },
   {
    "duration": 15653,
    "start_time": "2022-02-28T18:19:56.247Z"
   },
   {
    "duration": 56,
    "start_time": "2022-02-28T18:21:44.493Z"
   }
  ],
  "kernelspec": {
   "display_name": "Python 3 (ipykernel)",
   "language": "python",
   "name": "python3"
  },
  "language_info": {
   "codemirror_mode": {
    "name": "ipython",
    "version": 3
   },
   "file_extension": ".py",
   "mimetype": "text/x-python",
   "name": "python",
   "nbconvert_exporter": "python",
   "pygments_lexer": "ipython3",
   "version": "3.9.10"
  },
  "toc": {
   "base_numbering": 1,
   "nav_menu": {},
   "number_sections": true,
   "sideBar": true,
   "skip_h1_title": true,
   "title_cell": "Table of Contents",
   "title_sidebar": "Contents",
   "toc_cell": false,
   "toc_position": {},
   "toc_section_display": true,
   "toc_window_display": false
  }
 },
 "nbformat": 4,
 "nbformat_minor": 2
}
